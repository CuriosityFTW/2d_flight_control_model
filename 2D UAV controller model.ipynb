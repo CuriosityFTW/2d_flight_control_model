{
 "cells": [
  {
   "cell_type": "code",
   "execution_count": 2,
   "id": "2e163955",
   "metadata": {},
   "outputs": [],
   "source": [
    "import sympy as sp\n",
    "import numpy as np\n",
    "from sympy import *\n",
    "from IPython.display import Math, Latex"
   ]
  },
  {
   "cell_type": "markdown",
   "id": "7e630352",
   "metadata": {},
   "source": [
    "## Developing the state space model"
   ]
  },
  {
   "cell_type": "code",
   "execution_count": 3,
   "id": "2540e876",
   "metadata": {},
   "outputs": [
    {
     "data": {
      "text/latex": [
       "$\\displaystyle \\ddot{y} = - \\frac{u_{1} \\sin{\\left(\\phi \\right)}}{m}$"
      ],
      "text/plain": [
       "<IPython.core.display.Math object>"
      ]
     },
     "metadata": {},
     "output_type": "display_data"
    },
    {
     "data": {
      "text/latex": [
       "$\\displaystyle \\ddot{z} = - g + \\frac{u_{1} \\cos{\\left(\\phi \\right)}}{m}$"
      ],
      "text/plain": [
       "<IPython.core.display.Math object>"
      ]
     },
     "metadata": {},
     "output_type": "display_data"
    },
    {
     "data": {
      "text/latex": [
       "$\\displaystyle \\ddot{\\phi} = \\frac{u_{2}}{I_{x}}$"
      ],
      "text/plain": [
       "<IPython.core.display.Math object>"
      ]
     },
     "metadata": {},
     "output_type": "display_data"
    }
   ],
   "source": [
    "pos_y, vel_y, acc_y, pos_z, vel_z, acc_z, theta_roll, omega_roll, alpha_roll = sp.symbols('y, \\dot{y}, \\ddot{y}, z, \\dot{z}, \\ddot{z}, \\phi, \\dot{\\phi}, \\ddot{\\phi}')\n",
    "mass, I_x = sp.symbols('m, I_{x}')\n",
    "g = sp.symbols('g')\n",
    "u1, u2 = sp.symbols('u_{1}, u_{2}')\n",
    "\n",
    "acc_y = -u1*sp.sin(theta_roll)/mass\n",
    "acc_z = u1*sp.cos(theta_roll)/mass - g\n",
    "alpha_roll = u2/I_x\n",
    "\n",
    "#display(pos_y, vel_y, acc_y, pos_z, vel_z, acc_z, theta_roll, omega_roll, alpha_roll, mass, I_x, g, u1, u1)\n",
    "#display(acc_y)\n",
    "display(Math(r'\\ddot{{y}} = {}'.format(sp.latex(acc_y))))\n",
    "display(Math(r'\\ddot{{z}} = {}'.format(sp.latex(acc_z))))\n",
    "display(Math(r'\\ddot{{\\phi}} = {}'.format(sp.latex(alpha_roll))))"
   ]
  },
  {
   "cell_type": "code",
   "execution_count": 4,
   "id": "b2e38ada",
   "metadata": {},
   "outputs": [
    {
     "data": {
      "text/latex": [
       "$\\displaystyle \\left[\\begin{matrix}x_{1}\\\\x_{2}\\\\x_{3}\\\\x_{4}\\\\x_{5}\\\\x_{6}\\end{matrix}\\right] = \\left[\\begin{matrix}y\\\\z\\\\\\phi\\\\\\dot{y}\\\\\\dot{z}\\\\\\dot{\\phi}\\end{matrix}\\right]$"
      ],
      "text/plain": [
       "<IPython.core.display.Math object>"
      ]
     },
     "metadata": {},
     "output_type": "display_data"
    }
   ],
   "source": [
    "x1, x2, x3, x4, x5, x6 = sp.symbols('x_{1}, x_{2}, x_{3}, x_{4}, x_{5}, x_{6}')\n",
    "\n",
    "state_vector_lhs = sp.Matrix([[x1],[x2],[x3],[x4],[x5],[x6]])\n",
    "state_vector_rhs = sp.Matrix([[pos_y],[pos_z],[theta_roll],[vel_y],[vel_z],[omega_roll]])\n",
    "\n",
    "display(Math(r'{} = {}'.format(sp.latex(state_vector_lhs), sp.latex(state_vector_rhs))))"
   ]
  },
  {
   "cell_type": "code",
   "execution_count": 5,
   "id": "f3fb341a",
   "metadata": {
    "scrolled": true
   },
   "outputs": [
    {
     "data": {
      "text/latex": [
       "$\\displaystyle \\left[\\begin{matrix}\\dot{x}_{1}\\\\\\dot{x}_{2}\\\\\\dot{x}_{3}\\\\\\dot{x}_{4}\\\\\\dot{x}_{5}\\\\\\dot{x}_{6}\\end{matrix}\\right] = \\left[\\begin{matrix}\\dot{y}\\\\\\dot{z}\\\\\\dot{\\phi}\\\\\\ddot{y}\\\\\\ddot{z}\\\\\\ddot{\\phi}\\end{matrix}\\right]$"
      ],
      "text/plain": [
       "<IPython.core.display.Math object>"
      ]
     },
     "metadata": {},
     "output_type": "display_data"
    }
   ],
   "source": [
    "x1d, x2d, x3d, x4d, x5d, x6d = sp.symbols('\\dot{x}_{1}, \\dot{x}_{2}, \\dot{x}_{3}, \\dot{x}_{4}, \\dot{x}_{5}, \\dot{x}_{6}')\n",
    "acc_y_ss, acc_z_ss, alpha_roll_ss = sp.symbols('\\ddot{y}, \\ddot{z}, \\ddot{\\phi}')\n",
    "state_vector_lhs_2 = sp.Matrix([[x1d],[x2d],[x3d],[x4d],[x5d],[x6d]])\n",
    "state_vector_rhs_2 = sp.Matrix([[vel_y],[vel_z],[omega_roll],[acc_y_ss],[acc_z_ss],[alpha_roll_ss]])\n",
    "\n",
    "display(Math(r'{} = {}'.format(sp.latex(state_vector_lhs_2), sp.latex(state_vector_rhs_2))))"
   ]
  },
  {
   "cell_type": "code",
   "execution_count": 6,
   "id": "1239e30e",
   "metadata": {},
   "outputs": [
    {
     "data": {
      "text/latex": [
       "$\\displaystyle \\left[\\begin{matrix}\\dot{x}_{1}\\\\\\dot{x}_{2}\\\\\\dot{x}_{3}\\\\\\dot{x}_{4}\\\\\\dot{x}_{5}\\\\\\dot{x}_{6}\\end{matrix}\\right] = \\left[\\begin{matrix}x_{4}\\\\x_{5}\\\\x_{6}\\\\- \\frac{u_{1} \\sin{\\left(\\phi \\right)}}{m}\\\\- g + \\frac{u_{1} \\cos{\\left(\\phi \\right)}}{m}\\\\\\frac{u_{2}}{I_{x}}\\end{matrix}\\right]$"
      ],
      "text/plain": [
       "<IPython.core.display.Math object>"
      ]
     },
     "metadata": {},
     "output_type": "display_data"
    }
   ],
   "source": [
    "state_vector_lhs_3 = sp.Matrix([[x1d],[x2d],[x3d],[x4d],[x5d],[x6d]])\n",
    "state_vector_rhs_3 = sp.Matrix([[x4],[x5],[x6],[acc_y],[acc_z],[alpha_roll]])\n",
    "\n",
    "display(Math(r'{} = {}'.format(sp.latex(state_vector_lhs_3), sp.latex(state_vector_rhs_3))))"
   ]
  },
  {
   "cell_type": "markdown",
   "id": "0cf8a4e1",
   "metadata": {},
   "source": [
    "### Linearizing the non-linear model.\n",
    "\n",
    "Since most of the UAV operation is near the equilibrium hover state, the roll angle $\\phi = 0$ is substitued in the non-linear model. At such a small angle, $\\sin(\\phi) = \\phi$ and $\\cos(\\phi) = 1$ following the first order Taylor series expansion. Therefore, the modified $y$ and $z$ accelerations become:"
   ]
  },
  {
   "cell_type": "code",
   "execution_count": 7,
   "id": "21c0d39c",
   "metadata": {},
   "outputs": [
    {
     "data": {
      "text/latex": [
       "$\\displaystyle \\ddot{y} = - \\frac{\\phi u_{1}}{m}$"
      ],
      "text/plain": [
       "<IPython.core.display.Math object>"
      ]
     },
     "metadata": {},
     "output_type": "display_data"
    },
    {
     "data": {
      "text/latex": [
       "$\\displaystyle \\ddot{z} = - g + \\frac{u_{1}}{m}$"
      ],
      "text/plain": [
       "<IPython.core.display.Math object>"
      ]
     },
     "metadata": {},
     "output_type": "display_data"
    }
   ],
   "source": [
    "acc_y = -u1*theta_roll/mass\n",
    "acc_z = u1/mass - g\n",
    "\n",
    "display(Math(r'\\ddot{{y}} = {}'.format(sp.latex(acc_y))))\n",
    "display(Math(r'\\ddot{{z}} = {}'.format(sp.latex(acc_z))))"
   ]
  },
  {
   "cell_type": "markdown",
   "id": "ee0ae6c9",
   "metadata": {},
   "source": [
    "Also, at the equilibrium hover state, the net force (in the z-direction) acting on the UAV balances its weight. Therefore, $u_{1} = mg$. The modified $y$ acceleration becomes:"
   ]
  },
  {
   "cell_type": "code",
   "execution_count": 8,
   "id": "578c9cc9",
   "metadata": {},
   "outputs": [
    {
     "data": {
      "text/latex": [
       "$\\displaystyle \\ddot{y} = - \\phi g$"
      ],
      "text/plain": [
       "<IPython.core.display.Math object>"
      ]
     },
     "metadata": {},
     "output_type": "display_data"
    }
   ],
   "source": [
    "acc_y = -g*theta_roll\n",
    "\n",
    "display(Math(r'\\ddot{{y}} = {}'.format(sp.latex(acc_y))))"
   ]
  },
  {
   "cell_type": "markdown",
   "id": "32f5ada0",
   "metadata": {},
   "source": [
    "The linearized state space model then becomes:"
   ]
  },
  {
   "cell_type": "code",
   "execution_count": 9,
   "id": "4bd14090",
   "metadata": {},
   "outputs": [
    {
     "data": {
      "text/latex": [
       "$\\displaystyle \\left[\\begin{matrix}\\dot{x}_{1}\\\\\\dot{x}_{2}\\\\\\dot{x}_{3}\\\\\\dot{x}_{4}\\\\\\dot{x}_{5}\\\\\\dot{x}_{6}\\end{matrix}\\right] = \\left[\\begin{matrix}\\dot{y}\\\\\\dot{z}\\\\\\dot{\\phi}\\\\\\ddot{y}\\\\\\ddot{z}\\\\\\ddot{\\phi}\\end{matrix}\\right] = \\left[\\begin{matrix}x_{4}\\\\x_{5}\\\\x_{6}\\\\- \\phi g\\\\- g + \\frac{u_{1}}{m}\\\\\\frac{u_{2}}{I_{x}}\\end{matrix}\\right]$"
      ],
      "text/plain": [
       "<IPython.core.display.Math object>"
      ]
     },
     "metadata": {},
     "output_type": "display_data"
    }
   ],
   "source": [
    "state_vector_lhs_4 = sp.Matrix([[x1d],[x2d],[x3d],[x4d],[x5d],[x6d]])\n",
    "state_vector_rhs_4 = sp.Matrix([[x4],[x5],[x6],[acc_y],[acc_z],[alpha_roll]])\n",
    "\n",
    "display(Math(r'{} = {} = {}'.format(sp.latex(state_vector_lhs_4), sp.latex(state_vector_rhs_2), sp.latex(state_vector_rhs_4))))"
   ]
  },
  {
   "cell_type": "markdown",
   "id": "d1277697",
   "metadata": {},
   "source": [
    "## Developing the control equations"
   ]
  },
  {
   "cell_type": "markdown",
   "id": "67de0761",
   "metadata": {},
   "source": [
    "The variables to be controlled in the dynamic model are position, velocity, and accelerations (linear and angular) in order for the UAV to follow the desired trajectory.\n",
    "\n",
    "1. Need for position control: For a UAV to reach a target, it is important that the discrete position coordinates that make up the defined/undefined trajectory be precisely followed and the UAV reaches the target. Position control is needed for this purpose.\n",
    "2. Need for velocity control: When the UAV traverses along a defined/undefined trajectory, it may be needed that it do so with a specified velocity (exact or within a specified range), and when the UAV is about to reach the target, its velocity needs to be decreased gradually to 0. Velocity control is needed for this purpose.\n",
    "3. Need for acceleration control: When the UAV traverses along a defined/undefined trajectory, it may be needed that it do so with a specified acceleration (exact or within a specified range), so that abrupt increase/decrease in velocities do not occur. Acceleration control is needed for this purpose.\n",
    "\n",
    "The input variables controlling the position, velocity, and acceleration are thrust ($u_{1}$) and torque ($u_{2}$). From the linearized state space model, the equations for $u_{1}$ and $u_{2}$ are:"
   ]
  },
  {
   "cell_type": "code",
   "execution_count": 10,
   "id": "e351d5cc",
   "metadata": {},
   "outputs": [
    {
     "data": {
      "text/latex": [
       "$\\displaystyle u_{1} = \\ddot{z} m + g m$"
      ],
      "text/plain": [
       "<IPython.core.display.Math object>"
      ]
     },
     "metadata": {},
     "output_type": "display_data"
    },
    {
     "data": {
      "text/latex": [
       "$\\displaystyle u_{2} = I_{x} \\ddot{\\phi}$"
      ],
      "text/plain": [
       "<IPython.core.display.Math object>"
      ]
     },
     "metadata": {},
     "output_type": "display_data"
    }
   ],
   "source": [
    "u1 = mass*g + mass*acc_z_ss\n",
    "u2 = I_x*alpha_roll_ss\n",
    "\n",
    "display(Math(r'u_{{1}} = {}'.format(sp.latex(u1))))\n",
    "display(Math(r'u_{{2}} = {}'.format(sp.latex(u2))))"
   ]
  },
  {
   "cell_type": "markdown",
   "id": "aeaa781f",
   "metadata": {},
   "source": [
    "The commands for the required thrust ($u_{1}$) and torque ($u_{2}$) depend on the commands for the required z-acceleration ($\\ddot{z}$) and roll-acceleration ($\\ddot{\\phi}$), i.e.,"
   ]
  },
  {
   "cell_type": "code",
   "execution_count": 11,
   "id": "f83c15e1",
   "metadata": {},
   "outputs": [
    {
     "data": {
      "text/latex": [
       "$\\displaystyle u_{1} = \\ddot{z}_{command} m + g m$"
      ],
      "text/plain": [
       "<IPython.core.display.Math object>"
      ]
     },
     "metadata": {},
     "output_type": "display_data"
    },
    {
     "data": {
      "text/latex": [
       "$\\displaystyle u_{2} = I_{x} \\ddot{\\phi}_{command}$"
      ],
      "text/plain": [
       "<IPython.core.display.Math object>"
      ]
     },
     "metadata": {},
     "output_type": "display_data"
    }
   ],
   "source": [
    "acc_y_com, acc_z_com, alpha_roll_com = sp.symbols('\\ddot{y}_{command}, \\ddot{z}_{command}, \\ddot{\\phi}_{command}')\n",
    "\n",
    "u1_com = mass*g + mass*acc_z_com\n",
    "u2_com = I_x*alpha_roll_com\n",
    "\n",
    "display(Math(r'u_{{1}} = {}'.format(sp.latex(u1_com))))\n",
    "display(Math(r'u_{{2}} = {}'.format(sp.latex(u2_com))))"
   ]
  },
  {
   "cell_type": "markdown",
   "id": "738c99cd",
   "metadata": {},
   "source": [
    "The commands for z-acceleration and roll-acceleration, in turn, come as outputs from their respective PID controllers, i.e.,"
   ]
  },
  {
   "cell_type": "code",
   "execution_count": 12,
   "id": "8a09bd96",
   "metadata": {
    "scrolled": false
   },
   "outputs": [
    {
     "data": {
      "text/latex": [
       "$\\displaystyle \\ddot{z}_{command} = K_{dz} \\left(- \\dot{z} + \\dot{z}_{target}\\right) + K_{pz} \\left(- z + z_{target}\\right) + \\ddot{z}_{target}$"
      ],
      "text/plain": [
       "<IPython.core.display.Math object>"
      ]
     },
     "metadata": {},
     "output_type": "display_data"
    },
    {
     "data": {
      "text/latex": [
       "$\\displaystyle \\ddot{\\phi}_{command} = K_{d{\\phi}} \\left(- \\dot{\\phi} + \\dot{\\phi}_{target}\\right) + K_{p{\\phi}} \\left(- \\phi + {\\phi}_{target}\\right) + \\ddot{\\phi}_{target}$"
      ],
      "text/plain": [
       "<IPython.core.display.Math object>"
      ]
     },
     "metadata": {},
     "output_type": "display_data"
    }
   ],
   "source": [
    "pos_y_tar, vel_y_tar, acc_y_tar, pos_z_tar, vel_z_tar, acc_z_tar, theta_roll_tar, omega_roll_tar, alpha_roll_tar = sp.symbols('y_{target}, \\dot{y}_{target}, \\ddot{y}_{target}, z_{target}, \\dot{z}_{target}, \\ddot{z}_{target}, {\\phi}_{target}, \\dot{\\phi}_{target}, \\ddot{\\phi}_{target}')\n",
    "k_p_y, k_d_y, k_p_z, k_d_z, k_p_phi, k_d_phi = sp.symbols('K_{py}, K_{dy}, K_{pz}, K_{dz}, K_{p{\\phi}}, K_{d{\\phi}}')\n",
    "\n",
    "acc_z_com = acc_z_tar + k_d_z*(vel_z_tar - vel_z) + k_p_z*(pos_z_tar - pos_z)\n",
    "alpha_roll_com = alpha_roll_tar + k_d_phi*(omega_roll_tar - omega_roll) + k_p_phi*(theta_roll_tar - theta_roll)\n",
    "\n",
    "display(Math(r'\\ddot{{z}}_{{command}} = {}'.format(sp.latex(acc_z_com))))\n",
    "display(Math(r'\\ddot{{\\phi}}_{{command}} = {}'.format(sp.latex(alpha_roll_com))))"
   ]
  },
  {
   "cell_type": "markdown",
   "id": "ebeb0b58",
   "metadata": {},
   "source": [
    "The modified commands for the required thrust ($u_{1}$) and torque ($u_{2}$) become:"
   ]
  },
  {
   "cell_type": "code",
   "execution_count": 13,
   "id": "a675d485",
   "metadata": {},
   "outputs": [
    {
     "data": {
      "text/latex": [
       "$\\displaystyle u_{1} = g m + m \\left(K_{dz} \\left(- \\dot{z} + \\dot{z}_{target}\\right) + K_{pz} \\left(- z + z_{target}\\right) + \\ddot{z}_{target}\\right)$"
      ],
      "text/plain": [
       "<IPython.core.display.Math object>"
      ]
     },
     "metadata": {},
     "output_type": "display_data"
    },
    {
     "data": {
      "text/latex": [
       "$\\displaystyle u_{2} = I_{x} \\left(K_{d{\\phi}} \\left(- \\dot{\\phi} + \\dot{\\phi}_{target}\\right) + K_{p{\\phi}} \\left(- \\phi + {\\phi}_{target}\\right) + \\ddot{\\phi}_{target}\\right)$"
      ],
      "text/plain": [
       "<IPython.core.display.Math object>"
      ]
     },
     "metadata": {},
     "output_type": "display_data"
    }
   ],
   "source": [
    "u1_com = mass*g + mass*acc_z_com\n",
    "u2_com = I_x*alpha_roll_com\n",
    "\n",
    "display(Math(r'u_{{1}} = {}'.format(sp.latex(u1_com))))\n",
    "display(Math(r'u_{{2}} = {}'.format(sp.latex(u2_com))))"
   ]
  },
  {
   "cell_type": "markdown",
   "id": "6387cc46",
   "metadata": {},
   "source": [
    "## Solving for the unknown $\\phi_{target}$"
   ]
  },
  {
   "cell_type": "markdown",
   "id": "235c9eb6",
   "metadata": {},
   "source": [
    "The unknown root variable in the equation for the required torque ($u_{2}$) is $\\phi_{target}$. This can be obtained from the equation of the y-acceleration as:"
   ]
  },
  {
   "cell_type": "code",
   "execution_count": 32,
   "id": "e15f6194",
   "metadata": {},
   "outputs": [
    {
     "data": {
      "text/latex": [
       "$\\displaystyle \\ddot{y} = - \\phi g$"
      ],
      "text/plain": [
       "<IPython.core.display.Math object>"
      ]
     },
     "metadata": {},
     "output_type": "display_data"
    },
    {
     "data": {
      "text/latex": [
       "$\\displaystyle \\ddot{{y}}_{{command}} = -\\phi_{{command}}g$"
      ],
      "text/plain": [
       "<IPython.core.display.Math object>"
      ]
     },
     "metadata": {},
     "output_type": "display_data"
    }
   ],
   "source": [
    "acc_y = -g*theta_roll\n",
    "\n",
    "display(Math(r'\\ddot{{y}} = {}'.format(sp.latex(acc_y))))\n",
    "display(Math(r'\\ddot{{y}}_{{command}} = -\\phi_{{command}}g'))"
   ]
  },
  {
   "cell_type": "markdown",
   "id": "22f7d7e6",
   "metadata": {},
   "source": [
    "The command for y-acceleration comes as output from its PID controller, i.e.,"
   ]
  },
  {
   "cell_type": "code",
   "execution_count": 33,
   "id": "3edd4a81",
   "metadata": {
    "scrolled": true
   },
   "outputs": [
    {
     "data": {
      "text/latex": [
       "$\\displaystyle \\ddot{y}_{command} = K_{dy} \\left(- \\dot{y} + \\dot{y}_{target}\\right) + K_{py} \\left(- y + y_{target}\\right) + \\ddot{y}_{target}$"
      ],
      "text/plain": [
       "<IPython.core.display.Math object>"
      ]
     },
     "metadata": {},
     "output_type": "display_data"
    }
   ],
   "source": [
    "acc_y_com = acc_y_tar + k_d_y*(vel_y_tar - vel_y) + k_p_y*(pos_y_tar - pos_y)\n",
    "display(Math(r'\\ddot{{y}}_{{command}} = {}'.format(sp.latex(acc_y_com))))"
   ]
  },
  {
   "cell_type": "markdown",
   "id": "ae74db0c",
   "metadata": {},
   "source": [
    "Therefore, the commanded roll angle becomes:"
   ]
  },
  {
   "cell_type": "code",
   "execution_count": 34,
   "id": "f23dfba4",
   "metadata": {},
   "outputs": [
    {
     "data": {
      "text/latex": [
       "$\\displaystyle \\phi_{command} = - \\frac{K_{dy} \\left(- \\dot{y} + \\dot{y}_{target}\\right) + K_{py} \\left(- y + y_{target}\\right) + \\ddot{y}_{target}}{g}$"
      ],
      "text/plain": [
       "<IPython.core.display.Math object>"
      ]
     },
     "metadata": {},
     "output_type": "display_data"
    }
   ],
   "source": [
    "theta_roll_com = sp.symbols('\\phi_{command}')\n",
    "theta_roll_com = -(1/g)*acc_y_com\n",
    "\n",
    "display(Math(r'\\phi_{{command}} = {}'.format(sp.latex(theta_roll_com))))"
   ]
  },
  {
   "cell_type": "markdown",
   "id": "4b8a575e",
   "metadata": {},
   "source": [
    "However, unlike the z-acceleration and the roll-acceleration, since the roll angle cannot be commanded directly, $\\phi_{command}$ will be considered equal to $\\phi_{target}$. Therefore, the unknown variable $\\phi_{target}$ becomes:"
   ]
  },
  {
   "cell_type": "code",
   "execution_count": 37,
   "id": "a062bc2a",
   "metadata": {},
   "outputs": [
    {
     "data": {
      "text/latex": [
       "$\\displaystyle \\phi_{target} = - \\frac{K_{dy} \\left(- \\dot{y} + \\dot{y}_{target}\\right) + K_{py} \\left(- y + y_{target}\\right) + \\ddot{y}_{target}}{g}$"
      ],
      "text/plain": [
       "<IPython.core.display.Math object>"
      ]
     },
     "metadata": {},
     "output_type": "display_data"
    }
   ],
   "source": [
    "theta_roll_tar = -(1/g)*acc_y_com\n",
    "\n",
    "display(Math(r'\\phi_{{target}} = {}'.format(sp.latex(theta_roll_tar))))"
   ]
  },
  {
   "cell_type": "markdown",
   "id": "89aa5964",
   "metadata": {},
   "source": [
    "## Refining the control equations for y, z, and roll acceleration commands"
   ]
  },
  {
   "cell_type": "markdown",
   "id": "6f6ebcb3",
   "metadata": {},
   "source": [
    "Rewriting the command equations for the y-acceleration, z-acceleration, and roll-acceleration:"
   ]
  },
  {
   "cell_type": "code",
   "execution_count": 38,
   "id": "e7b75c37",
   "metadata": {},
   "outputs": [
    {
     "data": {
      "text/latex": [
       "$\\displaystyle \\ddot{y}_{command} = K_{dy} \\left(- \\dot{y} + \\dot{y}_{target}\\right) + K_{py} \\left(- y + y_{target}\\right) + \\ddot{y}_{target}$"
      ],
      "text/plain": [
       "<IPython.core.display.Math object>"
      ]
     },
     "metadata": {},
     "output_type": "display_data"
    },
    {
     "data": {
      "text/latex": [
       "$\\displaystyle \\ddot{z}_{command} = K_{dz} \\left(- \\dot{z} + \\dot{z}_{target}\\right) + K_{pz} \\left(- z + z_{target}\\right) + \\ddot{z}_{target}$"
      ],
      "text/plain": [
       "<IPython.core.display.Math object>"
      ]
     },
     "metadata": {},
     "output_type": "display_data"
    },
    {
     "data": {
      "text/latex": [
       "$\\displaystyle \\ddot{\\phi}_{command} = K_{d{\\phi}} \\left(- \\dot{\\phi} + \\dot{\\phi}_{target}\\right) + K_{p{\\phi}} \\left(- \\phi + {\\phi}_{target}\\right) + \\ddot{\\phi}_{target}$"
      ],
      "text/plain": [
       "<IPython.core.display.Math object>"
      ]
     },
     "metadata": {},
     "output_type": "display_data"
    }
   ],
   "source": [
    "display(Math(r'\\ddot{{y}}_{{command}} = {}'.format(sp.latex(acc_y_com))))\n",
    "display(Math(r'\\ddot{{z}}_{{command}} = {}'.format(sp.latex(acc_z_com))))\n",
    "display(Math(r'\\ddot{{\\phi}}_{{command}} = {}'.format(sp.latex(alpha_roll_com))))"
   ]
  },
  {
   "cell_type": "markdown",
   "id": "0f694ca5",
   "metadata": {},
   "source": [
    "## Refining the control equations: y-acceleration command"
   ]
  },
  {
   "cell_type": "markdown",
   "id": "05ec156c",
   "metadata": {},
   "source": [
    "#### Tuning parameters:\n",
    "1. $K_{py}$ = Proportional gain applied on y-position error for y-velocity correction <br>\n",
    "2. $K_{p\\dot{y}}$ = Proportional gain applied on y-velocity error for y-acceleration correction <br>\n",
    "3. $K_{d\\dot{y}}$ = Derivative gain applied on y-acceleration error for y-acceleration correction <br>\n",
    "</br>\n",
    "The refined control equations are:\n",
    "</br>\n",
    "$1. \\; \\dot{y}_{target} = K_{py}(y_{target} - y)$ <br>\n",
    "</br>\n",
    "$\\ddot{y}_{target} = K_{p\\dot{y}}(\\dot{y}_{target} - \\dot{y}) + K_{d\\dot{y}}(\\ddot{y}_{target} - \\ddot{y})$ <br>\n",
    "$\\ddot{y}_{command} = \\ddot{y}_{target}$ <br>\n",
    "</br>\n",
    "$2. \\; \\ddot{y}_{command} = K_{p\\dot{y}}(\\dot{y}_{target} - \\dot{y}) + K_{d\\dot{y}}(\\ddot{y}_{target} - \\ddot{y})$"
   ]
  },
  {
   "cell_type": "markdown",
   "id": "7f22257b",
   "metadata": {},
   "source": [
    "## Refining the control equations: z-acceleration command"
   ]
  },
  {
   "cell_type": "markdown",
   "id": "917225d4",
   "metadata": {},
   "source": [
    "#### Tuning parameters:\n",
    "1. $K_{pz}$ = Proportional gain applied on z-position error for z-velocity correction <br>\n",
    "2. $K_{p\\dot{z}}$ = Proportional gain applied on z-velocity error for z-acceleration correction <br>\n",
    "3. $K_{d\\dot{z}}$ = Derivative gain applied on z-acceleration error for z-acceleration correction <br>\n",
    "</br>\n",
    "The refined control equations are:\n",
    "</br>\n",
    "$1. \\; \\dot{z}_{target} = K_{pz}(z_{target} - z)$ <br>\n",
    "</br>\n",
    "$\\ddot{z}_{target} = K_{p\\dot{z}}(\\dot{z}_{target} - \\dot{z}) + K_{d\\dot{z}}(\\ddot{z}_{target} - \\ddot{z})$ <br>\n",
    "$\\ddot{z}_{command} = \\ddot{z}_{target}$ <br>\n",
    "</br>\n",
    "$2. \\; \\ddot{z}_{command} = K_{p\\dot{z}}(\\dot{z}_{target} - \\dot{z}) + K_{d\\dot{z}}(\\ddot{z}_{target} - \\ddot{z})$"
   ]
  },
  {
   "cell_type": "markdown",
   "id": "451661fa",
   "metadata": {},
   "source": [
    "## Solving for the unknown $\\phi_{target}$"
   ]
  },
  {
   "cell_type": "markdown",
   "id": "ed8150bf",
   "metadata": {},
   "source": [
    "$\\phi_{target} = -(1/g)(\\ddot{y}_{command})$"
   ]
  },
  {
   "cell_type": "markdown",
   "id": "cd3e3957",
   "metadata": {},
   "source": [
    "## Refining the control equations: roll-acceleration command"
   ]
  },
  {
   "cell_type": "markdown",
   "id": "eb7a948c",
   "metadata": {},
   "source": [
    "#### Tuning parameters:\n",
    "1. $K_{p\\phi}$ = Proportional gain applied on roll-angle error for roll-rate correction <br>\n",
    "2. $K_{ff\\phi}$ = Feed-forward gain applied on the target roll-angle <br>\n",
    "3. $K_{p\\dot{\\phi}}$ = Proportional gain applied on roll-rate error for roll-acceleration correction <br>\n",
    "4. $K_{d\\dot{\\phi}}$ = Derivative gain applied on roll-acceleration error for roll-acceleration correction <br>\n",
    "</br>\n",
    "The refined control equations are:\n",
    "</br>\n",
    "$1. \\; \\dot{\\phi}_{target} = K_{p\\phi}(\\phi_{target} - \\phi) + K_{ff\\phi}(\\phi_{target})$ <br>\n",
    "</br>\n",
    "$\\ddot{\\phi}_{target} = K_{p\\dot{\\phi}}(\\dot{\\phi}_{target} - \\dot{\\phi}) + K_{d\\dot{\\phi}}(\\ddot{\\phi}_{target} - \\ddot{\\phi})$ <br>\n",
    "$\\ddot{\\phi}_{command} = \\ddot{\\phi}_{target}$ <br>\n",
    "</br>\n",
    "$2. \\; \\ddot{\\phi}_{command} = K_{p\\dot{\\phi}}(\\dot{\\phi}_{target} - \\dot{\\phi}) + K_{d\\dot{\\phi}}(\\ddot{\\phi}_{target} - \\ddot{\\phi})$"
   ]
  },
  {
   "cell_type": "markdown",
   "id": "f55019de",
   "metadata": {},
   "source": [
    "Therefore, the commands for the required thrust ($u_{1}$) and torque ($u_{2}$) become: <br>\n",
    "</br>\n",
    "$u_{1} = m(\\ddot{z}_{command} + g)$ <br>\n",
    "$u_{2} = I_{x}\\ddot{\\phi}_{command}$"
   ]
  },
  {
   "cell_type": "raw",
   "id": "296078bb",
   "metadata": {},
   "source": [
    "\\begin{equation*}\n",
    "  \\begin{pmatrix}\n",
    "    1&0\\\\\n",
    "    0&2\n",
    "  \\end{pmatrix}\n",
    "  \\begin{pmatrix}\n",
    "    \\epsilon&b'\\\\\n",
    "    0&\\eta\n",
    "  \\end{pmatrix}\n",
    "  \\begin{pmatrix}\n",
    "    1&0\\\\\n",
    "    0&2\n",
    "  \\end{pmatrix}\n",
    "  ^{-1} =\n",
    "  \\begin{pmatrix}\n",
    "    \\epsilon&b'/2\\\\\n",
    "    0&\\eta\n",
    "  \\end{pmatrix}\n",
    "\\end{equation*}"
   ]
  },
  {
   "cell_type": "raw",
   "id": "e085940b",
   "metadata": {},
   "source": [
    "\\begin{equation*}\n",
    "  \\begin{bmatrix}\n",
    "    1&0\\\\\n",
    "    0&2\n",
    "  \\end{bmatrix}\n",
    "  \\begin{bmatrix}\n",
    "    \\epsilon&b'\\\\\n",
    "    0&\\eta\n",
    "  \\end{bmatrix}\n",
    "  \\begin{bmatrix}\n",
    "    1&0\\\\\n",
    "    0&2\n",
    "  \\end{bmatrix}\n",
    "  ^{-1} =\n",
    "  \\begin{bmatrix}\n",
    "    \\epsilon&b'/2\\\\\n",
    "    0&\\eta\n",
    "  \\end{bmatrix}\n",
    "\\end{equation*}"
   ]
  }
 ],
 "metadata": {
  "kernelspec": {
   "display_name": "Python 3 (ipykernel)",
   "language": "python",
   "name": "python3"
  },
  "language_info": {
   "codemirror_mode": {
    "name": "ipython",
    "version": 3
   },
   "file_extension": ".py",
   "mimetype": "text/x-python",
   "name": "python",
   "nbconvert_exporter": "python",
   "pygments_lexer": "ipython3",
   "version": "3.10.9"
  }
 },
 "nbformat": 4,
 "nbformat_minor": 5
}
