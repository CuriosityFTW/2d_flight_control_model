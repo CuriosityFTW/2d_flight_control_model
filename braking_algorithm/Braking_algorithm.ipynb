{
 "cells": [
  {
   "cell_type": "code",
   "execution_count": 1,
   "id": "a7e6695e",
   "metadata": {},
   "outputs": [],
   "source": [
    "import sympy as sp\n",
    "import numpy as np\n",
    "from sympy import *\n",
    "from IPython.display import Math, Latex"
   ]
  },
  {
   "cell_type": "markdown",
   "id": "2b68ab6b",
   "metadata": {},
   "source": [
    "## List of tuning parameters for loiter mode\n",
    "1. $ANG\\_MAX$ : Loiter angle max [deg] $(AP \\; value: 0)$ <br>\n",
    "&emsp; <b>AP definition:</b> Loiter maximum lean angle. Set to zero for 2/3 of PSC_ANGLE_MAX or ANGLE_MAX. <br>\n",
    "<font color = red> <i><b>Interpretation:</b> This parameter defines the maximum angle that can be commanded by the pilot. It is currently limited to 45 degrees.</i> </font> <br>\n",
    "</br>\n",
    "2. $LOITER\\_SPEED\\_DEFAULT$ : Loiter horizontal maximum speed [cm/s] $(AP \\; value: 800)$ <br>\n",
    "&emsp; <b>AP definition:</b> Defines the maximum speed in cm/s which the aircraft will travel horizontally while in loiter mode. <br>\n",
    "<font color = red> <i><b>Interpretation:</b> This parameter defines the maximum horizontal speed that the UAV can travel at while in loiter mode.</i> </font> <br>\n",
    "</br>\n",
    "3. $LOITER\\_SPEED\\_MIN$ : Loiter horizontal minimum speed [cm/s] $(AP \\; value: -/20)$ <br>\n",
    "&emsp; <b>AP definition:</b> Defines the minimum speed in cm/s which the aircraft will travel horizontally while in loiter mode. <br>\n",
    "<font color = red> <i><b>Interpretation:</b> This parameter defines the minimum horizontal speed that the UAV can travel at while in loiter mode.</i> </font> <br>\n",
    "</br>\n",
    "4. $LOITER\\_ACCEL\\_MAX\\_DEFAULT$ : Loiter maximum correction acceleration [cm/s/s] $(AP \\; value: 150)$ <br>\n",
    "&emsp; <b>AP definition:</b> Loiter maximum correction acceleration in cm/s/s.  Higher values cause the copter to correct position errors more aggressively. <br>\n",
    "<font color = red> <i><b>Interpretation:</b> This parameter defines the maximum acceleration error that the controller will correct.</i> </font> <br>\n",
    "</br>\n",
    "5. $LOITER\\_BRAKE\\_ACCEL\\_DEFAULT$ : Loiter braking acceleration [cm/s/s] $(AP \\; value: 150)$ <br>\n",
    "&emsp; <b>AP definition:</b> Loiter braking acceleration in cm/s/s. Higher values stop the copter more quickly when the stick is centered. <br>\n",
    "<font color = red> <i><b>Interpretation:</b> This parameter defines the maximum brake acceleration that the controller will apply on the UAV to stop it at the target stopping location.</i> </font> <br>\n",
    "</br>\n",
    "6. $LOITER\\_BRAKE\\_JERK\\_DEFAULT$ : Loiter braking jerk [cm/s/s/s] $(AP \\; value: 500)$ <br>\n",
    "&emsp; <b>AP definition:</b> Loiter braking jerk in cm/s/s/s. Higher values will remove braking faster if the pilot moves the sticks during a braking maneuver. <br>\n",
    "<font color = red> <i><b>Interpretation:</b> This parameter defines the maximum acceleration change that can be allowed in a controller time step so as to prevent abrupt jerks during the UAV motion.</i> </font> <br>\n",
    "</br>\n",
    "7. $LOITER\\_BRAKE\\_START\\_DELAY\\_DEFAULT$ : Loiter brake start delay [s] $(AP \\; value: 0)$ <br>\n",
    "&emsp; <b>AP definition:</b> Loiter brake start delay. <br>\n",
    "<font color = red> <i><b>Interpretation:</b> This parameter defines the time delay between the centering of the stick and the actual start of the brake application.</i> </font> <br>\n",
    "</br>\n",
    "8. $LOITER\\_VEL\\_CORRECTION\\_MAX$ : Maximum speed used to correct position errors in loiter [cm/s] $(AP \\; value: -/200)$ <br>\n",
    "&emsp; <b>AP definition:</b> - <br>\n",
    "<font color = red> <i><b>Interpretation:</b> This parameter defines the maximum velocity error that the controller will correct.</i> </font> <br>"
   ]
  },
  {
   "cell_type": "markdown",
   "id": "054aa023",
   "metadata": {},
   "source": [
    "## Calculating the maximum allowable position error (using the inverse square root controller)"
   ]
  },
  {
   "cell_type": "markdown",
   "id": "8420735a",
   "metadata": {},
   "source": [
    "$inv\\_sqrt\\_controller$ = Inverse square root controller <br>\n",
    "$curr\\_vel$ = Current velocity\n",
    "\n",
    "<b>Stopping distance</b> = $inv\\_sqrt\\_controller$ ($curr\\_vel$, $LOITER\\_ACCEL\\_MAX\\_DEFAULT$, $K_{p,xy}$) <br>\n",
    "</br>\n",
    "0 $\\leq$ $curr\\_vel$ $\\leq$ $LOITER\\_VEL\\_CORRECTION\\_MAX$ <br>\n",
    "</br>\n",
    "$linear\\_velocity$ = $\\frac{LOITER\\_ACCEL\\_MAX\\_DEFAULT}{K_{p,xy}}$ <br>\n",
    "</br>\n",
    "if ($curr\\_vel$ < $linear\\_velocity$) <br>\n",
    "{<br>\n",
    "&emsp; <b>Stopping distance</b> = $\\frac{curr\\_vel}{K_{p,xy}}$ <br>\n",
    "}<br>\n",
    "else <br>\n",
    "{<br>\n",
    "&emsp; $linear\\_dist$ = $\\frac{LOITER\\_ACCEL\\_MAX\\_DEFAULT}{K_{p,xy}^2}$ <br>\n",
    "</br>\n",
    "&emsp; <b>Stopping distance</b> = $\\frac{linear\\_dist}{2} + \\frac{(curr\\_vel)^2}{2\\cdot LOITER\\_ACCEL\\_MAX\\_DEFAULT}$ <br>\n",
    "}"
   ]
  },
  {
   "cell_type": "markdown",
   "id": "e61544ea",
   "metadata": {},
   "source": [
    "## Calculating the new target position, velocity, and acceleration after the application of brake (centering of stick)"
   ]
  },
  {
   "cell_type": "markdown",
   "id": "1675fd3b",
   "metadata": {},
   "source": [
    "$gnd\\_speed\\_limit\\_cms$ = max (min ($LOITER\\_SPEED\\_DEFAULT$, $ekfGndSpdLimit \\cdot 100$), $LOITER\\_SPEED\\_MIN$) <br>\n",
    "$pilot\\_acceleration\\_max$ = $g \\cdot 100 \\cdot tan(rad(ANG\\_MAX))$ <br>\n",
    "\n",
    "$desired\\_vel$ = target velocity calculated from the position controller <br>\n",
    "$predicted\\_accel$ = target acceleration calculated from the position controller <br>\n",
    "$desired\\_accel$ = desired acceleration at the instant of brake application (centering of stick) <br>\n",
    "\n",
    "$desired\\_vel$ += $predicted\\_accel \\cdot dt$ <br>\n",
    "$desired\\_speed = desired\\_vel.length()$ <br>\n",
    "\n",
    "if ($desired\\_speed$ != $0$) <br>\n",
    "{ <br>\n",
    "&emsp; $desired\\_vel\\_norm = \\frac{desired\\_vel}{desired\\_speed}$ <br>\n",
    "\n",
    "&emsp; $drag\\_decel = \\frac{pilot\\_acceleration\\_max \\cdot desired\\_speed}{gnd\\_speed\\_limit\\_cms}$ <br>\n",
    "\n",
    "&emsp; $loiter\\_brake\\_accel = 0$ <br>\n",
    "\n",
    "&emsp; if ($desired\\_accel = 0$) <br>\n",
    "&emsp; { <br>\n",
    "&emsp; &emsp; if ($(curr\\_time - brake\\_timer) > LOITER\\_BRAKE\\_START\\_DELAY\\_DEFAULT \\cdot 1000$) <br>\n",
    "&emsp; &emsp; { <br>\n",
    "&emsp; &emsp; &emsp; &emsp; $brake\\_gain = K_{p,\\dot{x}\\dot{y}} \\cdot 0.5$ <br>\n",
    "&emsp; &emsp; &emsp; &emsp; $loiter\\_brake\\_accel$ = constrain ($sqrt\\_controller (desired\\_speed, brake\\_gain, LOITER\\_BRAKE\\_JERK\\_DEFAULT, dt), 0, LOITER\\_BRAKE\\_ACCEL\\_DEFAULT$) <br>\n",
    "&emsp; &emsp; } <br>\n",
    "&emsp; } <br>\n",
    "&emsp; else <br>\n",
    "&emsp; { <br>\n",
    "&emsp; &emsp; &emsp; $loiter\\_brake\\_accel = 0$ <br>\n",
    "&emsp; &emsp; &emsp; $brake\\_timer = curr\\_time$ <br>\n",
    "&emsp; } <br>\n",
    "&emsp; $brake\\_accel$ += constrain ($loiter\\_brake\\_accel - brake\\_accel, -(LOITER\\_BRAKE\\_JERK\\_DEFAULT \\cdot dt), (LOITER\\_BRAKE\\_JERK\\_DEFAULT \\cdot dt)$) <br>\n",
    "&emsp; $loiter\\_accel\\_brake = desired\\_vel\\_norm \\cdot brake\\_accel$ <br>\n",
    "\n",
    "&emsp; $desired\\_speed$ = max ($desired\\_speed - (drag\\_decel + brake\\_accel) \\cdot dt, 0$) <br>\n",
    "&emsp; $desired\\_vel = desired\\_vel\\_norm \\cdot desired\\_speed$ <br>\n",
    "} <br>\n",
    "\n",
    "$desired\\_accel$ -= $loiter\\_accel\\_brake$ <br>\n",
    "\n",
    "$target\\_pos$ += $desired\\_vel \\cdot dt$ <br>\n",
    "\n",
    "The new target position, velocity, and acceleration are $target\\_pos$, $desired\\_vel$, and $desired\\_accel$ respectively."
   ]
  },
  {
   "cell_type": "markdown",
   "id": "8e071706",
   "metadata": {},
   "source": [
    "## Calculating the brake acceleration (using the square root controller)"
   ]
  },
  {
   "cell_type": "markdown",
   "id": "7af05a57",
   "metadata": {},
   "source": [
    "$loiter\\_brake\\_accel$ = constrain ($sqrt\\_controller(desired\\_speed, brake\\_gain, LOITER\\_BRAKE\\_JERK\\_DEFAULT, dt), 0, LOITER\\_BRAKE\\_ACCEL\\_DEFAULT$) <br>\n",
    "\n",
    "$linear\\_dist = \\frac{LOITER\\_BRAKE\\_JERK\\_DEFAULT}{(brake\\_gain)^2}$ <br>\n",
    "\n",
    "if ($desired\\_speed > linear\\_dist$) <br>\n",
    "{ <br>\n",
    "&emsp; $correction\\_rate = safe\\_sqrt (2 \\cdot LOITER\\_BRAKE\\_JERK\\_DEFAULT \\cdot (desired\\_speed - \\frac{linear\\_dist}{2}))$ <br>\n",
    "} <br>\n",
    "else <br>\n",
    "if ($desired\\_speed < -linear\\_dist$) <br>\n",
    "{ <br>\n",
    "&emsp; $correction\\_rate = -safe\\_sqrt (2 \\cdot LOITER\\_BRAKE\\_JERK\\_DEFAULT \\cdot (-desired\\_speed - \\frac{linear\\_dist}{2}))$ <br>\n",
    "} <br>\n",
    "else <br>\n",
    "{ <br>\n",
    "&emsp; $correction\\_rate = desired\\_speed \\cdot brake\\_gain$ <br>\n",
    "} <br>\n",
    "\n",
    "return constrain ($correction\\_rate, \\frac{-abs(desired\\_speed)}{dt}, \\frac{abs(desired\\_speed)}{dt}$)"
   ]
  }
 ],
 "metadata": {
  "kernelspec": {
   "display_name": "Python 3 (ipykernel)",
   "language": "python",
   "name": "python3"
  },
  "language_info": {
   "codemirror_mode": {
    "name": "ipython",
    "version": 3
   },
   "file_extension": ".py",
   "mimetype": "text/x-python",
   "name": "python",
   "nbconvert_exporter": "python",
   "pygments_lexer": "ipython3",
   "version": "3.10.9"
  }
 },
 "nbformat": 4,
 "nbformat_minor": 5
}
