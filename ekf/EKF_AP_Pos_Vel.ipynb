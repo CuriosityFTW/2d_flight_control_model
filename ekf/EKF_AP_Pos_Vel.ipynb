{
 "cells": [
  {
   "cell_type": "markdown",
   "metadata": {},
   "source": [
    "# <p style=\"text-align: center;\"> AP EKF position and velocity estimation"
   ]
  },
  {
   "cell_type": "code",
   "execution_count": 1,
   "metadata": {
    "tags": []
   },
   "outputs": [],
   "source": [
    "import sympy as sp\n",
    "import numpy as np\n",
    "from scipy import linalg\n",
    "from sympy import *\n",
    "from IPython.display import Math, Latex"
   ]
  },
  {
   "cell_type": "markdown",
   "metadata": {},
   "source": [
    "## List of tuning parameters for position and velocity fusion\n",
    "#### A. Process noise parameters\n",
    "1. $ACC\\_P\\_NSE$ : Accelerometer noise [m/s/s] $(AP \\; value: 0.6)$ <br>\n",
    "&emsp; <b>AP definition:</b> This control disturbance noise controls the growth of estimated error due to accelerometer measurement errors excluding bias. Increasing it makes the flter trust the accelerometer measurements less and other measurements more. <br>\n",
    "<font color = red> <i><b>Interpretation:</b> This parameter dictates the amount of deviation from the motion model (of acceleration) that the estimated model (of acceleration) can have, i.e., whether the estimated model (of acceleration) will follow the motion model (of acceleration) or the true values (of acceleration).</i> </font> <br>\n",
    "<font color = red> <i><b>Increasing the parameter:</b> The estimated model (of acceleration) will follow the true model (of acceleration) and will be more sensitive to noisy measurements.</i> </font> <br>\n",
    "<font color = red> <i><b>Decreasing the parameter:</b> The estimated model (of acceleration) will follow the motion model (of acceleration), will be less sensitive to noisy measurements, and rapid changes in the true model (of acceleration) will be ignored (which should actually be tracked.).</i> </font> <br>\n",
    "</br>\n",
    "2. $ABIAS\\_P\\_NSE$ : Accelerometer bias stability [m/s/s/s] $(AP \\; value: 0.005)$ <br>\n",
    "&emsp; <b>AP definition:</b> This noise controls the growth of the vertical accelerometer delta velocity bias state error estimate. Increasing it makes accelerometer bias estimation faster and noisier. <br>\n",
    "<font color = red> <i><b>Interpretation:</b> This parameter dictates the amount of deviation from the motion model (of accelerometer bias) that the estimated model (of accelerometer bias) can have, i.e., whether the estimated model (of accelerometer bias) will follow the motion model (of accelerometer bias) or the true values (of accelerometer bias).</i> </font> <br>\n",
    "<font color = red> <i><b>Increasing the parameter:</b> The estimated model (of accelerometer bias) will follow the true model (of accelerometer bias) and will be more sensitive to noisy measurements.</i> </font> <br>\n",
    "<font color = red> <i><b>Decreasing the parameter:</b> The estimated model (of accelerometer bias) will follow the motion model (of accelerometer bias), will be less sensitive to noisy measurements, and rapid changes in the true model (of accelerometer bias) will be ignored (which should actually be tracked.).</i> </font>\n",
    "\n",
    "#### B. Measurement uncertainty parameters\n",
    "3. $POSNE\\_M\\_NSE$ : GPS horizontal position measurement noise [m] $(AP \\; value: 1)$ <br>\n",
    "&emsp; <b>AP definition:</b> This sets the GPS horizontal position observation noise. Increasing it reduces the weighting of GPS horizontal position measurements. <br>\n",
    "<font color = red> <i><b>Interpretation:</b> This parameter denotes the horizontal position measurement accuracy of the GPS sensor. It dictates whether the estimated model (of horizontal position) will follow the motion model (of horizontal position) or the true measurements (of horizontal position).</i> </font> <br>\n",
    "<font color = red> <i><b>Increasing the parameter:</b> The estimated model (of horizontal position) will favor the motion model (of horizontal position) and rapid changes in the true measurements (of horizontal position) will be ignored.</i> </font> <br>\n",
    "<font color = red> <i><b>Decreasing the parameter:</b> The estimated model (of horizontal position) will favor the true measurements (of horizontal position).</i> </font> <br>\n",
    "</br>\n",
    "4. $VELNE\\_M\\_NSE$ : GPS horizontal velocity measurement noise [m/s] $(AP \\; value: 0.5)$ <br>\n",
    "&emsp; <b>AP definition:</b> This sets a lower limit on the speed accuracy reported by the GPS receiver that is used to set horizontal velocity observation noise. If the model of receiver used does not provide a speed accurcy estimate, then the parameter value will be used. Increasing it reduces the weighting of the GPS horizontal velocity measurements. <br>\n",
    "<font color = red> <i><b>Interpretation:</b> This parameter denotes the horizontal velocity measurement accuracy of the GPS sensor. It dictates whether the estimated model (of horizontal velocity) will follow the motion model (of horizontal velocity) or the true measurements (of horizontal velocity).</i> </font> <br>\n",
    "<font color = red> <i><b>Increasing the parameter:</b> The estimated model (of horizontal velocity) will favor the motion model (of horizontal velocity) and rapid changes in the true measurements (of horizontal velocity) will be ignored.</i> </font> <br>\n",
    "<font color = red> <i><b>Decreasing the parameter:</b> The estimated model (of horizontal velocity) will favor the true measurements (of horizontal velocity).</i> </font> <br>\n",
    "</br>\n",
    "5. $gpsHgtAccuracy$ : estimated height accuracy returned by the GPS receiver [m] $(AP \\; value: 0)$ <br>\n",
    "<font color = red> <i><b>Interpretation:</b> This parameter denotes the altitude measurement accuracy of the sensor. It dictates whether the estimated model (of altitude) will follow the motion model (of altitude) or the true measurements (of altitude).</i> </font> <br>\n",
    "<font color = red> <i><b>Increasing the parameter:</b> The estimated model (of altitude) will favor the motion model (of altitude) and rapid changes in the true measurements (of altitude) will be ignored.</i> </font> <br>\n",
    "<font color = red> <i><b>Decreasing the parameter:</b> The estimated model (of altitude) will favor the true measurements (of altitude).</i> </font>\n",
    "</br>\n",
    "6. $RNG\\_M\\_NSE$ : Range finder measurement noise [m] $(AP \\; value: 0.5)$ <br>\n",
    "&emsp; <b>AP definition:</b> This is the RMS value of noise in the range finder measurement. Increasing it reduces the weighting on this measurement. <br>\n",
    "<font color = red> <i><b>Interpretation:</b> This parameter denotes the altitude measurement accuracy of the Altimeter. It dictates whether the estimated model (of altitude) will follow the motion model (of altitude) or the true measurements (of altitude).</i> </font> <br>\n",
    "<font color = red> <i><b>Increasing the parameter:</b> The estimated model (of altitude) will favor the motion model (of altitude) and rapid changes in the true measurements (of altitude) will be ignored.</i> </font> <br>\n",
    "<font color = red> <i><b>Decreasing the parameter:</b> The estimated model (of altitude) will favor the true measurements (of altitude).</i> </font>\n",
    "</br>\n",
    "7. $ALT\\_M\\_NSE$ : Baro height measurement noise [m] $(AP \\; value: 3)$ <br>\n",
    "&emsp; <b>AP definition:</b> This is the RMS value of noise in the altitude measurement. Increasing it reduces the weighting of the baro measurement and will make the filter respond more slowly to baro measurement errors, but will make it more sensitive to GPS and accelerometer errors. <br>\n",
    "<font color = red> <i><b>Interpretation:</b> This parameter denotes the altitude measurement accuracy of the Barometer. It dictates whether the estimated model (of altitude) will follow the motion model (of altitude) or the true measurements (of altitude).</i> </font> <br>\n",
    "<font color = red> <i><b>Increasing the parameter:</b> The estimated model (of altitude) will favor the motion model (of altitude) and rapid changes in the true measurements (of altitude) will be ignored.</i> </font> <br>\n",
    "<font color = red> <i><b>Decreasing the parameter:</b> The estimated model (of altitude) will favor the true measurements (of altitude).</i> </font>\n",
    "</br>\n",
    "8. $VELD\\_M\\_NSE$ : GPS vertical velocity measurement noise [m/s] $(AP \\; value: 0.5)$ <br>\n",
    "&emsp; <b>AP definition:</b> This sets a lower limit on the speed accuracy reported by the GPS receiver that is used to set vertical velocity observation noise. If the model of receiver used does not provide a speed accurcy estimate, then the parameter value will be used. Increasing it reduces the weighting of the GPS vertical velocity measurements. <br>\n",
    "<font color = red> <i><b>Interpretation:</b> This parameter denotes the vertical velocity measurement accuracy of the GPS sensor. It dictates whether the estimated model (of vertical velocity) will follow the motion model (of vertical velocity) or the true measurements (of vertical velocity).</i> </font> <br>\n",
    "<font color = red> <i><b>Increasing the parameter:</b> The estimated model (of vertical velocity) will favor the motion model (of vertical velocity) and rapid changes in the true measurements (of vertical velocity) will be ignored.</i> </font> <br>\n",
    "<font color = red> <i><b>Decreasing the parameter:</b> The estimated model (of vertical velocity) will favor the true measurements (of vertical velocity).</i> </font>\n",
    "\n",
    "#### C. Innovation consistency check parameters\n",
    "9. $POS\\_I\\_GATE$ : Percentage number of standard deviations applied to GPS position innovation consistency check [%] $(AP \\; value: 500)$ <br>\n",
    "&emsp; <b>AP definition:</b> This sets the percentage number of standard deviations applied to the GPS position measurement innovation consistency check. Decreasing it makes it more likely that good measurements will be rejected. Increasing it makes it more likely that bad measurements will be accepted. <br>\n",
    "<font color = red> <i><b>Interpretation:</b> This parameter sets the margin within which if the difference between the estimated and measured horizontal positions falls, fusion of the horizontal positions will be successful.</i> </font> <br>\n",
    "<font color = red> <i><b>Increasing the parameter:</b> The margin will be wider making it possible that even larger differences between the estimated and measured horizontal positions are accepted for fusion. Bad measurements may be accepted in this way.</i> </font> <br>\n",
    "<font color = red> <i><b>Decreasing the parameter:</b> The margin will be narrower, allowing only small differences between the estimated and measured horizontal positions to be accepted for fusion. Good measurements may be rejected in this way.</i> </font> <br>\n",
    "</br>\n",
    "10. $HGT\\_I\\_GATE$ : Percentage number of standard deviations applied to height innovation consistency check [%] $(AP \\; value: 500)$ <br>\n",
    "&emsp; <b>AP definition:</b> This sets the percentage number of standard deviations applied to the height measurement innovation consistency check. Decreasing it makes it more likely that good measurements will be rejected. Increasing it makes it more likely that bad measurements will be accepted. <br>\n",
    "<font color = red> <i><b>Interpretation:</b> This parameter sets the margin within which if the difference between the estimated and measured altitudes falls, fusion of the altitudes will be successful.</i> </font> <br>\n",
    "<font color = red> <i><b>Increasing the parameter:</b> The margin will be wider making it possible that even larger differences between the estimated and measured altitudes are accepted for fusion. Bad measurements may be accepted in this way.</i> </font> <br>\n",
    "<font color = red> <i><b>Decreasing the parameter:</b> The margin will be narrower, allowing only small differences between the estimated and measured altitudes to be accepted for fusion. Good measurements may be rejected in this way.</i> </font> <br>\n",
    "</br>\n",
    "11. $VEL\\_I\\_GATE$ : Percentage number of standard deviations applied to GPS velocity innovation consistency check [%] $(AP \\; value: 500)$ <br>\n",
    "&emsp; <b>AP definition:</b> This sets the percentage number of standard deviations applied to the GPS velocity measurement innovation consistency check. Decreasing it makes it more likely that good measurements willbe rejected. Increasing it makes it more likely that bad measurements will be accepted. <br>\n",
    "<font color = red> <i><b>Interpretation:</b> This parameter sets the margin within which if the difference between the estimated and measured horizontal velocities falls, fusion of the velocities will be successful.</i> </font> <br>\n",
    "<font color = red> <i><b>Increasing the parameter:</b> The margin will be wider making it possible that even larger differences between the estimated and measured velocities are accepted for fusion. Bad measurements may be accepted in this way.</i> </font> <br>\n",
    "<font color = red> <i><b>Decreasing the parameter:</b> The margin will be narrower, allowing only small differences between the estimated and measured velocities to be accepted for fusion. Good measurements may be rejected in this way.</i> </font> <br>\n",
    "</br>\n",
    "12. $FS\\_EKF\\_THRESH$ : EKF failsafe variance threshold $(AP \\; value: 0.8)$ <br>\n",
    "&emsp; <b>AP definition:</b> Allows setting the maximum acceptable compass, position, and velocity variance. <br>\n",
    "<font color = red> <i><b>Interpretation:</b> This parameter can be thought of as the RMS value of the innovations of the horizontal positions / horizontal velocities / altitudes. While the GATE parameter defines a margin to accept or reject (fluctuating) measurements, the FS_EKF_THRESH parameter defines a maximum acceptable limit on the stable or RMS values of the innovations, exceeding which will result in an EKF failsafe action. A balance has to be struck between choosing the two parameters so as to satisfy the margin as well as the limit.</i> </font> <br>\n",
    "<font color = red> <i><b>Increasing the parameter:</b> In the worst case scenario, having a high GATE parameter (s.t. for e.g. posTestRatio $<$ 1) and also increasing the FS_EKF_THRESH parameter will result in bad measurements with high RMS values to be accepted, therefore resulting in a reduced estimation accuracy.</i> </font> <br>\n",
    "<font color = red> <i><b>Decreasing the parameter:</b> In the worst case scenario, having a low GATE parameter (s.t. for e.g. posTestRatio $<$ 1) and also decreasing the FS_EKF_THRESH parameter will result in good measurements with low RMS values to be rejected, therefore resulting in an EKF failsafe action.</i> </font>"
   ]
  },
  {
   "cell_type": "markdown",
   "metadata": {},
   "source": [
    "## System model"
   ]
  },
  {
   "cell_type": "markdown",
   "metadata": {},
   "source": [
    "The system model is represented in the form of the state extrapolation equation: <br>\n",
    "<p style=\"text-align: center;\"> $X_{t|t-1} = F.X_{t-1|t-1} + G.U_{t-1|t-1}$ <br> </p>\n",
    "\n",
    "where, <br>\n",
    "$X_{t|t-1}$ = Predicted system state at time t <br>\n",
    "$F$ = State transition matrix <br>\n",
    "$X_{t-1|t-1}$ = System state at time t-1 <br>\n",
    "$G$ = Control matrix <br>\n",
    "$U_{t-1|t-1}$ = Control vector at time t-1"
   ]
  },
  {
   "cell_type": "code",
   "execution_count": 3,
   "metadata": {
    "scrolled": false
   },
   "outputs": [
    {
     "data": {
      "text/latex": [
       "$\\displaystyle X_{t|t-1} = \\left[\\begin{matrix}x_{t|t-1}\\\\\\dot{x}_{t|t-1}\\\\y_{t|t-1}\\\\\\dot{y}_{t|t-1}\\\\z_{t|t-1}\\\\\\dot{z}_{t|t-1}\\end{matrix}\\right], F = \\left[\\begin{matrix}1 & \\Delta{t} & 0 & 0 & 0 & 0\\\\0 & 1 & 0 & 0 & 0 & 0\\\\0 & 0 & 1 & \\Delta{t} & 0 & 0\\\\0 & 0 & 0 & 1 & 0 & 0\\\\0 & 0 & 0 & 0 & 1 & \\Delta{t}\\\\0 & 0 & 0 & 0 & 0 & 1\\end{matrix}\\right], X_{t-1|t-1} = \\left[\\begin{matrix}x_{t-1}\\\\\\dot{x}_{t-1}\\\\y_{t-1}\\\\\\dot{y}_{t-1}\\\\z_{t-1}\\\\\\dot{z}_{t-1}\\end{matrix}\\right], G = \\left[\\begin{matrix}\\frac{\\Delta{t}^{2}}{2} & 0 & 0\\\\\\Delta{t} & 0 & 0\\\\0 & \\frac{\\Delta{t}^{2}}{2} & 0\\\\0 & \\Delta{t} & 0\\\\0 & 0 & \\frac{\\Delta{t}^{2}}{2}\\\\0 & 0 & \\Delta{t}\\end{matrix}\\right], U_{t-1|t-1} = \\left[\\begin{matrix}\\ddot{x}_{t-1}\\\\\\ddot{y}_{t-1}\\\\\\ddot{z}_{t-1}\\end{matrix}\\right]$"
      ],
      "text/plain": [
       "<IPython.core.display.Math object>"
      ]
     },
     "metadata": {},
     "output_type": "display_data"
    }
   ],
   "source": [
    "# XT_predict_compact = Predicted system state at time t\n",
    "# F = State transition matrix\n",
    "# XT_previous = System state at time t-1\n",
    "# G = Control matrix\n",
    "# U = Control vector at time t-1\n",
    "\n",
    "pos_xt1, vel_xt1, pos_yt1, vel_yt1, pos_zt1, vel_zt1, delt, pos_xt, vel_xt, pos_yt, vel_yt, pos_zt, vel_zt, acc_xt, acc_yt, acc_zt = sp.symbols('x_{t|t-1}, \\dot{x}_{t|t-1}, y_{t|t-1}, \\dot{y}_{t|t-1}, z_{t|t-1}, \\dot{z}_{t|t-1}, \\Delta{t}, x_{t-1}, \\dot{x}_{t-1}, y_{t-1}, \\dot{y}_{t-1}, z_{t-1}, \\dot{z}_{t-1}, \\ddot{x}_{t-1}, \\ddot{y}_{t-1}, \\ddot{z}_{t-1}')\n",
    "\n",
    "Xt_predict_compact = sp.Matrix([[pos_xt1],[vel_xt1],[pos_yt1],[vel_yt1],[pos_zt1],[vel_zt1]])\n",
    "F = sp.Matrix([[1,delt,0,0,0,0],[0,1,0,0,0,0],[0,0,1,delt,0,0],[0,0,0,1,0,0],[0,0,0,0,1,delt],[0,0,0,0,0,1]])\n",
    "Xt_previous = sp.Matrix([[pos_xt],[vel_xt],[pos_yt],[vel_yt],[pos_zt],[vel_zt]])\n",
    "G = sp.Matrix([[delt**2/2,0,0],[delt,0,0],[0,delt**2/2,0],[0,delt,0],[0,0,delt**2/2],[0,0,delt]])\n",
    "Ut_previous = sp.Matrix([[acc_xt],[acc_yt],[acc_zt]])\n",
    "\n",
    "display(Math(r'X_{{t|t-1}} = {}, F = {}, X_{{t-1|t-1}} = {}, G = {}, U_{{t-1|t-1}} = {}'.format(sp.latex(Xt_predict_compact), sp.latex(F), sp.latex(Xt_previous), sp.latex(G), sp.latex(Ut_previous))))"
   ]
  },
  {
   "cell_type": "markdown",
   "metadata": {},
   "source": [
    "Arranging the matrices in the form of the state extrapolation equation: $X_{t|t-1} = F.X_{t-1|t-1} + G.U_{t-1|t-1}$"
   ]
  },
  {
   "cell_type": "code",
   "execution_count": 4,
   "metadata": {
    "scrolled": false
   },
   "outputs": [
    {
     "data": {
      "text/latex": [
       "$\\displaystyle \\left[\\begin{matrix}x_{t|t-1}\\\\\\dot{x}_{t|t-1}\\\\y_{t|t-1}\\\\\\dot{y}_{t|t-1}\\\\z_{t|t-1}\\\\\\dot{z}_{t|t-1}\\end{matrix}\\right] = \\left[\\begin{matrix}1 & \\Delta{t} & 0 & 0 & 0 & 0\\\\0 & 1 & 0 & 0 & 0 & 0\\\\0 & 0 & 1 & \\Delta{t} & 0 & 0\\\\0 & 0 & 0 & 1 & 0 & 0\\\\0 & 0 & 0 & 0 & 1 & \\Delta{t}\\\\0 & 0 & 0 & 0 & 0 & 1\\end{matrix}\\right]\\left[\\begin{matrix}x_{t-1}\\\\\\dot{x}_{t-1}\\\\y_{t-1}\\\\\\dot{y}_{t-1}\\\\z_{t-1}\\\\\\dot{z}_{t-1}\\end{matrix}\\right] + \\left[\\begin{matrix}\\frac{\\Delta{t}^{2}}{2} & 0 & 0\\\\\\Delta{t} & 0 & 0\\\\0 & \\frac{\\Delta{t}^{2}}{2} & 0\\\\0 & \\Delta{t} & 0\\\\0 & 0 & \\frac{\\Delta{t}^{2}}{2}\\\\0 & 0 & \\Delta{t}\\end{matrix}\\right]\\left[\\begin{matrix}\\ddot{x}_{t-1}\\\\\\ddot{y}_{t-1}\\\\\\ddot{z}_{t-1}\\end{matrix}\\right]$"
      ],
      "text/plain": [
       "<IPython.core.display.Math object>"
      ]
     },
     "metadata": {},
     "output_type": "display_data"
    }
   ],
   "source": [
    "display(Math(r'{} = {}{} + {}{}'.format(sp.latex(Xt_predict_compact), sp.latex(F), sp.latex(Xt_previous), sp.latex(G), sp.latex(Ut_previous))))"
   ]
  },
  {
   "cell_type": "markdown",
   "metadata": {},
   "source": [
    "## Predicted system state $X$ (at time t-1, for time t)"
   ]
  },
  {
   "cell_type": "code",
   "execution_count": 5,
   "metadata": {
    "scrolled": false
   },
   "outputs": [
    {
     "data": {
      "text/latex": [
       "$\\displaystyle X_{t|t-1} = \\left[\\begin{matrix}x_{t|t-1}\\\\\\dot{x}_{t|t-1}\\\\y_{t|t-1}\\\\\\dot{y}_{t|t-1}\\\\z_{t|t-1}\\\\\\dot{z}_{t|t-1}\\end{matrix}\\right] = \\left[\\begin{matrix}\\frac{\\Delta{t}^{2} \\ddot{x}_{t-1}}{2} + \\Delta{t} \\dot{x}_{t-1} + x_{t-1}\\\\\\Delta{t} \\ddot{x}_{t-1} + \\dot{x}_{t-1}\\\\\\frac{\\Delta{t}^{2} \\ddot{y}_{t-1}}{2} + \\Delta{t} \\dot{y}_{t-1} + y_{t-1}\\\\\\Delta{t} \\ddot{y}_{t-1} + \\dot{y}_{t-1}\\\\\\frac{\\Delta{t}^{2} \\ddot{z}_{t-1}}{2} + \\Delta{t} \\dot{z}_{t-1} + z_{t-1}\\\\\\Delta{t} \\ddot{z}_{t-1} + \\dot{z}_{t-1}\\end{matrix}\\right]$"
      ],
      "text/plain": [
       "<IPython.core.display.Math object>"
      ]
     },
     "metadata": {},
     "output_type": "display_data"
    }
   ],
   "source": [
    "Xt_predict = F*Xt_previous+G*Ut_previous\n",
    "\n",
    "display(Math(r'X_{{t|t-1}} = {} = {}'.format(sp.latex(Xt_predict_compact), sp.latex(Xt_predict))))"
   ]
  },
  {
   "cell_type": "markdown",
   "metadata": {},
   "source": [
    "## Process noise (due to accelerometer measurements)"
   ]
  },
  {
   "cell_type": "code",
   "execution_count": 13,
   "metadata": {},
   "outputs": [
    {
     "data": {
      "text/latex": [
       "$\\displaystyle N = \\left[\\begin{matrix}q_{\\ddot{x}^2} & 0 & 0\\\\0 & q_{\\ddot{y}^2} & 0\\\\0 & 0 & q_{\\ddot{z}^2}\\end{matrix}\\right]$"
      ],
      "text/plain": [
       "<IPython.core.display.Math object>"
      ]
     },
     "metadata": {},
     "output_type": "display_data"
    },
    {
     "data": {
      "text/latex": [
       "$\\displaystyle Q = \\left[\\begin{matrix}\\frac{\\Delta{t}^{4} q_{\\ddot{x}^2}}{4} & \\frac{\\Delta{t}^{3} q_{\\ddot{x}^2}}{2} & 0 & 0 & 0 & 0\\\\\\frac{\\Delta{t}^{3} q_{\\ddot{x}^2}}{2} & \\Delta{t}^{2} q_{\\ddot{x}^2} & 0 & 0 & 0 & 0\\\\0 & 0 & \\frac{\\Delta{t}^{4} q_{\\ddot{y}^2}}{4} & \\frac{\\Delta{t}^{3} q_{\\ddot{y}^2}}{2} & 0 & 0\\\\0 & 0 & \\frac{\\Delta{t}^{3} q_{\\ddot{y}^2}}{2} & \\Delta{t}^{2} q_{\\ddot{y}^2} & 0 & 0\\\\0 & 0 & 0 & 0 & \\frac{\\Delta{t}^{4} q_{\\ddot{z}^2}}{4} & \\frac{\\Delta{t}^{3} q_{\\ddot{z}^2}}{2}\\\\0 & 0 & 0 & 0 & \\frac{\\Delta{t}^{3} q_{\\ddot{z}^2}}{2} & \\Delta{t}^{2} q_{\\ddot{z}^2}\\end{matrix}\\right]$"
      ],
      "text/plain": [
       "<IPython.core.display.Math object>"
      ]
     },
     "metadata": {},
     "output_type": "display_data"
    }
   ],
   "source": [
    "# N = Process noise matrix\n",
    "# Q = Process noise covariance matrix\n",
    "\n",
    "N_acc_x, N_acc_y, N_acc_z = sp.symbols('q_{\\ddot{x}^2}, q_{\\ddot{y}^2}, q_{\\ddot{z}^2}')\n",
    "N = sp.Matrix([[N_acc_x,0,0],[0,N_acc_y,0],[0,0,N_acc_z]])\n",
    "Q = G*N*G.T\n",
    "\n",
    "display(Math(r'N = {}'.format(sp.latex(N))))\n",
    "display(Math(r'Q = {}'.format(sp.latex(Q))))"
   ]
  },
  {
   "cell_type": "markdown",
   "metadata": {},
   "source": [
    "The process noise matrix and its variables in the AP code are as follows:"
   ]
  },
  {
   "cell_type": "code",
   "execution_count": 3,
   "metadata": {
    "scrolled": false
   },
   "outputs": [
    {
     "data": {
      "text/latex": [
       "$\\displaystyle N_{AP} = \\left[\\begin{matrix}(accNoise)^{2} & 0 & 0\\\\0 & (accNoise)^{2} & 0\\\\0 & 0 & (accNoise)^{2}\\end{matrix}\\right]$"
      ],
      "text/plain": [
       "<IPython.core.display.Math object>"
      ]
     },
     "metadata": {},
     "output_type": "display_data"
    },
    {
     "data": {
      "text/latex": [
       "$\\displaystyle accNoise = ACC\\_P\\_NSE$"
      ],
      "text/plain": [
       "<IPython.core.display.Math object>"
      ]
     },
     "metadata": {},
     "output_type": "display_data"
    }
   ],
   "source": [
    "N_acc_x_AP, N_acc_y_AP, N_acc_z_AP = sp.symbols('(accNoise)^2, (accNoise)^2, (accNoise)^2')\n",
    "\n",
    "N_AP = sp.Matrix([[N_acc_x_AP,0,0],[0,N_acc_y_AP,0],[0,0,N_acc_z_AP]])\n",
    "\n",
    "display(Math(r'N_{{AP}} = {}'.format(sp.latex(N_AP))))\n",
    "display(Math(r'accNoise = ACC\\_P\\_NSE'))"
   ]
  },
  {
   "cell_type": "markdown",
   "metadata": {},
   "source": [
    "## Process noise (due to accelerometer bias)"
   ]
  },
  {
   "cell_type": "code",
   "execution_count": 22,
   "metadata": {},
   "outputs": [
    {
     "data": {
      "text/latex": [
       "$\\displaystyle B = \\left[\\begin{matrix}0 & 0 & 0 & 0 & 0 & 0\\\\0 & b_{\\ddot{x}^2} & 0 & 0 & 0 & 0\\\\0 & 0 & 0 & 0 & 0 & 0\\\\0 & 0 & 0 & b_{\\ddot{y}^2} & 0 & 0\\\\0 & 0 & 0 & 0 & 0 & 0\\\\0 & 0 & 0 & 0 & 0 & b_{\\ddot{z}^2}\\end{matrix}\\right]$"
      ],
      "text/plain": [
       "<IPython.core.display.Math object>"
      ]
     },
     "metadata": {},
     "output_type": "display_data"
    }
   ],
   "source": [
    "# B = Accelerometer bias process noise matrix\n",
    "\n",
    "B_acc_x, B_acc_y, B_acc_z = sp.symbols('b_{\\ddot{x}^2}, b_{\\ddot{y}^2}, b_{\\ddot{z}^2}')\n",
    "B = sp.Matrix([[0,0,0,0,0,0],[0,B_acc_x,0,0,0,0],[0,0,0,0,0,0],[0,0,0,B_acc_y,0,0],[0,0,0,0,0,0],[0,0,0,0,0,B_acc_z]])\n",
    "\n",
    "display(Math(r'B = {}'.format(sp.latex(B))))"
   ]
  },
  {
   "cell_type": "markdown",
   "metadata": {},
   "source": [
    "The process noise matrix and its variables in the AP code are as follows:"
   ]
  },
  {
   "cell_type": "code",
   "execution_count": 5,
   "metadata": {
    "scrolled": true
   },
   "outputs": [
    {
     "data": {
      "text/latex": [
       "$\\displaystyle B_{AP} = \\left[\\begin{matrix}0 & 0 & 0 & 0 & 0 & 0\\\\0 & (accelBiasProcessNoise*\\Delta{t}^2)^2 & 0 & 0 & 0 & 0\\\\0 & 0 & 0 & 0 & 0 & 0\\\\0 & 0 & 0 & (accelBiasProcessNoise*\\Delta{t}^2)^2 & 0 & 0\\\\0 & 0 & 0 & 0 & 0 & 0\\\\0 & 0 & 0 & 0 & 0 & (accelBiasProcessNoise*\\Delta{t}^2)^2\\end{matrix}\\right]$"
      ],
      "text/plain": [
       "<IPython.core.display.Math object>"
      ]
     },
     "metadata": {},
     "output_type": "display_data"
    },
    {
     "data": {
      "text/latex": [
       "$\\displaystyle accelBiasProcessNoise = ABIAS\\_P\\_NSE$"
      ],
      "text/plain": [
       "<IPython.core.display.Math object>"
      ]
     },
     "metadata": {},
     "output_type": "display_data"
    }
   ],
   "source": [
    "B_acc_x_AP, B_acc_y_AP, B_acc_z_AP = sp.symbols('(accelBiasProcessNoise*\\Delta{t}^2)^2, (accelBiasProcessNoise*\\Delta{t}^2)^2, (accelBiasProcessNoise*\\Delta{t}^2)^2')\n",
    "B_AP = sp.Matrix([[0,0,0,0,0,0],[0,B_acc_x_AP,0,0,0,0],[0,0,0,0,0,0],[0,0,0,B_acc_y_AP,0,0],[0,0,0,0,0,0],[0,0,0,0,0,B_acc_z_AP]])\n",
    "\n",
    "display(Math(r'B_{{AP}} = {}'.format(sp.latex(B_AP))))\n",
    "display(Math(r'accelBiasProcessNoise = ABIAS\\_P\\_NSE'))"
   ]
  },
  {
   "cell_type": "markdown",
   "metadata": {},
   "source": [
    "## Measurement uncertainty"
   ]
  },
  {
   "cell_type": "code",
   "execution_count": 8,
   "metadata": {
    "scrolled": true
   },
   "outputs": [
    {
     "data": {
      "text/latex": [
       "$\\displaystyle R = \\left[\\begin{matrix}r_{x}^2 & 0 & 0 & 0 & 0 & 0\\\\0 & r_{\\dot{x}}^2 & 0 & 0 & 0 & 0\\\\0 & 0 & r_{y}^2 & 0 & 0 & 0\\\\0 & 0 & 0 & r_{\\dot{y}}^2 & 0 & 0\\\\0 & 0 & 0 & 0 & r_{z}^2 & 0\\\\0 & 0 & 0 & 0 & 0 & r_{\\dot{z}}^2\\end{matrix}\\right]$"
      ],
      "text/plain": [
       "<IPython.core.display.Math object>"
      ]
     },
     "metadata": {},
     "output_type": "display_data"
    }
   ],
   "source": [
    "# R = Measurement uncertainty covariance matrix\n",
    "# r = Measurement uncertainty standard deviation (sigma) of each sensor that can measure a system state variable\n",
    "\n",
    "R_pos_x, R_vel_x, R_pos_y, R_vel_y, R_pos_z, R_vel_z = sp.symbols('r_{x}^2, r_{\\dot{x}}^2, r_{y}^2, r_{\\dot{y}}^2, r_{z}^2, r_{\\dot{z}}^2')\n",
    "\n",
    "R = sp.Matrix([[R_pos_x,0,0,0,0,0],[0,R_vel_x,0,0,0,0],[0,0,R_pos_y,0,0,0],[0,0,0,R_vel_y,0,0],[0,0,0,0,R_pos_z,0],[0,0,0,0,0,R_vel_z]])\n",
    "\n",
    "display(Math(r'R = {}'.format(sp.latex(R))))"
   ]
  },
  {
   "cell_type": "markdown",
   "metadata": {},
   "source": [
    "The measurement uncertainty covariance matrix and its variables in the AP code are as follows:"
   ]
  },
  {
   "cell_type": "code",
   "execution_count": 4,
   "metadata": {},
   "outputs": [
    {
     "data": {
      "text/latex": [
       "$\\displaystyle R_{AP} = \\left[\\begin{matrix}{(gpsHorizPosAccuracy)}^2 & 0 & 0 & 0 & 0 & 0\\\\0 & {(gpsHorizVelAccuracy)}^2 & 0 & 0 & 0 & 0\\\\0 & 0 & {(gpsHorizPosAccuracy)}^2 & 0 & 0 & 0\\\\0 & 0 & 0 & {(gpsHorizVelAccuracy)}^2 & 0 & 0\\\\0 & 0 & 0 & 0 & posDownObsNoise & 0\\\\0 & 0 & 0 & 0 & 0 & {(gpsVertVelAccuracy)}^2\\end{matrix}\\right]$"
      ],
      "text/plain": [
       "<IPython.core.display.Math object>"
      ]
     },
     "metadata": {},
     "output_type": "display_data"
    }
   ],
   "source": [
    "R_pos_x_AP, R_vel_x_AP, R_pos_y_AP, R_vel_y_AP, R_pos_z_AP, R_vel_z_AP = sp.symbols('{(gpsHorizPosAccuracy)}^2, {(gpsHorizVelAccuracy)}^2, {(gpsHorizPosAccuracy)}^2, {(gpsHorizVelAccuracy)}^2, posDownObsNoise, {(gpsVertVelAccuracy)}^2')\n",
    "\n",
    "R_AP = sp.Matrix([[R_pos_x_AP,0,0,0,0,0],[0,R_vel_x_AP,0,0,0,0],[0,0,R_pos_y_AP,0,0,0],[0,0,0,R_vel_y_AP,0,0],[0,0,0,0,R_pos_z_AP,0],[0,0,0,0,0,R_vel_z_AP]])\n",
    "\n",
    "display(Math(r'R_{{AP}} = {}'.format(sp.latex(R_AP))))"
   ]
  },
  {
   "cell_type": "markdown",
   "metadata": {},
   "source": [
    "$gpsHorizPosAccuracy = POSNE\\_M\\_NSE$ <br>\n",
    "$gpsHorizVelAccuracy = VELNE\\_M\\_NSE$ <br>\n",
    "$gpsVertVelAccuracy = VELD\\_M\\_NSE$ <br>\n",
    "#### Note on $posDownObsNoise$:\n",
    "If height measurement source = GPS <br>\n",
    "&emsp; $posDownObsNoise = (gpsHgtAccuracy)^2$ <br>\n",
    "Else <br>\n",
    "If height measurement source = Rangefinder <br>\n",
    "&emsp; $posDownObsNoise = (rngNoise)^2 = (RNG\\_M\\_NSE)^2$ <br>\n",
    "Else <br>\n",
    "If height measurement source = Barometer <br>\n",
    "&emsp; $posDownObsNoise = (baroAltNoise)^2 = (ALT\\_M\\_NSE)^2$"
   ]
  },
  {
   "cell_type": "markdown",
   "metadata": {},
   "source": [
    "## Initialized estimation uncertainty covariance matrix $P$ (at time t-1, for time t-1)"
   ]
  },
  {
   "cell_type": "code",
   "execution_count": 10,
   "metadata": {
    "scrolled": true
   },
   "outputs": [
    {
     "data": {
      "text/latex": [
       "$\\displaystyle P_{t-1|t-1} = \\left[\\begin{matrix}P_{x|t-1|t-1} & 0 & 0 & 0 & 0 & 0\\\\0 & P_{\\dot{x}|t-1|t-1} & 0 & 0 & 0 & 0\\\\0 & 0 & P_{y|t-1|t-1} & 0 & 0 & 0\\\\0 & 0 & 0 & P_{\\dot{y}|t-1|t-1} & 0 & 0\\\\0 & 0 & 0 & 0 & P_{z|t-1|t-1} & 0\\\\0 & 0 & 0 & 0 & 0 & P_{\\dot{z}|t-1|t-1}\\end{matrix}\\right]$"
      ],
      "text/plain": [
       "<IPython.core.display.Math object>"
      ]
     },
     "metadata": {},
     "output_type": "display_data"
    }
   ],
   "source": [
    "# Pt_previous = Estimated estimation uncertainty covariance matrix of the system state variables at time t-1\n",
    "\n",
    "P_x, P_xdot, P_y, P_ydot, P_z, P_zdot = sp.symbols('P_x|t-1|t-1, P_{\\dot{x}|t-1|t-1}, P_y|t-1|t-1, P_{\\dot{y}|t-1|t-1}, P_z|t-1|t-1, P_{\\dot{z}|t-1|t-1}')\n",
    "\n",
    "Pt_previous = sp.Matrix([[P_x,0,0,0,0,0],[0,P_xdot,0,0,0,0],[0,0,P_y,0,0,0],[0,0,0,P_ydot,0,0,],[0,0,0,0,P_z,0],[0,0,0,0,0,P_zdot]])\n",
    "\n",
    "display(Math(r'P_{{t-1|t-1}} = {}'.format(sp.latex(Pt_previous))))"
   ]
  },
  {
   "cell_type": "markdown",
   "metadata": {},
   "source": [
    "The initialized estimation uncertainty covariance matrix and its variables in the AP code are as follows:"
   ]
  },
  {
   "cell_type": "code",
   "execution_count": 5,
   "metadata": {
    "scrolled": true
   },
   "outputs": [
    {
     "data": {
      "text/latex": [
       "$\\displaystyle P_{t-1|t-1|AP} = \\left[\\begin{matrix}{(gpsHorizPosAccuracy)}^2 & 0 & 0 & 0 & 0 & 0\\\\0 & {(gpsHorizVelAccuracy)}^2 & 0 & 0 & 0 & 0\\\\0 & 0 & {(gpsHorizPosAccuracy)}^2 & 0 & 0 & 0\\\\0 & 0 & 0 & {(gpsHorizVelAccuracy)}^2 & 0 & 0\\\\0 & 0 & 0 & 0 & posDownObsNoise & 0\\\\0 & 0 & 0 & 0 & 0 & {(gpsVertVelAccuracy)}^2\\end{matrix}\\right]$"
      ],
      "text/plain": [
       "<IPython.core.display.Math object>"
      ]
     },
     "metadata": {},
     "output_type": "display_data"
    }
   ],
   "source": [
    "P_x_AP, P_xdot_AP, P_y_AP, P_ydot_AP, P_z_AP, P_zdot_AP = sp.symbols('{(gpsHorizPosAccuracy)}^2, {(gpsHorizVelAccuracy)}^2, {(gpsHorizPosAccuracy)}^2, {(gpsHorizVelAccuracy)}^2, posDownObsNoise, {(gpsVertVelAccuracy)}^2')\n",
    "\n",
    "Pt_previous_AP = sp.Matrix([[P_x_AP,0,0,0,0,0],[0,P_xdot_AP,0,0,0,0],[0,0,P_y_AP,0,0,0],[0,0,0,P_ydot_AP,0,0,],[0,0,0,0,P_z_AP,0],[0,0,0,0,0,P_zdot_AP]])\n",
    "\n",
    "display(Math(r'P_{{t-1|t-1|AP}} = {}'.format(sp.latex(Pt_previous_AP))))"
   ]
  },
  {
   "cell_type": "markdown",
   "metadata": {},
   "source": [
    "$gpsHorizPosAccuracy = POSNE\\_M\\_NSE$ <br>\n",
    "$gpsHorizVelAccuracy = VELNE\\_M\\_NSE$ <br>\n",
    "$gpsVertVelAccuracy = VELD\\_M\\_NSE$ <br>\n",
    "#### Note on $posDownObsNoise$:\n",
    "If height measurement source = GPS <br>\n",
    "&emsp; $posDownObsNoise = (gpsHgtAccuracy)^2$ <br>\n",
    "Else <br>\n",
    "If height measurement source = Rangefinder <br>\n",
    "&emsp; $posDownObsNoise = (rngNoise)^2 = (RNG\\_M\\_NSE)^2$ <br>\n",
    "Else <br>\n",
    "If height measurement source = Barometer <br>\n",
    "&emsp; $posDownObsNoise = (baroAltNoise)^2 = (ALT\\_M\\_NSE)^2$"
   ]
  },
  {
   "cell_type": "markdown",
   "metadata": {},
   "source": [
    "## Predicted estimation uncertainty covariance matrix $P$ (at time t-1, for time t)"
   ]
  },
  {
   "cell_type": "code",
   "execution_count": 32,
   "metadata": {
    "scrolled": true
   },
   "outputs": [
    {
     "data": {
      "text/latex": [
       "$\\displaystyle P_{t|t-1} = \\left[\\begin{matrix}P_{x|t-1|t-1} + P_{\\dot{x}|t-1|t-1} \\Delta{t}^{2} + \\frac{\\Delta{t}^{4} q_{\\ddot{x}^2}}{4} & P_{\\dot{x}|t-1|t-1} \\Delta{t} + \\frac{\\Delta{t}^{3} q_{\\ddot{x}^2}}{2} & 0 & 0 & 0 & 0\\\\P_{\\dot{x}|t-1|t-1} \\Delta{t} + \\frac{\\Delta{t}^{3} q_{\\ddot{x}^2}}{2} & P_{\\dot{x}|t-1|t-1} + \\Delta{t}^{2} q_{\\ddot{x}^2} + b_{\\ddot{x}^2} & 0 & 0 & 0 & 0\\\\0 & 0 & P_{y|t-1|t-1} + P_{\\dot{y}|t-1|t-1} \\Delta{t}^{2} + \\frac{\\Delta{t}^{4} q_{\\ddot{y}^2}}{4} & P_{\\dot{y}|t-1|t-1} \\Delta{t} + \\frac{\\Delta{t}^{3} q_{\\ddot{y}^2}}{2} & 0 & 0\\\\0 & 0 & P_{\\dot{y}|t-1|t-1} \\Delta{t} + \\frac{\\Delta{t}^{3} q_{\\ddot{y}^2}}{2} & P_{\\dot{y}|t-1|t-1} + \\Delta{t}^{2} q_{\\ddot{y}^2} + b_{\\ddot{y}^2} & 0 & 0\\\\0 & 0 & 0 & 0 & P_{z|t-1|t-1} + P_{\\dot{z}|t-1|t-1} \\Delta{t}^{2} + \\frac{\\Delta{t}^{4} q_{\\ddot{z}^2}}{4} & P_{\\dot{z}|t-1|t-1} \\Delta{t} + \\frac{\\Delta{t}^{3} q_{\\ddot{z}^2}}{2}\\\\0 & 0 & 0 & 0 & P_{\\dot{z}|t-1|t-1} \\Delta{t} + \\frac{\\Delta{t}^{3} q_{\\ddot{z}^2}}{2} & P_{\\dot{z}|t-1|t-1} + \\Delta{t}^{2} q_{\\ddot{z}^2} + b_{\\ddot{z}^2}\\end{matrix}\\right]$"
      ],
      "text/plain": [
       "<IPython.core.display.Math object>"
      ]
     },
     "metadata": {},
     "output_type": "display_data"
    }
   ],
   "source": [
    "# Pt_predict = Predicted estimation uncertainty covariance matrix of the system state variables at time t\n",
    "# Note: In AP, Pt_predict is first calculated and the accelerometer bias process noise matrix is added to its diagonals in the end.\n",
    "\n",
    "Pt_predict = (F*Pt_previous*F.T + Q + B)\n",
    "\n",
    "display(Math(r'P_{{t|t-1}} = {}'.format(sp.latex(Pt_predict))))"
   ]
  },
  {
   "cell_type": "markdown",
   "metadata": {},
   "source": [
    "## Updated measurement vector (at time t, for time t)"
   ]
  },
  {
   "cell_type": "code",
   "execution_count": 15,
   "metadata": {
    "scrolled": true
   },
   "outputs": [
    {
     "data": {
      "text/latex": [
       "$\\displaystyle Z_{t|t} = \\left[\\begin{matrix}z_{x|t}\\\\z_{\\dot{x}|t}\\\\z_{y|t}\\\\z_{\\dot{y}|t}\\\\z_{z|t}\\\\z_{\\dot{z}|t}\\end{matrix}\\right], H = \\left[\\begin{matrix}1 & 0 & 0 & 0 & 0 & 0\\\\0 & 1 & 0 & 0 & 0 & 0\\\\0 & 0 & 1 & 0 & 0 & 0\\\\0 & 0 & 0 & 1 & 0 & 0\\\\0 & 0 & 0 & 0 & 1 & 0\\\\0 & 0 & 0 & 0 & 0 & 1\\end{matrix}\\right]$"
      ],
      "text/plain": [
       "<IPython.core.display.Math object>"
      ]
     },
     "metadata": {},
     "output_type": "display_data"
    }
   ],
   "source": [
    "# Zt_update = Measurement vector at time t containing the sensor measurements\n",
    "# H = Observation matrix to map the measurement vector to the system state variables\n",
    "\n",
    "pos_xt, vel_xt, pos_yt, vel_yt, pos_zt, vel_zt = sp.symbols('z_{x|t}, z_{\\dot{x}|t}, z_{y|t}, z_{\\dot{y}|t}, z_{z|t}, z_{\\dot{z}|t}')\n",
    "\n",
    "Zt_update = sp.Matrix([[pos_xt],[vel_xt],[pos_yt],[vel_yt],[pos_zt],[vel_zt]])\n",
    "H = sp.Matrix([[1,0,0,0,0,0],[0,1,0,0,0,0],[0,0,1,0,0,0],[0,0,0,1,0,0],[0,0,0,0,1,0],[0,0,0,0,0,1]])\n",
    "\n",
    "display(Math(r'Z_{{t|t}} = {}, H = {}'.format(sp.latex(Zt_update), sp.latex(H))))"
   ]
  },
  {
   "cell_type": "markdown",
   "metadata": {},
   "source": [
    "The measurement vector and its variables in the AP code are as follows:"
   ]
  },
  {
   "cell_type": "code",
   "execution_count": 16,
   "metadata": {
    "scrolled": true
   },
   "outputs": [
    {
     "data": {
      "text/latex": [
       "$\\displaystyle Z_{t|t|AP} = \\left[\\begin{matrix}posxy.x\\\\gpsDataDelayed.vel.x\\\\posxy.y\\\\gpsDataDelayed.vel.y\\\\gpsDataDelayed.hgt\\\\gpsDataDelayed.vel.z\\end{matrix}\\right]$"
      ],
      "text/plain": [
       "<IPython.core.display.Math object>"
      ]
     },
     "metadata": {},
     "output_type": "display_data"
    }
   ],
   "source": [
    "pos_xt_AP, vel_xt_AP, pos_yt_AP, vel_yt_AP, pos_zt_AP, vel_zt_AP = sp.symbols('posxy.x, gpsDataDelayed.vel.x, posxy.y, gpsDataDelayed.vel.y, gpsDataDelayed.hgt, gpsDataDelayed.vel.z')\n",
    "\n",
    "Zt_update_AP = sp.Matrix([[pos_xt_AP],[vel_xt_AP],[pos_yt_AP],[vel_yt_AP],[pos_zt_AP],[vel_zt_AP]])\n",
    "display(Math(r'Z_{{t|t|AP}} = {}'.format(sp.latex(Zt_update_AP))))"
   ]
  },
  {
   "cell_type": "markdown",
   "metadata": {},
   "source": [
    "#### Note on $z_{z|t}$:\n",
    "If height measurement source = GPS <br>\n",
    "&emsp; $z_{z|t} = gpsDataDelayed.hgt$ <br>\n",
    "Else <br>\n",
    "If height measurement source = Rangefinder <br>\n",
    "&emsp; $z_{z|t} = rangeDataDelayed.hgt$ <br>\n",
    "Else <br>\n",
    "If height measurement source = Barometer <br>\n",
    "&emsp; $z_{z|t} = baroDataDelayed.hgt$"
   ]
  },
  {
   "cell_type": "markdown",
   "metadata": {},
   "source": [
    "## Updated innovation matrix (at time t, for time t)"
   ]
  },
  {
   "cell_type": "code",
   "execution_count": 17,
   "metadata": {},
   "outputs": [
    {
     "data": {
      "text/latex": [
       "$\\displaystyle Y_{t|t} = \\left[\\begin{matrix}x_{t|t-1} - z_{x|t}\\\\\\dot{x}_{t|t-1} - z_{\\dot{x}|t}\\\\y_{t|t-1} - z_{y|t}\\\\\\dot{y}_{t|t-1} - z_{\\dot{y}|t}\\\\z_{t|t-1} - z_{z|t}\\\\\\dot{z}_{t|t-1} - z_{\\dot{z}|t}\\end{matrix}\\right]$"
      ],
      "text/plain": [
       "<IPython.core.display.Math object>"
      ]
     },
     "metadata": {},
     "output_type": "display_data"
    }
   ],
   "source": [
    "# Yt_update = Updated innovation matrix at time t\n",
    "\n",
    "Yt_update = H*Xt_predict_compact - Zt_update\n",
    "\n",
    "display(Math(r'Y_{{t|t}} = {}'.format(sp.latex(Yt_update))))"
   ]
  },
  {
   "cell_type": "markdown",
   "metadata": {},
   "source": [
    "## Updated innovation covariance matrix (at time t, for time t)"
   ]
  },
  {
   "cell_type": "code",
   "execution_count": 33,
   "metadata": {
    "scrolled": true
   },
   "outputs": [
    {
     "data": {
      "text/latex": [
       "$\\displaystyle S_{t|t} = \\left[\\begin{matrix}P_{x|t-1|t-1} + P_{\\dot{x}|t-1|t-1} \\Delta{t}^{2} + \\frac{\\Delta{t}^{4} q_{\\ddot{x}^2}}{4} + r_{x}^2 & P_{\\dot{x}|t-1|t-1} \\Delta{t} + \\frac{\\Delta{t}^{3} q_{\\ddot{x}^2}}{2} & 0 & 0 & 0 & 0\\\\P_{\\dot{x}|t-1|t-1} \\Delta{t} + \\frac{\\Delta{t}^{3} q_{\\ddot{x}^2}}{2} & P_{\\dot{x}|t-1|t-1} + \\Delta{t}^{2} q_{\\ddot{x}^2} + b_{\\ddot{x}^2} + r_{\\dot{x}}^2 & 0 & 0 & 0 & 0\\\\0 & 0 & P_{y|t-1|t-1} + P_{\\dot{y}|t-1|t-1} \\Delta{t}^{2} + \\frac{\\Delta{t}^{4} q_{\\ddot{y}^2}}{4} + r_{y}^2 & P_{\\dot{y}|t-1|t-1} \\Delta{t} + \\frac{\\Delta{t}^{3} q_{\\ddot{y}^2}}{2} & 0 & 0\\\\0 & 0 & P_{\\dot{y}|t-1|t-1} \\Delta{t} + \\frac{\\Delta{t}^{3} q_{\\ddot{y}^2}}{2} & P_{\\dot{y}|t-1|t-1} + \\Delta{t}^{2} q_{\\ddot{y}^2} + b_{\\ddot{y}^2} + r_{\\dot{y}}^2 & 0 & 0\\\\0 & 0 & 0 & 0 & P_{z|t-1|t-1} + P_{\\dot{z}|t-1|t-1} \\Delta{t}^{2} + \\frac{\\Delta{t}^{4} q_{\\ddot{z}^2}}{4} + r_{z}^2 & P_{\\dot{z}|t-1|t-1} \\Delta{t} + \\frac{\\Delta{t}^{3} q_{\\ddot{z}^2}}{2}\\\\0 & 0 & 0 & 0 & P_{\\dot{z}|t-1|t-1} \\Delta{t} + \\frac{\\Delta{t}^{3} q_{\\ddot{z}^2}}{2} & P_{\\dot{z}|t-1|t-1} + \\Delta{t}^{2} q_{\\ddot{z}^2} + b_{\\ddot{z}^2} + r_{\\dot{z}}^2\\end{matrix}\\right]$"
      ],
      "text/plain": [
       "<IPython.core.display.Math object>"
      ]
     },
     "metadata": {},
     "output_type": "display_data"
    }
   ],
   "source": [
    "# St_update = Updated innovation covariance matrix at time t\n",
    "\n",
    "St_update = H*Pt_predict*H.T + R\n",
    "\n",
    "display(Math(r'S_{{t|t}} = {}'.format(sp.latex(St_update))))"
   ]
  },
  {
   "cell_type": "markdown",
   "metadata": {},
   "source": [
    "## Innovation consistency check on horizontal (x-y) positions"
   ]
  },
  {
   "cell_type": "code",
   "execution_count": 4,
   "metadata": {
    "scrolled": true
   },
   "outputs": [
    {
     "data": {
      "text/latex": [
       "$\\displaystyle maxPosInnovXY = max(0.01*gpsPosInnovGate, 1)^2 * (S_{{t|t|11}} + S_{{t|t|33}})$"
      ],
      "text/plain": [
       "<IPython.core.display.Math object>"
      ]
     },
     "metadata": {},
     "output_type": "display_data"
    },
    {
     "data": {
      "text/latex": [
       "$\\displaystyle gpsPosInnovGate = POS\\_I\\_GATE$"
      ],
      "text/plain": [
       "<IPython.core.display.Math object>"
      ]
     },
     "metadata": {},
     "output_type": "display_data"
    },
    {
     "data": {
      "text/latex": [
       "$\\displaystyle posTestRatio = \\frac{Y_{t|t|11}^{2} + Y_{t|t|31}^{2}}{maxPosInnovXY}$"
      ],
      "text/plain": [
       "<IPython.core.display.Math object>"
      ]
     },
     "metadata": {},
     "output_type": "display_data"
    }
   ],
   "source": [
    "Yt_11, Yt_31, maxPosInnovXY = sp.symbols('Y_{t|t|11}, Y_{t|t|31}, maxPosInnovXY')\n",
    "\n",
    "display(Math(r'maxPosInnovXY = max(0.01*gpsPosInnovGate, 1)^2 * (S_{{t|t|11}} + S_{{t|t|33}})'))\n",
    "display(Math(r'gpsPosInnovGate = POS\\_I\\_GATE'))\n",
    "\n",
    "posTestRatio = ((Yt_11)**2 + (Yt_31)**2) / maxPosInnovXY\n",
    "\n",
    "display(Math(r'posTestRatio = {}'.format(sp.latex(posTestRatio))))"
   ]
  },
  {
   "cell_type": "markdown",
   "metadata": {},
   "source": [
    "#### Condition for successful fusion of horizontal (x-y) positions data:\n",
    "If (posTestRatio < 1) <br>\n",
    "&emsp; fusePosData = True; <br>\n",
    "Else <br>\n",
    "&emsp; fusePosData = False;\n",
    "\n",
    "If fusePosData = False, changes are made to the predicted estimation uncertainty matrix $P_{t|t-1}$ and the $posTestRatio$ so that fusion of the position data becomes successful in the further EKF steps."
   ]
  },
  {
   "cell_type": "markdown",
   "metadata": {},
   "source": [
    "#### EKF failsafe due to horizontal (x-y) position variance\n",
    "If $\\sqrt{posTestRatio} > FS\\_EKF\\_THRESH$ for two consecutive variances, an EKF failsafe will be triggered (1. Land; 2. AltHold; 3. Land even in stabilize)."
   ]
  },
  {
   "cell_type": "markdown",
   "metadata": {},
   "source": [
    "## Innovation consistency check on vertical (z) position"
   ]
  },
  {
   "cell_type": "code",
   "execution_count": 5,
   "metadata": {},
   "outputs": [
    {
     "data": {
      "text/latex": [
       "$\\displaystyle maxPosInnovZ = max(0.01*hgtInnovGate, 1)^2 * S_{{t|t|55}}$"
      ],
      "text/plain": [
       "<IPython.core.display.Math object>"
      ]
     },
     "metadata": {},
     "output_type": "display_data"
    },
    {
     "data": {
      "text/latex": [
       "$\\displaystyle hgtInnovGate = HGT\\_I\\_GATE$"
      ],
      "text/plain": [
       "<IPython.core.display.Math object>"
      ]
     },
     "metadata": {},
     "output_type": "display_data"
    },
    {
     "data": {
      "text/latex": [
       "$\\displaystyle hgtTestRatio = \\frac{Y_{t|t|51}^{2}}{maxPosInnovZ}$"
      ],
      "text/plain": [
       "<IPython.core.display.Math object>"
      ]
     },
     "metadata": {},
     "output_type": "display_data"
    }
   ],
   "source": [
    "Yt_51, maxPosInnovZ = sp.symbols('Y_{t|t|51}, maxPosInnovZ')\n",
    "\n",
    "display(Math(r'maxPosInnovZ = max(0.01*hgtInnovGate, 1)^2 * S_{{t|t|55}}'))\n",
    "display(Math(r'hgtInnovGate = HGT\\_I\\_GATE'))\n",
    "\n",
    "hgtTestRatio = (Yt_51)**2 / maxPosInnovZ\n",
    "\n",
    "display(Math(r'hgtTestRatio = {}'.format(sp.latex(hgtTestRatio))))"
   ]
  },
  {
   "cell_type": "markdown",
   "metadata": {},
   "source": [
    "#### Condition for successful fusion of vertical (z) position data:\n",
    "If (PV_AidingMode == AID_NONE && onGround) <br>\n",
    "&emsp; maxTestRatio = 3; <br>\n",
    "Else <br>\n",
    "&emsp; maxTestRatio = 1; <br>\n",
    "</br>\n",
    "If (hgtTestRatio < maxTestRatio) <br>\n",
    "&emsp; fuseHgtData = True; <br>\n",
    "Else <br>\n",
    "&emsp; fuseHgtData = False;\n",
    "\n",
    "If fuseHgtData = False, changes are made to the predicted estimation uncertainty matrix $P_{t|t-1}$ and the $hgtTestRatio$ so that fusion of the position data becomes successful in the further EKF steps."
   ]
  },
  {
   "cell_type": "markdown",
   "metadata": {},
   "source": [
    "#### EKF failsafe due to vertical (z) position variance\n",
    "If $\\sqrt{hgtTestRatio} > FS\\_EKF\\_THRESH$ for two consecutive variances, an EKF failsafe will be triggered (1. Land; 2. AltHold; 3. Land even in stabilize)."
   ]
  },
  {
   "cell_type": "markdown",
   "metadata": {},
   "source": [
    "## Innovation consistency check on (x-y-z) velocities"
   ]
  },
  {
   "cell_type": "code",
   "execution_count": 6,
   "metadata": {
    "scrolled": false
   },
   "outputs": [
    {
     "data": {
      "text/latex": [
       "$\\displaystyle maxVelInnovXYZ = max(0.01*gpsVelInnovGate, 1)^2 * (S_{{t|t|22}} + S_{{t|t|44}} + S_{{t|t|66}})$"
      ],
      "text/plain": [
       "<IPython.core.display.Math object>"
      ]
     },
     "metadata": {},
     "output_type": "display_data"
    },
    {
     "data": {
      "text/latex": [
       "$\\displaystyle gpsVelInnovGate = VEL\\_I\\_GATE$"
      ],
      "text/plain": [
       "<IPython.core.display.Math object>"
      ]
     },
     "metadata": {},
     "output_type": "display_data"
    },
    {
     "data": {
      "text/latex": [
       "$\\displaystyle velTestRatio = \\frac{Y_{t|t|21}^{2} + Y_{t|t|41}^{2} + Y_{t|t|61}^{2}}{maxVelInnovXYZ}$"
      ],
      "text/plain": [
       "<IPython.core.display.Math object>"
      ]
     },
     "metadata": {},
     "output_type": "display_data"
    }
   ],
   "source": [
    "Yt_21, Yt_41, Yt_61, maxVelInnovXYZ = sp.symbols('Y_{t|t|21}, Y_{t|t|41}, Y_{t|t|61}, maxVelInnovXYZ')\n",
    "\n",
    "display(Math(r'maxVelInnovXYZ = max(0.01*gpsVelInnovGate, 1)^2 * (S_{{t|t|22}} + S_{{t|t|44}} + S_{{t|t|66}})'))\n",
    "display(Math(r'gpsVelInnovGate = VEL\\_I\\_GATE'))\n",
    "\n",
    "velTestRatio = ((Yt_21)**2 + (Yt_41)**2 + (Yt_61)**2) / maxVelInnovXYZ\n",
    "\n",
    "display(Math(r'velTestRatio = {}'.format(sp.latex(velTestRatio))))"
   ]
  },
  {
   "cell_type": "markdown",
   "metadata": {},
   "source": [
    "#### Condition for successful fusion of (x-y-z) velocities data:\n",
    "If (velTestRatio < 1) <br>\n",
    "&emsp; fuseVelData = True; <br>\n",
    "Else <br>\n",
    "&emsp; fuseVelData = False;\n",
    "\n",
    "If fuseVelData = False, changes are made to the predicted estimation uncertainty matrix $P_{t|t-1}$ and the $velTestRatio$ so that fusion of the velocity data becomes successful in the further EKF steps."
   ]
  },
  {
   "cell_type": "markdown",
   "metadata": {},
   "source": [
    "#### EKF failsafe due to (x-y-z) velocities variance\n",
    "If $\\sqrt{velTestRatio} > FS\\_EKF\\_THRESH$ for two consecutive variances, an EKF failsafe will be triggered (1. Land; 2. AltHold; 3. Land even in stabilize)."
   ]
  },
  {
   "cell_type": "code",
   "execution_count": 34,
   "metadata": {
    "tags": []
   },
   "outputs": [],
   "source": [
    "Num = sp.adjoint(St_update).simplify()"
   ]
  },
  {
   "cell_type": "code",
   "execution_count": 35,
   "metadata": {},
   "outputs": [],
   "source": [
    "Den = sp.det(St_update).simplify()"
   ]
  },
  {
   "cell_type": "code",
   "execution_count": 36,
   "metadata": {},
   "outputs": [
    {
     "data": {
      "text/latex": [
       "$\\displaystyle S_{t|t}^{-1} = \\left[\\begin{matrix}\\frac{16 \\cdot \\left(4 \\overline{P_{x|t-1|t-1}} + 4 \\overline{P_{\\dot{x}|t-1|t-1}} \\overline{\\Delta{t}}^{2} + \\overline{\\Delta{t}}^{4} \\overline{q_{\\ddot{x}^2}} + 4 \\overline{r_{x}^2}\\right)}{\\left(4 P_{x|t-1|t-1} P_{\\dot{x}|t-1|t-1} + 4 P_{x|t-1|t-1} \\Delta{t}^{2} q_{\\ddot{x}^2} + 4 P_{x|t-1|t-1} b_{\\ddot{x}^2} + 4 P_{x|t-1|t-1} r_{\\dot{x}}^2 + P_{\\dot{x}|t-1|t-1} \\Delta{t}^{4} q_{\\ddot{x}^2} + 4 P_{\\dot{x}|t-1|t-1} \\Delta{t}^{2} b_{\\ddot{x}^2} + 4 P_{\\dot{x}|t-1|t-1} \\Delta{t}^{2} r_{\\dot{x}}^2 + 4 P_{\\dot{x}|t-1|t-1} r_{x}^2 + \\Delta{t}^{4} b_{\\ddot{x}^2} q_{\\ddot{x}^2} + \\Delta{t}^{4} q_{\\ddot{x}^2} r_{\\dot{x}}^2 + 4 \\Delta{t}^{2} q_{\\ddot{x}^2} r_{x}^2 + 4 b_{\\ddot{x}^2} r_{x}^2 + 4 r_{\\dot{x}}^2 r_{x}^2\\right) \\left(4 P_{y|t-1|t-1} P_{\\dot{y}|t-1|t-1} + 4 P_{y|t-1|t-1} \\Delta{t}^{2} q_{\\ddot{y}^2} + 4 P_{y|t-1|t-1} b_{\\ddot{y}^2} + 4 P_{y|t-1|t-1} r_{\\dot{y}}^2 + P_{\\dot{y}|t-1|t-1} \\Delta{t}^{4} q_{\\ddot{y}^2} + 4 P_{\\dot{y}|t-1|t-1} \\Delta{t}^{2} b_{\\ddot{y}^2} + 4 P_{\\dot{y}|t-1|t-1} \\Delta{t}^{2} r_{\\dot{y}}^2 + 4 P_{\\dot{y}|t-1|t-1} r_{y}^2 + \\Delta{t}^{4} b_{\\ddot{y}^2} q_{\\ddot{y}^2} + \\Delta{t}^{4} q_{\\ddot{y}^2} r_{\\dot{y}}^2 + 4 \\Delta{t}^{2} q_{\\ddot{y}^2} r_{y}^2 + 4 b_{\\ddot{y}^2} r_{y}^2 + 4 r_{\\dot{y}}^2 r_{y}^2\\right) \\left(4 P_{z|t-1|t-1} P_{\\dot{z}|t-1|t-1} + 4 P_{z|t-1|t-1} \\Delta{t}^{2} q_{\\ddot{z}^2} + 4 P_{z|t-1|t-1} b_{\\ddot{z}^2} + 4 P_{z|t-1|t-1} r_{\\dot{z}}^2 + P_{\\dot{z}|t-1|t-1} \\Delta{t}^{4} q_{\\ddot{z}^2} + 4 P_{\\dot{z}|t-1|t-1} \\Delta{t}^{2} b_{\\ddot{z}^2} + 4 P_{\\dot{z}|t-1|t-1} \\Delta{t}^{2} r_{\\dot{z}}^2 + 4 P_{\\dot{z}|t-1|t-1} r_{z}^2 + \\Delta{t}^{4} b_{\\ddot{z}^2} q_{\\ddot{z}^2} + \\Delta{t}^{4} q_{\\ddot{z}^2} r_{\\dot{z}}^2 + 4 \\Delta{t}^{2} q_{\\ddot{z}^2} r_{z}^2 + 4 b_{\\ddot{z}^2} r_{z}^2 + 4 r_{\\dot{z}}^2 r_{z}^2\\right)} & \\frac{32 \\cdot \\left(2 \\overline{P_{\\dot{x}|t-1|t-1}} + \\overline{\\Delta{t}}^{2} \\overline{q_{\\ddot{x}^2}}\\right) \\overline{\\Delta{t}}}{\\left(4 P_{x|t-1|t-1} P_{\\dot{x}|t-1|t-1} + 4 P_{x|t-1|t-1} \\Delta{t}^{2} q_{\\ddot{x}^2} + 4 P_{x|t-1|t-1} b_{\\ddot{x}^2} + 4 P_{x|t-1|t-1} r_{\\dot{x}}^2 + P_{\\dot{x}|t-1|t-1} \\Delta{t}^{4} q_{\\ddot{x}^2} + 4 P_{\\dot{x}|t-1|t-1} \\Delta{t}^{2} b_{\\ddot{x}^2} + 4 P_{\\dot{x}|t-1|t-1} \\Delta{t}^{2} r_{\\dot{x}}^2 + 4 P_{\\dot{x}|t-1|t-1} r_{x}^2 + \\Delta{t}^{4} b_{\\ddot{x}^2} q_{\\ddot{x}^2} + \\Delta{t}^{4} q_{\\ddot{x}^2} r_{\\dot{x}}^2 + 4 \\Delta{t}^{2} q_{\\ddot{x}^2} r_{x}^2 + 4 b_{\\ddot{x}^2} r_{x}^2 + 4 r_{\\dot{x}}^2 r_{x}^2\\right) \\left(4 P_{y|t-1|t-1} P_{\\dot{y}|t-1|t-1} + 4 P_{y|t-1|t-1} \\Delta{t}^{2} q_{\\ddot{y}^2} + 4 P_{y|t-1|t-1} b_{\\ddot{y}^2} + 4 P_{y|t-1|t-1} r_{\\dot{y}}^2 + P_{\\dot{y}|t-1|t-1} \\Delta{t}^{4} q_{\\ddot{y}^2} + 4 P_{\\dot{y}|t-1|t-1} \\Delta{t}^{2} b_{\\ddot{y}^2} + 4 P_{\\dot{y}|t-1|t-1} \\Delta{t}^{2} r_{\\dot{y}}^2 + 4 P_{\\dot{y}|t-1|t-1} r_{y}^2 + \\Delta{t}^{4} b_{\\ddot{y}^2} q_{\\ddot{y}^2} + \\Delta{t}^{4} q_{\\ddot{y}^2} r_{\\dot{y}}^2 + 4 \\Delta{t}^{2} q_{\\ddot{y}^2} r_{y}^2 + 4 b_{\\ddot{y}^2} r_{y}^2 + 4 r_{\\dot{y}}^2 r_{y}^2\\right) \\left(4 P_{z|t-1|t-1} P_{\\dot{z}|t-1|t-1} + 4 P_{z|t-1|t-1} \\Delta{t}^{2} q_{\\ddot{z}^2} + 4 P_{z|t-1|t-1} b_{\\ddot{z}^2} + 4 P_{z|t-1|t-1} r_{\\dot{z}}^2 + P_{\\dot{z}|t-1|t-1} \\Delta{t}^{4} q_{\\ddot{z}^2} + 4 P_{\\dot{z}|t-1|t-1} \\Delta{t}^{2} b_{\\ddot{z}^2} + 4 P_{\\dot{z}|t-1|t-1} \\Delta{t}^{2} r_{\\dot{z}}^2 + 4 P_{\\dot{z}|t-1|t-1} r_{z}^2 + \\Delta{t}^{4} b_{\\ddot{z}^2} q_{\\ddot{z}^2} + \\Delta{t}^{4} q_{\\ddot{z}^2} r_{\\dot{z}}^2 + 4 \\Delta{t}^{2} q_{\\ddot{z}^2} r_{z}^2 + 4 b_{\\ddot{z}^2} r_{z}^2 + 4 r_{\\dot{z}}^2 r_{z}^2\\right)} & 0 & 0 & 0 & 0\\\\\\frac{32 \\cdot \\left(2 \\overline{P_{\\dot{x}|t-1|t-1}} + \\overline{\\Delta{t}}^{2} \\overline{q_{\\ddot{x}^2}}\\right) \\overline{\\Delta{t}}}{\\left(4 P_{x|t-1|t-1} P_{\\dot{x}|t-1|t-1} + 4 P_{x|t-1|t-1} \\Delta{t}^{2} q_{\\ddot{x}^2} + 4 P_{x|t-1|t-1} b_{\\ddot{x}^2} + 4 P_{x|t-1|t-1} r_{\\dot{x}}^2 + P_{\\dot{x}|t-1|t-1} \\Delta{t}^{4} q_{\\ddot{x}^2} + 4 P_{\\dot{x}|t-1|t-1} \\Delta{t}^{2} b_{\\ddot{x}^2} + 4 P_{\\dot{x}|t-1|t-1} \\Delta{t}^{2} r_{\\dot{x}}^2 + 4 P_{\\dot{x}|t-1|t-1} r_{x}^2 + \\Delta{t}^{4} b_{\\ddot{x}^2} q_{\\ddot{x}^2} + \\Delta{t}^{4} q_{\\ddot{x}^2} r_{\\dot{x}}^2 + 4 \\Delta{t}^{2} q_{\\ddot{x}^2} r_{x}^2 + 4 b_{\\ddot{x}^2} r_{x}^2 + 4 r_{\\dot{x}}^2 r_{x}^2\\right) \\left(4 P_{y|t-1|t-1} P_{\\dot{y}|t-1|t-1} + 4 P_{y|t-1|t-1} \\Delta{t}^{2} q_{\\ddot{y}^2} + 4 P_{y|t-1|t-1} b_{\\ddot{y}^2} + 4 P_{y|t-1|t-1} r_{\\dot{y}}^2 + P_{\\dot{y}|t-1|t-1} \\Delta{t}^{4} q_{\\ddot{y}^2} + 4 P_{\\dot{y}|t-1|t-1} \\Delta{t}^{2} b_{\\ddot{y}^2} + 4 P_{\\dot{y}|t-1|t-1} \\Delta{t}^{2} r_{\\dot{y}}^2 + 4 P_{\\dot{y}|t-1|t-1} r_{y}^2 + \\Delta{t}^{4} b_{\\ddot{y}^2} q_{\\ddot{y}^2} + \\Delta{t}^{4} q_{\\ddot{y}^2} r_{\\dot{y}}^2 + 4 \\Delta{t}^{2} q_{\\ddot{y}^2} r_{y}^2 + 4 b_{\\ddot{y}^2} r_{y}^2 + 4 r_{\\dot{y}}^2 r_{y}^2\\right) \\left(4 P_{z|t-1|t-1} P_{\\dot{z}|t-1|t-1} + 4 P_{z|t-1|t-1} \\Delta{t}^{2} q_{\\ddot{z}^2} + 4 P_{z|t-1|t-1} b_{\\ddot{z}^2} + 4 P_{z|t-1|t-1} r_{\\dot{z}}^2 + P_{\\dot{z}|t-1|t-1} \\Delta{t}^{4} q_{\\ddot{z}^2} + 4 P_{\\dot{z}|t-1|t-1} \\Delta{t}^{2} b_{\\ddot{z}^2} + 4 P_{\\dot{z}|t-1|t-1} \\Delta{t}^{2} r_{\\dot{z}}^2 + 4 P_{\\dot{z}|t-1|t-1} r_{z}^2 + \\Delta{t}^{4} b_{\\ddot{z}^2} q_{\\ddot{z}^2} + \\Delta{t}^{4} q_{\\ddot{z}^2} r_{\\dot{z}}^2 + 4 \\Delta{t}^{2} q_{\\ddot{z}^2} r_{z}^2 + 4 b_{\\ddot{z}^2} r_{z}^2 + 4 r_{\\dot{z}}^2 r_{z}^2\\right)} & \\frac{64 \\left(\\overline{P_{\\dot{x}|t-1|t-1}} + \\overline{\\Delta{t}}^{2} \\overline{q_{\\ddot{x}^2}} + \\overline{b_{\\ddot{x}^2}} + \\overline{r_{\\dot{x}}^2}\\right)}{\\left(4 P_{x|t-1|t-1} P_{\\dot{x}|t-1|t-1} + 4 P_{x|t-1|t-1} \\Delta{t}^{2} q_{\\ddot{x}^2} + 4 P_{x|t-1|t-1} b_{\\ddot{x}^2} + 4 P_{x|t-1|t-1} r_{\\dot{x}}^2 + P_{\\dot{x}|t-1|t-1} \\Delta{t}^{4} q_{\\ddot{x}^2} + 4 P_{\\dot{x}|t-1|t-1} \\Delta{t}^{2} b_{\\ddot{x}^2} + 4 P_{\\dot{x}|t-1|t-1} \\Delta{t}^{2} r_{\\dot{x}}^2 + 4 P_{\\dot{x}|t-1|t-1} r_{x}^2 + \\Delta{t}^{4} b_{\\ddot{x}^2} q_{\\ddot{x}^2} + \\Delta{t}^{4} q_{\\ddot{x}^2} r_{\\dot{x}}^2 + 4 \\Delta{t}^{2} q_{\\ddot{x}^2} r_{x}^2 + 4 b_{\\ddot{x}^2} r_{x}^2 + 4 r_{\\dot{x}}^2 r_{x}^2\\right) \\left(4 P_{y|t-1|t-1} P_{\\dot{y}|t-1|t-1} + 4 P_{y|t-1|t-1} \\Delta{t}^{2} q_{\\ddot{y}^2} + 4 P_{y|t-1|t-1} b_{\\ddot{y}^2} + 4 P_{y|t-1|t-1} r_{\\dot{y}}^2 + P_{\\dot{y}|t-1|t-1} \\Delta{t}^{4} q_{\\ddot{y}^2} + 4 P_{\\dot{y}|t-1|t-1} \\Delta{t}^{2} b_{\\ddot{y}^2} + 4 P_{\\dot{y}|t-1|t-1} \\Delta{t}^{2} r_{\\dot{y}}^2 + 4 P_{\\dot{y}|t-1|t-1} r_{y}^2 + \\Delta{t}^{4} b_{\\ddot{y}^2} q_{\\ddot{y}^2} + \\Delta{t}^{4} q_{\\ddot{y}^2} r_{\\dot{y}}^2 + 4 \\Delta{t}^{2} q_{\\ddot{y}^2} r_{y}^2 + 4 b_{\\ddot{y}^2} r_{y}^2 + 4 r_{\\dot{y}}^2 r_{y}^2\\right) \\left(4 P_{z|t-1|t-1} P_{\\dot{z}|t-1|t-1} + 4 P_{z|t-1|t-1} \\Delta{t}^{2} q_{\\ddot{z}^2} + 4 P_{z|t-1|t-1} b_{\\ddot{z}^2} + 4 P_{z|t-1|t-1} r_{\\dot{z}}^2 + P_{\\dot{z}|t-1|t-1} \\Delta{t}^{4} q_{\\ddot{z}^2} + 4 P_{\\dot{z}|t-1|t-1} \\Delta{t}^{2} b_{\\ddot{z}^2} + 4 P_{\\dot{z}|t-1|t-1} \\Delta{t}^{2} r_{\\dot{z}}^2 + 4 P_{\\dot{z}|t-1|t-1} r_{z}^2 + \\Delta{t}^{4} b_{\\ddot{z}^2} q_{\\ddot{z}^2} + \\Delta{t}^{4} q_{\\ddot{z}^2} r_{\\dot{z}}^2 + 4 \\Delta{t}^{2} q_{\\ddot{z}^2} r_{z}^2 + 4 b_{\\ddot{z}^2} r_{z}^2 + 4 r_{\\dot{z}}^2 r_{z}^2\\right)} & 0 & 0 & 0 & 0\\\\0 & 0 & \\frac{16 \\cdot \\left(4 \\overline{P_{y|t-1|t-1}} + 4 \\overline{P_{\\dot{y}|t-1|t-1}} \\overline{\\Delta{t}}^{2} + \\overline{\\Delta{t}}^{4} \\overline{q_{\\ddot{y}^2}} + 4 \\overline{r_{y}^2}\\right)}{\\left(4 P_{x|t-1|t-1} P_{\\dot{x}|t-1|t-1} + 4 P_{x|t-1|t-1} \\Delta{t}^{2} q_{\\ddot{x}^2} + 4 P_{x|t-1|t-1} b_{\\ddot{x}^2} + 4 P_{x|t-1|t-1} r_{\\dot{x}}^2 + P_{\\dot{x}|t-1|t-1} \\Delta{t}^{4} q_{\\ddot{x}^2} + 4 P_{\\dot{x}|t-1|t-1} \\Delta{t}^{2} b_{\\ddot{x}^2} + 4 P_{\\dot{x}|t-1|t-1} \\Delta{t}^{2} r_{\\dot{x}}^2 + 4 P_{\\dot{x}|t-1|t-1} r_{x}^2 + \\Delta{t}^{4} b_{\\ddot{x}^2} q_{\\ddot{x}^2} + \\Delta{t}^{4} q_{\\ddot{x}^2} r_{\\dot{x}}^2 + 4 \\Delta{t}^{2} q_{\\ddot{x}^2} r_{x}^2 + 4 b_{\\ddot{x}^2} r_{x}^2 + 4 r_{\\dot{x}}^2 r_{x}^2\\right) \\left(4 P_{y|t-1|t-1} P_{\\dot{y}|t-1|t-1} + 4 P_{y|t-1|t-1} \\Delta{t}^{2} q_{\\ddot{y}^2} + 4 P_{y|t-1|t-1} b_{\\ddot{y}^2} + 4 P_{y|t-1|t-1} r_{\\dot{y}}^2 + P_{\\dot{y}|t-1|t-1} \\Delta{t}^{4} q_{\\ddot{y}^2} + 4 P_{\\dot{y}|t-1|t-1} \\Delta{t}^{2} b_{\\ddot{y}^2} + 4 P_{\\dot{y}|t-1|t-1} \\Delta{t}^{2} r_{\\dot{y}}^2 + 4 P_{\\dot{y}|t-1|t-1} r_{y}^2 + \\Delta{t}^{4} b_{\\ddot{y}^2} q_{\\ddot{y}^2} + \\Delta{t}^{4} q_{\\ddot{y}^2} r_{\\dot{y}}^2 + 4 \\Delta{t}^{2} q_{\\ddot{y}^2} r_{y}^2 + 4 b_{\\ddot{y}^2} r_{y}^2 + 4 r_{\\dot{y}}^2 r_{y}^2\\right) \\left(4 P_{z|t-1|t-1} P_{\\dot{z}|t-1|t-1} + 4 P_{z|t-1|t-1} \\Delta{t}^{2} q_{\\ddot{z}^2} + 4 P_{z|t-1|t-1} b_{\\ddot{z}^2} + 4 P_{z|t-1|t-1} r_{\\dot{z}}^2 + P_{\\dot{z}|t-1|t-1} \\Delta{t}^{4} q_{\\ddot{z}^2} + 4 P_{\\dot{z}|t-1|t-1} \\Delta{t}^{2} b_{\\ddot{z}^2} + 4 P_{\\dot{z}|t-1|t-1} \\Delta{t}^{2} r_{\\dot{z}}^2 + 4 P_{\\dot{z}|t-1|t-1} r_{z}^2 + \\Delta{t}^{4} b_{\\ddot{z}^2} q_{\\ddot{z}^2} + \\Delta{t}^{4} q_{\\ddot{z}^2} r_{\\dot{z}}^2 + 4 \\Delta{t}^{2} q_{\\ddot{z}^2} r_{z}^2 + 4 b_{\\ddot{z}^2} r_{z}^2 + 4 r_{\\dot{z}}^2 r_{z}^2\\right)} & \\frac{32 \\cdot \\left(2 \\overline{P_{\\dot{y}|t-1|t-1}} + \\overline{\\Delta{t}}^{2} \\overline{q_{\\ddot{y}^2}}\\right) \\overline{\\Delta{t}}}{\\left(4 P_{x|t-1|t-1} P_{\\dot{x}|t-1|t-1} + 4 P_{x|t-1|t-1} \\Delta{t}^{2} q_{\\ddot{x}^2} + 4 P_{x|t-1|t-1} b_{\\ddot{x}^2} + 4 P_{x|t-1|t-1} r_{\\dot{x}}^2 + P_{\\dot{x}|t-1|t-1} \\Delta{t}^{4} q_{\\ddot{x}^2} + 4 P_{\\dot{x}|t-1|t-1} \\Delta{t}^{2} b_{\\ddot{x}^2} + 4 P_{\\dot{x}|t-1|t-1} \\Delta{t}^{2} r_{\\dot{x}}^2 + 4 P_{\\dot{x}|t-1|t-1} r_{x}^2 + \\Delta{t}^{4} b_{\\ddot{x}^2} q_{\\ddot{x}^2} + \\Delta{t}^{4} q_{\\ddot{x}^2} r_{\\dot{x}}^2 + 4 \\Delta{t}^{2} q_{\\ddot{x}^2} r_{x}^2 + 4 b_{\\ddot{x}^2} r_{x}^2 + 4 r_{\\dot{x}}^2 r_{x}^2\\right) \\left(4 P_{y|t-1|t-1} P_{\\dot{y}|t-1|t-1} + 4 P_{y|t-1|t-1} \\Delta{t}^{2} q_{\\ddot{y}^2} + 4 P_{y|t-1|t-1} b_{\\ddot{y}^2} + 4 P_{y|t-1|t-1} r_{\\dot{y}}^2 + P_{\\dot{y}|t-1|t-1} \\Delta{t}^{4} q_{\\ddot{y}^2} + 4 P_{\\dot{y}|t-1|t-1} \\Delta{t}^{2} b_{\\ddot{y}^2} + 4 P_{\\dot{y}|t-1|t-1} \\Delta{t}^{2} r_{\\dot{y}}^2 + 4 P_{\\dot{y}|t-1|t-1} r_{y}^2 + \\Delta{t}^{4} b_{\\ddot{y}^2} q_{\\ddot{y}^2} + \\Delta{t}^{4} q_{\\ddot{y}^2} r_{\\dot{y}}^2 + 4 \\Delta{t}^{2} q_{\\ddot{y}^2} r_{y}^2 + 4 b_{\\ddot{y}^2} r_{y}^2 + 4 r_{\\dot{y}}^2 r_{y}^2\\right) \\left(4 P_{z|t-1|t-1} P_{\\dot{z}|t-1|t-1} + 4 P_{z|t-1|t-1} \\Delta{t}^{2} q_{\\ddot{z}^2} + 4 P_{z|t-1|t-1} b_{\\ddot{z}^2} + 4 P_{z|t-1|t-1} r_{\\dot{z}}^2 + P_{\\dot{z}|t-1|t-1} \\Delta{t}^{4} q_{\\ddot{z}^2} + 4 P_{\\dot{z}|t-1|t-1} \\Delta{t}^{2} b_{\\ddot{z}^2} + 4 P_{\\dot{z}|t-1|t-1} \\Delta{t}^{2} r_{\\dot{z}}^2 + 4 P_{\\dot{z}|t-1|t-1} r_{z}^2 + \\Delta{t}^{4} b_{\\ddot{z}^2} q_{\\ddot{z}^2} + \\Delta{t}^{4} q_{\\ddot{z}^2} r_{\\dot{z}}^2 + 4 \\Delta{t}^{2} q_{\\ddot{z}^2} r_{z}^2 + 4 b_{\\ddot{z}^2} r_{z}^2 + 4 r_{\\dot{z}}^2 r_{z}^2\\right)} & 0 & 0\\\\0 & 0 & \\frac{32 \\cdot \\left(2 \\overline{P_{\\dot{y}|t-1|t-1}} + \\overline{\\Delta{t}}^{2} \\overline{q_{\\ddot{y}^2}}\\right) \\overline{\\Delta{t}}}{\\left(4 P_{x|t-1|t-1} P_{\\dot{x}|t-1|t-1} + 4 P_{x|t-1|t-1} \\Delta{t}^{2} q_{\\ddot{x}^2} + 4 P_{x|t-1|t-1} b_{\\ddot{x}^2} + 4 P_{x|t-1|t-1} r_{\\dot{x}}^2 + P_{\\dot{x}|t-1|t-1} \\Delta{t}^{4} q_{\\ddot{x}^2} + 4 P_{\\dot{x}|t-1|t-1} \\Delta{t}^{2} b_{\\ddot{x}^2} + 4 P_{\\dot{x}|t-1|t-1} \\Delta{t}^{2} r_{\\dot{x}}^2 + 4 P_{\\dot{x}|t-1|t-1} r_{x}^2 + \\Delta{t}^{4} b_{\\ddot{x}^2} q_{\\ddot{x}^2} + \\Delta{t}^{4} q_{\\ddot{x}^2} r_{\\dot{x}}^2 + 4 \\Delta{t}^{2} q_{\\ddot{x}^2} r_{x}^2 + 4 b_{\\ddot{x}^2} r_{x}^2 + 4 r_{\\dot{x}}^2 r_{x}^2\\right) \\left(4 P_{y|t-1|t-1} P_{\\dot{y}|t-1|t-1} + 4 P_{y|t-1|t-1} \\Delta{t}^{2} q_{\\ddot{y}^2} + 4 P_{y|t-1|t-1} b_{\\ddot{y}^2} + 4 P_{y|t-1|t-1} r_{\\dot{y}}^2 + P_{\\dot{y}|t-1|t-1} \\Delta{t}^{4} q_{\\ddot{y}^2} + 4 P_{\\dot{y}|t-1|t-1} \\Delta{t}^{2} b_{\\ddot{y}^2} + 4 P_{\\dot{y}|t-1|t-1} \\Delta{t}^{2} r_{\\dot{y}}^2 + 4 P_{\\dot{y}|t-1|t-1} r_{y}^2 + \\Delta{t}^{4} b_{\\ddot{y}^2} q_{\\ddot{y}^2} + \\Delta{t}^{4} q_{\\ddot{y}^2} r_{\\dot{y}}^2 + 4 \\Delta{t}^{2} q_{\\ddot{y}^2} r_{y}^2 + 4 b_{\\ddot{y}^2} r_{y}^2 + 4 r_{\\dot{y}}^2 r_{y}^2\\right) \\left(4 P_{z|t-1|t-1} P_{\\dot{z}|t-1|t-1} + 4 P_{z|t-1|t-1} \\Delta{t}^{2} q_{\\ddot{z}^2} + 4 P_{z|t-1|t-1} b_{\\ddot{z}^2} + 4 P_{z|t-1|t-1} r_{\\dot{z}}^2 + P_{\\dot{z}|t-1|t-1} \\Delta{t}^{4} q_{\\ddot{z}^2} + 4 P_{\\dot{z}|t-1|t-1} \\Delta{t}^{2} b_{\\ddot{z}^2} + 4 P_{\\dot{z}|t-1|t-1} \\Delta{t}^{2} r_{\\dot{z}}^2 + 4 P_{\\dot{z}|t-1|t-1} r_{z}^2 + \\Delta{t}^{4} b_{\\ddot{z}^2} q_{\\ddot{z}^2} + \\Delta{t}^{4} q_{\\ddot{z}^2} r_{\\dot{z}}^2 + 4 \\Delta{t}^{2} q_{\\ddot{z}^2} r_{z}^2 + 4 b_{\\ddot{z}^2} r_{z}^2 + 4 r_{\\dot{z}}^2 r_{z}^2\\right)} & \\frac{64 \\left(\\overline{P_{\\dot{y}|t-1|t-1}} + \\overline{\\Delta{t}}^{2} \\overline{q_{\\ddot{y}^2}} + \\overline{b_{\\ddot{y}^2}} + \\overline{r_{\\dot{y}}^2}\\right)}{\\left(4 P_{x|t-1|t-1} P_{\\dot{x}|t-1|t-1} + 4 P_{x|t-1|t-1} \\Delta{t}^{2} q_{\\ddot{x}^2} + 4 P_{x|t-1|t-1} b_{\\ddot{x}^2} + 4 P_{x|t-1|t-1} r_{\\dot{x}}^2 + P_{\\dot{x}|t-1|t-1} \\Delta{t}^{4} q_{\\ddot{x}^2} + 4 P_{\\dot{x}|t-1|t-1} \\Delta{t}^{2} b_{\\ddot{x}^2} + 4 P_{\\dot{x}|t-1|t-1} \\Delta{t}^{2} r_{\\dot{x}}^2 + 4 P_{\\dot{x}|t-1|t-1} r_{x}^2 + \\Delta{t}^{4} b_{\\ddot{x}^2} q_{\\ddot{x}^2} + \\Delta{t}^{4} q_{\\ddot{x}^2} r_{\\dot{x}}^2 + 4 \\Delta{t}^{2} q_{\\ddot{x}^2} r_{x}^2 + 4 b_{\\ddot{x}^2} r_{x}^2 + 4 r_{\\dot{x}}^2 r_{x}^2\\right) \\left(4 P_{y|t-1|t-1} P_{\\dot{y}|t-1|t-1} + 4 P_{y|t-1|t-1} \\Delta{t}^{2} q_{\\ddot{y}^2} + 4 P_{y|t-1|t-1} b_{\\ddot{y}^2} + 4 P_{y|t-1|t-1} r_{\\dot{y}}^2 + P_{\\dot{y}|t-1|t-1} \\Delta{t}^{4} q_{\\ddot{y}^2} + 4 P_{\\dot{y}|t-1|t-1} \\Delta{t}^{2} b_{\\ddot{y}^2} + 4 P_{\\dot{y}|t-1|t-1} \\Delta{t}^{2} r_{\\dot{y}}^2 + 4 P_{\\dot{y}|t-1|t-1} r_{y}^2 + \\Delta{t}^{4} b_{\\ddot{y}^2} q_{\\ddot{y}^2} + \\Delta{t}^{4} q_{\\ddot{y}^2} r_{\\dot{y}}^2 + 4 \\Delta{t}^{2} q_{\\ddot{y}^2} r_{y}^2 + 4 b_{\\ddot{y}^2} r_{y}^2 + 4 r_{\\dot{y}}^2 r_{y}^2\\right) \\left(4 P_{z|t-1|t-1} P_{\\dot{z}|t-1|t-1} + 4 P_{z|t-1|t-1} \\Delta{t}^{2} q_{\\ddot{z}^2} + 4 P_{z|t-1|t-1} b_{\\ddot{z}^2} + 4 P_{z|t-1|t-1} r_{\\dot{z}}^2 + P_{\\dot{z}|t-1|t-1} \\Delta{t}^{4} q_{\\ddot{z}^2} + 4 P_{\\dot{z}|t-1|t-1} \\Delta{t}^{2} b_{\\ddot{z}^2} + 4 P_{\\dot{z}|t-1|t-1} \\Delta{t}^{2} r_{\\dot{z}}^2 + 4 P_{\\dot{z}|t-1|t-1} r_{z}^2 + \\Delta{t}^{4} b_{\\ddot{z}^2} q_{\\ddot{z}^2} + \\Delta{t}^{4} q_{\\ddot{z}^2} r_{\\dot{z}}^2 + 4 \\Delta{t}^{2} q_{\\ddot{z}^2} r_{z}^2 + 4 b_{\\ddot{z}^2} r_{z}^2 + 4 r_{\\dot{z}}^2 r_{z}^2\\right)} & 0 & 0\\\\0 & 0 & 0 & 0 & \\frac{16 \\cdot \\left(4 \\overline{P_{z|t-1|t-1}} + 4 \\overline{P_{\\dot{z}|t-1|t-1}} \\overline{\\Delta{t}}^{2} + \\overline{\\Delta{t}}^{4} \\overline{q_{\\ddot{z}^2}} + 4 \\overline{r_{z}^2}\\right)}{\\left(4 P_{x|t-1|t-1} P_{\\dot{x}|t-1|t-1} + 4 P_{x|t-1|t-1} \\Delta{t}^{2} q_{\\ddot{x}^2} + 4 P_{x|t-1|t-1} b_{\\ddot{x}^2} + 4 P_{x|t-1|t-1} r_{\\dot{x}}^2 + P_{\\dot{x}|t-1|t-1} \\Delta{t}^{4} q_{\\ddot{x}^2} + 4 P_{\\dot{x}|t-1|t-1} \\Delta{t}^{2} b_{\\ddot{x}^2} + 4 P_{\\dot{x}|t-1|t-1} \\Delta{t}^{2} r_{\\dot{x}}^2 + 4 P_{\\dot{x}|t-1|t-1} r_{x}^2 + \\Delta{t}^{4} b_{\\ddot{x}^2} q_{\\ddot{x}^2} + \\Delta{t}^{4} q_{\\ddot{x}^2} r_{\\dot{x}}^2 + 4 \\Delta{t}^{2} q_{\\ddot{x}^2} r_{x}^2 + 4 b_{\\ddot{x}^2} r_{x}^2 + 4 r_{\\dot{x}}^2 r_{x}^2\\right) \\left(4 P_{y|t-1|t-1} P_{\\dot{y}|t-1|t-1} + 4 P_{y|t-1|t-1} \\Delta{t}^{2} q_{\\ddot{y}^2} + 4 P_{y|t-1|t-1} b_{\\ddot{y}^2} + 4 P_{y|t-1|t-1} r_{\\dot{y}}^2 + P_{\\dot{y}|t-1|t-1} \\Delta{t}^{4} q_{\\ddot{y}^2} + 4 P_{\\dot{y}|t-1|t-1} \\Delta{t}^{2} b_{\\ddot{y}^2} + 4 P_{\\dot{y}|t-1|t-1} \\Delta{t}^{2} r_{\\dot{y}}^2 + 4 P_{\\dot{y}|t-1|t-1} r_{y}^2 + \\Delta{t}^{4} b_{\\ddot{y}^2} q_{\\ddot{y}^2} + \\Delta{t}^{4} q_{\\ddot{y}^2} r_{\\dot{y}}^2 + 4 \\Delta{t}^{2} q_{\\ddot{y}^2} r_{y}^2 + 4 b_{\\ddot{y}^2} r_{y}^2 + 4 r_{\\dot{y}}^2 r_{y}^2\\right) \\left(4 P_{z|t-1|t-1} P_{\\dot{z}|t-1|t-1} + 4 P_{z|t-1|t-1} \\Delta{t}^{2} q_{\\ddot{z}^2} + 4 P_{z|t-1|t-1} b_{\\ddot{z}^2} + 4 P_{z|t-1|t-1} r_{\\dot{z}}^2 + P_{\\dot{z}|t-1|t-1} \\Delta{t}^{4} q_{\\ddot{z}^2} + 4 P_{\\dot{z}|t-1|t-1} \\Delta{t}^{2} b_{\\ddot{z}^2} + 4 P_{\\dot{z}|t-1|t-1} \\Delta{t}^{2} r_{\\dot{z}}^2 + 4 P_{\\dot{z}|t-1|t-1} r_{z}^2 + \\Delta{t}^{4} b_{\\ddot{z}^2} q_{\\ddot{z}^2} + \\Delta{t}^{4} q_{\\ddot{z}^2} r_{\\dot{z}}^2 + 4 \\Delta{t}^{2} q_{\\ddot{z}^2} r_{z}^2 + 4 b_{\\ddot{z}^2} r_{z}^2 + 4 r_{\\dot{z}}^2 r_{z}^2\\right)} & \\frac{32 \\cdot \\left(2 \\overline{P_{\\dot{z}|t-1|t-1}} + \\overline{\\Delta{t}}^{2} \\overline{q_{\\ddot{z}^2}}\\right) \\overline{\\Delta{t}}}{\\left(4 P_{x|t-1|t-1} P_{\\dot{x}|t-1|t-1} + 4 P_{x|t-1|t-1} \\Delta{t}^{2} q_{\\ddot{x}^2} + 4 P_{x|t-1|t-1} b_{\\ddot{x}^2} + 4 P_{x|t-1|t-1} r_{\\dot{x}}^2 + P_{\\dot{x}|t-1|t-1} \\Delta{t}^{4} q_{\\ddot{x}^2} + 4 P_{\\dot{x}|t-1|t-1} \\Delta{t}^{2} b_{\\ddot{x}^2} + 4 P_{\\dot{x}|t-1|t-1} \\Delta{t}^{2} r_{\\dot{x}}^2 + 4 P_{\\dot{x}|t-1|t-1} r_{x}^2 + \\Delta{t}^{4} b_{\\ddot{x}^2} q_{\\ddot{x}^2} + \\Delta{t}^{4} q_{\\ddot{x}^2} r_{\\dot{x}}^2 + 4 \\Delta{t}^{2} q_{\\ddot{x}^2} r_{x}^2 + 4 b_{\\ddot{x}^2} r_{x}^2 + 4 r_{\\dot{x}}^2 r_{x}^2\\right) \\left(4 P_{y|t-1|t-1} P_{\\dot{y}|t-1|t-1} + 4 P_{y|t-1|t-1} \\Delta{t}^{2} q_{\\ddot{y}^2} + 4 P_{y|t-1|t-1} b_{\\ddot{y}^2} + 4 P_{y|t-1|t-1} r_{\\dot{y}}^2 + P_{\\dot{y}|t-1|t-1} \\Delta{t}^{4} q_{\\ddot{y}^2} + 4 P_{\\dot{y}|t-1|t-1} \\Delta{t}^{2} b_{\\ddot{y}^2} + 4 P_{\\dot{y}|t-1|t-1} \\Delta{t}^{2} r_{\\dot{y}}^2 + 4 P_{\\dot{y}|t-1|t-1} r_{y}^2 + \\Delta{t}^{4} b_{\\ddot{y}^2} q_{\\ddot{y}^2} + \\Delta{t}^{4} q_{\\ddot{y}^2} r_{\\dot{y}}^2 + 4 \\Delta{t}^{2} q_{\\ddot{y}^2} r_{y}^2 + 4 b_{\\ddot{y}^2} r_{y}^2 + 4 r_{\\dot{y}}^2 r_{y}^2\\right) \\left(4 P_{z|t-1|t-1} P_{\\dot{z}|t-1|t-1} + 4 P_{z|t-1|t-1} \\Delta{t}^{2} q_{\\ddot{z}^2} + 4 P_{z|t-1|t-1} b_{\\ddot{z}^2} + 4 P_{z|t-1|t-1} r_{\\dot{z}}^2 + P_{\\dot{z}|t-1|t-1} \\Delta{t}^{4} q_{\\ddot{z}^2} + 4 P_{\\dot{z}|t-1|t-1} \\Delta{t}^{2} b_{\\ddot{z}^2} + 4 P_{\\dot{z}|t-1|t-1} \\Delta{t}^{2} r_{\\dot{z}}^2 + 4 P_{\\dot{z}|t-1|t-1} r_{z}^2 + \\Delta{t}^{4} b_{\\ddot{z}^2} q_{\\ddot{z}^2} + \\Delta{t}^{4} q_{\\ddot{z}^2} r_{\\dot{z}}^2 + 4 \\Delta{t}^{2} q_{\\ddot{z}^2} r_{z}^2 + 4 b_{\\ddot{z}^2} r_{z}^2 + 4 r_{\\dot{z}}^2 r_{z}^2\\right)}\\\\0 & 0 & 0 & 0 & \\frac{32 \\cdot \\left(2 \\overline{P_{\\dot{z}|t-1|t-1}} + \\overline{\\Delta{t}}^{2} \\overline{q_{\\ddot{z}^2}}\\right) \\overline{\\Delta{t}}}{\\left(4 P_{x|t-1|t-1} P_{\\dot{x}|t-1|t-1} + 4 P_{x|t-1|t-1} \\Delta{t}^{2} q_{\\ddot{x}^2} + 4 P_{x|t-1|t-1} b_{\\ddot{x}^2} + 4 P_{x|t-1|t-1} r_{\\dot{x}}^2 + P_{\\dot{x}|t-1|t-1} \\Delta{t}^{4} q_{\\ddot{x}^2} + 4 P_{\\dot{x}|t-1|t-1} \\Delta{t}^{2} b_{\\ddot{x}^2} + 4 P_{\\dot{x}|t-1|t-1} \\Delta{t}^{2} r_{\\dot{x}}^2 + 4 P_{\\dot{x}|t-1|t-1} r_{x}^2 + \\Delta{t}^{4} b_{\\ddot{x}^2} q_{\\ddot{x}^2} + \\Delta{t}^{4} q_{\\ddot{x}^2} r_{\\dot{x}}^2 + 4 \\Delta{t}^{2} q_{\\ddot{x}^2} r_{x}^2 + 4 b_{\\ddot{x}^2} r_{x}^2 + 4 r_{\\dot{x}}^2 r_{x}^2\\right) \\left(4 P_{y|t-1|t-1} P_{\\dot{y}|t-1|t-1} + 4 P_{y|t-1|t-1} \\Delta{t}^{2} q_{\\ddot{y}^2} + 4 P_{y|t-1|t-1} b_{\\ddot{y}^2} + 4 P_{y|t-1|t-1} r_{\\dot{y}}^2 + P_{\\dot{y}|t-1|t-1} \\Delta{t}^{4} q_{\\ddot{y}^2} + 4 P_{\\dot{y}|t-1|t-1} \\Delta{t}^{2} b_{\\ddot{y}^2} + 4 P_{\\dot{y}|t-1|t-1} \\Delta{t}^{2} r_{\\dot{y}}^2 + 4 P_{\\dot{y}|t-1|t-1} r_{y}^2 + \\Delta{t}^{4} b_{\\ddot{y}^2} q_{\\ddot{y}^2} + \\Delta{t}^{4} q_{\\ddot{y}^2} r_{\\dot{y}}^2 + 4 \\Delta{t}^{2} q_{\\ddot{y}^2} r_{y}^2 + 4 b_{\\ddot{y}^2} r_{y}^2 + 4 r_{\\dot{y}}^2 r_{y}^2\\right) \\left(4 P_{z|t-1|t-1} P_{\\dot{z}|t-1|t-1} + 4 P_{z|t-1|t-1} \\Delta{t}^{2} q_{\\ddot{z}^2} + 4 P_{z|t-1|t-1} b_{\\ddot{z}^2} + 4 P_{z|t-1|t-1} r_{\\dot{z}}^2 + P_{\\dot{z}|t-1|t-1} \\Delta{t}^{4} q_{\\ddot{z}^2} + 4 P_{\\dot{z}|t-1|t-1} \\Delta{t}^{2} b_{\\ddot{z}^2} + 4 P_{\\dot{z}|t-1|t-1} \\Delta{t}^{2} r_{\\dot{z}}^2 + 4 P_{\\dot{z}|t-1|t-1} r_{z}^2 + \\Delta{t}^{4} b_{\\ddot{z}^2} q_{\\ddot{z}^2} + \\Delta{t}^{4} q_{\\ddot{z}^2} r_{\\dot{z}}^2 + 4 \\Delta{t}^{2} q_{\\ddot{z}^2} r_{z}^2 + 4 b_{\\ddot{z}^2} r_{z}^2 + 4 r_{\\dot{z}}^2 r_{z}^2\\right)} & \\frac{64 \\left(\\overline{P_{\\dot{z}|t-1|t-1}} + \\overline{\\Delta{t}}^{2} \\overline{q_{\\ddot{z}^2}} + \\overline{b_{\\ddot{z}^2}} + \\overline{r_{\\dot{z}}^2}\\right)}{\\left(4 P_{x|t-1|t-1} P_{\\dot{x}|t-1|t-1} + 4 P_{x|t-1|t-1} \\Delta{t}^{2} q_{\\ddot{x}^2} + 4 P_{x|t-1|t-1} b_{\\ddot{x}^2} + 4 P_{x|t-1|t-1} r_{\\dot{x}}^2 + P_{\\dot{x}|t-1|t-1} \\Delta{t}^{4} q_{\\ddot{x}^2} + 4 P_{\\dot{x}|t-1|t-1} \\Delta{t}^{2} b_{\\ddot{x}^2} + 4 P_{\\dot{x}|t-1|t-1} \\Delta{t}^{2} r_{\\dot{x}}^2 + 4 P_{\\dot{x}|t-1|t-1} r_{x}^2 + \\Delta{t}^{4} b_{\\ddot{x}^2} q_{\\ddot{x}^2} + \\Delta{t}^{4} q_{\\ddot{x}^2} r_{\\dot{x}}^2 + 4 \\Delta{t}^{2} q_{\\ddot{x}^2} r_{x}^2 + 4 b_{\\ddot{x}^2} r_{x}^2 + 4 r_{\\dot{x}}^2 r_{x}^2\\right) \\left(4 P_{y|t-1|t-1} P_{\\dot{y}|t-1|t-1} + 4 P_{y|t-1|t-1} \\Delta{t}^{2} q_{\\ddot{y}^2} + 4 P_{y|t-1|t-1} b_{\\ddot{y}^2} + 4 P_{y|t-1|t-1} r_{\\dot{y}}^2 + P_{\\dot{y}|t-1|t-1} \\Delta{t}^{4} q_{\\ddot{y}^2} + 4 P_{\\dot{y}|t-1|t-1} \\Delta{t}^{2} b_{\\ddot{y}^2} + 4 P_{\\dot{y}|t-1|t-1} \\Delta{t}^{2} r_{\\dot{y}}^2 + 4 P_{\\dot{y}|t-1|t-1} r_{y}^2 + \\Delta{t}^{4} b_{\\ddot{y}^2} q_{\\ddot{y}^2} + \\Delta{t}^{4} q_{\\ddot{y}^2} r_{\\dot{y}}^2 + 4 \\Delta{t}^{2} q_{\\ddot{y}^2} r_{y}^2 + 4 b_{\\ddot{y}^2} r_{y}^2 + 4 r_{\\dot{y}}^2 r_{y}^2\\right) \\left(4 P_{z|t-1|t-1} P_{\\dot{z}|t-1|t-1} + 4 P_{z|t-1|t-1} \\Delta{t}^{2} q_{\\ddot{z}^2} + 4 P_{z|t-1|t-1} b_{\\ddot{z}^2} + 4 P_{z|t-1|t-1} r_{\\dot{z}}^2 + P_{\\dot{z}|t-1|t-1} \\Delta{t}^{4} q_{\\ddot{z}^2} + 4 P_{\\dot{z}|t-1|t-1} \\Delta{t}^{2} b_{\\ddot{z}^2} + 4 P_{\\dot{z}|t-1|t-1} \\Delta{t}^{2} r_{\\dot{z}}^2 + 4 P_{\\dot{z}|t-1|t-1} r_{z}^2 + \\Delta{t}^{4} b_{\\ddot{z}^2} q_{\\ddot{z}^2} + \\Delta{t}^{4} q_{\\ddot{z}^2} r_{\\dot{z}}^2 + 4 \\Delta{t}^{2} q_{\\ddot{z}^2} r_{z}^2 + 4 b_{\\ddot{z}^2} r_{z}^2 + 4 r_{\\dot{z}}^2 r_{z}^2\\right)}\\end{matrix}\\right]$"
      ],
      "text/plain": [
       "<IPython.core.display.Math object>"
      ]
     },
     "metadata": {},
     "output_type": "display_data"
    }
   ],
   "source": [
    "St_inv = (Num/Den).simplify()\n",
    "\n",
    "display(Math(r'S_{{t|t}}^{{-1}} = {}'.format(sp.latex(St_inv))))"
   ]
  },
  {
   "cell_type": "markdown",
   "metadata": {},
   "source": [
    "## Updated Kalman gain $K$ (at time t, for time t)"
   ]
  },
  {
   "cell_type": "code",
   "execution_count": 24,
   "metadata": {
    "collapsed": true,
    "tags": []
   },
   "outputs": [
    {
     "ename": "KeyboardInterrupt",
     "evalue": "",
     "output_type": "error",
     "traceback": [
      "\u001b[1;31m---------------------------------------------------------------------------\u001b[0m",
      "\u001b[1;31mKeyboardInterrupt\u001b[0m                         Traceback (most recent call last)",
      "Cell \u001b[1;32mIn[24], line 1\u001b[0m\n\u001b[1;32m----> 1\u001b[0m Kt_update \u001b[38;5;241m=\u001b[39m \u001b[43m(\u001b[49m\u001b[43mPt_predict\u001b[49m\u001b[38;5;241;43m*\u001b[39;49m\u001b[43mH\u001b[49m\u001b[38;5;241;43m.\u001b[39;49m\u001b[43mT\u001b[49m\u001b[38;5;241;43m*\u001b[39;49m\u001b[43mSt_inv\u001b[49m\u001b[43m)\u001b[49m\u001b[38;5;241;43m.\u001b[39;49m\u001b[43msimplify\u001b[49m\u001b[43m(\u001b[49m\u001b[43m)\u001b[49m\n\u001b[0;32m      2\u001b[0m display(Math(\u001b[38;5;124mr\u001b[39m\u001b[38;5;124m'\u001b[39m\u001b[38;5;124mK_\u001b[39m\u001b[38;5;124m{{\u001b[39m\u001b[38;5;124mt|t}} = \u001b[39m\u001b[38;5;132;01m{}\u001b[39;00m\u001b[38;5;124m'\u001b[39m\u001b[38;5;241m.\u001b[39mformat(sp\u001b[38;5;241m.\u001b[39mlatex(Kt_update))))\n",
      "File \u001b[1;32m~\\anaconda3\\lib\\site-packages\\sympy\\matrices\\common.py:2405\u001b[0m, in \u001b[0;36mMatrixOperations.simplify\u001b[1;34m(self, **kwargs)\u001b[0m\n\u001b[0;32m   2392\u001b[0m \u001b[38;5;28;01mdef\u001b[39;00m \u001b[38;5;21msimplify\u001b[39m(\u001b[38;5;28mself\u001b[39m, \u001b[38;5;241m*\u001b[39m\u001b[38;5;241m*\u001b[39mkwargs):\n\u001b[0;32m   2393\u001b[0m     \u001b[38;5;124;03m\"\"\"Apply simplify to each element of the matrix.\u001b[39;00m\n\u001b[0;32m   2394\u001b[0m \n\u001b[0;32m   2395\u001b[0m \u001b[38;5;124;03m    Examples\u001b[39;00m\n\u001b[1;32m   (...)\u001b[0m\n\u001b[0;32m   2403\u001b[0m \u001b[38;5;124;03m    Matrix([[x]])\u001b[39;00m\n\u001b[0;32m   2404\u001b[0m \u001b[38;5;124;03m    \"\"\"\u001b[39;00m\n\u001b[1;32m-> 2405\u001b[0m     \u001b[38;5;28;01mreturn\u001b[39;00m \u001b[38;5;28;43mself\u001b[39;49m\u001b[38;5;241;43m.\u001b[39;49m\u001b[43mapplyfunc\u001b[49m\u001b[43m(\u001b[49m\u001b[38;5;28;43;01mlambda\u001b[39;49;00m\u001b[43m \u001b[49m\u001b[43mx\u001b[49m\u001b[43m:\u001b[49m\u001b[43m \u001b[49m\u001b[43mx\u001b[49m\u001b[38;5;241;43m.\u001b[39;49m\u001b[43msimplify\u001b[49m\u001b[43m(\u001b[49m\u001b[38;5;241;43m*\u001b[39;49m\u001b[38;5;241;43m*\u001b[39;49m\u001b[43mkwargs\u001b[49m\u001b[43m)\u001b[49m\u001b[43m)\u001b[49m\n",
      "File \u001b[1;32m~\\anaconda3\\lib\\site-packages\\sympy\\matrices\\common.py:2058\u001b[0m, in \u001b[0;36mMatrixOperations.applyfunc\u001b[1;34m(self, f)\u001b[0m\n\u001b[0;32m   2055\u001b[0m \u001b[38;5;28;01mif\u001b[39;00m \u001b[38;5;129;01mnot\u001b[39;00m callable(f):\n\u001b[0;32m   2056\u001b[0m     \u001b[38;5;28;01mraise\u001b[39;00m \u001b[38;5;167;01mTypeError\u001b[39;00m(\u001b[38;5;124m\"\u001b[39m\u001b[38;5;124m`f` must be callable.\u001b[39m\u001b[38;5;124m\"\u001b[39m)\n\u001b[1;32m-> 2058\u001b[0m \u001b[38;5;28;01mreturn\u001b[39;00m \u001b[38;5;28;43mself\u001b[39;49m\u001b[38;5;241;43m.\u001b[39;49m\u001b[43m_eval_applyfunc\u001b[49m\u001b[43m(\u001b[49m\u001b[43mf\u001b[49m\u001b[43m)\u001b[49m\n",
      "File \u001b[1;32m~\\anaconda3\\lib\\site-packages\\sympy\\matrices\\common.py:2000\u001b[0m, in \u001b[0;36mMatrixOperations._eval_applyfunc\u001b[1;34m(self, f)\u001b[0m\n\u001b[0;32m   1999\u001b[0m \u001b[38;5;28;01mdef\u001b[39;00m \u001b[38;5;21m_eval_applyfunc\u001b[39m(\u001b[38;5;28mself\u001b[39m, f):\n\u001b[1;32m-> 2000\u001b[0m     out \u001b[38;5;241m=\u001b[39m \u001b[38;5;28mself\u001b[39m\u001b[38;5;241m.\u001b[39m_new(\u001b[38;5;28mself\u001b[39m\u001b[38;5;241m.\u001b[39mrows, \u001b[38;5;28mself\u001b[39m\u001b[38;5;241m.\u001b[39mcols, [f(x) \u001b[38;5;28;01mfor\u001b[39;00m x \u001b[38;5;129;01min\u001b[39;00m \u001b[38;5;28mself\u001b[39m])\n\u001b[0;32m   2001\u001b[0m     \u001b[38;5;28;01mreturn\u001b[39;00m out\n",
      "File \u001b[1;32m~\\anaconda3\\lib\\site-packages\\sympy\\matrices\\common.py:2000\u001b[0m, in \u001b[0;36m<listcomp>\u001b[1;34m(.0)\u001b[0m\n\u001b[0;32m   1999\u001b[0m \u001b[38;5;28;01mdef\u001b[39;00m \u001b[38;5;21m_eval_applyfunc\u001b[39m(\u001b[38;5;28mself\u001b[39m, f):\n\u001b[1;32m-> 2000\u001b[0m     out \u001b[38;5;241m=\u001b[39m \u001b[38;5;28mself\u001b[39m\u001b[38;5;241m.\u001b[39m_new(\u001b[38;5;28mself\u001b[39m\u001b[38;5;241m.\u001b[39mrows, \u001b[38;5;28mself\u001b[39m\u001b[38;5;241m.\u001b[39mcols, [\u001b[43mf\u001b[49m\u001b[43m(\u001b[49m\u001b[43mx\u001b[49m\u001b[43m)\u001b[49m \u001b[38;5;28;01mfor\u001b[39;00m x \u001b[38;5;129;01min\u001b[39;00m \u001b[38;5;28mself\u001b[39m])\n\u001b[0;32m   2001\u001b[0m     \u001b[38;5;28;01mreturn\u001b[39;00m out\n",
      "File \u001b[1;32m~\\anaconda3\\lib\\site-packages\\sympy\\matrices\\common.py:2405\u001b[0m, in \u001b[0;36mMatrixOperations.simplify.<locals>.<lambda>\u001b[1;34m(x)\u001b[0m\n\u001b[0;32m   2392\u001b[0m \u001b[38;5;28;01mdef\u001b[39;00m \u001b[38;5;21msimplify\u001b[39m(\u001b[38;5;28mself\u001b[39m, \u001b[38;5;241m*\u001b[39m\u001b[38;5;241m*\u001b[39mkwargs):\n\u001b[0;32m   2393\u001b[0m     \u001b[38;5;124;03m\"\"\"Apply simplify to each element of the matrix.\u001b[39;00m\n\u001b[0;32m   2394\u001b[0m \n\u001b[0;32m   2395\u001b[0m \u001b[38;5;124;03m    Examples\u001b[39;00m\n\u001b[1;32m   (...)\u001b[0m\n\u001b[0;32m   2403\u001b[0m \u001b[38;5;124;03m    Matrix([[x]])\u001b[39;00m\n\u001b[0;32m   2404\u001b[0m \u001b[38;5;124;03m    \"\"\"\u001b[39;00m\n\u001b[1;32m-> 2405\u001b[0m     \u001b[38;5;28;01mreturn\u001b[39;00m \u001b[38;5;28mself\u001b[39m\u001b[38;5;241m.\u001b[39mapplyfunc(\u001b[38;5;28;01mlambda\u001b[39;00m x: x\u001b[38;5;241m.\u001b[39msimplify(\u001b[38;5;241m*\u001b[39m\u001b[38;5;241m*\u001b[39mkwargs))\n",
      "File \u001b[1;32m~\\anaconda3\\lib\\site-packages\\sympy\\core\\basic.py:1767\u001b[0m, in \u001b[0;36mBasic.simplify\u001b[1;34m(self, **kwargs)\u001b[0m\n\u001b[0;32m   1765\u001b[0m \u001b[38;5;124;03m\"\"\"See the simplify function in sympy.simplify\"\"\"\u001b[39;00m\n\u001b[0;32m   1766\u001b[0m \u001b[38;5;28;01mfrom\u001b[39;00m \u001b[38;5;21;01msympy\u001b[39;00m\u001b[38;5;21;01m.\u001b[39;00m\u001b[38;5;21;01msimplify\u001b[39;00m\u001b[38;5;21;01m.\u001b[39;00m\u001b[38;5;21;01msimplify\u001b[39;00m \u001b[38;5;28;01mimport\u001b[39;00m simplify\n\u001b[1;32m-> 1767\u001b[0m \u001b[38;5;28;01mreturn\u001b[39;00m simplify(\u001b[38;5;28mself\u001b[39m, \u001b[38;5;241m*\u001b[39m\u001b[38;5;241m*\u001b[39mkwargs)\n",
      "File \u001b[1;32m~\\anaconda3\\lib\\site-packages\\sympy\\simplify\\simplify.py:645\u001b[0m, in \u001b[0;36msimplify\u001b[1;34m(expr, ratio, measure, rational, inverse, doit, **kwargs)\u001b[0m\n\u001b[0;32m    643\u001b[0m expr \u001b[38;5;241m=\u001b[39m Mul(\u001b[38;5;241m*\u001b[39mpowsimp(expr)\u001b[38;5;241m.\u001b[39mas_content_primitive())\n\u001b[0;32m    644\u001b[0m _e \u001b[38;5;241m=\u001b[39m cancel(expr)\n\u001b[1;32m--> 645\u001b[0m expr1 \u001b[38;5;241m=\u001b[39m shorter(_e, \u001b[43m_mexpand\u001b[49m\u001b[43m(\u001b[49m\u001b[43m_e\u001b[49m\u001b[43m)\u001b[49m\u001b[38;5;241;43m.\u001b[39;49m\u001b[43mcancel\u001b[49m\u001b[43m(\u001b[49m\u001b[43m)\u001b[49m)  \u001b[38;5;66;03m# issue 6829\u001b[39;00m\n\u001b[0;32m    646\u001b[0m expr2 \u001b[38;5;241m=\u001b[39m shorter(together(expr, deep\u001b[38;5;241m=\u001b[39m\u001b[38;5;28;01mTrue\u001b[39;00m), together(expr1, deep\u001b[38;5;241m=\u001b[39m\u001b[38;5;28;01mTrue\u001b[39;00m))\n\u001b[0;32m    648\u001b[0m \u001b[38;5;28;01mif\u001b[39;00m ratio \u001b[38;5;129;01mis\u001b[39;00m S\u001b[38;5;241m.\u001b[39mInfinity:\n",
      "File \u001b[1;32m~\\anaconda3\\lib\\site-packages\\sympy\\core\\expr.py:3760\u001b[0m, in \u001b[0;36mExpr.cancel\u001b[1;34m(self, *gens, **args)\u001b[0m\n\u001b[0;32m   3758\u001b[0m \u001b[38;5;124;03m\"\"\"See the cancel function in sympy.polys\"\"\"\u001b[39;00m\n\u001b[0;32m   3759\u001b[0m \u001b[38;5;28;01mfrom\u001b[39;00m \u001b[38;5;21;01msympy\u001b[39;00m\u001b[38;5;21;01m.\u001b[39;00m\u001b[38;5;21;01mpolys\u001b[39;00m\u001b[38;5;21;01m.\u001b[39;00m\u001b[38;5;21;01mpolytools\u001b[39;00m \u001b[38;5;28;01mimport\u001b[39;00m cancel\n\u001b[1;32m-> 3760\u001b[0m \u001b[38;5;28;01mreturn\u001b[39;00m cancel(\u001b[38;5;28mself\u001b[39m, \u001b[38;5;241m*\u001b[39mgens, \u001b[38;5;241m*\u001b[39m\u001b[38;5;241m*\u001b[39margs)\n",
      "File \u001b[1;32m~\\anaconda3\\lib\\site-packages\\sympy\\polys\\polytools.py:6739\u001b[0m, in \u001b[0;36mcancel\u001b[1;34m(f, _signsimp, *gens, **args)\u001b[0m\n\u001b[0;32m   6737\u001b[0m f \u001b[38;5;241m=\u001b[39m sympify(f)\n\u001b[0;32m   6738\u001b[0m \u001b[38;5;28;01mif\u001b[39;00m _signsimp:\n\u001b[1;32m-> 6739\u001b[0m     f \u001b[38;5;241m=\u001b[39m \u001b[43msignsimp\u001b[49m\u001b[43m(\u001b[49m\u001b[43mf\u001b[49m\u001b[43m)\u001b[49m\n\u001b[0;32m   6740\u001b[0m opt \u001b[38;5;241m=\u001b[39m {}\n\u001b[0;32m   6741\u001b[0m \u001b[38;5;28;01mif\u001b[39;00m \u001b[38;5;124m'\u001b[39m\u001b[38;5;124mpolys\u001b[39m\u001b[38;5;124m'\u001b[39m \u001b[38;5;129;01min\u001b[39;00m args:\n",
      "File \u001b[1;32m~\\anaconda3\\lib\\site-packages\\sympy\\simplify\\simplify.py:406\u001b[0m, in \u001b[0;36msignsimp\u001b[1;34m(expr, evaluate)\u001b[0m\n\u001b[0;32m    404\u001b[0m \u001b[38;5;66;03m# get rid of an pre-existing unevaluation regarding sign\u001b[39;00m\n\u001b[0;32m    405\u001b[0m e \u001b[38;5;241m=\u001b[39m expr\u001b[38;5;241m.\u001b[39mreplace(\u001b[38;5;28;01mlambda\u001b[39;00m x: x\u001b[38;5;241m.\u001b[39mis_Mul \u001b[38;5;129;01mand\u001b[39;00m \u001b[38;5;241m-\u001b[39m(\u001b[38;5;241m-\u001b[39mx) \u001b[38;5;241m!=\u001b[39m x, \u001b[38;5;28;01mlambda\u001b[39;00m x: \u001b[38;5;241m-\u001b[39m(\u001b[38;5;241m-\u001b[39mx))\n\u001b[1;32m--> 406\u001b[0m e \u001b[38;5;241m=\u001b[39m sub_post(\u001b[43msub_pre\u001b[49m\u001b[43m(\u001b[49m\u001b[43me\u001b[49m\u001b[43m)\u001b[49m)\n\u001b[0;32m    407\u001b[0m \u001b[38;5;28;01mif\u001b[39;00m \u001b[38;5;129;01mnot\u001b[39;00m \u001b[38;5;28misinstance\u001b[39m(e, (Expr, Relational)) \u001b[38;5;129;01mor\u001b[39;00m e\u001b[38;5;241m.\u001b[39mis_Atom:\n\u001b[0;32m    408\u001b[0m     \u001b[38;5;28;01mreturn\u001b[39;00m e\n",
      "File \u001b[1;32m~\\anaconda3\\lib\\site-packages\\sympy\\simplify\\cse_opts.py:14\u001b[0m, in \u001b[0;36msub_pre\u001b[1;34m(e)\u001b[0m\n\u001b[0;32m     11\u001b[0m \u001b[38;5;124;03m\"\"\" Replace y - x with -(x - y) if -1 can be extracted from y - x.\u001b[39;00m\n\u001b[0;32m     12\u001b[0m \u001b[38;5;124;03m\"\"\"\u001b[39;00m\n\u001b[0;32m     13\u001b[0m \u001b[38;5;66;03m# replacing Add, A, from which -1 can be extracted with -1*-A\u001b[39;00m\n\u001b[1;32m---> 14\u001b[0m adds \u001b[38;5;241m=\u001b[39m [a \u001b[38;5;28;01mfor\u001b[39;00m a \u001b[38;5;129;01min\u001b[39;00m \u001b[43me\u001b[49m\u001b[38;5;241;43m.\u001b[39;49m\u001b[43matoms\u001b[49m\u001b[43m(\u001b[49m\u001b[43mAdd\u001b[49m\u001b[43m)\u001b[49m \u001b[38;5;28;01mif\u001b[39;00m a\u001b[38;5;241m.\u001b[39mcould_extract_minus_sign()]\n\u001b[0;32m     15\u001b[0m reps \u001b[38;5;241m=\u001b[39m {}\n\u001b[0;32m     16\u001b[0m ignore \u001b[38;5;241m=\u001b[39m \u001b[38;5;28mset\u001b[39m()\n",
      "File \u001b[1;32m~\\anaconda3\\lib\\site-packages\\sympy\\core\\basic.py:523\u001b[0m, in \u001b[0;36mBasic.atoms\u001b[1;34m(self, *types)\u001b[0m\n\u001b[0;32m    521\u001b[0m nodes \u001b[38;5;241m=\u001b[39m _preorder_traversal(\u001b[38;5;28mself\u001b[39m)\n\u001b[0;32m    522\u001b[0m \u001b[38;5;28;01mif\u001b[39;00m types:\n\u001b[1;32m--> 523\u001b[0m     result \u001b[38;5;241m=\u001b[39m {node \u001b[38;5;28;01mfor\u001b[39;00m node \u001b[38;5;129;01min\u001b[39;00m nodes \u001b[38;5;28;01mif\u001b[39;00m \u001b[38;5;28misinstance\u001b[39m(node, types)}\n\u001b[0;32m    524\u001b[0m \u001b[38;5;28;01melse\u001b[39;00m:\n\u001b[0;32m    525\u001b[0m     result \u001b[38;5;241m=\u001b[39m {node \u001b[38;5;28;01mfor\u001b[39;00m node \u001b[38;5;129;01min\u001b[39;00m nodes \u001b[38;5;28;01mif\u001b[39;00m \u001b[38;5;129;01mnot\u001b[39;00m node\u001b[38;5;241m.\u001b[39margs}\n",
      "File \u001b[1;32m~\\anaconda3\\lib\\site-packages\\sympy\\core\\basic.py:523\u001b[0m, in \u001b[0;36m<setcomp>\u001b[1;34m(.0)\u001b[0m\n\u001b[0;32m    521\u001b[0m nodes \u001b[38;5;241m=\u001b[39m _preorder_traversal(\u001b[38;5;28mself\u001b[39m)\n\u001b[0;32m    522\u001b[0m \u001b[38;5;28;01mif\u001b[39;00m types:\n\u001b[1;32m--> 523\u001b[0m     result \u001b[38;5;241m=\u001b[39m {node \u001b[38;5;28;01mfor\u001b[39;00m node \u001b[38;5;129;01min\u001b[39;00m nodes \u001b[38;5;28;01mif\u001b[39;00m \u001b[38;5;28misinstance\u001b[39m(node, types)}\n\u001b[0;32m    524\u001b[0m \u001b[38;5;28;01melse\u001b[39;00m:\n\u001b[0;32m    525\u001b[0m     result \u001b[38;5;241m=\u001b[39m {node \u001b[38;5;28;01mfor\u001b[39;00m node \u001b[38;5;129;01min\u001b[39;00m nodes \u001b[38;5;28;01mif\u001b[39;00m \u001b[38;5;129;01mnot\u001b[39;00m node\u001b[38;5;241m.\u001b[39margs}\n",
      "\u001b[1;31mKeyboardInterrupt\u001b[0m: "
     ]
    }
   ],
   "source": [
    "# Kt_update = Updated Kalman gain at time t\n",
    "\n",
    "Kt_update = (Pt_predict*H.T*St_inv).simplify()\n",
    "\n",
    "display(Math(r'K_{{t|t}} = {}'.format(sp.latex(Kt_update))))"
   ]
  },
  {
   "cell_type": "markdown",
   "metadata": {},
   "source": [
    "## Estimated system state $X$ (at time t, for time t)"
   ]
  },
  {
   "cell_type": "code",
   "execution_count": 66,
   "metadata": {},
   "outputs": [
    {
     "data": {
      "text/latex": [
       "$\\displaystyle X_{t|t} = \\left[\\begin{matrix}y_{t|t-1} + \\frac{\\left(- y_{t|t-1} + z_{y|t}\\right) \\left(4 P_{y|t-1|t-1} + 4 P_{\\dot{y}y|t-1|t-1} \\Delta{t} + \\Delta{t}^{4} \\sigma_{\\ddot{y}^2} + 4 \\Delta{t} \\left(P_{\\dot{y}|t-1|t-1} \\Delta{t} + P_{y\\dot{y}|t-1|t-1}\\right)\\right) \\left(4 \\left(\\overline{P_{\\dot{y}|t-1|t-1}} \\overline{\\Delta{t}} + \\overline{P_{y\\dot{y}|t-1|t-1}}\\right) \\overline{\\Delta{t}} + 4 \\overline{P_{y|t-1|t-1}} + 4 \\overline{P_{\\dot{y}y|t-1|t-1}} \\overline{\\Delta{t}} + \\overline{\\Delta{t}}^{4} \\overline{\\sigma_{\\ddot{y}^2}} + 4 \\overline{\\sigma_{y^2}}\\right)}{\\sigma_{\\ddot{y}^2} \\sigma_{\\ddot{z}^2} \\left(P_{\\dot{\\phi}|t-1|t-1} + \\Delta{t}^{2} \\sigma_{\\dot{\\phi}^2} + \\sigma_{\\dot{\\phi}^2}\\right) \\left(4 P_{y|t-1|t-1} + 4 P_{\\dot{y}y|t-1|t-1} \\Delta{t} + \\Delta{t}^{4} \\sigma_{\\ddot{y}^2} + 4 \\Delta{t} \\left(P_{\\dot{y}|t-1|t-1} \\Delta{t} + P_{y\\dot{y}|t-1|t-1}\\right) + 4 \\sigma_{y^2}\\right) \\left(4 P_{z|t-1|t-1} + 4 P_{\\dot{z}z|t-1|t-1} \\Delta{t} + \\Delta{t}^{4} \\sigma_{\\ddot{z}^2} + 4 \\Delta{t} \\left(P_{\\dot{z}|t-1|t-1} \\Delta{t} + P_{z\\dot{z}|t-1|t-1}\\right) + 4 \\sigma_{z^2}\\right)}\\\\\\dot{y}_{t|t-1} + \\frac{2 \\left(- y_{t|t-1} + z_{y|t}\\right) \\left(2 P_{\\dot{y}y|t-1|t-1} + 2 P_{\\dot{y}|t-1|t-1} \\Delta{t} + \\Delta{t}^{3} \\sigma_{\\ddot{y}^2}\\right) \\left(4 \\left(\\overline{P_{\\dot{y}|t-1|t-1}} \\overline{\\Delta{t}} + \\overline{P_{y\\dot{y}|t-1|t-1}}\\right) \\overline{\\Delta{t}} + 4 \\overline{P_{y|t-1|t-1}} + 4 \\overline{P_{\\dot{y}y|t-1|t-1}} \\overline{\\Delta{t}} + \\overline{\\Delta{t}}^{4} \\overline{\\sigma_{\\ddot{y}^2}} + 4 \\overline{\\sigma_{y^2}}\\right)}{\\sigma_{\\ddot{y}^2} \\sigma_{\\ddot{z}^2} \\left(P_{\\dot{\\phi}|t-1|t-1} + \\Delta{t}^{2} \\sigma_{\\dot{\\phi}^2} + \\sigma_{\\dot{\\phi}^2}\\right) \\left(4 P_{y|t-1|t-1} + 4 P_{\\dot{y}y|t-1|t-1} \\Delta{t} + \\Delta{t}^{4} \\sigma_{\\ddot{y}^2} + 4 \\Delta{t} \\left(P_{\\dot{y}|t-1|t-1} \\Delta{t} + P_{y\\dot{y}|t-1|t-1}\\right) + 4 \\sigma_{y^2}\\right) \\left(4 P_{z|t-1|t-1} + 4 P_{\\dot{z}z|t-1|t-1} \\Delta{t} + \\Delta{t}^{4} \\sigma_{\\ddot{z}^2} + 4 \\Delta{t} \\left(P_{\\dot{z}|t-1|t-1} \\Delta{t} + P_{z\\dot{z}|t-1|t-1}\\right) + 4 \\sigma_{z^2}\\right)}\\\\z_{t|t-1} + \\frac{\\left(- z_{t|t-1} + z_{z|t}\\right) \\left(4 P_{z|t-1|t-1} + 4 P_{\\dot{z}z|t-1|t-1} \\Delta{t} + \\Delta{t}^{4} \\sigma_{\\ddot{z}^2} + 4 \\Delta{t} \\left(P_{\\dot{z}|t-1|t-1} \\Delta{t} + P_{z\\dot{z}|t-1|t-1}\\right)\\right) \\left(4 \\left(\\overline{P_{\\dot{z}|t-1|t-1}} \\overline{\\Delta{t}} + \\overline{P_{z\\dot{z}|t-1|t-1}}\\right) \\overline{\\Delta{t}} + 4 \\overline{P_{z|t-1|t-1}} + 4 \\overline{P_{\\dot{z}z|t-1|t-1}} \\overline{\\Delta{t}} + \\overline{\\Delta{t}}^{4} \\overline{\\sigma_{\\ddot{z}^2}} + 4 \\overline{\\sigma_{z^2}}\\right)}{\\sigma_{\\ddot{y}^2} \\sigma_{\\ddot{z}^2} \\left(P_{\\dot{\\phi}|t-1|t-1} + \\Delta{t}^{2} \\sigma_{\\dot{\\phi}^2} + \\sigma_{\\dot{\\phi}^2}\\right) \\left(4 P_{y|t-1|t-1} + 4 P_{\\dot{y}y|t-1|t-1} \\Delta{t} + \\Delta{t}^{4} \\sigma_{\\ddot{y}^2} + 4 \\Delta{t} \\left(P_{\\dot{y}|t-1|t-1} \\Delta{t} + P_{y\\dot{y}|t-1|t-1}\\right) + 4 \\sigma_{y^2}\\right) \\left(4 P_{z|t-1|t-1} + 4 P_{\\dot{z}z|t-1|t-1} \\Delta{t} + \\Delta{t}^{4} \\sigma_{\\ddot{z}^2} + 4 \\Delta{t} \\left(P_{\\dot{z}|t-1|t-1} \\Delta{t} + P_{z\\dot{z}|t-1|t-1}\\right) + 4 \\sigma_{z^2}\\right)}\\\\\\dot{z}_{t|t-1} + \\frac{2 \\left(- z_{t|t-1} + z_{z|t}\\right) \\left(2 P_{\\dot{z}z|t-1|t-1} + 2 P_{\\dot{z}|t-1|t-1} \\Delta{t} + \\Delta{t}^{3} \\sigma_{\\ddot{z}^2}\\right) \\left(4 \\left(\\overline{P_{\\dot{z}|t-1|t-1}} \\overline{\\Delta{t}} + \\overline{P_{z\\dot{z}|t-1|t-1}}\\right) \\overline{\\Delta{t}} + 4 \\overline{P_{z|t-1|t-1}} + 4 \\overline{P_{\\dot{z}z|t-1|t-1}} \\overline{\\Delta{t}} + \\overline{\\Delta{t}}^{4} \\overline{\\sigma_{\\ddot{z}^2}} + 4 \\overline{\\sigma_{z^2}}\\right)}{\\sigma_{\\ddot{y}^2} \\sigma_{\\ddot{z}^2} \\left(P_{\\dot{\\phi}|t-1|t-1} + \\Delta{t}^{2} \\sigma_{\\dot{\\phi}^2} + \\sigma_{\\dot{\\phi}^2}\\right) \\left(4 P_{y|t-1|t-1} + 4 P_{\\dot{y}y|t-1|t-1} \\Delta{t} + \\Delta{t}^{4} \\sigma_{\\ddot{y}^2} + 4 \\Delta{t} \\left(P_{\\dot{y}|t-1|t-1} \\Delta{t} + P_{y\\dot{y}|t-1|t-1}\\right) + 4 \\sigma_{y^2}\\right) \\left(4 P_{z|t-1|t-1} + 4 P_{\\dot{z}z|t-1|t-1} \\Delta{t} + \\Delta{t}^{4} \\sigma_{\\ddot{z}^2} + 4 \\Delta{t} \\left(P_{\\dot{z}|t-1|t-1} \\Delta{t} + P_{z\\dot{z}|t-1|t-1}\\right) + 4 \\sigma_{z^2}\\right)}\\\\\\phi_{t|t-1} + \\frac{8 \\left(- \\dot{\\phi}_{t|t-1} + z_{\\dot{\\phi}|t}\\right) \\left(2 P_{\\dot{\\phi}|t-1|t-1} \\Delta{t} + 2 P_{\\phi\\dot{\\phi}|t-1|t-1} + \\Delta{t}^{3} \\sigma_{\\dot{\\phi}^2}\\right) \\left(\\overline{P_{\\dot{\\phi}|t-1|t-1}} + \\overline{\\Delta{t}}^{2} \\overline{\\sigma_{\\dot{\\phi}^2}} + \\overline{\\sigma_{\\dot{\\phi}^2}}\\right)}{\\sigma_{\\ddot{y}^2} \\sigma_{\\ddot{z}^2} \\left(P_{\\dot{\\phi}|t-1|t-1} + \\Delta{t}^{2} \\sigma_{\\dot{\\phi}^2} + \\sigma_{\\dot{\\phi}^2}\\right) \\left(4 P_{y|t-1|t-1} + 4 P_{\\dot{y}y|t-1|t-1} \\Delta{t} + \\Delta{t}^{4} \\sigma_{\\ddot{y}^2} + 4 \\Delta{t} \\left(P_{\\dot{y}|t-1|t-1} \\Delta{t} + P_{y\\dot{y}|t-1|t-1}\\right) + 4 \\sigma_{y^2}\\right) \\left(4 P_{z|t-1|t-1} + 4 P_{\\dot{z}z|t-1|t-1} \\Delta{t} + \\Delta{t}^{4} \\sigma_{\\ddot{z}^2} + 4 \\Delta{t} \\left(P_{\\dot{z}|t-1|t-1} \\Delta{t} + P_{z\\dot{z}|t-1|t-1}\\right) + 4 \\sigma_{z^2}\\right)}\\\\\\dot{\\phi}_{t|t-1} + \\frac{16 \\left(P_{\\dot{\\phi}|t-1|t-1} + \\Delta{t}^{2} \\sigma_{\\dot{\\phi}^2}\\right) \\left(- \\dot{\\phi}_{t|t-1} + z_{\\dot{\\phi}|t}\\right) \\left(\\overline{P_{\\dot{\\phi}|t-1|t-1}} + \\overline{\\Delta{t}}^{2} \\overline{\\sigma_{\\dot{\\phi}^2}} + \\overline{\\sigma_{\\dot{\\phi}^2}}\\right)}{\\sigma_{\\ddot{y}^2} \\sigma_{\\ddot{z}^2} \\left(P_{\\dot{\\phi}|t-1|t-1} + \\Delta{t}^{2} \\sigma_{\\dot{\\phi}^2} + \\sigma_{\\dot{\\phi}^2}\\right) \\left(4 P_{y|t-1|t-1} + 4 P_{\\dot{y}y|t-1|t-1} \\Delta{t} + \\Delta{t}^{4} \\sigma_{\\ddot{y}^2} + 4 \\Delta{t} \\left(P_{\\dot{y}|t-1|t-1} \\Delta{t} + P_{y\\dot{y}|t-1|t-1}\\right) + 4 \\sigma_{y^2}\\right) \\left(4 P_{z|t-1|t-1} + 4 P_{\\dot{z}z|t-1|t-1} \\Delta{t} + \\Delta{t}^{4} \\sigma_{\\ddot{z}^2} + 4 \\Delta{t} \\left(P_{\\dot{z}|t-1|t-1} \\Delta{t} + P_{z\\dot{z}|t-1|t-1}\\right) + 4 \\sigma_{z^2}\\right)}\\end{matrix}\\right]$"
      ],
      "text/plain": [
       "<IPython.core.display.Math object>"
      ]
     },
     "metadata": {},
     "output_type": "display_data"
    }
   ],
   "source": [
    "# Xt_estimate = Estimated system state at time t\n",
    "\n",
    "Xt_estimate = (Xt_predict_compact + Kt_update*(Yt_update))\n",
    "\n",
    "display(Math(r'X_{{t|t}} = {}'.format(sp.latex(Xt_estimate))))"
   ]
  },
  {
   "cell_type": "markdown",
   "metadata": {},
   "source": [
    "## Estimated estimation uncertainty covariance matrix $P$ (at time t, for time t)"
   ]
  },
  {
   "cell_type": "code",
   "execution_count": 67,
   "metadata": {},
   "outputs": [
    {
     "data": {
      "text/latex": [
       "$\\displaystyle P_{t|t} = \\left[\\begin{matrix}\\left(1 - \\frac{\\left(4 P_{y|t-1|t-1} + 4 P_{\\dot{y}y|t-1|t-1} \\Delta{t} + \\Delta{t}^{4} \\sigma_{\\ddot{y}^2} + 4 \\Delta{t} \\left(P_{\\dot{y}|t-1|t-1} \\Delta{t} + P_{y\\dot{y}|t-1|t-1}\\right)\\right) \\left(4 \\left(\\overline{P_{\\dot{y}|t-1|t-1}} \\overline{\\Delta{t}} + \\overline{P_{y\\dot{y}|t-1|t-1}}\\right) \\overline{\\Delta{t}} + 4 \\overline{P_{y|t-1|t-1}} + 4 \\overline{P_{\\dot{y}y|t-1|t-1}} \\overline{\\Delta{t}} + \\overline{\\Delta{t}}^{4} \\overline{\\sigma_{\\ddot{y}^2}} + 4 \\overline{\\sigma_{y^2}}\\right)}{\\sigma_{\\ddot{y}^2} \\sigma_{\\ddot{z}^2} \\left(P_{\\dot{\\phi}|t-1|t-1} + \\Delta{t}^{2} \\sigma_{\\dot{\\phi}^2} + \\sigma_{\\dot{\\phi}^2}\\right) \\left(4 P_{y|t-1|t-1} + 4 P_{\\dot{y}y|t-1|t-1} \\Delta{t} + \\Delta{t}^{4} \\sigma_{\\ddot{y}^2} + 4 \\Delta{t} \\left(P_{\\dot{y}|t-1|t-1} \\Delta{t} + P_{y\\dot{y}|t-1|t-1}\\right) + 4 \\sigma_{y^2}\\right) \\left(4 P_{z|t-1|t-1} + 4 P_{\\dot{z}z|t-1|t-1} \\Delta{t} + \\Delta{t}^{4} \\sigma_{\\ddot{z}^2} + 4 \\Delta{t} \\left(P_{\\dot{z}|t-1|t-1} \\Delta{t} + P_{z\\dot{z}|t-1|t-1}\\right) + 4 \\sigma_{z^2}\\right)}\\right) \\left(P_{y|t-1|t-1} + P_{\\dot{y}y|t-1|t-1} \\Delta{t} + \\frac{\\Delta{t}^{4} \\sigma_{\\ddot{y}^2}}{4} + \\Delta{t} \\left(P_{\\dot{y}|t-1|t-1} \\Delta{t} + P_{y\\dot{y}|t-1|t-1}\\right)\\right) & \\left(1 - \\frac{\\left(4 P_{y|t-1|t-1} + 4 P_{\\dot{y}y|t-1|t-1} \\Delta{t} + \\Delta{t}^{4} \\sigma_{\\ddot{y}^2} + 4 \\Delta{t} \\left(P_{\\dot{y}|t-1|t-1} \\Delta{t} + P_{y\\dot{y}|t-1|t-1}\\right)\\right) \\left(4 \\left(\\overline{P_{\\dot{y}|t-1|t-1}} \\overline{\\Delta{t}} + \\overline{P_{y\\dot{y}|t-1|t-1}}\\right) \\overline{\\Delta{t}} + 4 \\overline{P_{y|t-1|t-1}} + 4 \\overline{P_{\\dot{y}y|t-1|t-1}} \\overline{\\Delta{t}} + \\overline{\\Delta{t}}^{4} \\overline{\\sigma_{\\ddot{y}^2}} + 4 \\overline{\\sigma_{y^2}}\\right)}{\\sigma_{\\ddot{y}^2} \\sigma_{\\ddot{z}^2} \\left(P_{\\dot{\\phi}|t-1|t-1} + \\Delta{t}^{2} \\sigma_{\\dot{\\phi}^2} + \\sigma_{\\dot{\\phi}^2}\\right) \\left(4 P_{y|t-1|t-1} + 4 P_{\\dot{y}y|t-1|t-1} \\Delta{t} + \\Delta{t}^{4} \\sigma_{\\ddot{y}^2} + 4 \\Delta{t} \\left(P_{\\dot{y}|t-1|t-1} \\Delta{t} + P_{y\\dot{y}|t-1|t-1}\\right) + 4 \\sigma_{y^2}\\right) \\left(4 P_{z|t-1|t-1} + 4 P_{\\dot{z}z|t-1|t-1} \\Delta{t} + \\Delta{t}^{4} \\sigma_{\\ddot{z}^2} + 4 \\Delta{t} \\left(P_{\\dot{z}|t-1|t-1} \\Delta{t} + P_{z\\dot{z}|t-1|t-1}\\right) + 4 \\sigma_{z^2}\\right)}\\right) \\left(P_{\\dot{y}|t-1|t-1} \\Delta{t} + P_{y\\dot{y}|t-1|t-1} + \\frac{\\Delta{t}^{3} \\sigma_{\\ddot{y}^2}}{2}\\right) & 0 & 0 & 0 & 0\\\\P_{\\dot{y}y|t-1|t-1} + P_{\\dot{y}|t-1|t-1} \\Delta{t} + \\frac{\\Delta{t}^{3} \\sigma_{\\ddot{y}^2}}{2} - \\frac{2 \\left(2 P_{\\dot{y}y|t-1|t-1} + 2 P_{\\dot{y}|t-1|t-1} \\Delta{t} + \\Delta{t}^{3} \\sigma_{\\ddot{y}^2}\\right) \\left(P_{y|t-1|t-1} + P_{\\dot{y}y|t-1|t-1} \\Delta{t} + \\frac{\\Delta{t}^{4} \\sigma_{\\ddot{y}^2}}{4} + \\Delta{t} \\left(P_{\\dot{y}|t-1|t-1} \\Delta{t} + P_{y\\dot{y}|t-1|t-1}\\right)\\right) \\left(4 \\left(\\overline{P_{\\dot{y}|t-1|t-1}} \\overline{\\Delta{t}} + \\overline{P_{y\\dot{y}|t-1|t-1}}\\right) \\overline{\\Delta{t}} + 4 \\overline{P_{y|t-1|t-1}} + 4 \\overline{P_{\\dot{y}y|t-1|t-1}} \\overline{\\Delta{t}} + \\overline{\\Delta{t}}^{4} \\overline{\\sigma_{\\ddot{y}^2}} + 4 \\overline{\\sigma_{y^2}}\\right)}{\\sigma_{\\ddot{y}^2} \\sigma_{\\ddot{z}^2} \\left(P_{\\dot{\\phi}|t-1|t-1} + \\Delta{t}^{2} \\sigma_{\\dot{\\phi}^2} + \\sigma_{\\dot{\\phi}^2}\\right) \\left(4 P_{y|t-1|t-1} + 4 P_{\\dot{y}y|t-1|t-1} \\Delta{t} + \\Delta{t}^{4} \\sigma_{\\ddot{y}^2} + 4 \\Delta{t} \\left(P_{\\dot{y}|t-1|t-1} \\Delta{t} + P_{y\\dot{y}|t-1|t-1}\\right) + 4 \\sigma_{y^2}\\right) \\left(4 P_{z|t-1|t-1} + 4 P_{\\dot{z}z|t-1|t-1} \\Delta{t} + \\Delta{t}^{4} \\sigma_{\\ddot{z}^2} + 4 \\Delta{t} \\left(P_{\\dot{z}|t-1|t-1} \\Delta{t} + P_{z\\dot{z}|t-1|t-1}\\right) + 4 \\sigma_{z^2}\\right)} & P_{\\dot{y}|t-1|t-1} + \\Delta{t}^{2} \\sigma_{\\ddot{y}^2} - \\frac{2 \\left(2 P_{\\dot{y}y|t-1|t-1} + 2 P_{\\dot{y}|t-1|t-1} \\Delta{t} + \\Delta{t}^{3} \\sigma_{\\ddot{y}^2}\\right) \\left(P_{\\dot{y}|t-1|t-1} \\Delta{t} + P_{y\\dot{y}|t-1|t-1} + \\frac{\\Delta{t}^{3} \\sigma_{\\ddot{y}^2}}{2}\\right) \\left(4 \\left(\\overline{P_{\\dot{y}|t-1|t-1}} \\overline{\\Delta{t}} + \\overline{P_{y\\dot{y}|t-1|t-1}}\\right) \\overline{\\Delta{t}} + 4 \\overline{P_{y|t-1|t-1}} + 4 \\overline{P_{\\dot{y}y|t-1|t-1}} \\overline{\\Delta{t}} + \\overline{\\Delta{t}}^{4} \\overline{\\sigma_{\\ddot{y}^2}} + 4 \\overline{\\sigma_{y^2}}\\right)}{\\sigma_{\\ddot{y}^2} \\sigma_{\\ddot{z}^2} \\left(P_{\\dot{\\phi}|t-1|t-1} + \\Delta{t}^{2} \\sigma_{\\dot{\\phi}^2} + \\sigma_{\\dot{\\phi}^2}\\right) \\left(4 P_{y|t-1|t-1} + 4 P_{\\dot{y}y|t-1|t-1} \\Delta{t} + \\Delta{t}^{4} \\sigma_{\\ddot{y}^2} + 4 \\Delta{t} \\left(P_{\\dot{y}|t-1|t-1} \\Delta{t} + P_{y\\dot{y}|t-1|t-1}\\right) + 4 \\sigma_{y^2}\\right) \\left(4 P_{z|t-1|t-1} + 4 P_{\\dot{z}z|t-1|t-1} \\Delta{t} + \\Delta{t}^{4} \\sigma_{\\ddot{z}^2} + 4 \\Delta{t} \\left(P_{\\dot{z}|t-1|t-1} \\Delta{t} + P_{z\\dot{z}|t-1|t-1}\\right) + 4 \\sigma_{z^2}\\right)} & 0 & 0 & 0 & 0\\\\0 & 0 & \\left(1 - \\frac{\\left(4 P_{z|t-1|t-1} + 4 P_{\\dot{z}z|t-1|t-1} \\Delta{t} + \\Delta{t}^{4} \\sigma_{\\ddot{z}^2} + 4 \\Delta{t} \\left(P_{\\dot{z}|t-1|t-1} \\Delta{t} + P_{z\\dot{z}|t-1|t-1}\\right)\\right) \\left(4 \\left(\\overline{P_{\\dot{z}|t-1|t-1}} \\overline{\\Delta{t}} + \\overline{P_{z\\dot{z}|t-1|t-1}}\\right) \\overline{\\Delta{t}} + 4 \\overline{P_{z|t-1|t-1}} + 4 \\overline{P_{\\dot{z}z|t-1|t-1}} \\overline{\\Delta{t}} + \\overline{\\Delta{t}}^{4} \\overline{\\sigma_{\\ddot{z}^2}} + 4 \\overline{\\sigma_{z^2}}\\right)}{\\sigma_{\\ddot{y}^2} \\sigma_{\\ddot{z}^2} \\left(P_{\\dot{\\phi}|t-1|t-1} + \\Delta{t}^{2} \\sigma_{\\dot{\\phi}^2} + \\sigma_{\\dot{\\phi}^2}\\right) \\left(4 P_{y|t-1|t-1} + 4 P_{\\dot{y}y|t-1|t-1} \\Delta{t} + \\Delta{t}^{4} \\sigma_{\\ddot{y}^2} + 4 \\Delta{t} \\left(P_{\\dot{y}|t-1|t-1} \\Delta{t} + P_{y\\dot{y}|t-1|t-1}\\right) + 4 \\sigma_{y^2}\\right) \\left(4 P_{z|t-1|t-1} + 4 P_{\\dot{z}z|t-1|t-1} \\Delta{t} + \\Delta{t}^{4} \\sigma_{\\ddot{z}^2} + 4 \\Delta{t} \\left(P_{\\dot{z}|t-1|t-1} \\Delta{t} + P_{z\\dot{z}|t-1|t-1}\\right) + 4 \\sigma_{z^2}\\right)}\\right) \\left(P_{z|t-1|t-1} + P_{\\dot{z}z|t-1|t-1} \\Delta{t} + \\frac{\\Delta{t}^{4} \\sigma_{\\ddot{z}^2}}{4} + \\Delta{t} \\left(P_{\\dot{z}|t-1|t-1} \\Delta{t} + P_{z\\dot{z}|t-1|t-1}\\right)\\right) & \\left(1 - \\frac{\\left(4 P_{z|t-1|t-1} + 4 P_{\\dot{z}z|t-1|t-1} \\Delta{t} + \\Delta{t}^{4} \\sigma_{\\ddot{z}^2} + 4 \\Delta{t} \\left(P_{\\dot{z}|t-1|t-1} \\Delta{t} + P_{z\\dot{z}|t-1|t-1}\\right)\\right) \\left(4 \\left(\\overline{P_{\\dot{z}|t-1|t-1}} \\overline{\\Delta{t}} + \\overline{P_{z\\dot{z}|t-1|t-1}}\\right) \\overline{\\Delta{t}} + 4 \\overline{P_{z|t-1|t-1}} + 4 \\overline{P_{\\dot{z}z|t-1|t-1}} \\overline{\\Delta{t}} + \\overline{\\Delta{t}}^{4} \\overline{\\sigma_{\\ddot{z}^2}} + 4 \\overline{\\sigma_{z^2}}\\right)}{\\sigma_{\\ddot{y}^2} \\sigma_{\\ddot{z}^2} \\left(P_{\\dot{\\phi}|t-1|t-1} + \\Delta{t}^{2} \\sigma_{\\dot{\\phi}^2} + \\sigma_{\\dot{\\phi}^2}\\right) \\left(4 P_{y|t-1|t-1} + 4 P_{\\dot{y}y|t-1|t-1} \\Delta{t} + \\Delta{t}^{4} \\sigma_{\\ddot{y}^2} + 4 \\Delta{t} \\left(P_{\\dot{y}|t-1|t-1} \\Delta{t} + P_{y\\dot{y}|t-1|t-1}\\right) + 4 \\sigma_{y^2}\\right) \\left(4 P_{z|t-1|t-1} + 4 P_{\\dot{z}z|t-1|t-1} \\Delta{t} + \\Delta{t}^{4} \\sigma_{\\ddot{z}^2} + 4 \\Delta{t} \\left(P_{\\dot{z}|t-1|t-1} \\Delta{t} + P_{z\\dot{z}|t-1|t-1}\\right) + 4 \\sigma_{z^2}\\right)}\\right) \\left(P_{\\dot{z}|t-1|t-1} \\Delta{t} + P_{z\\dot{z}|t-1|t-1} + \\frac{\\Delta{t}^{3} \\sigma_{\\ddot{z}^2}}{2}\\right) & 0 & 0\\\\0 & 0 & P_{\\dot{z}z|t-1|t-1} + P_{\\dot{z}|t-1|t-1} \\Delta{t} + \\frac{\\Delta{t}^{3} \\sigma_{\\ddot{z}^2}}{2} - \\frac{2 \\left(2 P_{\\dot{z}z|t-1|t-1} + 2 P_{\\dot{z}|t-1|t-1} \\Delta{t} + \\Delta{t}^{3} \\sigma_{\\ddot{z}^2}\\right) \\left(P_{z|t-1|t-1} + P_{\\dot{z}z|t-1|t-1} \\Delta{t} + \\frac{\\Delta{t}^{4} \\sigma_{\\ddot{z}^2}}{4} + \\Delta{t} \\left(P_{\\dot{z}|t-1|t-1} \\Delta{t} + P_{z\\dot{z}|t-1|t-1}\\right)\\right) \\left(4 \\left(\\overline{P_{\\dot{z}|t-1|t-1}} \\overline{\\Delta{t}} + \\overline{P_{z\\dot{z}|t-1|t-1}}\\right) \\overline{\\Delta{t}} + 4 \\overline{P_{z|t-1|t-1}} + 4 \\overline{P_{\\dot{z}z|t-1|t-1}} \\overline{\\Delta{t}} + \\overline{\\Delta{t}}^{4} \\overline{\\sigma_{\\ddot{z}^2}} + 4 \\overline{\\sigma_{z^2}}\\right)}{\\sigma_{\\ddot{y}^2} \\sigma_{\\ddot{z}^2} \\left(P_{\\dot{\\phi}|t-1|t-1} + \\Delta{t}^{2} \\sigma_{\\dot{\\phi}^2} + \\sigma_{\\dot{\\phi}^2}\\right) \\left(4 P_{y|t-1|t-1} + 4 P_{\\dot{y}y|t-1|t-1} \\Delta{t} + \\Delta{t}^{4} \\sigma_{\\ddot{y}^2} + 4 \\Delta{t} \\left(P_{\\dot{y}|t-1|t-1} \\Delta{t} + P_{y\\dot{y}|t-1|t-1}\\right) + 4 \\sigma_{y^2}\\right) \\left(4 P_{z|t-1|t-1} + 4 P_{\\dot{z}z|t-1|t-1} \\Delta{t} + \\Delta{t}^{4} \\sigma_{\\ddot{z}^2} + 4 \\Delta{t} \\left(P_{\\dot{z}|t-1|t-1} \\Delta{t} + P_{z\\dot{z}|t-1|t-1}\\right) + 4 \\sigma_{z^2}\\right)} & P_{\\dot{z}|t-1|t-1} + \\Delta{t}^{2} \\sigma_{\\ddot{z}^2} - \\frac{2 \\left(2 P_{\\dot{z}z|t-1|t-1} + 2 P_{\\dot{z}|t-1|t-1} \\Delta{t} + \\Delta{t}^{3} \\sigma_{\\ddot{z}^2}\\right) \\left(P_{\\dot{z}|t-1|t-1} \\Delta{t} + P_{z\\dot{z}|t-1|t-1} + \\frac{\\Delta{t}^{3} \\sigma_{\\ddot{z}^2}}{2}\\right) \\left(4 \\left(\\overline{P_{\\dot{z}|t-1|t-1}} \\overline{\\Delta{t}} + \\overline{P_{z\\dot{z}|t-1|t-1}}\\right) \\overline{\\Delta{t}} + 4 \\overline{P_{z|t-1|t-1}} + 4 \\overline{P_{\\dot{z}z|t-1|t-1}} \\overline{\\Delta{t}} + \\overline{\\Delta{t}}^{4} \\overline{\\sigma_{\\ddot{z}^2}} + 4 \\overline{\\sigma_{z^2}}\\right)}{\\sigma_{\\ddot{y}^2} \\sigma_{\\ddot{z}^2} \\left(P_{\\dot{\\phi}|t-1|t-1} + \\Delta{t}^{2} \\sigma_{\\dot{\\phi}^2} + \\sigma_{\\dot{\\phi}^2}\\right) \\left(4 P_{y|t-1|t-1} + 4 P_{\\dot{y}y|t-1|t-1} \\Delta{t} + \\Delta{t}^{4} \\sigma_{\\ddot{y}^2} + 4 \\Delta{t} \\left(P_{\\dot{y}|t-1|t-1} \\Delta{t} + P_{y\\dot{y}|t-1|t-1}\\right) + 4 \\sigma_{y^2}\\right) \\left(4 P_{z|t-1|t-1} + 4 P_{\\dot{z}z|t-1|t-1} \\Delta{t} + \\Delta{t}^{4} \\sigma_{\\ddot{z}^2} + 4 \\Delta{t} \\left(P_{\\dot{z}|t-1|t-1} \\Delta{t} + P_{z\\dot{z}|t-1|t-1}\\right) + 4 \\sigma_{z^2}\\right)} & 0 & 0\\\\0 & 0 & 0 & 0 & P_{\\dot{\\phi}\\phi|t-1|t-1} \\Delta{t} + P_{\\phi|t-1|t-1} + \\frac{\\Delta{t}^{4} \\sigma_{\\dot{\\phi}^2}}{4} + \\Delta{t} \\left(P_{\\dot{\\phi}|t-1|t-1} \\Delta{t} + P_{\\phi\\dot{\\phi}|t-1|t-1}\\right) - \\frac{8 \\left(P_{\\dot{\\phi}\\phi|t-1|t-1} + P_{\\dot{\\phi}|t-1|t-1} \\Delta{t} + \\frac{\\Delta{t}^{3} \\sigma_{\\dot{\\phi}^2}}{2}\\right) \\left(2 P_{\\dot{\\phi}|t-1|t-1} \\Delta{t} + 2 P_{\\phi\\dot{\\phi}|t-1|t-1} + \\Delta{t}^{3} \\sigma_{\\dot{\\phi}^2}\\right) \\left(\\overline{P_{\\dot{\\phi}|t-1|t-1}} + \\overline{\\Delta{t}}^{2} \\overline{\\sigma_{\\dot{\\phi}^2}} + \\overline{\\sigma_{\\dot{\\phi}^2}}\\right)}{\\sigma_{\\ddot{y}^2} \\sigma_{\\ddot{z}^2} \\left(P_{\\dot{\\phi}|t-1|t-1} + \\Delta{t}^{2} \\sigma_{\\dot{\\phi}^2} + \\sigma_{\\dot{\\phi}^2}\\right) \\left(4 P_{y|t-1|t-1} + 4 P_{\\dot{y}y|t-1|t-1} \\Delta{t} + \\Delta{t}^{4} \\sigma_{\\ddot{y}^2} + 4 \\Delta{t} \\left(P_{\\dot{y}|t-1|t-1} \\Delta{t} + P_{y\\dot{y}|t-1|t-1}\\right) + 4 \\sigma_{y^2}\\right) \\left(4 P_{z|t-1|t-1} + 4 P_{\\dot{z}z|t-1|t-1} \\Delta{t} + \\Delta{t}^{4} \\sigma_{\\ddot{z}^2} + 4 \\Delta{t} \\left(P_{\\dot{z}|t-1|t-1} \\Delta{t} + P_{z\\dot{z}|t-1|t-1}\\right) + 4 \\sigma_{z^2}\\right)} & P_{\\dot{\\phi}|t-1|t-1} \\Delta{t} + P_{\\phi\\dot{\\phi}|t-1|t-1} + \\frac{\\Delta{t}^{3} \\sigma_{\\dot{\\phi}^2}}{2} - \\frac{8 \\left(P_{\\dot{\\phi}|t-1|t-1} + \\Delta{t}^{2} \\sigma_{\\dot{\\phi}^2}\\right) \\left(2 P_{\\dot{\\phi}|t-1|t-1} \\Delta{t} + 2 P_{\\phi\\dot{\\phi}|t-1|t-1} + \\Delta{t}^{3} \\sigma_{\\dot{\\phi}^2}\\right) \\left(\\overline{P_{\\dot{\\phi}|t-1|t-1}} + \\overline{\\Delta{t}}^{2} \\overline{\\sigma_{\\dot{\\phi}^2}} + \\overline{\\sigma_{\\dot{\\phi}^2}}\\right)}{\\sigma_{\\ddot{y}^2} \\sigma_{\\ddot{z}^2} \\left(P_{\\dot{\\phi}|t-1|t-1} + \\Delta{t}^{2} \\sigma_{\\dot{\\phi}^2} + \\sigma_{\\dot{\\phi}^2}\\right) \\left(4 P_{y|t-1|t-1} + 4 P_{\\dot{y}y|t-1|t-1} \\Delta{t} + \\Delta{t}^{4} \\sigma_{\\ddot{y}^2} + 4 \\Delta{t} \\left(P_{\\dot{y}|t-1|t-1} \\Delta{t} + P_{y\\dot{y}|t-1|t-1}\\right) + 4 \\sigma_{y^2}\\right) \\left(4 P_{z|t-1|t-1} + 4 P_{\\dot{z}z|t-1|t-1} \\Delta{t} + \\Delta{t}^{4} \\sigma_{\\ddot{z}^2} + 4 \\Delta{t} \\left(P_{\\dot{z}|t-1|t-1} \\Delta{t} + P_{z\\dot{z}|t-1|t-1}\\right) + 4 \\sigma_{z^2}\\right)}\\\\0 & 0 & 0 & 0 & \\left(1 - \\frac{16 \\left(P_{\\dot{\\phi}|t-1|t-1} + \\Delta{t}^{2} \\sigma_{\\dot{\\phi}^2}\\right) \\left(\\overline{P_{\\dot{\\phi}|t-1|t-1}} + \\overline{\\Delta{t}}^{2} \\overline{\\sigma_{\\dot{\\phi}^2}} + \\overline{\\sigma_{\\dot{\\phi}^2}}\\right)}{\\sigma_{\\ddot{y}^2} \\sigma_{\\ddot{z}^2} \\left(P_{\\dot{\\phi}|t-1|t-1} + \\Delta{t}^{2} \\sigma_{\\dot{\\phi}^2} + \\sigma_{\\dot{\\phi}^2}\\right) \\left(4 P_{y|t-1|t-1} + 4 P_{\\dot{y}y|t-1|t-1} \\Delta{t} + \\Delta{t}^{4} \\sigma_{\\ddot{y}^2} + 4 \\Delta{t} \\left(P_{\\dot{y}|t-1|t-1} \\Delta{t} + P_{y\\dot{y}|t-1|t-1}\\right) + 4 \\sigma_{y^2}\\right) \\left(4 P_{z|t-1|t-1} + 4 P_{\\dot{z}z|t-1|t-1} \\Delta{t} + \\Delta{t}^{4} \\sigma_{\\ddot{z}^2} + 4 \\Delta{t} \\left(P_{\\dot{z}|t-1|t-1} \\Delta{t} + P_{z\\dot{z}|t-1|t-1}\\right) + 4 \\sigma_{z^2}\\right)}\\right) \\left(P_{\\dot{\\phi}\\phi|t-1|t-1} + P_{\\dot{\\phi}|t-1|t-1} \\Delta{t} + \\frac{\\Delta{t}^{3} \\sigma_{\\dot{\\phi}^2}}{2}\\right) & \\left(1 - \\frac{16 \\left(P_{\\dot{\\phi}|t-1|t-1} + \\Delta{t}^{2} \\sigma_{\\dot{\\phi}^2}\\right) \\left(\\overline{P_{\\dot{\\phi}|t-1|t-1}} + \\overline{\\Delta{t}}^{2} \\overline{\\sigma_{\\dot{\\phi}^2}} + \\overline{\\sigma_{\\dot{\\phi}^2}}\\right)}{\\sigma_{\\ddot{y}^2} \\sigma_{\\ddot{z}^2} \\left(P_{\\dot{\\phi}|t-1|t-1} + \\Delta{t}^{2} \\sigma_{\\dot{\\phi}^2} + \\sigma_{\\dot{\\phi}^2}\\right) \\left(4 P_{y|t-1|t-1} + 4 P_{\\dot{y}y|t-1|t-1} \\Delta{t} + \\Delta{t}^{4} \\sigma_{\\ddot{y}^2} + 4 \\Delta{t} \\left(P_{\\dot{y}|t-1|t-1} \\Delta{t} + P_{y\\dot{y}|t-1|t-1}\\right) + 4 \\sigma_{y^2}\\right) \\left(4 P_{z|t-1|t-1} + 4 P_{\\dot{z}z|t-1|t-1} \\Delta{t} + \\Delta{t}^{4} \\sigma_{\\ddot{z}^2} + 4 \\Delta{t} \\left(P_{\\dot{z}|t-1|t-1} \\Delta{t} + P_{z\\dot{z}|t-1|t-1}\\right) + 4 \\sigma_{z^2}\\right)}\\right) \\left(P_{\\dot{\\phi}|t-1|t-1} + \\Delta{t}^{2} \\sigma_{\\dot{\\phi}^2}\\right)\\end{matrix}\\right]$"
      ],
      "text/plain": [
       "<IPython.core.display.Math object>"
      ]
     },
     "metadata": {},
     "output_type": "display_data"
    }
   ],
   "source": [
    "# Pt_estimate = Estimated estimation uncertainty matrix of the system state variables at time t\n",
    "\n",
    "I = sp.Matrix([[1,0,0,0,0,0],[0,1,0,0,0,0],[0,0,1,0,0,0],[0,0,0,1,0,0],[0,0,0,0,1,0],[0,0,0,0,0,1]])\n",
    "\n",
    "Pt_estimate = ((I - Kt_update*H)*Pt_predict)\n",
    "\n",
    "display(Math(r'P_{{t|t}} = {}'.format(sp.latex(Pt_estimate))))"
   ]
  }
 ],
 "metadata": {
  "kernelspec": {
   "display_name": "Python 3 (ipykernel)",
   "language": "python",
   "name": "python3"
  },
  "language_info": {
   "codemirror_mode": {
    "name": "ipython",
    "version": 3
   },
   "file_extension": ".py",
   "mimetype": "text/x-python",
   "name": "python",
   "nbconvert_exporter": "python",
   "pygments_lexer": "ipython3",
   "version": "3.10.9"
  }
 },
 "nbformat": 4,
 "nbformat_minor": 4
}
