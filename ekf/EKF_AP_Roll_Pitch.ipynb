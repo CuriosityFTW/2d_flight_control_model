{
 "cells": [
  {
   "cell_type": "markdown",
   "metadata": {},
   "source": [
    "# <p style=\"text-align: center;\"> AP EKF roll and pitch angles and bias estimation"
   ]
  },
  {
   "cell_type": "code",
   "execution_count": 30,
   "metadata": {
    "tags": []
   },
   "outputs": [],
   "source": [
    "import sympy as sp\n",
    "import numpy as np\n",
    "from scipy import linalg\n",
    "from sympy import *\n",
    "from IPython.display import Math, Latex"
   ]
  },
  {
   "cell_type": "markdown",
   "metadata": {},
   "source": [
    "## List of tuning parameters for roll and pitch fusion\n",
    "#### A. Process noise parameters\n",
    "1. $GYRO\\_P\\_NSE$ : Rate gyro noise [rad/s] $(AP \\; value: 0.03)$ <br>\n",
    "&emsp; <b>AP definition:</b> This control disturbance noise controls the growth of estimated error due to gyro measurement errors excluding bias. Increasing it makes the flter trust the gyro measurements less and other measurements more. <br>\n",
    "<font color = red> <i><b>Interpretation:</b> This parameter dictates the amount of deviation from the motion model (of angular velocities) that the estimated model (of angular velocities) can have, i.e., whether the estimated model (of angular velocities) will follow the motion model (of angular velocities) or the true values (of angular velocities).</i> </font> <br>\n",
    "<font color = red> <i><b>Increasing the parameter:</b> The estimated model (of angular velocities) will follow the true model (of angular velocities) and will be more sensitive to noisy measurements.</i> </font> <br>\n",
    "<font color = red> <i><b>Decreasing the parameter:</b> The estimated model (of angular velocities) will follow the motion model (of angular velocities), will be less sensitive to noisy measurements, and rapid changes in the true model (of angular velocities) will be ignored (which should actually be tracked.).</i> </font> <br>\n",
    "</br>\n",
    "2. $GBIAS\\_P\\_NSE$ : Rate gyro bias stability [rad/s/s] $(AP \\; value: 0.0005)$ <br>\n",
    "&emsp; <b>AP definition:</b> This state  process noise controls growth of the gyro delta angle bias state error estimate. Increasing it makes rate gyro bias estimation faster and noisier. <br>\n",
    "<font color = red> <i><b>Interpretation:</b> This parameter dictates the amount of deviation from the motion model (of angular velocities bias) that the estimated model (of angular velocities bias) can have, i.e., whether the estimated model (of angular velocities bias) will follow the motion model (of angular velocities bias) or the true values (of angular velocities bias).</i> </font> <br>\n",
    "<font color = red> <i><b>Increasing the parameter:</b> The estimated model (of angular velocities bias) will follow the true model (of angular velocities bias) and will be more sensitive to noisy measurements.</i> </font> <br>\n",
    "<font color = red> <i><b>Decreasing the parameter:</b> The estimated model (of angular velocities bias) will follow the motion model (of angular velocities bias), will be less sensitive to noisy measurements, and rapid changes in the true model (of angular velocities bias) will be ignored (which should actually be tracked.).</i> </font>\n",
    "\n",
    "#### B. Measurement uncertainty parameters\n",
    "3. $angErr$ : 1-sigma spherical angle error [rad] $(AP \\; value: -)$ <br>\n",
    "<font color = red> <i><b>Interpretation:</b> This parameter denotes the angular velocity measurement accuracy of the gyroscope. It dictates whether the estimated model (of angular velocities) will follow the motion model (of angular velocities) or the true measurements (of angular velocities).</i> </font> <br>\n",
    "<font color = red> <i><b>Increasing the parameter:</b> The estimated model (of angular velocities) will favor the motion model (of angular velocities) and rapid changes in the true measurements (of angular velocities) will be ignored.</i> </font> <br>\n",
    "<font color = red> <i><b>Decreasing the parameter:</b> The estimated model (of angular velocities) will favor the true measurements (of angular velocities).</i> </font>"
   ]
  },
  {
   "cell_type": "markdown",
   "metadata": {},
   "source": [
    "## System model"
   ]
  },
  {
   "cell_type": "markdown",
   "metadata": {},
   "source": [
    "The system model is represented in the form of the state extrapolation equation: <br>\n",
    "<p style=\"text-align: center;\"> $X_{t|t-1} = F.X_{t-1|t-1} + G.U_{t-1|t-1}$ <br> </p>\n",
    "\n",
    "where, <br>\n",
    "$X_{t|t-1}$ = Predicted system state at time t <br>\n",
    "$F$ = State transition matrix <br>\n",
    "$X_{t-1|t-1}$ = System state at time t-1 <br>\n",
    "$G$ = Control matrix <br>\n",
    "$U_{t-1|t-1}$ = Control vector at time t-1"
   ]
  },
  {
   "cell_type": "code",
   "execution_count": 3,
   "metadata": {
    "scrolled": false
   },
   "outputs": [
    {
     "data": {
      "text/latex": [
       "$\\displaystyle X_{t|t-1} = \\left[\\begin{matrix}\\phi_{t|t-1}\\\\\\phi_{b|t|t-1}\\\\\\theta_{t|t-1}\\\\\\theta_{b|t|t-1}\\end{matrix}\\right], F = \\left[\\begin{matrix}1 & 0 & 0 & 0\\\\0 & 1 & 0 & 0\\\\0 & 0 & 1 & 0\\\\0 & 0 & 0 & 1\\end{matrix}\\right], X_{t-1|t-1} = \\left[\\begin{matrix}\\phi_{t-1}\\\\\\phi_{b|t-1}\\\\\\theta_{t-1}\\\\\\theta_{b|t-1}\\end{matrix}\\right], G = \\left[\\begin{matrix}\\Delta{t} & 0\\\\0 & 0\\\\0 & \\Delta{t}\\\\0 & 0\\end{matrix}\\right], U_{t-1|t-1} = \\left[\\begin{matrix}\\dot{\\phi}_{t-1}\\\\\\dot{\\theta}_{t-1}\\end{matrix}\\right]$"
      ],
      "text/plain": [
       "<IPython.core.display.Math object>"
      ]
     },
     "metadata": {},
     "output_type": "display_data"
    }
   ],
   "source": [
    "# XT_predict_compact = Predicted system state at time t\n",
    "# F = State transition matrix\n",
    "# XT_previous = System state at time t-1\n",
    "# G = Control matrix\n",
    "# U = Control vector at time t-1\n",
    "\n",
    "roll_t1, roll_bias_t1, pitch_t1, pitch_bias_t1, roll_t, roll_rate_t, roll_bias_t, pitch_t, pitch_rate_t, pitch_bias_t, delt = sp.symbols('\\phi_{t|t-1}, \\phi_{b|t|t-1}, \\\\theta_{t|t-1}, \\\\theta_{b|t|t-1}, \\phi_{t-1}, \\dot{\\phi}_{t-1}, \\phi_{b|t-1}, \\\\theta_{t-1}, \\dot{\\\\theta}_{t-1}, \\\\theta_{b|t-1}, \\Delta{t}')\n",
    "\n",
    "Xt_predict_compact = sp.Matrix([[roll_t1],[roll_bias_t1],[pitch_t1],[pitch_bias_t1]])\n",
    "F = sp.Matrix([[1,0,0,0],[0,1,0,0],[0,0,1,0],[0,0,0,1]])\n",
    "Xt_previous = sp.Matrix([[roll_t],[roll_bias_t],[pitch_t],[pitch_bias_t]])\n",
    "G = sp.Matrix([[delt,0],[0,0],[0,delt],[0,0]])\n",
    "Ut_previous = sp.Matrix([[roll_rate_t],[pitch_rate_t]])\n",
    "\n",
    "display(Math(r'X_{{t|t-1}} = {}, F = {}, X_{{t-1|t-1}} = {}, G = {}, U_{{t-1|t-1}} = {}'.format(sp.latex(Xt_predict_compact), sp.latex(F), sp.latex(Xt_previous), sp.latex(G), sp.latex(Ut_previous))))"
   ]
  },
  {
   "cell_type": "markdown",
   "metadata": {},
   "source": [
    "Arranging the matrices in the form of the state extrapolation equation: $X_{t|t-1} = F.X_{t-1|t-1} + G.U_{t-1|t-1}$"
   ]
  },
  {
   "cell_type": "code",
   "execution_count": 4,
   "metadata": {
    "scrolled": true
   },
   "outputs": [
    {
     "data": {
      "text/latex": [
       "$\\displaystyle \\left[\\begin{matrix}\\phi_{t|t-1}\\\\\\phi_{b|t|t-1}\\\\\\theta_{t|t-1}\\\\\\theta_{b|t|t-1}\\end{matrix}\\right] = \\left[\\begin{matrix}1 & 0 & 0 & 0\\\\0 & 1 & 0 & 0\\\\0 & 0 & 1 & 0\\\\0 & 0 & 0 & 1\\end{matrix}\\right]\\left[\\begin{matrix}\\phi_{t-1}\\\\\\phi_{b|t-1}\\\\\\theta_{t-1}\\\\\\theta_{b|t-1}\\end{matrix}\\right] + \\left[\\begin{matrix}\\Delta{t} & 0\\\\0 & 0\\\\0 & \\Delta{t}\\\\0 & 0\\end{matrix}\\right]\\left[\\begin{matrix}\\dot{\\phi}_{t-1}\\\\\\dot{\\theta}_{t-1}\\end{matrix}\\right]$"
      ],
      "text/plain": [
       "<IPython.core.display.Math object>"
      ]
     },
     "metadata": {},
     "output_type": "display_data"
    }
   ],
   "source": [
    "display(Math(r'{} = {}{} + {}{}'.format(sp.latex(Xt_predict_compact), sp.latex(F), sp.latex(Xt_previous), sp.latex(G), sp.latex(Ut_previous))))"
   ]
  },
  {
   "cell_type": "markdown",
   "metadata": {},
   "source": [
    "## Predicted system state $X$ (at time t-1, for time t)"
   ]
  },
  {
   "cell_type": "code",
   "execution_count": 5,
   "metadata": {
    "scrolled": false
   },
   "outputs": [
    {
     "data": {
      "text/latex": [
       "$\\displaystyle X_{t|t-1} = \\left[\\begin{matrix}\\phi_{t|t-1}\\\\\\phi_{b|t|t-1}\\\\\\theta_{t|t-1}\\\\\\theta_{b|t|t-1}\\end{matrix}\\right] = \\left[\\begin{matrix}\\Delta{t} \\dot{\\phi}_{t-1} + \\phi_{t-1}\\\\\\phi_{b|t-1}\\\\\\Delta{t} \\dot{\\theta}_{t-1} + \\theta_{t-1}\\\\\\theta_{b|t-1}\\end{matrix}\\right]$"
      ],
      "text/plain": [
       "<IPython.core.display.Math object>"
      ]
     },
     "metadata": {},
     "output_type": "display_data"
    }
   ],
   "source": [
    "Xt_predict = F*Xt_previous+G*Ut_previous\n",
    "\n",
    "display(Math(r'X_{{t|t-1}} = {} = {}'.format(sp.latex(Xt_predict_compact), sp.latex(Xt_predict))))"
   ]
  },
  {
   "cell_type": "markdown",
   "metadata": {},
   "source": [
    "## Process noise"
   ]
  },
  {
   "cell_type": "code",
   "execution_count": 6,
   "metadata": {},
   "outputs": [
    {
     "data": {
      "text/latex": [
       "$\\displaystyle Q = \\left[\\begin{matrix}q_{\\phi}^2 & 0 & 0 & 0\\\\0 & q_{{\\phi}|b}^2 & 0 & 0\\\\0 & 0 & q_{\\theta}^2 & 0\\\\0 & 0 & 0 & q_{{\\theta}|b}^2\\end{matrix}\\right]$"
      ],
      "text/plain": [
       "<IPython.core.display.Math object>"
      ]
     },
     "metadata": {},
     "output_type": "display_data"
    }
   ],
   "source": [
    "# Q = Process noise covariance matrix\n",
    "# q = Process noise standard deviation (sigma) of each state variable\n",
    "\n",
    "Q_roll, Q_roll_bias, Q_pitch, Q_pitch_bias = sp.symbols('q_{\\phi}^2, q_{{\\phi}|b}^2, q_{\\\\theta}^2, q_{{\\\\theta}|b}^2')\n",
    "\n",
    "Q = sp.Matrix([[Q_roll,0,0,0],[0,Q_roll_bias,0,0],[0,0,Q_pitch,0],[0,0,0,Q_pitch_bias]])\n",
    "\n",
    "display(Math(r'Q = {}'.format(sp.latex(Q))))"
   ]
  },
  {
   "cell_type": "markdown",
   "metadata": {},
   "source": [
    "The process noise covariance matrix and its variables in the AP code are as follows:"
   ]
  },
  {
   "cell_type": "code",
   "execution_count": 7,
   "metadata": {
    "scrolled": false
   },
   "outputs": [
    {
     "data": {
      "text/latex": [
       "$\\displaystyle Q_{AP} = \\left[\\begin{matrix}{(gyrNoise*\\Delta{t})}^2 & 0 & 0 & 0\\\\0 & {(gyroBiasProcessNoise*(\\Delta{t})^2)}^2 & 0 & 0\\\\0 & 0 & {(gyrNoise*\\Delta{t})}^2 & 0\\\\0 & 0 & 0 & {(gyroBiasProcessNoise*(\\Delta{t})^2)}^2\\end{matrix}\\right]$"
      ],
      "text/plain": [
       "<IPython.core.display.Math object>"
      ]
     },
     "metadata": {},
     "output_type": "display_data"
    }
   ],
   "source": [
    "Q_roll_AP, Q_roll_bias_AP, Q_pitch_AP, Q_pitch_bias_AP = sp.symbols('{(gyrNoise*\\Delta{t})}^2, {(gyroBiasProcessNoise*(\\Delta{t})^2)}^2, {(gyrNoise*\\Delta{t})}^2, {(gyroBiasProcessNoise*(\\Delta{t})^2)}^2')\n",
    "\n",
    "Q_AP = sp.Matrix([[Q_roll_AP,0,0,0],[0,Q_roll_bias_AP,0,0],[0,0,Q_pitch_AP,0],[0,0,0,Q_pitch_bias_AP]])\n",
    "\n",
    "display(Math(r'Q_{{AP}} = {}'.format(sp.latex(Q_AP))))"
   ]
  },
  {
   "cell_type": "markdown",
   "metadata": {},
   "source": [
    "$gyrNoise = GYRO\\_P\\_NSE$ <br>\n",
    "$gyroBiasProcessNoise = GBIAS\\_P\\_NSE$ <br>"
   ]
  },
  {
   "cell_type": "markdown",
   "metadata": {},
   "source": [
    "## Measurement uncertainty"
   ]
  },
  {
   "cell_type": "code",
   "execution_count": 8,
   "metadata": {
    "scrolled": true
   },
   "outputs": [
    {
     "data": {
      "text/latex": [
       "$\\displaystyle R = \\left[\\begin{matrix}r_{\\phi}^2 & 0 & 0 & 0\\\\0 & r_{\\dot{\\phi}}^2 & 0 & 0\\\\0 & 0 & r_{\\theta}^2 & 0\\\\0 & 0 & 0 & r_{\\dot{\\theta}}^2\\end{matrix}\\right]$"
      ],
      "text/plain": [
       "<IPython.core.display.Math object>"
      ]
     },
     "metadata": {},
     "output_type": "display_data"
    }
   ],
   "source": [
    "# R = Measurement uncertainty covariance matrix\n",
    "# r = Measurement uncertainty standard deviation (sigma) of each sensor that can measure a system state variable\n",
    "\n",
    "R_roll, R_roll_rate, R_pitch, R_pitch_rate = sp.symbols('r_{\\phi}^2, r_{\\dot{\\phi}}^2, r_{\\\\theta}^2, r_{\\dot{\\\\theta}}^2')\n",
    "\n",
    "R = sp.Matrix([[R_roll,0,0,0],[0,R_roll_rate,0,0],[0,0,R_pitch,0],[0,0,0,R_pitch_rate]])\n",
    "\n",
    "display(Math(r'R = {}'.format(sp.latex(R))))"
   ]
  },
  {
   "cell_type": "markdown",
   "metadata": {},
   "source": [
    "The measurement uncertainty covariance matrix and its variables in the AP code are as follows:"
   ]
  },
  {
   "cell_type": "code",
   "execution_count": 29,
   "metadata": {},
   "outputs": [
    {
     "data": {
      "text/latex": [
       "$\\displaystyle R_{AP} = \\left[\\begin{matrix}{(angErr)}^2 & 0 & 0 & 0\\\\0 & {(angErr*\\Delta{t})}^2 & 0 & 0\\\\0 & 0 & {(angErr)}^2 & 0\\\\0 & 0 & 0 & {(angErr*\\Delta{t})}^2\\end{matrix}\\right]$"
      ],
      "text/plain": [
       "<IPython.core.display.Math object>"
      ]
     },
     "metadata": {},
     "output_type": "display_data"
    }
   ],
   "source": [
    "R_angle_AP, R_angle_rate_AP = sp.symbols('{(angErr)}^2, {(angErr*\\Delta{t})}^2')\n",
    "\n",
    "R_AP = sp.Matrix([[R_angle_AP,0,0,0],[0,R_angle_rate_AP,0,0],[0,0,R_angle_AP,0],[0,0,0,R_angle_rate_AP]])\n",
    "\n",
    "display(Math(r'R_{{AP}} = {}'.format(sp.latex(R_AP))))"
   ]
  },
  {
   "cell_type": "markdown",
   "metadata": {},
   "source": [
    "## Initialized estimation uncertainty covariance matrix $P$ (at time t-1, for time t-1)"
   ]
  },
  {
   "cell_type": "code",
   "execution_count": 10,
   "metadata": {},
   "outputs": [
    {
     "data": {
      "text/latex": [
       "$\\displaystyle P_{t-1|t-1} = \\left[\\begin{matrix}P_{{\\phi}|t-1|t-1} & 0 & 0 & 0\\\\0 & P_{{\\phi}|b|t-1|t-1} & 0 & 0\\\\0 & 0 & P_{{\\theta}|t-1|t-1} & 0\\\\0 & 0 & 0 & P_{{\\theta}|b|t-1|t-1}\\end{matrix}\\right]$"
      ],
      "text/plain": [
       "<IPython.core.display.Math object>"
      ]
     },
     "metadata": {},
     "output_type": "display_data"
    }
   ],
   "source": [
    "# Pt_previous = Estimated estimation uncertainty covariance matrix of the system state variables at time t-1\n",
    "\n",
    "P_roll, P_roll_bias, P_pitch, P_pitch_bias = sp.symbols('P_{{\\phi}|t-1|t-1}, P_{{\\phi}|b|t-1|t-1}, P_{{\\\\theta}|t-1|t-1}, P_{{\\\\theta}|b|t-1|t-1}')\n",
    "\n",
    "Pt_previous = sp.Matrix([[P_roll,0,0,0],[0,P_roll_bias,0,0],[0,0,P_pitch,0],[0,0,0,P_pitch_bias]])\n",
    "\n",
    "display(Math(r'P_{{t-1|t-1}} = {}'.format(sp.latex(Pt_previous))))"
   ]
  },
  {
   "cell_type": "markdown",
   "metadata": {},
   "source": [
    "## Predicted estimation uncertainty covariance matrix $P$ (at time t-1, for time t)"
   ]
  },
  {
   "cell_type": "code",
   "execution_count": 11,
   "metadata": {
    "scrolled": true
   },
   "outputs": [
    {
     "data": {
      "text/latex": [
       "$\\displaystyle P_{t|t-1} = \\left[\\begin{matrix}P_{{\\phi}|t-1|t-1} + q_{\\phi}^2 & 0 & 0 & 0\\\\0 & P_{{\\phi}|b|t-1|t-1} + q_{{\\phi}|b}^2 & 0 & 0\\\\0 & 0 & P_{{\\theta}|t-1|t-1} + q_{\\theta}^2 & 0\\\\0 & 0 & 0 & P_{{\\theta}|b|t-1|t-1} + q_{{\\theta}|b}^2\\end{matrix}\\right]$"
      ],
      "text/plain": [
       "<IPython.core.display.Math object>"
      ]
     },
     "metadata": {},
     "output_type": "display_data"
    }
   ],
   "source": [
    "# Pt_predict = Predicted estimation uncertainty covariance matrix of the system state variables at time t\n",
    "\n",
    "Pt_predict = (F*Pt_previous*F.T + Q)\n",
    "\n",
    "display(Math(r'P_{{t|t-1}} = {}'.format(sp.latex(Pt_predict))))"
   ]
  },
  {
   "cell_type": "markdown",
   "metadata": {},
   "source": [
    "## Updated measurement vector (at time t, for time t)"
   ]
  },
  {
   "cell_type": "code",
   "execution_count": 14,
   "metadata": {
    "scrolled": true
   },
   "outputs": [
    {
     "data": {
      "text/latex": [
       "$\\displaystyle Z_{t|t} = \\left[\\begin{matrix}z_{{\\phi}|t}\\\\z_{\\dot{\\phi}|t}\\\\z_{{\\theta}|t}\\\\z_{\\dot{\\theta}|t}\\end{matrix}\\right], H = \\left[\\begin{matrix}1 & 0 & 0 & 0\\\\0 & 0 & 0 & 0\\\\0 & 0 & 1 & 0\\\\0 & 0 & 0 & 0\\end{matrix}\\right]$"
      ],
      "text/plain": [
       "<IPython.core.display.Math object>"
      ]
     },
     "metadata": {},
     "output_type": "display_data"
    }
   ],
   "source": [
    "# Zt_update = Measurement vector at time t containing the sensor measurements\n",
    "# H = Observation matrix to map the measurement vector to the system state variables\n",
    "\n",
    "roll_t, roll_rate_t, pitch_t, pitch_rate_t = sp.symbols('z_{{\\phi}|t}, z_{\\dot{\\phi}|t}, z_{{\\\\theta}|t}, z_{\\dot{\\\\theta}|t}')\n",
    "\n",
    "Zt_update = sp.Matrix([[roll_t],[roll_rate_t],[pitch_t],[pitch_rate_t]])\n",
    "H = sp.Matrix([[1,0,0,0],[0,0,0,0],[0,0,1,0],[0,0,0,0]])\n",
    "\n",
    "display(Math(r'Z_{{t|t}} = {}, H = {}'.format(sp.latex(Zt_update), sp.latex(H))))"
   ]
  },
  {
   "cell_type": "markdown",
   "metadata": {},
   "source": [
    "The measurement vector and its variables in the AP code are as follows:"
   ]
  },
  {
   "cell_type": "code",
   "execution_count": 19,
   "metadata": {
    "scrolled": false
   },
   "outputs": [
    {
     "data": {
      "text/latex": [
       "$\\displaystyle Z_{t|t|AP} = \\left[\\begin{matrix}imuDataDelayed.delAng.x\\\\imuDataDelayed.delAng.x/imuDataDelayed.delAngDT\\\\imuDataDelayed.delAng.y\\\\imuDataDelayed.delAng.y/imuDataDelayed.delAngDT\\end{matrix}\\right]$"
      ],
      "text/plain": [
       "<IPython.core.display.Math object>"
      ]
     },
     "metadata": {},
     "output_type": "display_data"
    }
   ],
   "source": [
    "roll_t_AP, roll_rate_t_AP, pitch_t_AP, pitch_rate_t_AP = sp.symbols('imuDataDelayed.delAng.x, imuDataDelayed.delAng.x/imuDataDelayed.delAngDT, imuDataDelayed.delAng.y, imuDataDelayed.delAng.y/imuDataDelayed.delAngDT')\n",
    "\n",
    "Zt_update_AP = sp.Matrix([[roll_t_AP],[roll_rate_t_AP],[pitch_t_AP],[pitch_rate_t_AP]])\n",
    "display(Math(r'Z_{{t|t|AP}} = {}'.format(sp.latex(Zt_update_AP))))"
   ]
  },
  {
   "cell_type": "markdown",
   "metadata": {},
   "source": [
    "## Updated innovation matrix (at time t, for time t)"
   ]
  },
  {
   "cell_type": "code",
   "execution_count": 20,
   "metadata": {},
   "outputs": [
    {
     "data": {
      "text/latex": [
       "$\\displaystyle Y_{t|t} = \\left[\\begin{matrix}\\phi_{t|t-1} - z_{{\\phi}|t}\\\\- z_{\\dot{\\phi}|t}\\\\\\theta_{t|t-1} - z_{{\\theta}|t}\\\\- z_{\\dot{\\theta}|t}\\end{matrix}\\right]$"
      ],
      "text/plain": [
       "<IPython.core.display.Math object>"
      ]
     },
     "metadata": {},
     "output_type": "display_data"
    }
   ],
   "source": [
    "# Yt_update = Updated innovation matrix at time t\n",
    "\n",
    "Yt_update = H*Xt_predict_compact - Zt_update\n",
    "\n",
    "display(Math(r'Y_{{t|t}} = {}'.format(sp.latex(Yt_update))))"
   ]
  },
  {
   "cell_type": "markdown",
   "metadata": {},
   "source": [
    "## Updated innovation covariance matrix (at time t, for time t)"
   ]
  },
  {
   "cell_type": "code",
   "execution_count": 21,
   "metadata": {
    "scrolled": true
   },
   "outputs": [
    {
     "data": {
      "text/latex": [
       "$\\displaystyle S_{t|t} = \\left[\\begin{matrix}P_{{\\phi}|t-1|t-1} + q_{\\phi}^2 + r_{\\phi}^2 & 0 & 0 & 0\\\\0 & r_{\\dot{\\phi}}^2 & 0 & 0\\\\0 & 0 & P_{{\\theta}|t-1|t-1} + q_{\\theta}^2 + r_{\\theta}^2 & 0\\\\0 & 0 & 0 & r_{\\dot{\\theta}}^2\\end{matrix}\\right]$"
      ],
      "text/plain": [
       "<IPython.core.display.Math object>"
      ]
     },
     "metadata": {},
     "output_type": "display_data"
    }
   ],
   "source": [
    "# St_update = Updated innovation covariance matrix at time t\n",
    "\n",
    "St_update = H*Pt_predict*H.T + R\n",
    "\n",
    "display(Math(r'S_{{t|t}} = {}'.format(sp.latex(St_update))))"
   ]
  },
  {
   "cell_type": "code",
   "execution_count": 22,
   "metadata": {
    "tags": []
   },
   "outputs": [],
   "source": [
    "Num = sp.adjoint(St_update).simplify()"
   ]
  },
  {
   "cell_type": "code",
   "execution_count": 23,
   "metadata": {},
   "outputs": [],
   "source": [
    "Den = sp.det(St_update).simplify()"
   ]
  },
  {
   "cell_type": "code",
   "execution_count": 24,
   "metadata": {},
   "outputs": [
    {
     "data": {
      "text/latex": [
       "$\\displaystyle S_{t|t}^{-1} = \\left[\\begin{matrix}\\frac{\\overline{P_{{\\phi}|t-1|t-1}} + \\overline{q_{\\phi}^2} + \\overline{r_{\\phi}^2}}{r_{\\dot{\\phi}}^2 r_{\\dot{\\theta}}^2 \\left(P_{{\\phi}|t-1|t-1} + q_{\\phi}^2 + r_{\\phi}^2\\right) \\left(P_{{\\theta}|t-1|t-1} + q_{\\theta}^2 + r_{\\theta}^2\\right)} & 0 & 0 & 0\\\\0 & \\frac{\\overline{r_{\\dot{\\phi}}^2}}{r_{\\dot{\\phi}}^2 r_{\\dot{\\theta}}^2 \\left(P_{{\\phi}|t-1|t-1} + q_{\\phi}^2 + r_{\\phi}^2\\right) \\left(P_{{\\theta}|t-1|t-1} + q_{\\theta}^2 + r_{\\theta}^2\\right)} & 0 & 0\\\\0 & 0 & \\frac{\\overline{P_{{\\theta}|t-1|t-1}} + \\overline{q_{\\theta}^2} + \\overline{r_{\\theta}^2}}{r_{\\dot{\\phi}}^2 r_{\\dot{\\theta}}^2 \\left(P_{{\\phi}|t-1|t-1} + q_{\\phi}^2 + r_{\\phi}^2\\right) \\left(P_{{\\theta}|t-1|t-1} + q_{\\theta}^2 + r_{\\theta}^2\\right)} & 0\\\\0 & 0 & 0 & \\frac{\\overline{r_{\\dot{\\theta}}^2}}{r_{\\dot{\\phi}}^2 r_{\\dot{\\theta}}^2 \\left(P_{{\\phi}|t-1|t-1} + q_{\\phi}^2 + r_{\\phi}^2\\right) \\left(P_{{\\theta}|t-1|t-1} + q_{\\theta}^2 + r_{\\theta}^2\\right)}\\end{matrix}\\right]$"
      ],
      "text/plain": [
       "<IPython.core.display.Math object>"
      ]
     },
     "metadata": {},
     "output_type": "display_data"
    }
   ],
   "source": [
    "St_inv = (Num/Den).simplify()\n",
    "\n",
    "display(Math(r'S_{{t|t}}^{{-1}} = {}'.format(sp.latex(St_inv))))"
   ]
  },
  {
   "cell_type": "markdown",
   "metadata": {},
   "source": [
    "## Updated Kalman gain $K$ (at time t, for time t)"
   ]
  },
  {
   "cell_type": "code",
   "execution_count": 25,
   "metadata": {
    "tags": []
   },
   "outputs": [
    {
     "data": {
      "text/latex": [
       "$\\displaystyle K_{t|t} = \\left[\\begin{matrix}\\frac{\\left(P_{{\\phi}|t-1|t-1} + q_{\\phi}^2\\right) \\left(\\overline{P_{{\\phi}|t-1|t-1}} + \\overline{q_{\\phi}^2} + \\overline{r_{\\phi}^2}\\right)}{r_{\\dot{\\phi}}^2 r_{\\dot{\\theta}}^2 \\left(P_{{\\phi}|t-1|t-1} + q_{\\phi}^2 + r_{\\phi}^2\\right) \\left(P_{{\\theta}|t-1|t-1} + q_{\\theta}^2 + r_{\\theta}^2\\right)} & 0 & 0 & 0\\\\0 & 0 & 0 & 0\\\\0 & 0 & \\frac{\\left(P_{{\\theta}|t-1|t-1} + q_{\\theta}^2\\right) \\left(\\overline{P_{{\\theta}|t-1|t-1}} + \\overline{q_{\\theta}^2} + \\overline{r_{\\theta}^2}\\right)}{r_{\\dot{\\phi}}^2 r_{\\dot{\\theta}}^2 \\left(P_{{\\phi}|t-1|t-1} + q_{\\phi}^2 + r_{\\phi}^2\\right) \\left(P_{{\\theta}|t-1|t-1} + q_{\\theta}^2 + r_{\\theta}^2\\right)} & 0\\\\0 & 0 & 0 & 0\\end{matrix}\\right]$"
      ],
      "text/plain": [
       "<IPython.core.display.Math object>"
      ]
     },
     "metadata": {},
     "output_type": "display_data"
    }
   ],
   "source": [
    "# Kt_update = Updated Kalman gain at time t\n",
    "\n",
    "Kt_update = (Pt_predict*H.T*St_inv).simplify()\n",
    "\n",
    "display(Math(r'K_{{t|t}} = {}'.format(sp.latex(Kt_update))))"
   ]
  },
  {
   "cell_type": "markdown",
   "metadata": {},
   "source": [
    "## Estimated system state $X$ (at time t, for time t)"
   ]
  },
  {
   "cell_type": "code",
   "execution_count": 26,
   "metadata": {},
   "outputs": [
    {
     "data": {
      "text/latex": [
       "$\\displaystyle X_{t|t} = \\left[\\begin{matrix}\\phi_{t|t-1} + \\frac{\\left(P_{{\\phi}|t-1|t-1} + q_{\\phi}^2\\right) \\left(\\phi_{t|t-1} - z_{{\\phi}|t}\\right) \\left(\\overline{P_{{\\phi}|t-1|t-1}} + \\overline{q_{\\phi}^2} + \\overline{r_{\\phi}^2}\\right)}{r_{\\dot{\\phi}}^2 r_{\\dot{\\theta}}^2 \\left(P_{{\\phi}|t-1|t-1} + q_{\\phi}^2 + r_{\\phi}^2\\right) \\left(P_{{\\theta}|t-1|t-1} + q_{\\theta}^2 + r_{\\theta}^2\\right)}\\\\\\phi_{b|t|t-1}\\\\\\theta_{t|t-1} + \\frac{\\left(P_{{\\theta}|t-1|t-1} + q_{\\theta}^2\\right) \\left(\\theta_{t|t-1} - z_{{\\theta}|t}\\right) \\left(\\overline{P_{{\\theta}|t-1|t-1}} + \\overline{q_{\\theta}^2} + \\overline{r_{\\theta}^2}\\right)}{r_{\\dot{\\phi}}^2 r_{\\dot{\\theta}}^2 \\left(P_{{\\phi}|t-1|t-1} + q_{\\phi}^2 + r_{\\phi}^2\\right) \\left(P_{{\\theta}|t-1|t-1} + q_{\\theta}^2 + r_{\\theta}^2\\right)}\\\\\\theta_{b|t|t-1}\\end{matrix}\\right]$"
      ],
      "text/plain": [
       "<IPython.core.display.Math object>"
      ]
     },
     "metadata": {},
     "output_type": "display_data"
    }
   ],
   "source": [
    "# Xt_estimate = Estimated system state at time t\n",
    "\n",
    "Xt_estimate = (Xt_predict_compact + Kt_update*(Yt_update))\n",
    "\n",
    "display(Math(r'X_{{t|t}} = {}'.format(sp.latex(Xt_estimate))))"
   ]
  },
  {
   "cell_type": "markdown",
   "metadata": {},
   "source": [
    "## Estimated estimation uncertainty covariance matrix $P$ (at time t, for time t)"
   ]
  },
  {
   "cell_type": "code",
   "execution_count": 28,
   "metadata": {},
   "outputs": [
    {
     "data": {
      "text/latex": [
       "$\\displaystyle P_{t|t} = \\left[\\begin{matrix}\\left(1 - \\frac{\\left(P_{{\\phi}|t-1|t-1} + q_{\\phi}^2\\right) \\left(\\overline{P_{{\\phi}|t-1|t-1}} + \\overline{q_{\\phi}^2} + \\overline{r_{\\phi}^2}\\right)}{r_{\\dot{\\phi}}^2 r_{\\dot{\\theta}}^2 \\left(P_{{\\phi}|t-1|t-1} + q_{\\phi}^2 + r_{\\phi}^2\\right) \\left(P_{{\\theta}|t-1|t-1} + q_{\\theta}^2 + r_{\\theta}^2\\right)}\\right) \\left(P_{{\\phi}|t-1|t-1} + q_{\\phi}^2\\right) & 0 & 0 & 0\\\\0 & P_{{\\phi}|b|t-1|t-1} + q_{{\\phi}|b}^2 & 0 & 0\\\\0 & 0 & \\left(1 - \\frac{\\left(P_{{\\theta}|t-1|t-1} + q_{\\theta}^2\\right) \\left(\\overline{P_{{\\theta}|t-1|t-1}} + \\overline{q_{\\theta}^2} + \\overline{r_{\\theta}^2}\\right)}{r_{\\dot{\\phi}}^2 r_{\\dot{\\theta}}^2 \\left(P_{{\\phi}|t-1|t-1} + q_{\\phi}^2 + r_{\\phi}^2\\right) \\left(P_{{\\theta}|t-1|t-1} + q_{\\theta}^2 + r_{\\theta}^2\\right)}\\right) \\left(P_{{\\theta}|t-1|t-1} + q_{\\theta}^2\\right) & 0\\\\0 & 0 & 0 & P_{{\\theta}|b|t-1|t-1} + q_{{\\theta}|b}^2\\end{matrix}\\right]$"
      ],
      "text/plain": [
       "<IPython.core.display.Math object>"
      ]
     },
     "metadata": {},
     "output_type": "display_data"
    }
   ],
   "source": [
    "# Pt_estimate = Estimated estimation uncertainty matrix of the system state variables at time t\n",
    "\n",
    "I = sp.Matrix([[1,0,0,0],[0,1,0,0],[0,0,1,0],[0,0,0,1]])\n",
    "\n",
    "Pt_estimate = ((I - Kt_update*H)*Pt_predict)\n",
    "\n",
    "display(Math(r'P_{{t|t}} = {}'.format(sp.latex(Pt_estimate))))"
   ]
  }
 ],
 "metadata": {
  "kernelspec": {
   "display_name": "Python 3 (ipykernel)",
   "language": "python",
   "name": "python3"
  },
  "language_info": {
   "codemirror_mode": {
    "name": "ipython",
    "version": 3
   },
   "file_extension": ".py",
   "mimetype": "text/x-python",
   "name": "python",
   "nbconvert_exporter": "python",
   "pygments_lexer": "ipython3",
   "version": "3.10.9"
  }
 },
 "nbformat": 4,
 "nbformat_minor": 4
}
