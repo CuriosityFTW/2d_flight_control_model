{
 "cells": [
  {
   "cell_type": "markdown",
   "metadata": {},
   "source": [
    "# <p style=\"text-align: center;\"> AP EKF yaw angle and bias estimation"
   ]
  },
  {
   "cell_type": "code",
   "execution_count": 25,
   "metadata": {
    "tags": []
   },
   "outputs": [],
   "source": [
    "import sympy as sp\n",
    "import numpy as np\n",
    "from scipy import linalg\n",
    "from sympy import *\n",
    "from IPython.display import Math, Latex"
   ]
  },
  {
   "cell_type": "markdown",
   "metadata": {},
   "source": [
    "## List of tuning parameters for yaw fusion\n",
    "#### A. Process noise parameters\n",
    "1. $GYRO\\_P\\_NSE$ : Rate gyro noise [rad/s] $(AP \\; value: 0.03)$ <br>\n",
    "&emsp; <b>AP definition:</b> This control disturbance noise controls the growth of estimated error due to gyro measurement errors excluding bias. Increasing it makes the flter trust the gyro measurements less and other measurements more. <br>\n",
    "<font color = red> <i><b>Interpretation:</b> This parameter dictates the amount of deviation from the motion model (of angular velocities) that the estimated model (of angular velocities) can have, i.e., whether the estimated model (of angular velocities) will follow the motion model (of angular velocities) or the true values (of angular velocities).</i> </font> <br>\n",
    "<font color = red> <i><b>Increasing the parameter:</b> The estimated model (of angular velocities) will follow the true model (of angular velocities) and will be more sensitive to noisy measurements.</i> </font> <br>\n",
    "<font color = red> <i><b>Decreasing the parameter:</b> The estimated model (of angular velocities) will follow the motion model (of angular velocities), will be less sensitive to noisy measurements, and rapid changes in the true model (of angular velocities) will be ignored (which should actually be tracked.).</i> </font> <br>\n",
    "</br>\n",
    "2. $GBIAS\\_P\\_NSE$ : Rate gyro bias stability [rad/s/s] $(AP \\; value: 0.0005)$ <br>\n",
    "&emsp; <b>AP definition:</b> This state  process noise controls growth of the gyro delta angle bias state error estimate. Increasing it makes rate gyro bias estimation faster and noisier. <br>\n",
    "<font color = red> <i><b>Interpretation:</b> This parameter dictates the amount of deviation from the motion model (of angular velocities bias) that the estimated model (of angular velocities bias) can have, i.e., whether the estimated model (of angular velocities bias) will follow the motion model (of angular velocities bias) or the true values (of angular velocities bias).</i> </font> <br>\n",
    "<font color = red> <i><b>Increasing the parameter:</b> The estimated model (of angular velocities bias) will follow the true model (of angular velocities bias) and will be more sensitive to noisy measurements.</i> </font> <br>\n",
    "<font color = red> <i><b>Decreasing the parameter:</b> The estimated model (of angular velocities bias) will follow the motion model (of angular velocities bias), will be less sensitive to noisy measurements, and rapid changes in the true model (of angular velocities bias) will be ignored (which should actually be tracked.).</i> </font>\n",
    "\n",
    "#### B. Measurement uncertainty parameters\n",
    "3. $YAW\\_M\\_NSE$ : Yaw measurement noise [rad] $(AP \\; value: 0.5)$ <br>\n",
    "&emsp; <b>AP definition:</b> This is the RMS value of noise in yaw measurements from the magnetometer. Increasing it reduces the weighting on these measurements. <br>\n",
    "<font color = red> <i><b>Interpretation:</b> This parameter denotes the yaw measurement accuracy of the gyroscope. It dictates whether the estimated model (of yaw) will follow the motion model (of yaw) or the true measurements (of yaw).</i> </font> <br>\n",
    "<font color = red> <i><b>Increasing the parameter:</b> The estimated model (of yaw) will favor the motion model (of yaw) and rapid changes in the true measurements (of yaw) will be ignored.</i> </font> <br>\n",
    "<font color = red> <i><b>Decreasing the parameter:</b> The estimated model (of yaw) will favor the true measurements (of yaw).</i> </font> <br>\n",
    "</br>\n",
    "4. $MAG\\_M\\_NSE$ : Magnetometer measurement noise [Gauss] $(AP \\; value: 0.05)$ <br>\n",
    "&emsp; <b>AP definition:</b> This is the RMS value of noise in magnetometer measurements. Increasing it reduces the weighting on these measurements. <br>\n",
    "<font color = red> <i><b>Interpretation:</b> This parameter denotes the yaw measurement accuracy of the compass. It dictates whether the estimated model (of yaw) will follow the motion model (of yaw) or the true measurements (of yaw).</i> </font> <br>\n",
    "<font color = red> <i><b>Increasing the parameter:</b> The estimated model (of yaw) will favor the motion model (of yaw) and rapid changes in the true measurements (of yaw) will be ignored.</i> </font> <br>\n",
    "<font color = red> <i><b>Decreasing the parameter:</b> The estimated model (of yaw) will favor the true measurements (of yaw).</i> </font>\n",
    "\n",
    "#### C. Innovation consistency check parameters\n",
    "5. $YAW\\_I\\_GATE$ : Yaw measurement gate size [%] $(AP \\; value: 300)$ <br>\n",
    "&emsp; <b>AP definition:</b> This sets the percentage number of standard deviations applied to the magnetometer yaw measurement innovation consistency check. Decreasing it makes it more likely that good measurements will be rejected. Increasing it makes it more likely that bad measurements will be accepted. <br>\n",
    "<font color = red> <i><b>Interpretation:</b> This parameter sets the margin within which if the difference between the estimated and measured yaw falls, fusion of yaw will be successful.</i> </font> <br>\n",
    "<font color = red> <i><b>Increasing the parameter:</b> The margin will be wider making it possible that even larger differences between the estimated and measured yaw are accepted for fusion. Bad measurements may be accepted in this way.</i> </font> <br>\n",
    "<font color = red> <i><b>Decreasing the parameter:</b> The margin will be narrower, allowing only small differences between the estimated and measured yaw to be accepted for fusion. Good measurements may be rejected in this way.</i> </font> <br>\n",
    "</br>\n",
    "6. $FS\\_EKF\\_THRESH$ : EKF failsafe variance threshold $(AP \\; value: 0.8)$ <br>\n",
    "&emsp; <b>AP definition:</b> Allows setting the maximum acceptable compass, position, and velocity variance. <br>\n",
    "<font color = red> <i><b>Interpretation:</b> This parameter can be thought of as the RMS value of the innovations of yaw. While the GATE parameter defines a margin to accept or reject (fluctuating) measurements, the FS_EKF_THRESH parameter defines a maximum acceptable limit on the stable or RMS values of the innovations, exceeding which will result in an EKF failsafe action. A balance has to be struck between choosing the two parameters so as to satisfy the margin as well as the limit.</i> </font> <br>\n",
    "<font color = red> <i><b>Increasing the parameter:</b> In the worst case scenario, having a high GATE parameter (s.t. for e.g. posTestRatio $<$ 1) and also increasing the FS_EKF_THRESH parameter will result in bad measurements with high RMS values to be accepted, therefore resulting in a reduced estimation accuracy.</i> </font> <br>\n",
    "<font color = red> <i><b>Decreasing the parameter:</b> In the worst case scenario, having a low GATE parameter (s.t. for e.g. posTestRatio $<$ 1) and also decreasing the FS_EKF_THRESH parameter will result in good measurements with low RMS values to be rejected, therefore resulting in an EKF failsafe action.</i> </font>"
   ]
  },
  {
   "cell_type": "markdown",
   "metadata": {},
   "source": [
    "## System model"
   ]
  },
  {
   "cell_type": "markdown",
   "metadata": {},
   "source": [
    "The system model is represented in the form of the state extrapolation equation: <br>\n",
    "<p style=\"text-align: center;\"> $X_{t|t-1} = F.X_{t-1|t-1} + G.U_{t-1|t-1}$ <br> </p>\n",
    "\n",
    "where, <br>\n",
    "$X_{t|t-1}$ = Predicted system state at time t <br>\n",
    "$F$ = State transition matrix <br>\n",
    "$X_{t-1|t-1}$ = System state at time t-1 <br>\n",
    "$G$ = Control matrix <br>\n",
    "$U_{t-1|t-1}$ = Control vector at time t-1"
   ]
  },
  {
   "cell_type": "code",
   "execution_count": 3,
   "metadata": {
    "scrolled": false
   },
   "outputs": [
    {
     "data": {
      "text/latex": [
       "$\\displaystyle X_{t|t-1} = \\left[\\begin{matrix}\\Psi_{t|t-1}\\\\\\Psi_{b|t|t-1}\\end{matrix}\\right], F = \\left[\\begin{matrix}1 & 0\\\\0 & 1\\end{matrix}\\right], X_{t-1|t-1} = \\left[\\begin{matrix}\\Psi_{t-1}\\\\\\Psi_{b|t-1}\\end{matrix}\\right], G = \\left[\\begin{matrix}\\Delta{t}\\\\0\\end{matrix}\\right], U_{t-1|t-1} = \\left[\\begin{matrix}\\dot{\\Psi}_{t-1}\\end{matrix}\\right]$"
      ],
      "text/plain": [
       "<IPython.core.display.Math object>"
      ]
     },
     "metadata": {},
     "output_type": "display_data"
    }
   ],
   "source": [
    "# XT_predict_compact = Predicted system state at time t\n",
    "# F = State transition matrix\n",
    "# XT_previous = System state at time t-1\n",
    "# G = Control matrix\n",
    "# U = Control vector at time t-1\n",
    "\n",
    "yaw_t1, yaw_bias_t1, yaw_t, yaw_rate_t, yaw_bias_t, delt = sp.symbols('\\Psi_{t|t-1}, \\Psi_{b|t|t-1}, \\Psi_{t-1}, \\dot{\\Psi}_{t-1}, \\Psi_{b|t-1}, \\Delta{t}')\n",
    "\n",
    "Xt_predict_compact = sp.Matrix([[yaw_t1],[yaw_bias_t1]])\n",
    "F = sp.Matrix([[1,0],[0,1]])\n",
    "Xt_previous = sp.Matrix([[yaw_t],[yaw_bias_t]])\n",
    "G = sp.Matrix([[delt],[0]])\n",
    "Ut_previous = sp.Matrix([[yaw_rate_t]])\n",
    "\n",
    "display(Math(r'X_{{t|t-1}} = {}, F = {}, X_{{t-1|t-1}} = {}, G = {}, U_{{t-1|t-1}} = {}'.format(sp.latex(Xt_predict_compact), sp.latex(F), sp.latex(Xt_previous), sp.latex(G), sp.latex(Ut_previous))))"
   ]
  },
  {
   "cell_type": "markdown",
   "metadata": {},
   "source": [
    "Arranging the matrices in the form of the state extrapolation equation: $X_{t|t-1} = F.X_{t-1|t-1} + G.U_{t-1|t-1}$"
   ]
  },
  {
   "cell_type": "code",
   "execution_count": 4,
   "metadata": {
    "scrolled": true
   },
   "outputs": [
    {
     "data": {
      "text/latex": [
       "$\\displaystyle \\left[\\begin{matrix}\\Psi_{t|t-1}\\\\\\Psi_{b|t|t-1}\\end{matrix}\\right] = \\left[\\begin{matrix}1 & 0\\\\0 & 1\\end{matrix}\\right]\\left[\\begin{matrix}\\Psi_{t-1}\\\\\\Psi_{b|t-1}\\end{matrix}\\right] + \\left[\\begin{matrix}\\Delta{t}\\\\0\\end{matrix}\\right]\\left[\\begin{matrix}\\dot{\\Psi}_{t-1}\\end{matrix}\\right]$"
      ],
      "text/plain": [
       "<IPython.core.display.Math object>"
      ]
     },
     "metadata": {},
     "output_type": "display_data"
    }
   ],
   "source": [
    "display(Math(r'{} = {}{} + {}{}'.format(sp.latex(Xt_predict_compact), sp.latex(F), sp.latex(Xt_previous), sp.latex(G), sp.latex(Ut_previous))))"
   ]
  },
  {
   "cell_type": "markdown",
   "metadata": {},
   "source": [
    "## Predicted system state $X$ (at time t-1, for time t)"
   ]
  },
  {
   "cell_type": "code",
   "execution_count": 5,
   "metadata": {
    "scrolled": false
   },
   "outputs": [
    {
     "data": {
      "text/latex": [
       "$\\displaystyle X_{t|t-1} = \\left[\\begin{matrix}\\Psi_{t|t-1}\\\\\\Psi_{b|t|t-1}\\end{matrix}\\right] = \\left[\\begin{matrix}\\Delta{t} \\dot{\\Psi}_{t-1} + \\Psi_{t-1}\\\\\\Psi_{b|t-1}\\end{matrix}\\right]$"
      ],
      "text/plain": [
       "<IPython.core.display.Math object>"
      ]
     },
     "metadata": {},
     "output_type": "display_data"
    }
   ],
   "source": [
    "Xt_predict = F*Xt_previous+G*Ut_previous\n",
    "\n",
    "display(Math(r'X_{{t|t-1}} = {} = {}'.format(sp.latex(Xt_predict_compact), sp.latex(Xt_predict))))"
   ]
  },
  {
   "cell_type": "markdown",
   "metadata": {},
   "source": [
    "## Process noise"
   ]
  },
  {
   "cell_type": "code",
   "execution_count": 6,
   "metadata": {},
   "outputs": [
    {
     "data": {
      "text/latex": [
       "$\\displaystyle Q = \\left[\\begin{matrix}q_{\\Psi}^2 & 0\\\\0 & q_{{\\Psi}|b}^2\\end{matrix}\\right]$"
      ],
      "text/plain": [
       "<IPython.core.display.Math object>"
      ]
     },
     "metadata": {},
     "output_type": "display_data"
    }
   ],
   "source": [
    "# Q = Process noise covariance matrix\n",
    "# q = Process noise standard deviation (sigma) of each state variable\n",
    "\n",
    "Q_yaw, Q_yaw_bias = sp.symbols('q_{\\Psi}^2, q_{{\\Psi}|b}^2')\n",
    "\n",
    "Q = sp.Matrix([[Q_yaw,0,],[0,Q_yaw_bias]])\n",
    "\n",
    "display(Math(r'Q = {}'.format(sp.latex(Q))))"
   ]
  },
  {
   "cell_type": "markdown",
   "metadata": {},
   "source": [
    "The process noise covariance matrix and its variables in the AP code are as follows:"
   ]
  },
  {
   "cell_type": "code",
   "execution_count": 7,
   "metadata": {
    "scrolled": false
   },
   "outputs": [
    {
     "data": {
      "text/latex": [
       "$\\displaystyle Q_{AP} = \\left[\\begin{matrix}{(gyrNoise*\\Delta{t})}^2 & 0\\\\0 & {(gyroBiasProcessNoise*(\\Delta{t})^2)}^2\\end{matrix}\\right]$"
      ],
      "text/plain": [
       "<IPython.core.display.Math object>"
      ]
     },
     "metadata": {},
     "output_type": "display_data"
    }
   ],
   "source": [
    "Q_yaw_AP, Q_yaw_bias_AP = sp.symbols('{(gyrNoise*\\Delta{t})}^2, {(gyroBiasProcessNoise*(\\Delta{t})^2)}^2')\n",
    "\n",
    "Q_AP = sp.Matrix([[Q_yaw_AP,0],[0,Q_yaw_bias_AP]])\n",
    "\n",
    "display(Math(r'Q_{{AP}} = {}'.format(sp.latex(Q_AP))))"
   ]
  },
  {
   "cell_type": "markdown",
   "metadata": {},
   "source": [
    "$gyrNoise = GYRO\\_P\\_NSE$ <br>\n",
    "$gyroBiasProcessNoise = GBIAS\\_P\\_NSE$ <br>"
   ]
  },
  {
   "cell_type": "markdown",
   "metadata": {},
   "source": [
    "## Measurement uncertainty"
   ]
  },
  {
   "cell_type": "code",
   "execution_count": 8,
   "metadata": {
    "scrolled": true
   },
   "outputs": [
    {
     "data": {
      "text/latex": [
       "$\\displaystyle R = \\left[\\begin{matrix}r_{\\Psi}^2 & 0\\\\0 & r_{\\dot{\\Psi}}^2\\end{matrix}\\right]$"
      ],
      "text/plain": [
       "<IPython.core.display.Math object>"
      ]
     },
     "metadata": {},
     "output_type": "display_data"
    }
   ],
   "source": [
    "# R = Measurement uncertainty covariance matrix\n",
    "# r = Measurement uncertainty standard deviation (sigma) of each sensor that can measure a system state variable\n",
    "\n",
    "R_yaw, R_yaw_rate = sp.symbols('r_{\\Psi}^2, r_{\\dot{\\Psi}}^2')\n",
    "\n",
    "R = sp.Matrix([[R_yaw,0],[0,R_yaw_rate]])\n",
    "\n",
    "display(Math(r'R = {}'.format(sp.latex(R))))"
   ]
  },
  {
   "cell_type": "markdown",
   "metadata": {},
   "source": [
    "The measurement uncertainty covariance matrix and its variables in the AP code are as follows:"
   ]
  },
  {
   "cell_type": "code",
   "execution_count": 24,
   "metadata": {},
   "outputs": [
    {
     "data": {
      "text/latex": [
       "$\\displaystyle R_{AP} = \\left[\\begin{matrix}{(yawAngDataDelayed.yawAngErr)}^2 & 0\\\\0 & {(yawAngDataDelayed.yawAngErr/\\Delta{t})}^2\\end{matrix}\\right]$"
      ],
      "text/plain": [
       "<IPython.core.display.Math object>"
      ]
     },
     "metadata": {},
     "output_type": "display_data"
    }
   ],
   "source": [
    "R_yaw_AP, R_yaw_rate_AP = sp.symbols('{(yawAngDataDelayed.yawAngErr)}^2, {(yawAngDataDelayed.yawAngErr/\\Delta{t})}^2')\n",
    "\n",
    "R_AP = sp.Matrix([[R_yaw_AP,0],[0,R_yaw_rate_AP]])\n",
    "\n",
    "display(Math(r'R_{{AP}} = {}'.format(sp.latex(R_AP))))"
   ]
  },
  {
   "cell_type": "markdown",
   "metadata": {},
   "source": [
    "#### Note on $R_{AP}$:\n",
    "If yawFusionMethod = GPS <br>\n",
    "&emsp; $R_{AP|11} = (yawAngDataDelayed.yawAngErr)^2 = (yawNoise)^2 = (YAW\\_M\\_NSE)^2$ <br>\n",
    "Else <br>\n",
    "If yawFusionMethod = GSF <br>\n",
    "&emsp; $R_{AP|11} = gsfYawVariance$ <br>\n",
    "Else <br>\n",
    "If yawFusionMethod = Static <br>\n",
    "&emsp; $R_{AP|11} = (yawAngDataStatic.yawAngErr)^2 = (yawNoise)^2 = (YAW\\_M\\_NSE)^2$ <br>\n",
    "Else <br>\n",
    "If yawFusionMethod = Magnetometer <br>\n",
    "&emsp; $R_{AP|11} = (magNoise)^2 = (MAG\\_M\\_NSE)^2$ <br>\n",
    "Else <br>\n",
    "If yawFusionMethod = Predicted <br>\n",
    "&emsp; $R_{AP|11} = (yawNoise)^2 = (MAG\\_M\\_NSE)^2$"
   ]
  },
  {
   "cell_type": "markdown",
   "metadata": {},
   "source": [
    "## Initialized estimation uncertainty covariance matrix $P$ (at time t-1, for time t-1)"
   ]
  },
  {
   "cell_type": "code",
   "execution_count": 10,
   "metadata": {},
   "outputs": [
    {
     "data": {
      "text/latex": [
       "$\\displaystyle P_{t-1|t-1} = \\left[\\begin{matrix}P_{{\\Psi}|t-1|t-1} & 0\\\\0 & P_{{\\Psi}|b|t-1|t-1}\\end{matrix}\\right]$"
      ],
      "text/plain": [
       "<IPython.core.display.Math object>"
      ]
     },
     "metadata": {},
     "output_type": "display_data"
    }
   ],
   "source": [
    "# Pt_previous = Estimated estimation uncertainty covariance matrix of the system state variables at time t-1\n",
    "\n",
    "P_yaw, P_yaw_bias = sp.symbols('P_{{\\Psi}|t-1|t-1}, P_{{\\Psi}|b|t-1|t-1}')\n",
    "\n",
    "Pt_previous = sp.Matrix([[P_yaw,0],[0,P_yaw_bias]])\n",
    "\n",
    "display(Math(r'P_{{t-1|t-1}} = {}'.format(sp.latex(Pt_previous))))"
   ]
  },
  {
   "cell_type": "markdown",
   "metadata": {},
   "source": [
    "## Predicted estimation uncertainty covariance matrix $P$ (at time t-1, for time t)"
   ]
  },
  {
   "cell_type": "code",
   "execution_count": 11,
   "metadata": {
    "scrolled": true
   },
   "outputs": [
    {
     "data": {
      "text/latex": [
       "$\\displaystyle P_{t|t-1} = \\left[\\begin{matrix}P_{{\\Psi}|t-1|t-1} + q_{\\Psi}^2 & 0\\\\0 & P_{{\\Psi}|b|t-1|t-1} + q_{{\\Psi}|b}^2\\end{matrix}\\right]$"
      ],
      "text/plain": [
       "<IPython.core.display.Math object>"
      ]
     },
     "metadata": {},
     "output_type": "display_data"
    }
   ],
   "source": [
    "# Pt_predict = Predicted estimation uncertainty covariance matrix of the system state variables at time t\n",
    "\n",
    "Pt_predict = (F*Pt_previous*F.T + Q)\n",
    "\n",
    "display(Math(r'P_{{t|t-1}} = {}'.format(sp.latex(Pt_predict))))"
   ]
  },
  {
   "cell_type": "markdown",
   "metadata": {},
   "source": [
    "## Updated measurement vector (at time t, for time t)"
   ]
  },
  {
   "cell_type": "code",
   "execution_count": 12,
   "metadata": {
    "scrolled": true
   },
   "outputs": [
    {
     "data": {
      "text/latex": [
       "$\\displaystyle Z_{t|t} = \\left[\\begin{matrix}z_{{\\Psi}|t}\\\\z_{\\dot{\\Psi}|t}\\end{matrix}\\right], H = \\left[\\begin{matrix}1 & 0\\\\0 & 0\\end{matrix}\\right]$"
      ],
      "text/plain": [
       "<IPython.core.display.Math object>"
      ]
     },
     "metadata": {},
     "output_type": "display_data"
    }
   ],
   "source": [
    "# Zt_update = Measurement vector at time t containing the sensor measurements\n",
    "# H = Observation matrix to map the measurement vector to the system state variables\n",
    "\n",
    "yaw_t, yaw_rate_t = sp.symbols('z_{{\\Psi}|t}, z_{\\dot{\\Psi}|t}')\n",
    "\n",
    "Zt_update = sp.Matrix([[yaw_t],[yaw_rate_t]])\n",
    "H = sp.Matrix([[1,0],[0,0]])\n",
    "\n",
    "display(Math(r'Z_{{t|t}} = {}, H = {}'.format(sp.latex(Zt_update), sp.latex(H))))"
   ]
  },
  {
   "cell_type": "markdown",
   "metadata": {},
   "source": [
    "The measurement vector and its variables in the AP code are as follows:"
   ]
  },
  {
   "cell_type": "code",
   "execution_count": 13,
   "metadata": {
    "scrolled": false
   },
   "outputs": [
    {
     "data": {
      "text/latex": [
       "$\\displaystyle Z_{t|t|AP} = \\left[\\begin{matrix}yawAngDataDelayed.yawAng\\\\yawAngDataDelayed.yawAng/imuDataDelayed.delAngDT\\end{matrix}\\right]$"
      ],
      "text/plain": [
       "<IPython.core.display.Math object>"
      ]
     },
     "metadata": {},
     "output_type": "display_data"
    }
   ],
   "source": [
    "yaw_t_AP, yaw_rate_t_AP = sp.symbols('yawAngDataDelayed.yawAng, yawAngDataDelayed.yawAng/imuDataDelayed.delAngDT')\n",
    "\n",
    "Zt_update_AP = sp.Matrix([[yaw_t_AP],[yaw_rate_t_AP]])\n",
    "display(Math(r'Z_{{t|t|AP}} = {}'.format(sp.latex(Zt_update_AP))))"
   ]
  },
  {
   "cell_type": "markdown",
   "metadata": {},
   "source": [
    "#### Note on $Z_{t|t|AP}$:\n",
    "If yawFusionMethod = GPS <br>\n",
    "&emsp; $Z_{t|t|AP|11} = yawAngDataDelayed.yawAng$ <br>\n",
    "Else <br>\n",
    "If yawFusionMethod = GSF <br>\n",
    "&emsp; $Z_{t|t|AP|11} = gsfYaw$ <br>\n",
    "Else <br>\n",
    "If yawFusionMethod = Static <br>\n",
    "&emsp; $Z_{t|t|AP|11} = yawAngDataStatic.yawAng$ <br>\n",
    "Else <br>\n",
    "If yawFusionMethod = Magnetometer <br>\n",
    "&emsp; $Z_{t|t|AP|11} = yawAngMeasured$ <br>\n",
    "Else <br>\n",
    "If yawFusionMethod = Predicted <br>\n",
    "&emsp; $Z_{t|t|AP|11} = not \\; mentioned \\; in \\; AP \\; code$"
   ]
  },
  {
   "cell_type": "markdown",
   "metadata": {},
   "source": [
    "## Updated innovation matrix (at time t, for time t)"
   ]
  },
  {
   "cell_type": "code",
   "execution_count": 14,
   "metadata": {},
   "outputs": [
    {
     "data": {
      "text/latex": [
       "$\\displaystyle Y_{t|t} = \\left[\\begin{matrix}\\Psi_{t|t-1} - z_{{\\Psi}|t}\\\\- z_{\\dot{\\Psi}|t}\\end{matrix}\\right]$"
      ],
      "text/plain": [
       "<IPython.core.display.Math object>"
      ]
     },
     "metadata": {},
     "output_type": "display_data"
    }
   ],
   "source": [
    "# Yt_update = Updated innovation matrix at time t\n",
    "\n",
    "Yt_update = H*Xt_predict_compact - Zt_update\n",
    "\n",
    "display(Math(r'Y_{{t|t}} = {}'.format(sp.latex(Yt_update))))"
   ]
  },
  {
   "cell_type": "markdown",
   "metadata": {},
   "source": [
    "## Updated innovation covariance matrix (at time t, for time t)"
   ]
  },
  {
   "cell_type": "code",
   "execution_count": 15,
   "metadata": {
    "scrolled": true
   },
   "outputs": [
    {
     "data": {
      "text/latex": [
       "$\\displaystyle S_{t|t} = \\left[\\begin{matrix}P_{{\\Psi}|t-1|t-1} + q_{\\Psi}^2 + r_{\\Psi}^2 & 0\\\\0 & r_{\\dot{\\Psi}}^2\\end{matrix}\\right]$"
      ],
      "text/plain": [
       "<IPython.core.display.Math object>"
      ]
     },
     "metadata": {},
     "output_type": "display_data"
    }
   ],
   "source": [
    "# St_update = Updated innovation covariance matrix at time t\n",
    "\n",
    "St_update = H*Pt_predict*H.T + R\n",
    "\n",
    "display(Math(r'S_{{t|t}} = {}'.format(sp.latex(St_update))))"
   ]
  },
  {
   "cell_type": "markdown",
   "metadata": {},
   "source": [
    "## Innovation consistency check for magnetometer health status"
   ]
  },
  {
   "cell_type": "code",
   "execution_count": 26,
   "metadata": {},
   "outputs": [
    {
     "data": {
      "text/latex": [
       "$\\displaystyle maxYawInnovYaw = max(0.01*yawInnovGate, 1)^2 * S_{{t|t|11}}$"
      ],
      "text/plain": [
       "<IPython.core.display.Math object>"
      ]
     },
     "metadata": {},
     "output_type": "display_data"
    },
    {
     "data": {
      "text/latex": [
       "$\\displaystyle yawInnovGate = YAW\\_I\\_GATE$"
      ],
      "text/plain": [
       "<IPython.core.display.Math object>"
      ]
     },
     "metadata": {},
     "output_type": "display_data"
    },
    {
     "data": {
      "text/latex": [
       "$\\displaystyle yawTestRatio = \\frac{Y_{t|t|11}^{2}}{maxYawInnovYaw}$"
      ],
      "text/plain": [
       "<IPython.core.display.Math object>"
      ]
     },
     "metadata": {},
     "output_type": "display_data"
    }
   ],
   "source": [
    "Yt_11, maxYawInnovYaw = sp.symbols('Y_{t|t|11}, maxYawInnovYaw')\n",
    "\n",
    "display(Math(r'maxYawInnovYaw = max(0.01*yawInnovGate, 1)^2 * S_{{t|t|11}}'))\n",
    "display(Math(r'yawInnovGate = YAW\\_I\\_GATE'))\n",
    "\n",
    "yawTestRatio = (Yt_11)**2 / maxYawInnovYaw\n",
    "\n",
    "display(Math(r'yawTestRatio = {}'.format(sp.latex(yawTestRatio))))"
   ]
  },
  {
   "cell_type": "markdown",
   "metadata": {},
   "source": [
    "#### Condition for successful fusion of magnetometer yaw data:\n",
    "If (yawTestRatio < 1) <br>\n",
    "&emsp; magHealth = true; \\\\\\ can fuse mag yaw data <br>\n",
    "Else <br>\n",
    "&emsp; magHealth = false; \\\\\\ cannot fuse mag yaw data"
   ]
  },
  {
   "cell_type": "markdown",
   "metadata": {},
   "source": [
    "#### EKF failsafe due to yaw variance\n",
    "If $\\sqrt{yawTestRatio} > FS\\_EKF\\_THRESH$ for two consecutive variances, an EKF failsafe will be triggered (1. Land; 2. AltHold; 3. Land even in stabilize)."
   ]
  },
  {
   "cell_type": "code",
   "execution_count": 16,
   "metadata": {
    "tags": []
   },
   "outputs": [],
   "source": [
    "Num = sp.adjoint(St_update).simplify()"
   ]
  },
  {
   "cell_type": "code",
   "execution_count": 17,
   "metadata": {},
   "outputs": [],
   "source": [
    "Den = sp.det(St_update).simplify()"
   ]
  },
  {
   "cell_type": "code",
   "execution_count": 18,
   "metadata": {},
   "outputs": [
    {
     "data": {
      "text/latex": [
       "$\\displaystyle S_{t|t}^{-1} = \\left[\\begin{matrix}\\frac{\\overline{P_{{\\Psi}|t-1|t-1}} + \\overline{q_{\\Psi}^2} + \\overline{r_{\\Psi}^2}}{r_{\\dot{\\Psi}}^2 \\left(P_{{\\Psi}|t-1|t-1} + q_{\\Psi}^2 + r_{\\Psi}^2\\right)} & 0\\\\0 & \\frac{\\overline{r_{\\dot{\\Psi}}^2}}{r_{\\dot{\\Psi}}^2 \\left(P_{{\\Psi}|t-1|t-1} + q_{\\Psi}^2 + r_{\\Psi}^2\\right)}\\end{matrix}\\right]$"
      ],
      "text/plain": [
       "<IPython.core.display.Math object>"
      ]
     },
     "metadata": {},
     "output_type": "display_data"
    }
   ],
   "source": [
    "St_inv = (Num/Den).simplify()\n",
    "\n",
    "display(Math(r'S_{{t|t}}^{{-1}} = {}'.format(sp.latex(St_inv))))"
   ]
  },
  {
   "cell_type": "markdown",
   "metadata": {},
   "source": [
    "## Updated Kalman gain $K$ (at time t, for time t)"
   ]
  },
  {
   "cell_type": "code",
   "execution_count": 19,
   "metadata": {
    "tags": []
   },
   "outputs": [
    {
     "data": {
      "text/latex": [
       "$\\displaystyle K_{t|t} = \\left[\\begin{matrix}\\frac{\\left(P_{{\\Psi}|t-1|t-1} + q_{\\Psi}^2\\right) \\left(\\overline{P_{{\\Psi}|t-1|t-1}} + \\overline{q_{\\Psi}^2} + \\overline{r_{\\Psi}^2}\\right)}{r_{\\dot{\\Psi}}^2 \\left(P_{{\\Psi}|t-1|t-1} + q_{\\Psi}^2 + r_{\\Psi}^2\\right)} & 0\\\\0 & 0\\end{matrix}\\right]$"
      ],
      "text/plain": [
       "<IPython.core.display.Math object>"
      ]
     },
     "metadata": {},
     "output_type": "display_data"
    }
   ],
   "source": [
    "# Kt_update = Updated Kalman gain at time t\n",
    "\n",
    "Kt_update = (Pt_predict*H.T*St_inv).simplify()\n",
    "\n",
    "display(Math(r'K_{{t|t}} = {}'.format(sp.latex(Kt_update))))"
   ]
  },
  {
   "cell_type": "markdown",
   "metadata": {},
   "source": [
    "## Estimated system state $X$ (at time t, for time t)"
   ]
  },
  {
   "cell_type": "code",
   "execution_count": 20,
   "metadata": {},
   "outputs": [
    {
     "data": {
      "text/latex": [
       "$\\displaystyle X_{t|t} = \\left[\\begin{matrix}\\Psi_{t|t-1} + \\frac{\\left(P_{{\\Psi}|t-1|t-1} + q_{\\Psi}^2\\right) \\left(\\Psi_{t|t-1} - z_{{\\Psi}|t}\\right) \\left(\\overline{P_{{\\Psi}|t-1|t-1}} + \\overline{q_{\\Psi}^2} + \\overline{r_{\\Psi}^2}\\right)}{r_{\\dot{\\Psi}}^2 \\left(P_{{\\Psi}|t-1|t-1} + q_{\\Psi}^2 + r_{\\Psi}^2\\right)}\\\\\\Psi_{b|t|t-1}\\end{matrix}\\right]$"
      ],
      "text/plain": [
       "<IPython.core.display.Math object>"
      ]
     },
     "metadata": {},
     "output_type": "display_data"
    }
   ],
   "source": [
    "# Xt_estimate = Estimated system state at time t\n",
    "\n",
    "Xt_estimate = (Xt_predict_compact + Kt_update*(Yt_update))\n",
    "\n",
    "display(Math(r'X_{{t|t}} = {}'.format(sp.latex(Xt_estimate))))"
   ]
  },
  {
   "cell_type": "markdown",
   "metadata": {},
   "source": [
    "## Estimated estimation uncertainty covariance matrix $P$ (at time t, for time t)"
   ]
  },
  {
   "cell_type": "code",
   "execution_count": 21,
   "metadata": {},
   "outputs": [
    {
     "data": {
      "text/latex": [
       "$\\displaystyle P_{t|t} = \\left[\\begin{matrix}\\left(1 - \\frac{\\left(P_{{\\Psi}|t-1|t-1} + q_{\\Psi}^2\\right) \\left(\\overline{P_{{\\Psi}|t-1|t-1}} + \\overline{q_{\\Psi}^2} + \\overline{r_{\\Psi}^2}\\right)}{r_{\\dot{\\Psi}}^2 \\left(P_{{\\Psi}|t-1|t-1} + q_{\\Psi}^2 + r_{\\Psi}^2\\right)}\\right) \\left(P_{{\\Psi}|t-1|t-1} + q_{\\Psi}^2\\right) & 0\\\\0 & P_{{\\Psi}|b|t-1|t-1} + q_{{\\Psi}|b}^2\\end{matrix}\\right]$"
      ],
      "text/plain": [
       "<IPython.core.display.Math object>"
      ]
     },
     "metadata": {},
     "output_type": "display_data"
    }
   ],
   "source": [
    "# Pt_estimate = Estimated estimation uncertainty matrix of the system state variables at time t\n",
    "\n",
    "I = sp.Matrix([[1,0],[0,1]])\n",
    "\n",
    "Pt_estimate = ((I - Kt_update*H)*Pt_predict)\n",
    "\n",
    "display(Math(r'P_{{t|t}} = {}'.format(sp.latex(Pt_estimate))))"
   ]
  }
 ],
 "metadata": {
  "kernelspec": {
   "display_name": "Python 3 (ipykernel)",
   "language": "python",
   "name": "python3"
  },
  "language_info": {
   "codemirror_mode": {
    "name": "ipython",
    "version": 3
   },
   "file_extension": ".py",
   "mimetype": "text/x-python",
   "name": "python",
   "nbconvert_exporter": "python",
   "pygments_lexer": "ipython3",
   "version": "3.10.9"
  }
 },
 "nbformat": 4,
 "nbformat_minor": 4
}
