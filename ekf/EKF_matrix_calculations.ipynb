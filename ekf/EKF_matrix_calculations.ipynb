{
 "cells": [
  {
   "cell_type": "code",
   "execution_count": 1,
   "metadata": {
    "tags": []
   },
   "outputs": [],
   "source": [
    "import sympy as sp\n",
    "import numpy as np\n",
    "from scipy import linalg\n",
    "from sympy import *\n",
    "from IPython.display import Math, Latex"
   ]
  },
  {
   "cell_type": "code",
   "execution_count": 2,
   "metadata": {},
   "outputs": [
    {
     "data": {
      "text/latex": [
       "$\\displaystyle X_{t|t-1} = \\left[\\begin{matrix}y_{t|t-1}\\\\\\dot{y}_{t|t-1}\\\\z_{t|t-1}\\\\\\dot{z}_{t|t-1}\\\\\\phi_{t|t-1}\\\\\\dot{\\phi}_{t|t-1}\\end{matrix}\\right]$"
      ],
      "text/plain": [
       "<IPython.core.display.Math object>"
      ]
     },
     "metadata": {},
     "output_type": "display_data"
    },
    {
     "data": {
      "text/latex": [
       "$\\displaystyle F = \\left[\\begin{matrix}1 & \\Delta{t} & 0 & 0 & 0 & 0\\\\0 & 1 & 0 & 0 & 0 & 0\\\\0 & 0 & 1 & \\Delta{t} & 0 & 0\\\\0 & 0 & 0 & 1 & 0 & 0\\\\0 & 0 & 0 & 0 & 1 & \\Delta{t}\\\\0 & 0 & 0 & 0 & 0 & 1\\end{matrix}\\right]$"
      ],
      "text/plain": [
       "<IPython.core.display.Math object>"
      ]
     },
     "metadata": {},
     "output_type": "display_data"
    },
    {
     "data": {
      "text/latex": [
       "$\\displaystyle X_{t-1|t-1} = \\left[\\begin{matrix}y_{t-1}\\\\\\dot{y}_{t-1}\\\\z_{t-1}\\\\\\dot{z}_{t-1}\\\\\\phi_{t-1}\\\\\\dot{\\phi}_{t-1}\\end{matrix}\\right]$"
      ],
      "text/plain": [
       "<IPython.core.display.Math object>"
      ]
     },
     "metadata": {},
     "output_type": "display_data"
    },
    {
     "data": {
      "text/latex": [
       "$\\displaystyle G = \\left[\\begin{matrix}\\frac{\\Delta{t}^{2}}{2} & 0 & 0\\\\\\Delta{t} & 0 & 0\\\\0 & \\frac{\\Delta{t}^{2}}{2} & 0\\\\0 & \\Delta{t} & 0\\\\0 & 0 & \\frac{\\Delta{t}^{2}}{2}\\\\0 & 0 & \\Delta{t}\\end{matrix}\\right]$"
      ],
      "text/plain": [
       "<IPython.core.display.Math object>"
      ]
     },
     "metadata": {},
     "output_type": "display_data"
    },
    {
     "data": {
      "text/latex": [
       "$\\displaystyle U_{t|t-1} = \\left[\\begin{matrix}\\ddot{y}_{t-1}\\\\\\ddot{z}_{t-1}\\\\\\ddot{\\phi}_{t-1}\\end{matrix}\\right]$"
      ],
      "text/plain": [
       "<IPython.core.display.Math object>"
      ]
     },
     "metadata": {},
     "output_type": "display_data"
    }
   ],
   "source": [
    "pos_yt1, vel_yt1, pos_zt1, vel_zt1, angle_phit1, omega_phit1, delt, pos_yt, vel_yt, pos_zt, vel_zt, angle_phit, omega_phit, acc_yt, acc_zt, alpha_phit = sp.symbols('y_{t|t-1}, \\dot{y}_{t|t-1}, z_{t|t-1}, \\dot{z}_{t|t-1}, \\phi_{t|t-1}, \\dot{\\phi}_{t|t-1}, \\Delta{t}, y_{t-1}, \\dot{y}_{t-1}, z_{t-1}, \\dot{z}_{t-1}, \\phi_{t-1}, \\dot{\\phi}_{t-1}, \\ddot{y}_{t-1}, \\ddot{z}_{t-1}, \\ddot{\\phi}_{t-1}')\n",
    "# display(pos_yt1, vel_yt1, pos_zt1, vel_zt1, angle_phit1, omega_phit1)\n",
    "Xt_predict_compact = sp.Matrix([[pos_yt1],[vel_yt1],[pos_zt1],[vel_zt1],[angle_phit1],[omega_phit1]])\n",
    "F = sp.Matrix([[1,delt,0,0,0,0],[0,1,0,0,0,0],[0,0,1,delt,0,0],[0,0,0,1,0,0],[0,0,0,0,1,delt],[0,0,0,0,0,1]])\n",
    "Xt_previous = sp.Matrix([[pos_yt],[vel_yt],[pos_zt],[vel_zt],[angle_phit],[omega_phit]])\n",
    "G = sp.Matrix([[delt**2/2,0,0],[delt,0,0],[0,delt**2/2,0],[0,delt,0],[0,0,delt**2/2],[0,0,delt]])\n",
    "Ut_previous = sp.Matrix([[acc_yt],[acc_zt],[alpha_phit]])\n",
    "\n",
    "display(Math(r'X_{{t|t-1}} = {}'.format(sp.latex(Xt_predict_compact))))\n",
    "display(Math(r'F = {}'.format(sp.latex(F))))\n",
    "display(Math(r'X_{{t-1|t-1}} = {}'.format(sp.latex(Xt_previous))))\n",
    "display(Math(r'G = {}'.format(sp.latex(G))))\n",
    "display(Math(r'U_{{t|t-1}} = {}'.format(sp.latex(Ut_previous))))"
   ]
  },
  {
   "cell_type": "code",
   "execution_count": 3,
   "metadata": {},
   "outputs": [
    {
     "data": {
      "text/latex": [
       "$\\displaystyle \\left[\\begin{matrix}y_{t|t-1}\\\\\\dot{y}_{t|t-1}\\\\z_{t|t-1}\\\\\\dot{z}_{t|t-1}\\\\\\phi_{t|t-1}\\\\\\dot{\\phi}_{t|t-1}\\end{matrix}\\right] = \\left[\\begin{matrix}1 & \\Delta{t} & 0 & 0 & 0 & 0\\\\0 & 1 & 0 & 0 & 0 & 0\\\\0 & 0 & 1 & \\Delta{t} & 0 & 0\\\\0 & 0 & 0 & 1 & 0 & 0\\\\0 & 0 & 0 & 0 & 1 & \\Delta{t}\\\\0 & 0 & 0 & 0 & 0 & 1\\end{matrix}\\right]\\left[\\begin{matrix}y_{t-1}\\\\\\dot{y}_{t-1}\\\\z_{t-1}\\\\\\dot{z}_{t-1}\\\\\\phi_{t-1}\\\\\\dot{\\phi}_{t-1}\\end{matrix}\\right] + \\left[\\begin{matrix}\\frac{\\Delta{t}^{2}}{2} & 0 & 0\\\\\\Delta{t} & 0 & 0\\\\0 & \\frac{\\Delta{t}^{2}}{2} & 0\\\\0 & \\Delta{t} & 0\\\\0 & 0 & \\frac{\\Delta{t}^{2}}{2}\\\\0 & 0 & \\Delta{t}\\end{matrix}\\right]\\left[\\begin{matrix}\\ddot{y}_{t-1}\\\\\\ddot{z}_{t-1}\\\\\\ddot{\\phi}_{t-1}\\end{matrix}\\right]$"
      ],
      "text/plain": [
       "<IPython.core.display.Math object>"
      ]
     },
     "metadata": {},
     "output_type": "display_data"
    }
   ],
   "source": [
    "display(Math(r'{} = {}{} + {}{}'.format(sp.latex(Xt_predict_compact), sp.latex(F), sp.latex(Xt_previous), sp.latex(G), sp.latex(Ut_previous))))"
   ]
  },
  {
   "cell_type": "code",
   "execution_count": 4,
   "metadata": {},
   "outputs": [
    {
     "data": {
      "text/latex": [
       "$\\displaystyle X_{t|t-1} = \\left[\\begin{matrix}\\frac{\\Delta{t}^{2} \\ddot{y}_{t-1}}{2} + \\Delta{t} \\dot{y}_{t-1} + y_{t-1}\\\\\\Delta{t} \\ddot{y}_{t-1} + \\dot{y}_{t-1}\\\\\\frac{\\Delta{t}^{2} \\ddot{z}_{t-1}}{2} + \\Delta{t} \\dot{z}_{t-1} + z_{t-1}\\\\\\Delta{t} \\ddot{z}_{t-1} + \\dot{z}_{t-1}\\\\\\frac{\\Delta{t}^{2} \\ddot{\\phi}_{t-1}}{2} + \\Delta{t} \\dot{\\phi}_{t-1} + \\phi_{t-1}\\\\\\Delta{t} \\ddot{\\phi}_{t-1} + \\dot{\\phi}_{t-1}\\end{matrix}\\right]$"
      ],
      "text/plain": [
       "<IPython.core.display.Math object>"
      ]
     },
     "metadata": {},
     "output_type": "display_data"
    }
   ],
   "source": [
    "Xt_predict = F*Xt_previous+G*Ut_previous\n",
    "display(Math(r'X_{{t|t-1}} = {}'.format(sp.latex(Xt_predict))))"
   ]
  },
  {
   "cell_type": "code",
   "execution_count": 5,
   "metadata": {
    "scrolled": true
   },
   "outputs": [
    {
     "data": {
      "text/latex": [
       "$\\displaystyle Z_{t|t} = \\left[\\begin{matrix}z_{y|t}\\\\z_{\\ddot{y}|t}\\\\z_{z|t}\\\\z_{\\ddot{z}|t}\\\\z_{\\dot{\\phi}|t}\\end{matrix}\\right]$"
      ],
      "text/plain": [
       "<IPython.core.display.Math object>"
      ]
     },
     "metadata": {},
     "output_type": "display_data"
    },
    {
     "data": {
      "text/latex": [
       "$\\displaystyle H = \\left[\\begin{matrix}1 & 0 & 0 & 0 & 0 & 0\\\\0 & 0 & 0 & 0 & 0 & 0\\\\0 & 0 & 1 & 0 & 0 & 0\\\\0 & 0 & 0 & 0 & 0 & 0\\\\0 & 0 & 0 & 0 & 0 & 1\\end{matrix}\\right]$"
      ],
      "text/plain": [
       "<IPython.core.display.Math object>"
      ]
     },
     "metadata": {},
     "output_type": "display_data"
    }
   ],
   "source": [
    "pos_yt, acc_yt, pos_zt, acc_zt, omega_phit = sp.symbols('z_{y|t}, z_{\\ddot{y}|t}, z_{z|t}, z_{\\ddot{z}|t}, z_{\\dot{\\phi}|t}')\n",
    "#w_pos_y, w_acc_y, w_pos_z, w_acc_z, w_omega_phi = sp.symbols('w_y, w_\\ddot{y}, w_z, w_\\ddot{z}, w_\\dot{\\phi}')\n",
    "Zt_update = sp.Matrix([[pos_yt],[acc_yt],[pos_zt],[acc_zt],[omega_phit]])\n",
    "H = sp.Matrix([[1,0,0,0,0,0],[0,0,0,0,0,0],[0,0,1,0,0,0],[0,0,0,0,0,0],[0,0,0,0,0,1]])\n",
    "#W = sp.Matrix([[w_pos_y],[w_acc_y],[w_pos_z],[w_acc_z],[w_omega_phi]])\n",
    "\n",
    "display(Math(r'Z_{{t|t}} = {}'.format(sp.latex(Zt_update))))\n",
    "display(Math(r'H = {}'.format(sp.latex(H))))\n",
    "#display(Math(r'W = {}'.format(sp.latex(W))))"
   ]
  },
  {
   "cell_type": "code",
   "execution_count": 6,
   "metadata": {},
   "outputs": [
    {
     "data": {
      "text/latex": [
       "$\\displaystyle PN = \\left[\\begin{matrix}\\sigma_{\\ddot{y}^2} & 0 & 0\\\\0 & \\sigma_{\\ddot{z}^2} & 0\\\\0 & 0 & \\sigma_{\\dot{\\phi}^2}\\end{matrix}\\right]$"
      ],
      "text/plain": [
       "<IPython.core.display.Math object>"
      ]
     },
     "metadata": {},
     "output_type": "display_data"
    },
    {
     "data": {
      "text/latex": [
       "$\\displaystyle Q = \\left[\\begin{matrix}\\frac{\\Delta{t}^{4} \\sigma_{\\ddot{y}^2}}{4} & \\frac{\\Delta{t}^{3} \\sigma_{\\ddot{y}^2}}{2} & 0 & 0 & 0 & 0\\\\\\frac{\\Delta{t}^{3} \\sigma_{\\ddot{y}^2}}{2} & \\Delta{t}^{2} \\sigma_{\\ddot{y}^2} & 0 & 0 & 0 & 0\\\\0 & 0 & \\frac{\\Delta{t}^{4} \\sigma_{\\ddot{z}^2}}{4} & \\frac{\\Delta{t}^{3} \\sigma_{\\ddot{z}^2}}{2} & 0 & 0\\\\0 & 0 & \\frac{\\Delta{t}^{3} \\sigma_{\\ddot{z}^2}}{2} & \\Delta{t}^{2} \\sigma_{\\ddot{z}^2} & 0 & 0\\\\0 & 0 & 0 & 0 & \\frac{\\Delta{t}^{4} \\sigma_{\\dot{\\phi}^2}}{4} & \\frac{\\Delta{t}^{3} \\sigma_{\\dot{\\phi}^2}}{2}\\\\0 & 0 & 0 & 0 & \\frac{\\Delta{t}^{3} \\sigma_{\\dot{\\phi}^2}}{2} & \\Delta{t}^{2} \\sigma_{\\dot{\\phi}^2}\\end{matrix}\\right]$"
      ],
      "text/plain": [
       "<IPython.core.display.Math object>"
      ]
     },
     "metadata": {},
     "output_type": "display_data"
    }
   ],
   "source": [
    "PN_acc_y, PN_acc_z, PN_omega_phi = sp.symbols('\\sigma_{\\ddot{y}^2}, \\sigma_{\\ddot{z}^2}, \\sigma_{\\dot{\\phi}^2}')\n",
    "PN = sp.Matrix([[PN_acc_y,0,0],[0,PN_acc_z,0],[0,0,PN_omega_phi]])\n",
    "Q = G*PN*G.T\n",
    "\n",
    "display(Math(r'PN = {}'.format(sp.latex(PN))))\n",
    "display(Math(r'Q = {}'.format(sp.latex(Q))))"
   ]
  },
  {
   "cell_type": "code",
   "execution_count": 7,
   "metadata": {},
   "outputs": [
    {
     "data": {
      "text/latex": [
       "$\\displaystyle P_{t-1|t-1} = \\left[\\begin{matrix}P_{y|t-1|t-1} & P_{y\\dot{y}|t-1|t-1} & 0 & 0 & 0 & 0\\\\P_{\\dot{y}y|t-1|t-1} & P_{\\dot{y}|t-1|t-1} & 0 & 0 & 0 & 0\\\\0 & 0 & P_{z|t-1|t-1} & P_{z\\dot{z}|t-1|t-1} & 0 & 0\\\\0 & 0 & P_{\\dot{z}z|t-1|t-1} & P_{\\dot{z}|t-1|t-1} & 0 & 0\\\\0 & 0 & 0 & 0 & P_{\\phi|t-1|t-1} & P_{\\phi\\dot{\\phi}|t-1|t-1}\\\\0 & 0 & 0 & 0 & P_{\\dot{\\phi}\\phi|t-1|t-1} & P_{\\dot{\\phi}|t-1|t-1}\\end{matrix}\\right]$"
      ],
      "text/plain": [
       "<IPython.core.display.Math object>"
      ]
     },
     "metadata": {},
     "output_type": "display_data"
    }
   ],
   "source": [
    "P_y, P_yydot, P_ydoty, P_ydot, P_z, P_zzdot, P_zdotz, P_zdot, P_phi, P_phiphidot, P_phidotphi, P_phidot = sp.symbols('P_y|t-1|t-1, P_{y\\dot{y}|t-1|t-1}, P_{\\dot{y}y|t-1|t-1}, P_{\\dot{y}|t-1|t-1}, P_z|t-1|t-1, P_{z\\dot{z}|t-1|t-1}, P_{\\dot{z}z|t-1|t-1}, P_{\\dot{z}|t-1|t-1}, P_{\\phi|t-1|t-1}, P_{\\phi\\dot{\\phi}|t-1|t-1}, P_{\\dot{\\phi}\\phi|t-1|t-1}, P_{\\dot{\\phi}|t-1|t-1}')\n",
    "Pt_previous = sp.Matrix([[P_y,P_yydot,0,0,0,0],[P_ydoty,P_ydot,0,0,0,0],[0,0,P_z,P_zzdot,0,0],[0,0,P_zdotz,P_zdot,0,0],[0,0,0,0,P_phi,P_phiphidot],[0,0,0,0,P_phidotphi,P_phidot]])\n",
    "\n",
    "display(Math(r'P_{{t-1|t-1}} = {}'.format(sp.latex(Pt_previous))))"
   ]
  },
  {
   "cell_type": "code",
   "execution_count": 8,
   "metadata": {},
   "outputs": [
    {
     "data": {
      "text/latex": [
       "$\\displaystyle P_{t|t-1} = \\left[\\begin{matrix}P_{y|t-1|t-1} + P_{\\dot{y}y|t-1|t-1} \\Delta{t} + \\frac{\\Delta{t}^{4} \\sigma_{\\ddot{y}^2}}{4} + \\Delta{t} \\left(P_{\\dot{y}|t-1|t-1} \\Delta{t} + P_{y\\dot{y}|t-1|t-1}\\right) & P_{\\dot{y}|t-1|t-1} \\Delta{t} + P_{y\\dot{y}|t-1|t-1} + \\frac{\\Delta{t}^{3} \\sigma_{\\ddot{y}^2}}{2} & 0 & 0 & 0 & 0\\\\P_{\\dot{y}y|t-1|t-1} + P_{\\dot{y}|t-1|t-1} \\Delta{t} + \\frac{\\Delta{t}^{3} \\sigma_{\\ddot{y}^2}}{2} & P_{\\dot{y}|t-1|t-1} + \\Delta{t}^{2} \\sigma_{\\ddot{y}^2} & 0 & 0 & 0 & 0\\\\0 & 0 & P_{z|t-1|t-1} + P_{\\dot{z}z|t-1|t-1} \\Delta{t} + \\frac{\\Delta{t}^{4} \\sigma_{\\ddot{z}^2}}{4} + \\Delta{t} \\left(P_{\\dot{z}|t-1|t-1} \\Delta{t} + P_{z\\dot{z}|t-1|t-1}\\right) & P_{\\dot{z}|t-1|t-1} \\Delta{t} + P_{z\\dot{z}|t-1|t-1} + \\frac{\\Delta{t}^{3} \\sigma_{\\ddot{z}^2}}{2} & 0 & 0\\\\0 & 0 & P_{\\dot{z}z|t-1|t-1} + P_{\\dot{z}|t-1|t-1} \\Delta{t} + \\frac{\\Delta{t}^{3} \\sigma_{\\ddot{z}^2}}{2} & P_{\\dot{z}|t-1|t-1} + \\Delta{t}^{2} \\sigma_{\\ddot{z}^2} & 0 & 0\\\\0 & 0 & 0 & 0 & P_{\\dot{\\phi}\\phi|t-1|t-1} \\Delta{t} + P_{\\phi|t-1|t-1} + \\frac{\\Delta{t}^{4} \\sigma_{\\dot{\\phi}^2}}{4} + \\Delta{t} \\left(P_{\\dot{\\phi}|t-1|t-1} \\Delta{t} + P_{\\phi\\dot{\\phi}|t-1|t-1}\\right) & P_{\\dot{\\phi}|t-1|t-1} \\Delta{t} + P_{\\phi\\dot{\\phi}|t-1|t-1} + \\frac{\\Delta{t}^{3} \\sigma_{\\dot{\\phi}^2}}{2}\\\\0 & 0 & 0 & 0 & P_{\\dot{\\phi}\\phi|t-1|t-1} + P_{\\dot{\\phi}|t-1|t-1} \\Delta{t} + \\frac{\\Delta{t}^{3} \\sigma_{\\dot{\\phi}^2}}{2} & P_{\\dot{\\phi}|t-1|t-1} + \\Delta{t}^{2} \\sigma_{\\dot{\\phi}^2}\\end{matrix}\\right]$"
      ],
      "text/plain": [
       "<IPython.core.display.Math object>"
      ]
     },
     "metadata": {},
     "output_type": "display_data"
    }
   ],
   "source": [
    "Pt_predict = (F*Pt_previous*F.T + Q)\n",
    "\n",
    "display(Math(r'P_{{t|t-1}} = {}'.format(sp.latex(Pt_predict))))"
   ]
  },
  {
   "cell_type": "code",
   "execution_count": 9,
   "metadata": {
    "scrolled": true
   },
   "outputs": [
    {
     "data": {
      "text/latex": [
       "$\\displaystyle R = \\left[\\begin{matrix}\\sigma_{y^2} & 0 & 0 & 0 & 0\\\\0 & \\sigma_{\\ddot{y}^2} & 0 & 0 & 0\\\\0 & 0 & \\sigma_{z^2} & 0 & 0\\\\0 & 0 & 0 & \\sigma_{\\ddot{z}^2} & 0\\\\0 & 0 & 0 & 0 & \\sigma_{\\dot{\\phi}^2}\\end{matrix}\\right]$"
      ],
      "text/plain": [
       "<IPython.core.display.Math object>"
      ]
     },
     "metadata": {},
     "output_type": "display_data"
    }
   ],
   "source": [
    "R_pos_y, R_acc_y, R_pos_z, R_acc_z, R_omega_phi = sp.symbols('\\sigma_{y^2}, \\sigma_{\\ddot{y}^2}, \\sigma_{z^2}, \\sigma_{\\ddot{z}^2}, \\sigma_{\\dot{\\phi}^2}')\n",
    "R = sp.Matrix([[R_pos_y,0,0,0,0],[0,R_acc_y,0,0,0],[0,0,R_pos_z,0,0],[0,0,0,R_acc_z,0],[0,0,0,0,R_omega_phi]])\n",
    "\n",
    "display(Math(r'R = {}'.format(sp.latex(R))))"
   ]
  },
  {
   "cell_type": "code",
   "execution_count": 10,
   "metadata": {},
   "outputs": [
    {
     "data": {
      "text/latex": [
       "$\\displaystyle S_{t|t} = \\left[\\begin{matrix}P_{y|t-1|t-1} + P_{\\dot{y}y|t-1|t-1} \\Delta{t} + \\frac{\\Delta{t}^{4} \\sigma_{\\ddot{y}^2}}{4} + \\Delta{t} \\left(P_{\\dot{y}|t-1|t-1} \\Delta{t} + P_{y\\dot{y}|t-1|t-1}\\right) + \\sigma_{y^2} & 0 & 0 & 0 & 0\\\\0 & \\sigma_{\\ddot{y}^2} & 0 & 0 & 0\\\\0 & 0 & P_{z|t-1|t-1} + P_{\\dot{z}z|t-1|t-1} \\Delta{t} + \\frac{\\Delta{t}^{4} \\sigma_{\\ddot{z}^2}}{4} + \\Delta{t} \\left(P_{\\dot{z}|t-1|t-1} \\Delta{t} + P_{z\\dot{z}|t-1|t-1}\\right) + \\sigma_{z^2} & 0 & 0\\\\0 & 0 & 0 & \\sigma_{\\ddot{z}^2} & 0\\\\0 & 0 & 0 & 0 & P_{\\dot{\\phi}|t-1|t-1} + \\Delta{t}^{2} \\sigma_{\\dot{\\phi}^2} + \\sigma_{\\dot{\\phi}^2}\\end{matrix}\\right]$"
      ],
      "text/plain": [
       "<IPython.core.display.Math object>"
      ]
     },
     "metadata": {},
     "output_type": "display_data"
    }
   ],
   "source": [
    "St_update = H*Pt_predict*H.T + R\n",
    "display(Math(r'S_{{t|t}} = {}'.format(sp.latex(St_update))))"
   ]
  },
  {
   "cell_type": "code",
   "execution_count": 11,
   "metadata": {
    "tags": []
   },
   "outputs": [
    {
     "data": {
      "text/latex": [
       "$\\displaystyle S_{t|t}^{-1} = \\left[\\begin{matrix}\\frac{4 \\cdot \\left(4 \\left(\\overline{P_{\\dot{y}|t-1|t-1}} \\overline{\\Delta{t}} + \\overline{P_{y\\dot{y}|t-1|t-1}}\\right) \\overline{\\Delta{t}} + 4 \\overline{P_{y|t-1|t-1}} + 4 \\overline{P_{\\dot{y}y|t-1|t-1}} \\overline{\\Delta{t}} + \\overline{\\Delta{t}}^{4} \\overline{\\sigma_{\\ddot{y}^2}} + 4 \\overline{\\sigma_{y^2}}\\right)}{\\sigma_{\\ddot{y}^2} \\sigma_{\\ddot{z}^2} \\left(P_{\\dot{\\phi}|t-1|t-1} + \\Delta{t}^{2} \\sigma_{\\dot{\\phi}^2} + \\sigma_{\\dot{\\phi}^2}\\right) \\left(4 P_{y|t-1|t-1} + 4 P_{\\dot{y}y|t-1|t-1} \\Delta{t} + \\Delta{t}^{4} \\sigma_{\\ddot{y}^2} + 4 \\Delta{t} \\left(P_{\\dot{y}|t-1|t-1} \\Delta{t} + P_{y\\dot{y}|t-1|t-1}\\right) + 4 \\sigma_{y^2}\\right) \\left(4 P_{z|t-1|t-1} + 4 P_{\\dot{z}z|t-1|t-1} \\Delta{t} + \\Delta{t}^{4} \\sigma_{\\ddot{z}^2} + 4 \\Delta{t} \\left(P_{\\dot{z}|t-1|t-1} \\Delta{t} + P_{z\\dot{z}|t-1|t-1}\\right) + 4 \\sigma_{z^2}\\right)} & 0 & 0 & 0 & 0\\\\0 & \\frac{16 \\overline{\\sigma_{\\ddot{y}^2}}}{\\sigma_{\\ddot{y}^2} \\sigma_{\\ddot{z}^2} \\left(P_{\\dot{\\phi}|t-1|t-1} + \\Delta{t}^{2} \\sigma_{\\dot{\\phi}^2} + \\sigma_{\\dot{\\phi}^2}\\right) \\left(4 P_{y|t-1|t-1} + 4 P_{\\dot{y}y|t-1|t-1} \\Delta{t} + \\Delta{t}^{4} \\sigma_{\\ddot{y}^2} + 4 \\Delta{t} \\left(P_{\\dot{y}|t-1|t-1} \\Delta{t} + P_{y\\dot{y}|t-1|t-1}\\right) + 4 \\sigma_{y^2}\\right) \\left(4 P_{z|t-1|t-1} + 4 P_{\\dot{z}z|t-1|t-1} \\Delta{t} + \\Delta{t}^{4} \\sigma_{\\ddot{z}^2} + 4 \\Delta{t} \\left(P_{\\dot{z}|t-1|t-1} \\Delta{t} + P_{z\\dot{z}|t-1|t-1}\\right) + 4 \\sigma_{z^2}\\right)} & 0 & 0 & 0\\\\0 & 0 & \\frac{4 \\cdot \\left(4 \\left(\\overline{P_{\\dot{z}|t-1|t-1}} \\overline{\\Delta{t}} + \\overline{P_{z\\dot{z}|t-1|t-1}}\\right) \\overline{\\Delta{t}} + 4 \\overline{P_{z|t-1|t-1}} + 4 \\overline{P_{\\dot{z}z|t-1|t-1}} \\overline{\\Delta{t}} + \\overline{\\Delta{t}}^{4} \\overline{\\sigma_{\\ddot{z}^2}} + 4 \\overline{\\sigma_{z^2}}\\right)}{\\sigma_{\\ddot{y}^2} \\sigma_{\\ddot{z}^2} \\left(P_{\\dot{\\phi}|t-1|t-1} + \\Delta{t}^{2} \\sigma_{\\dot{\\phi}^2} + \\sigma_{\\dot{\\phi}^2}\\right) \\left(4 P_{y|t-1|t-1} + 4 P_{\\dot{y}y|t-1|t-1} \\Delta{t} + \\Delta{t}^{4} \\sigma_{\\ddot{y}^2} + 4 \\Delta{t} \\left(P_{\\dot{y}|t-1|t-1} \\Delta{t} + P_{y\\dot{y}|t-1|t-1}\\right) + 4 \\sigma_{y^2}\\right) \\left(4 P_{z|t-1|t-1} + 4 P_{\\dot{z}z|t-1|t-1} \\Delta{t} + \\Delta{t}^{4} \\sigma_{\\ddot{z}^2} + 4 \\Delta{t} \\left(P_{\\dot{z}|t-1|t-1} \\Delta{t} + P_{z\\dot{z}|t-1|t-1}\\right) + 4 \\sigma_{z^2}\\right)} & 0 & 0\\\\0 & 0 & 0 & \\frac{16 \\overline{\\sigma_{\\ddot{z}^2}}}{\\sigma_{\\ddot{y}^2} \\sigma_{\\ddot{z}^2} \\left(P_{\\dot{\\phi}|t-1|t-1} + \\Delta{t}^{2} \\sigma_{\\dot{\\phi}^2} + \\sigma_{\\dot{\\phi}^2}\\right) \\left(4 P_{y|t-1|t-1} + 4 P_{\\dot{y}y|t-1|t-1} \\Delta{t} + \\Delta{t}^{4} \\sigma_{\\ddot{y}^2} + 4 \\Delta{t} \\left(P_{\\dot{y}|t-1|t-1} \\Delta{t} + P_{y\\dot{y}|t-1|t-1}\\right) + 4 \\sigma_{y^2}\\right) \\left(4 P_{z|t-1|t-1} + 4 P_{\\dot{z}z|t-1|t-1} \\Delta{t} + \\Delta{t}^{4} \\sigma_{\\ddot{z}^2} + 4 \\Delta{t} \\left(P_{\\dot{z}|t-1|t-1} \\Delta{t} + P_{z\\dot{z}|t-1|t-1}\\right) + 4 \\sigma_{z^2}\\right)} & 0\\\\0 & 0 & 0 & 0 & \\frac{16 \\left(\\overline{P_{\\dot{\\phi}|t-1|t-1}} + \\overline{\\Delta{t}}^{2} \\overline{\\sigma_{\\dot{\\phi}^2}} + \\overline{\\sigma_{\\dot{\\phi}^2}}\\right)}{\\sigma_{\\ddot{y}^2} \\sigma_{\\ddot{z}^2} \\left(P_{\\dot{\\phi}|t-1|t-1} + \\Delta{t}^{2} \\sigma_{\\dot{\\phi}^2} + \\sigma_{\\dot{\\phi}^2}\\right) \\left(4 P_{y|t-1|t-1} + 4 P_{\\dot{y}y|t-1|t-1} \\Delta{t} + \\Delta{t}^{4} \\sigma_{\\ddot{y}^2} + 4 \\Delta{t} \\left(P_{\\dot{y}|t-1|t-1} \\Delta{t} + P_{y\\dot{y}|t-1|t-1}\\right) + 4 \\sigma_{y^2}\\right) \\left(4 P_{z|t-1|t-1} + 4 P_{\\dot{z}z|t-1|t-1} \\Delta{t} + \\Delta{t}^{4} \\sigma_{\\ddot{z}^2} + 4 \\Delta{t} \\left(P_{\\dot{z}|t-1|t-1} \\Delta{t} + P_{z\\dot{z}|t-1|t-1}\\right) + 4 \\sigma_{z^2}\\right)}\\end{matrix}\\right]$"
      ],
      "text/plain": [
       "<IPython.core.display.Math object>"
      ]
     },
     "metadata": {},
     "output_type": "display_data"
    }
   ],
   "source": [
    "Num = sp.adjoint(St_update).simplify()\n",
    "Den = sp.det(St_update).simplify()\n",
    "St_inv = (Num/Den).simplify()\n",
    "display(Math(r'S_{{t|t}}^{{-1}} = {}'.format(sp.latex(St_inv))))"
   ]
  },
  {
   "cell_type": "code",
   "execution_count": 12,
   "metadata": {
    "tags": []
   },
   "outputs": [
    {
     "data": {
      "text/latex": [
       "$\\displaystyle K_{t|t} = \\left[\\begin{matrix}\\frac{\\left(4 P_{y|t-1|t-1} + 4 P_{\\dot{y}y|t-1|t-1} \\Delta{t} + \\Delta{t}^{4} \\sigma_{\\ddot{y}^2} + 4 \\Delta{t} \\left(P_{\\dot{y}|t-1|t-1} \\Delta{t} + P_{y\\dot{y}|t-1|t-1}\\right)\\right) \\left(4 \\left(\\overline{P_{\\dot{y}|t-1|t-1}} \\overline{\\Delta{t}} + \\overline{P_{y\\dot{y}|t-1|t-1}}\\right) \\overline{\\Delta{t}} + 4 \\overline{P_{y|t-1|t-1}} + 4 \\overline{P_{\\dot{y}y|t-1|t-1}} \\overline{\\Delta{t}} + \\overline{\\Delta{t}}^{4} \\overline{\\sigma_{\\ddot{y}^2}} + 4 \\overline{\\sigma_{y^2}}\\right)}{\\sigma_{\\ddot{y}^2} \\sigma_{\\ddot{z}^2} \\left(P_{\\dot{\\phi}|t-1|t-1} + \\Delta{t}^{2} \\sigma_{\\dot{\\phi}^2} + \\sigma_{\\dot{\\phi}^2}\\right) \\left(4 P_{y|t-1|t-1} + 4 P_{\\dot{y}y|t-1|t-1} \\Delta{t} + \\Delta{t}^{4} \\sigma_{\\ddot{y}^2} + 4 \\Delta{t} \\left(P_{\\dot{y}|t-1|t-1} \\Delta{t} + P_{y\\dot{y}|t-1|t-1}\\right) + 4 \\sigma_{y^2}\\right) \\left(4 P_{z|t-1|t-1} + 4 P_{\\dot{z}z|t-1|t-1} \\Delta{t} + \\Delta{t}^{4} \\sigma_{\\ddot{z}^2} + 4 \\Delta{t} \\left(P_{\\dot{z}|t-1|t-1} \\Delta{t} + P_{z\\dot{z}|t-1|t-1}\\right) + 4 \\sigma_{z^2}\\right)} & 0 & 0 & 0 & 0\\\\\\frac{2 \\cdot \\left(2 P_{\\dot{y}y|t-1|t-1} + 2 P_{\\dot{y}|t-1|t-1} \\Delta{t} + \\Delta{t}^{3} \\sigma_{\\ddot{y}^2}\\right) \\left(4 \\left(\\overline{P_{\\dot{y}|t-1|t-1}} \\overline{\\Delta{t}} + \\overline{P_{y\\dot{y}|t-1|t-1}}\\right) \\overline{\\Delta{t}} + 4 \\overline{P_{y|t-1|t-1}} + 4 \\overline{P_{\\dot{y}y|t-1|t-1}} \\overline{\\Delta{t}} + \\overline{\\Delta{t}}^{4} \\overline{\\sigma_{\\ddot{y}^2}} + 4 \\overline{\\sigma_{y^2}}\\right)}{\\sigma_{\\ddot{y}^2} \\sigma_{\\ddot{z}^2} \\left(P_{\\dot{\\phi}|t-1|t-1} + \\Delta{t}^{2} \\sigma_{\\dot{\\phi}^2} + \\sigma_{\\dot{\\phi}^2}\\right) \\left(4 P_{y|t-1|t-1} + 4 P_{\\dot{y}y|t-1|t-1} \\Delta{t} + \\Delta{t}^{4} \\sigma_{\\ddot{y}^2} + 4 \\Delta{t} \\left(P_{\\dot{y}|t-1|t-1} \\Delta{t} + P_{y\\dot{y}|t-1|t-1}\\right) + 4 \\sigma_{y^2}\\right) \\left(4 P_{z|t-1|t-1} + 4 P_{\\dot{z}z|t-1|t-1} \\Delta{t} + \\Delta{t}^{4} \\sigma_{\\ddot{z}^2} + 4 \\Delta{t} \\left(P_{\\dot{z}|t-1|t-1} \\Delta{t} + P_{z\\dot{z}|t-1|t-1}\\right) + 4 \\sigma_{z^2}\\right)} & 0 & 0 & 0 & 0\\\\0 & 0 & \\frac{\\left(4 P_{z|t-1|t-1} + 4 P_{\\dot{z}z|t-1|t-1} \\Delta{t} + \\Delta{t}^{4} \\sigma_{\\ddot{z}^2} + 4 \\Delta{t} \\left(P_{\\dot{z}|t-1|t-1} \\Delta{t} + P_{z\\dot{z}|t-1|t-1}\\right)\\right) \\left(4 \\left(\\overline{P_{\\dot{z}|t-1|t-1}} \\overline{\\Delta{t}} + \\overline{P_{z\\dot{z}|t-1|t-1}}\\right) \\overline{\\Delta{t}} + 4 \\overline{P_{z|t-1|t-1}} + 4 \\overline{P_{\\dot{z}z|t-1|t-1}} \\overline{\\Delta{t}} + \\overline{\\Delta{t}}^{4} \\overline{\\sigma_{\\ddot{z}^2}} + 4 \\overline{\\sigma_{z^2}}\\right)}{\\sigma_{\\ddot{y}^2} \\sigma_{\\ddot{z}^2} \\left(P_{\\dot{\\phi}|t-1|t-1} + \\Delta{t}^{2} \\sigma_{\\dot{\\phi}^2} + \\sigma_{\\dot{\\phi}^2}\\right) \\left(4 P_{y|t-1|t-1} + 4 P_{\\dot{y}y|t-1|t-1} \\Delta{t} + \\Delta{t}^{4} \\sigma_{\\ddot{y}^2} + 4 \\Delta{t} \\left(P_{\\dot{y}|t-1|t-1} \\Delta{t} + P_{y\\dot{y}|t-1|t-1}\\right) + 4 \\sigma_{y^2}\\right) \\left(4 P_{z|t-1|t-1} + 4 P_{\\dot{z}z|t-1|t-1} \\Delta{t} + \\Delta{t}^{4} \\sigma_{\\ddot{z}^2} + 4 \\Delta{t} \\left(P_{\\dot{z}|t-1|t-1} \\Delta{t} + P_{z\\dot{z}|t-1|t-1}\\right) + 4 \\sigma_{z^2}\\right)} & 0 & 0\\\\0 & 0 & \\frac{2 \\cdot \\left(2 P_{\\dot{z}z|t-1|t-1} + 2 P_{\\dot{z}|t-1|t-1} \\Delta{t} + \\Delta{t}^{3} \\sigma_{\\ddot{z}^2}\\right) \\left(4 \\left(\\overline{P_{\\dot{z}|t-1|t-1}} \\overline{\\Delta{t}} + \\overline{P_{z\\dot{z}|t-1|t-1}}\\right) \\overline{\\Delta{t}} + 4 \\overline{P_{z|t-1|t-1}} + 4 \\overline{P_{\\dot{z}z|t-1|t-1}} \\overline{\\Delta{t}} + \\overline{\\Delta{t}}^{4} \\overline{\\sigma_{\\ddot{z}^2}} + 4 \\overline{\\sigma_{z^2}}\\right)}{\\sigma_{\\ddot{y}^2} \\sigma_{\\ddot{z}^2} \\left(P_{\\dot{\\phi}|t-1|t-1} + \\Delta{t}^{2} \\sigma_{\\dot{\\phi}^2} + \\sigma_{\\dot{\\phi}^2}\\right) \\left(4 P_{y|t-1|t-1} + 4 P_{\\dot{y}y|t-1|t-1} \\Delta{t} + \\Delta{t}^{4} \\sigma_{\\ddot{y}^2} + 4 \\Delta{t} \\left(P_{\\dot{y}|t-1|t-1} \\Delta{t} + P_{y\\dot{y}|t-1|t-1}\\right) + 4 \\sigma_{y^2}\\right) \\left(4 P_{z|t-1|t-1} + 4 P_{\\dot{z}z|t-1|t-1} \\Delta{t} + \\Delta{t}^{4} \\sigma_{\\ddot{z}^2} + 4 \\Delta{t} \\left(P_{\\dot{z}|t-1|t-1} \\Delta{t} + P_{z\\dot{z}|t-1|t-1}\\right) + 4 \\sigma_{z^2}\\right)} & 0 & 0\\\\0 & 0 & 0 & 0 & \\frac{8 \\cdot \\left(2 P_{\\dot{\\phi}|t-1|t-1} \\Delta{t} + 2 P_{\\phi\\dot{\\phi}|t-1|t-1} + \\Delta{t}^{3} \\sigma_{\\dot{\\phi}^2}\\right) \\left(\\overline{P_{\\dot{\\phi}|t-1|t-1}} + \\overline{\\Delta{t}}^{2} \\overline{\\sigma_{\\dot{\\phi}^2}} + \\overline{\\sigma_{\\dot{\\phi}^2}}\\right)}{\\sigma_{\\ddot{y}^2} \\sigma_{\\ddot{z}^2} \\left(P_{\\dot{\\phi}|t-1|t-1} + \\Delta{t}^{2} \\sigma_{\\dot{\\phi}^2} + \\sigma_{\\dot{\\phi}^2}\\right) \\left(4 P_{y|t-1|t-1} + 4 P_{\\dot{y}y|t-1|t-1} \\Delta{t} + \\Delta{t}^{4} \\sigma_{\\ddot{y}^2} + 4 \\Delta{t} \\left(P_{\\dot{y}|t-1|t-1} \\Delta{t} + P_{y\\dot{y}|t-1|t-1}\\right) + 4 \\sigma_{y^2}\\right) \\left(4 P_{z|t-1|t-1} + 4 P_{\\dot{z}z|t-1|t-1} \\Delta{t} + \\Delta{t}^{4} \\sigma_{\\ddot{z}^2} + 4 \\Delta{t} \\left(P_{\\dot{z}|t-1|t-1} \\Delta{t} + P_{z\\dot{z}|t-1|t-1}\\right) + 4 \\sigma_{z^2}\\right)}\\\\0 & 0 & 0 & 0 & \\frac{16 \\left(P_{\\dot{\\phi}|t-1|t-1} + \\Delta{t}^{2} \\sigma_{\\dot{\\phi}^2}\\right) \\left(\\overline{P_{\\dot{\\phi}|t-1|t-1}} + \\overline{\\Delta{t}}^{2} \\overline{\\sigma_{\\dot{\\phi}^2}} + \\overline{\\sigma_{\\dot{\\phi}^2}}\\right)}{\\sigma_{\\ddot{y}^2} \\sigma_{\\ddot{z}^2} \\left(P_{\\dot{\\phi}|t-1|t-1} + \\Delta{t}^{2} \\sigma_{\\dot{\\phi}^2} + \\sigma_{\\dot{\\phi}^2}\\right) \\left(4 P_{y|t-1|t-1} + 4 P_{\\dot{y}y|t-1|t-1} \\Delta{t} + \\Delta{t}^{4} \\sigma_{\\ddot{y}^2} + 4 \\Delta{t} \\left(P_{\\dot{y}|t-1|t-1} \\Delta{t} + P_{y\\dot{y}|t-1|t-1}\\right) + 4 \\sigma_{y^2}\\right) \\left(4 P_{z|t-1|t-1} + 4 P_{\\dot{z}z|t-1|t-1} \\Delta{t} + \\Delta{t}^{4} \\sigma_{\\ddot{z}^2} + 4 \\Delta{t} \\left(P_{\\dot{z}|t-1|t-1} \\Delta{t} + P_{z\\dot{z}|t-1|t-1}\\right) + 4 \\sigma_{z^2}\\right)}\\end{matrix}\\right]$"
      ],
      "text/plain": [
       "<IPython.core.display.Math object>"
      ]
     },
     "metadata": {},
     "output_type": "display_data"
    }
   ],
   "source": [
    "Kt_update = (Pt_predict*H.T*St_inv).simplify()\n",
    "display(Math(r'K_{{t|t}} = {}'.format(sp.latex(Kt_update))))"
   ]
  },
  {
   "cell_type": "code",
   "execution_count": 13,
   "metadata": {},
   "outputs": [
    {
     "data": {
      "text/latex": [
       "$\\displaystyle X_{t|t} = \\left[\\begin{matrix}y_{t|t-1} + \\frac{\\left(- y_{t|t-1} + z_{y|t}\\right) \\left(4 P_{y|t-1|t-1} + 4 P_{\\dot{y}y|t-1|t-1} \\Delta{t} + \\Delta{t}^{4} \\sigma_{\\ddot{y}^2} + 4 \\Delta{t} \\left(P_{\\dot{y}|t-1|t-1} \\Delta{t} + P_{y\\dot{y}|t-1|t-1}\\right)\\right) \\left(4 \\left(\\overline{P_{\\dot{y}|t-1|t-1}} \\overline{\\Delta{t}} + \\overline{P_{y\\dot{y}|t-1|t-1}}\\right) \\overline{\\Delta{t}} + 4 \\overline{P_{y|t-1|t-1}} + 4 \\overline{P_{\\dot{y}y|t-1|t-1}} \\overline{\\Delta{t}} + \\overline{\\Delta{t}}^{4} \\overline{\\sigma_{\\ddot{y}^2}} + 4 \\overline{\\sigma_{y^2}}\\right)}{\\sigma_{\\ddot{y}^2} \\sigma_{\\ddot{z}^2} \\left(P_{\\dot{\\phi}|t-1|t-1} + \\Delta{t}^{2} \\sigma_{\\dot{\\phi}^2} + \\sigma_{\\dot{\\phi}^2}\\right) \\left(4 P_{y|t-1|t-1} + 4 P_{\\dot{y}y|t-1|t-1} \\Delta{t} + \\Delta{t}^{4} \\sigma_{\\ddot{y}^2} + 4 \\Delta{t} \\left(P_{\\dot{y}|t-1|t-1} \\Delta{t} + P_{y\\dot{y}|t-1|t-1}\\right) + 4 \\sigma_{y^2}\\right) \\left(4 P_{z|t-1|t-1} + 4 P_{\\dot{z}z|t-1|t-1} \\Delta{t} + \\Delta{t}^{4} \\sigma_{\\ddot{z}^2} + 4 \\Delta{t} \\left(P_{\\dot{z}|t-1|t-1} \\Delta{t} + P_{z\\dot{z}|t-1|t-1}\\right) + 4 \\sigma_{z^2}\\right)}\\\\\\dot{y}_{t|t-1} + \\frac{2 \\left(- y_{t|t-1} + z_{y|t}\\right) \\left(2 P_{\\dot{y}y|t-1|t-1} + 2 P_{\\dot{y}|t-1|t-1} \\Delta{t} + \\Delta{t}^{3} \\sigma_{\\ddot{y}^2}\\right) \\left(4 \\left(\\overline{P_{\\dot{y}|t-1|t-1}} \\overline{\\Delta{t}} + \\overline{P_{y\\dot{y}|t-1|t-1}}\\right) \\overline{\\Delta{t}} + 4 \\overline{P_{y|t-1|t-1}} + 4 \\overline{P_{\\dot{y}y|t-1|t-1}} \\overline{\\Delta{t}} + \\overline{\\Delta{t}}^{4} \\overline{\\sigma_{\\ddot{y}^2}} + 4 \\overline{\\sigma_{y^2}}\\right)}{\\sigma_{\\ddot{y}^2} \\sigma_{\\ddot{z}^2} \\left(P_{\\dot{\\phi}|t-1|t-1} + \\Delta{t}^{2} \\sigma_{\\dot{\\phi}^2} + \\sigma_{\\dot{\\phi}^2}\\right) \\left(4 P_{y|t-1|t-1} + 4 P_{\\dot{y}y|t-1|t-1} \\Delta{t} + \\Delta{t}^{4} \\sigma_{\\ddot{y}^2} + 4 \\Delta{t} \\left(P_{\\dot{y}|t-1|t-1} \\Delta{t} + P_{y\\dot{y}|t-1|t-1}\\right) + 4 \\sigma_{y^2}\\right) \\left(4 P_{z|t-1|t-1} + 4 P_{\\dot{z}z|t-1|t-1} \\Delta{t} + \\Delta{t}^{4} \\sigma_{\\ddot{z}^2} + 4 \\Delta{t} \\left(P_{\\dot{z}|t-1|t-1} \\Delta{t} + P_{z\\dot{z}|t-1|t-1}\\right) + 4 \\sigma_{z^2}\\right)}\\\\z_{t|t-1} + \\frac{\\left(- z_{t|t-1} + z_{z|t}\\right) \\left(4 P_{z|t-1|t-1} + 4 P_{\\dot{z}z|t-1|t-1} \\Delta{t} + \\Delta{t}^{4} \\sigma_{\\ddot{z}^2} + 4 \\Delta{t} \\left(P_{\\dot{z}|t-1|t-1} \\Delta{t} + P_{z\\dot{z}|t-1|t-1}\\right)\\right) \\left(4 \\left(\\overline{P_{\\dot{z}|t-1|t-1}} \\overline{\\Delta{t}} + \\overline{P_{z\\dot{z}|t-1|t-1}}\\right) \\overline{\\Delta{t}} + 4 \\overline{P_{z|t-1|t-1}} + 4 \\overline{P_{\\dot{z}z|t-1|t-1}} \\overline{\\Delta{t}} + \\overline{\\Delta{t}}^{4} \\overline{\\sigma_{\\ddot{z}^2}} + 4 \\overline{\\sigma_{z^2}}\\right)}{\\sigma_{\\ddot{y}^2} \\sigma_{\\ddot{z}^2} \\left(P_{\\dot{\\phi}|t-1|t-1} + \\Delta{t}^{2} \\sigma_{\\dot{\\phi}^2} + \\sigma_{\\dot{\\phi}^2}\\right) \\left(4 P_{y|t-1|t-1} + 4 P_{\\dot{y}y|t-1|t-1} \\Delta{t} + \\Delta{t}^{4} \\sigma_{\\ddot{y}^2} + 4 \\Delta{t} \\left(P_{\\dot{y}|t-1|t-1} \\Delta{t} + P_{y\\dot{y}|t-1|t-1}\\right) + 4 \\sigma_{y^2}\\right) \\left(4 P_{z|t-1|t-1} + 4 P_{\\dot{z}z|t-1|t-1} \\Delta{t} + \\Delta{t}^{4} \\sigma_{\\ddot{z}^2} + 4 \\Delta{t} \\left(P_{\\dot{z}|t-1|t-1} \\Delta{t} + P_{z\\dot{z}|t-1|t-1}\\right) + 4 \\sigma_{z^2}\\right)}\\\\\\dot{z}_{t|t-1} + \\frac{2 \\left(- z_{t|t-1} + z_{z|t}\\right) \\left(2 P_{\\dot{z}z|t-1|t-1} + 2 P_{\\dot{z}|t-1|t-1} \\Delta{t} + \\Delta{t}^{3} \\sigma_{\\ddot{z}^2}\\right) \\left(4 \\left(\\overline{P_{\\dot{z}|t-1|t-1}} \\overline{\\Delta{t}} + \\overline{P_{z\\dot{z}|t-1|t-1}}\\right) \\overline{\\Delta{t}} + 4 \\overline{P_{z|t-1|t-1}} + 4 \\overline{P_{\\dot{z}z|t-1|t-1}} \\overline{\\Delta{t}} + \\overline{\\Delta{t}}^{4} \\overline{\\sigma_{\\ddot{z}^2}} + 4 \\overline{\\sigma_{z^2}}\\right)}{\\sigma_{\\ddot{y}^2} \\sigma_{\\ddot{z}^2} \\left(P_{\\dot{\\phi}|t-1|t-1} + \\Delta{t}^{2} \\sigma_{\\dot{\\phi}^2} + \\sigma_{\\dot{\\phi}^2}\\right) \\left(4 P_{y|t-1|t-1} + 4 P_{\\dot{y}y|t-1|t-1} \\Delta{t} + \\Delta{t}^{4} \\sigma_{\\ddot{y}^2} + 4 \\Delta{t} \\left(P_{\\dot{y}|t-1|t-1} \\Delta{t} + P_{y\\dot{y}|t-1|t-1}\\right) + 4 \\sigma_{y^2}\\right) \\left(4 P_{z|t-1|t-1} + 4 P_{\\dot{z}z|t-1|t-1} \\Delta{t} + \\Delta{t}^{4} \\sigma_{\\ddot{z}^2} + 4 \\Delta{t} \\left(P_{\\dot{z}|t-1|t-1} \\Delta{t} + P_{z\\dot{z}|t-1|t-1}\\right) + 4 \\sigma_{z^2}\\right)}\\\\\\phi_{t|t-1} + \\frac{8 \\left(- \\dot{\\phi}_{t|t-1} + z_{\\dot{\\phi}|t}\\right) \\left(2 P_{\\dot{\\phi}|t-1|t-1} \\Delta{t} + 2 P_{\\phi\\dot{\\phi}|t-1|t-1} + \\Delta{t}^{3} \\sigma_{\\dot{\\phi}^2}\\right) \\left(\\overline{P_{\\dot{\\phi}|t-1|t-1}} + \\overline{\\Delta{t}}^{2} \\overline{\\sigma_{\\dot{\\phi}^2}} + \\overline{\\sigma_{\\dot{\\phi}^2}}\\right)}{\\sigma_{\\ddot{y}^2} \\sigma_{\\ddot{z}^2} \\left(P_{\\dot{\\phi}|t-1|t-1} + \\Delta{t}^{2} \\sigma_{\\dot{\\phi}^2} + \\sigma_{\\dot{\\phi}^2}\\right) \\left(4 P_{y|t-1|t-1} + 4 P_{\\dot{y}y|t-1|t-1} \\Delta{t} + \\Delta{t}^{4} \\sigma_{\\ddot{y}^2} + 4 \\Delta{t} \\left(P_{\\dot{y}|t-1|t-1} \\Delta{t} + P_{y\\dot{y}|t-1|t-1}\\right) + 4 \\sigma_{y^2}\\right) \\left(4 P_{z|t-1|t-1} + 4 P_{\\dot{z}z|t-1|t-1} \\Delta{t} + \\Delta{t}^{4} \\sigma_{\\ddot{z}^2} + 4 \\Delta{t} \\left(P_{\\dot{z}|t-1|t-1} \\Delta{t} + P_{z\\dot{z}|t-1|t-1}\\right) + 4 \\sigma_{z^2}\\right)}\\\\\\dot{\\phi}_{t|t-1} + \\frac{16 \\left(P_{\\dot{\\phi}|t-1|t-1} + \\Delta{t}^{2} \\sigma_{\\dot{\\phi}^2}\\right) \\left(- \\dot{\\phi}_{t|t-1} + z_{\\dot{\\phi}|t}\\right) \\left(\\overline{P_{\\dot{\\phi}|t-1|t-1}} + \\overline{\\Delta{t}}^{2} \\overline{\\sigma_{\\dot{\\phi}^2}} + \\overline{\\sigma_{\\dot{\\phi}^2}}\\right)}{\\sigma_{\\ddot{y}^2} \\sigma_{\\ddot{z}^2} \\left(P_{\\dot{\\phi}|t-1|t-1} + \\Delta{t}^{2} \\sigma_{\\dot{\\phi}^2} + \\sigma_{\\dot{\\phi}^2}\\right) \\left(4 P_{y|t-1|t-1} + 4 P_{\\dot{y}y|t-1|t-1} \\Delta{t} + \\Delta{t}^{4} \\sigma_{\\ddot{y}^2} + 4 \\Delta{t} \\left(P_{\\dot{y}|t-1|t-1} \\Delta{t} + P_{y\\dot{y}|t-1|t-1}\\right) + 4 \\sigma_{y^2}\\right) \\left(4 P_{z|t-1|t-1} + 4 P_{\\dot{z}z|t-1|t-1} \\Delta{t} + \\Delta{t}^{4} \\sigma_{\\ddot{z}^2} + 4 \\Delta{t} \\left(P_{\\dot{z}|t-1|t-1} \\Delta{t} + P_{z\\dot{z}|t-1|t-1}\\right) + 4 \\sigma_{z^2}\\right)}\\end{matrix}\\right]$"
      ],
      "text/plain": [
       "<IPython.core.display.Math object>"
      ]
     },
     "metadata": {},
     "output_type": "display_data"
    }
   ],
   "source": [
    "Xt_update = (Xt_predict_compact + Kt_update*(Zt_update - H*Xt_predict_compact))\n",
    "display(Math(r'X_{{t|t}} = {}'.format(sp.latex(Xt_update))))"
   ]
  },
  {
   "cell_type": "code",
   "execution_count": 14,
   "metadata": {},
   "outputs": [
    {
     "data": {
      "text/latex": [
       "$\\displaystyle P_{t|t} = \\left[\\begin{matrix}\\left(1 - \\frac{\\left(4 P_{y|t-1|t-1} + 4 P_{\\dot{y}y|t-1|t-1} \\Delta{t} + \\Delta{t}^{4} \\sigma_{\\ddot{y}^2} + 4 \\Delta{t} \\left(P_{\\dot{y}|t-1|t-1} \\Delta{t} + P_{y\\dot{y}|t-1|t-1}\\right)\\right) \\left(4 \\left(\\overline{P_{\\dot{y}|t-1|t-1}} \\overline{\\Delta{t}} + \\overline{P_{y\\dot{y}|t-1|t-1}}\\right) \\overline{\\Delta{t}} + 4 \\overline{P_{y|t-1|t-1}} + 4 \\overline{P_{\\dot{y}y|t-1|t-1}} \\overline{\\Delta{t}} + \\overline{\\Delta{t}}^{4} \\overline{\\sigma_{\\ddot{y}^2}} + 4 \\overline{\\sigma_{y^2}}\\right)}{\\sigma_{\\ddot{y}^2} \\sigma_{\\ddot{z}^2} \\left(P_{\\dot{\\phi}|t-1|t-1} + \\Delta{t}^{2} \\sigma_{\\dot{\\phi}^2} + \\sigma_{\\dot{\\phi}^2}\\right) \\left(4 P_{y|t-1|t-1} + 4 P_{\\dot{y}y|t-1|t-1} \\Delta{t} + \\Delta{t}^{4} \\sigma_{\\ddot{y}^2} + 4 \\Delta{t} \\left(P_{\\dot{y}|t-1|t-1} \\Delta{t} + P_{y\\dot{y}|t-1|t-1}\\right) + 4 \\sigma_{y^2}\\right) \\left(4 P_{z|t-1|t-1} + 4 P_{\\dot{z}z|t-1|t-1} \\Delta{t} + \\Delta{t}^{4} \\sigma_{\\ddot{z}^2} + 4 \\Delta{t} \\left(P_{\\dot{z}|t-1|t-1} \\Delta{t} + P_{z\\dot{z}|t-1|t-1}\\right) + 4 \\sigma_{z^2}\\right)}\\right) \\left(P_{y|t-1|t-1} + P_{\\dot{y}y|t-1|t-1} \\Delta{t} + \\frac{\\Delta{t}^{4} \\sigma_{\\ddot{y}^2}}{4} + \\Delta{t} \\left(P_{\\dot{y}|t-1|t-1} \\Delta{t} + P_{y\\dot{y}|t-1|t-1}\\right)\\right) & \\left(1 - \\frac{\\left(4 P_{y|t-1|t-1} + 4 P_{\\dot{y}y|t-1|t-1} \\Delta{t} + \\Delta{t}^{4} \\sigma_{\\ddot{y}^2} + 4 \\Delta{t} \\left(P_{\\dot{y}|t-1|t-1} \\Delta{t} + P_{y\\dot{y}|t-1|t-1}\\right)\\right) \\left(4 \\left(\\overline{P_{\\dot{y}|t-1|t-1}} \\overline{\\Delta{t}} + \\overline{P_{y\\dot{y}|t-1|t-1}}\\right) \\overline{\\Delta{t}} + 4 \\overline{P_{y|t-1|t-1}} + 4 \\overline{P_{\\dot{y}y|t-1|t-1}} \\overline{\\Delta{t}} + \\overline{\\Delta{t}}^{4} \\overline{\\sigma_{\\ddot{y}^2}} + 4 \\overline{\\sigma_{y^2}}\\right)}{\\sigma_{\\ddot{y}^2} \\sigma_{\\ddot{z}^2} \\left(P_{\\dot{\\phi}|t-1|t-1} + \\Delta{t}^{2} \\sigma_{\\dot{\\phi}^2} + \\sigma_{\\dot{\\phi}^2}\\right) \\left(4 P_{y|t-1|t-1} + 4 P_{\\dot{y}y|t-1|t-1} \\Delta{t} + \\Delta{t}^{4} \\sigma_{\\ddot{y}^2} + 4 \\Delta{t} \\left(P_{\\dot{y}|t-1|t-1} \\Delta{t} + P_{y\\dot{y}|t-1|t-1}\\right) + 4 \\sigma_{y^2}\\right) \\left(4 P_{z|t-1|t-1} + 4 P_{\\dot{z}z|t-1|t-1} \\Delta{t} + \\Delta{t}^{4} \\sigma_{\\ddot{z}^2} + 4 \\Delta{t} \\left(P_{\\dot{z}|t-1|t-1} \\Delta{t} + P_{z\\dot{z}|t-1|t-1}\\right) + 4 \\sigma_{z^2}\\right)}\\right) \\left(P_{\\dot{y}|t-1|t-1} \\Delta{t} + P_{y\\dot{y}|t-1|t-1} + \\frac{\\Delta{t}^{3} \\sigma_{\\ddot{y}^2}}{2}\\right) & 0 & 0 & 0 & 0\\\\P_{\\dot{y}y|t-1|t-1} + P_{\\dot{y}|t-1|t-1} \\Delta{t} + \\frac{\\Delta{t}^{3} \\sigma_{\\ddot{y}^2}}{2} - \\frac{2 \\cdot \\left(2 P_{\\dot{y}y|t-1|t-1} + 2 P_{\\dot{y}|t-1|t-1} \\Delta{t} + \\Delta{t}^{3} \\sigma_{\\ddot{y}^2}\\right) \\left(P_{y|t-1|t-1} + P_{\\dot{y}y|t-1|t-1} \\Delta{t} + \\frac{\\Delta{t}^{4} \\sigma_{\\ddot{y}^2}}{4} + \\Delta{t} \\left(P_{\\dot{y}|t-1|t-1} \\Delta{t} + P_{y\\dot{y}|t-1|t-1}\\right)\\right) \\left(4 \\left(\\overline{P_{\\dot{y}|t-1|t-1}} \\overline{\\Delta{t}} + \\overline{P_{y\\dot{y}|t-1|t-1}}\\right) \\overline{\\Delta{t}} + 4 \\overline{P_{y|t-1|t-1}} + 4 \\overline{P_{\\dot{y}y|t-1|t-1}} \\overline{\\Delta{t}} + \\overline{\\Delta{t}}^{4} \\overline{\\sigma_{\\ddot{y}^2}} + 4 \\overline{\\sigma_{y^2}}\\right)}{\\sigma_{\\ddot{y}^2} \\sigma_{\\ddot{z}^2} \\left(P_{\\dot{\\phi}|t-1|t-1} + \\Delta{t}^{2} \\sigma_{\\dot{\\phi}^2} + \\sigma_{\\dot{\\phi}^2}\\right) \\left(4 P_{y|t-1|t-1} + 4 P_{\\dot{y}y|t-1|t-1} \\Delta{t} + \\Delta{t}^{4} \\sigma_{\\ddot{y}^2} + 4 \\Delta{t} \\left(P_{\\dot{y}|t-1|t-1} \\Delta{t} + P_{y\\dot{y}|t-1|t-1}\\right) + 4 \\sigma_{y^2}\\right) \\left(4 P_{z|t-1|t-1} + 4 P_{\\dot{z}z|t-1|t-1} \\Delta{t} + \\Delta{t}^{4} \\sigma_{\\ddot{z}^2} + 4 \\Delta{t} \\left(P_{\\dot{z}|t-1|t-1} \\Delta{t} + P_{z\\dot{z}|t-1|t-1}\\right) + 4 \\sigma_{z^2}\\right)} & P_{\\dot{y}|t-1|t-1} + \\Delta{t}^{2} \\sigma_{\\ddot{y}^2} - \\frac{2 \\cdot \\left(2 P_{\\dot{y}y|t-1|t-1} + 2 P_{\\dot{y}|t-1|t-1} \\Delta{t} + \\Delta{t}^{3} \\sigma_{\\ddot{y}^2}\\right) \\left(P_{\\dot{y}|t-1|t-1} \\Delta{t} + P_{y\\dot{y}|t-1|t-1} + \\frac{\\Delta{t}^{3} \\sigma_{\\ddot{y}^2}}{2}\\right) \\left(4 \\left(\\overline{P_{\\dot{y}|t-1|t-1}} \\overline{\\Delta{t}} + \\overline{P_{y\\dot{y}|t-1|t-1}}\\right) \\overline{\\Delta{t}} + 4 \\overline{P_{y|t-1|t-1}} + 4 \\overline{P_{\\dot{y}y|t-1|t-1}} \\overline{\\Delta{t}} + \\overline{\\Delta{t}}^{4} \\overline{\\sigma_{\\ddot{y}^2}} + 4 \\overline{\\sigma_{y^2}}\\right)}{\\sigma_{\\ddot{y}^2} \\sigma_{\\ddot{z}^2} \\left(P_{\\dot{\\phi}|t-1|t-1} + \\Delta{t}^{2} \\sigma_{\\dot{\\phi}^2} + \\sigma_{\\dot{\\phi}^2}\\right) \\left(4 P_{y|t-1|t-1} + 4 P_{\\dot{y}y|t-1|t-1} \\Delta{t} + \\Delta{t}^{4} \\sigma_{\\ddot{y}^2} + 4 \\Delta{t} \\left(P_{\\dot{y}|t-1|t-1} \\Delta{t} + P_{y\\dot{y}|t-1|t-1}\\right) + 4 \\sigma_{y^2}\\right) \\left(4 P_{z|t-1|t-1} + 4 P_{\\dot{z}z|t-1|t-1} \\Delta{t} + \\Delta{t}^{4} \\sigma_{\\ddot{z}^2} + 4 \\Delta{t} \\left(P_{\\dot{z}|t-1|t-1} \\Delta{t} + P_{z\\dot{z}|t-1|t-1}\\right) + 4 \\sigma_{z^2}\\right)} & 0 & 0 & 0 & 0\\\\0 & 0 & \\left(1 - \\frac{\\left(4 P_{z|t-1|t-1} + 4 P_{\\dot{z}z|t-1|t-1} \\Delta{t} + \\Delta{t}^{4} \\sigma_{\\ddot{z}^2} + 4 \\Delta{t} \\left(P_{\\dot{z}|t-1|t-1} \\Delta{t} + P_{z\\dot{z}|t-1|t-1}\\right)\\right) \\left(4 \\left(\\overline{P_{\\dot{z}|t-1|t-1}} \\overline{\\Delta{t}} + \\overline{P_{z\\dot{z}|t-1|t-1}}\\right) \\overline{\\Delta{t}} + 4 \\overline{P_{z|t-1|t-1}} + 4 \\overline{P_{\\dot{z}z|t-1|t-1}} \\overline{\\Delta{t}} + \\overline{\\Delta{t}}^{4} \\overline{\\sigma_{\\ddot{z}^2}} + 4 \\overline{\\sigma_{z^2}}\\right)}{\\sigma_{\\ddot{y}^2} \\sigma_{\\ddot{z}^2} \\left(P_{\\dot{\\phi}|t-1|t-1} + \\Delta{t}^{2} \\sigma_{\\dot{\\phi}^2} + \\sigma_{\\dot{\\phi}^2}\\right) \\left(4 P_{y|t-1|t-1} + 4 P_{\\dot{y}y|t-1|t-1} \\Delta{t} + \\Delta{t}^{4} \\sigma_{\\ddot{y}^2} + 4 \\Delta{t} \\left(P_{\\dot{y}|t-1|t-1} \\Delta{t} + P_{y\\dot{y}|t-1|t-1}\\right) + 4 \\sigma_{y^2}\\right) \\left(4 P_{z|t-1|t-1} + 4 P_{\\dot{z}z|t-1|t-1} \\Delta{t} + \\Delta{t}^{4} \\sigma_{\\ddot{z}^2} + 4 \\Delta{t} \\left(P_{\\dot{z}|t-1|t-1} \\Delta{t} + P_{z\\dot{z}|t-1|t-1}\\right) + 4 \\sigma_{z^2}\\right)}\\right) \\left(P_{z|t-1|t-1} + P_{\\dot{z}z|t-1|t-1} \\Delta{t} + \\frac{\\Delta{t}^{4} \\sigma_{\\ddot{z}^2}}{4} + \\Delta{t} \\left(P_{\\dot{z}|t-1|t-1} \\Delta{t} + P_{z\\dot{z}|t-1|t-1}\\right)\\right) & \\left(1 - \\frac{\\left(4 P_{z|t-1|t-1} + 4 P_{\\dot{z}z|t-1|t-1} \\Delta{t} + \\Delta{t}^{4} \\sigma_{\\ddot{z}^2} + 4 \\Delta{t} \\left(P_{\\dot{z}|t-1|t-1} \\Delta{t} + P_{z\\dot{z}|t-1|t-1}\\right)\\right) \\left(4 \\left(\\overline{P_{\\dot{z}|t-1|t-1}} \\overline{\\Delta{t}} + \\overline{P_{z\\dot{z}|t-1|t-1}}\\right) \\overline{\\Delta{t}} + 4 \\overline{P_{z|t-1|t-1}} + 4 \\overline{P_{\\dot{z}z|t-1|t-1}} \\overline{\\Delta{t}} + \\overline{\\Delta{t}}^{4} \\overline{\\sigma_{\\ddot{z}^2}} + 4 \\overline{\\sigma_{z^2}}\\right)}{\\sigma_{\\ddot{y}^2} \\sigma_{\\ddot{z}^2} \\left(P_{\\dot{\\phi}|t-1|t-1} + \\Delta{t}^{2} \\sigma_{\\dot{\\phi}^2} + \\sigma_{\\dot{\\phi}^2}\\right) \\left(4 P_{y|t-1|t-1} + 4 P_{\\dot{y}y|t-1|t-1} \\Delta{t} + \\Delta{t}^{4} \\sigma_{\\ddot{y}^2} + 4 \\Delta{t} \\left(P_{\\dot{y}|t-1|t-1} \\Delta{t} + P_{y\\dot{y}|t-1|t-1}\\right) + 4 \\sigma_{y^2}\\right) \\left(4 P_{z|t-1|t-1} + 4 P_{\\dot{z}z|t-1|t-1} \\Delta{t} + \\Delta{t}^{4} \\sigma_{\\ddot{z}^2} + 4 \\Delta{t} \\left(P_{\\dot{z}|t-1|t-1} \\Delta{t} + P_{z\\dot{z}|t-1|t-1}\\right) + 4 \\sigma_{z^2}\\right)}\\right) \\left(P_{\\dot{z}|t-1|t-1} \\Delta{t} + P_{z\\dot{z}|t-1|t-1} + \\frac{\\Delta{t}^{3} \\sigma_{\\ddot{z}^2}}{2}\\right) & 0 & 0\\\\0 & 0 & P_{\\dot{z}z|t-1|t-1} + P_{\\dot{z}|t-1|t-1} \\Delta{t} + \\frac{\\Delta{t}^{3} \\sigma_{\\ddot{z}^2}}{2} - \\frac{2 \\cdot \\left(2 P_{\\dot{z}z|t-1|t-1} + 2 P_{\\dot{z}|t-1|t-1} \\Delta{t} + \\Delta{t}^{3} \\sigma_{\\ddot{z}^2}\\right) \\left(P_{z|t-1|t-1} + P_{\\dot{z}z|t-1|t-1} \\Delta{t} + \\frac{\\Delta{t}^{4} \\sigma_{\\ddot{z}^2}}{4} + \\Delta{t} \\left(P_{\\dot{z}|t-1|t-1} \\Delta{t} + P_{z\\dot{z}|t-1|t-1}\\right)\\right) \\left(4 \\left(\\overline{P_{\\dot{z}|t-1|t-1}} \\overline{\\Delta{t}} + \\overline{P_{z\\dot{z}|t-1|t-1}}\\right) \\overline{\\Delta{t}} + 4 \\overline{P_{z|t-1|t-1}} + 4 \\overline{P_{\\dot{z}z|t-1|t-1}} \\overline{\\Delta{t}} + \\overline{\\Delta{t}}^{4} \\overline{\\sigma_{\\ddot{z}^2}} + 4 \\overline{\\sigma_{z^2}}\\right)}{\\sigma_{\\ddot{y}^2} \\sigma_{\\ddot{z}^2} \\left(P_{\\dot{\\phi}|t-1|t-1} + \\Delta{t}^{2} \\sigma_{\\dot{\\phi}^2} + \\sigma_{\\dot{\\phi}^2}\\right) \\left(4 P_{y|t-1|t-1} + 4 P_{\\dot{y}y|t-1|t-1} \\Delta{t} + \\Delta{t}^{4} \\sigma_{\\ddot{y}^2} + 4 \\Delta{t} \\left(P_{\\dot{y}|t-1|t-1} \\Delta{t} + P_{y\\dot{y}|t-1|t-1}\\right) + 4 \\sigma_{y^2}\\right) \\left(4 P_{z|t-1|t-1} + 4 P_{\\dot{z}z|t-1|t-1} \\Delta{t} + \\Delta{t}^{4} \\sigma_{\\ddot{z}^2} + 4 \\Delta{t} \\left(P_{\\dot{z}|t-1|t-1} \\Delta{t} + P_{z\\dot{z}|t-1|t-1}\\right) + 4 \\sigma_{z^2}\\right)} & P_{\\dot{z}|t-1|t-1} + \\Delta{t}^{2} \\sigma_{\\ddot{z}^2} - \\frac{2 \\cdot \\left(2 P_{\\dot{z}z|t-1|t-1} + 2 P_{\\dot{z}|t-1|t-1} \\Delta{t} + \\Delta{t}^{3} \\sigma_{\\ddot{z}^2}\\right) \\left(P_{\\dot{z}|t-1|t-1} \\Delta{t} + P_{z\\dot{z}|t-1|t-1} + \\frac{\\Delta{t}^{3} \\sigma_{\\ddot{z}^2}}{2}\\right) \\left(4 \\left(\\overline{P_{\\dot{z}|t-1|t-1}} \\overline{\\Delta{t}} + \\overline{P_{z\\dot{z}|t-1|t-1}}\\right) \\overline{\\Delta{t}} + 4 \\overline{P_{z|t-1|t-1}} + 4 \\overline{P_{\\dot{z}z|t-1|t-1}} \\overline{\\Delta{t}} + \\overline{\\Delta{t}}^{4} \\overline{\\sigma_{\\ddot{z}^2}} + 4 \\overline{\\sigma_{z^2}}\\right)}{\\sigma_{\\ddot{y}^2} \\sigma_{\\ddot{z}^2} \\left(P_{\\dot{\\phi}|t-1|t-1} + \\Delta{t}^{2} \\sigma_{\\dot{\\phi}^2} + \\sigma_{\\dot{\\phi}^2}\\right) \\left(4 P_{y|t-1|t-1} + 4 P_{\\dot{y}y|t-1|t-1} \\Delta{t} + \\Delta{t}^{4} \\sigma_{\\ddot{y}^2} + 4 \\Delta{t} \\left(P_{\\dot{y}|t-1|t-1} \\Delta{t} + P_{y\\dot{y}|t-1|t-1}\\right) + 4 \\sigma_{y^2}\\right) \\left(4 P_{z|t-1|t-1} + 4 P_{\\dot{z}z|t-1|t-1} \\Delta{t} + \\Delta{t}^{4} \\sigma_{\\ddot{z}^2} + 4 \\Delta{t} \\left(P_{\\dot{z}|t-1|t-1} \\Delta{t} + P_{z\\dot{z}|t-1|t-1}\\right) + 4 \\sigma_{z^2}\\right)} & 0 & 0\\\\0 & 0 & 0 & 0 & P_{\\dot{\\phi}\\phi|t-1|t-1} \\Delta{t} + P_{\\phi|t-1|t-1} + \\frac{\\Delta{t}^{4} \\sigma_{\\dot{\\phi}^2}}{4} + \\Delta{t} \\left(P_{\\dot{\\phi}|t-1|t-1} \\Delta{t} + P_{\\phi\\dot{\\phi}|t-1|t-1}\\right) - \\frac{8 \\left(P_{\\dot{\\phi}\\phi|t-1|t-1} + P_{\\dot{\\phi}|t-1|t-1} \\Delta{t} + \\frac{\\Delta{t}^{3} \\sigma_{\\dot{\\phi}^2}}{2}\\right) \\left(2 P_{\\dot{\\phi}|t-1|t-1} \\Delta{t} + 2 P_{\\phi\\dot{\\phi}|t-1|t-1} + \\Delta{t}^{3} \\sigma_{\\dot{\\phi}^2}\\right) \\left(\\overline{P_{\\dot{\\phi}|t-1|t-1}} + \\overline{\\Delta{t}}^{2} \\overline{\\sigma_{\\dot{\\phi}^2}} + \\overline{\\sigma_{\\dot{\\phi}^2}}\\right)}{\\sigma_{\\ddot{y}^2} \\sigma_{\\ddot{z}^2} \\left(P_{\\dot{\\phi}|t-1|t-1} + \\Delta{t}^{2} \\sigma_{\\dot{\\phi}^2} + \\sigma_{\\dot{\\phi}^2}\\right) \\left(4 P_{y|t-1|t-1} + 4 P_{\\dot{y}y|t-1|t-1} \\Delta{t} + \\Delta{t}^{4} \\sigma_{\\ddot{y}^2} + 4 \\Delta{t} \\left(P_{\\dot{y}|t-1|t-1} \\Delta{t} + P_{y\\dot{y}|t-1|t-1}\\right) + 4 \\sigma_{y^2}\\right) \\left(4 P_{z|t-1|t-1} + 4 P_{\\dot{z}z|t-1|t-1} \\Delta{t} + \\Delta{t}^{4} \\sigma_{\\ddot{z}^2} + 4 \\Delta{t} \\left(P_{\\dot{z}|t-1|t-1} \\Delta{t} + P_{z\\dot{z}|t-1|t-1}\\right) + 4 \\sigma_{z^2}\\right)} & P_{\\dot{\\phi}|t-1|t-1} \\Delta{t} + P_{\\phi\\dot{\\phi}|t-1|t-1} + \\frac{\\Delta{t}^{3} \\sigma_{\\dot{\\phi}^2}}{2} - \\frac{8 \\left(P_{\\dot{\\phi}|t-1|t-1} + \\Delta{t}^{2} \\sigma_{\\dot{\\phi}^2}\\right) \\left(2 P_{\\dot{\\phi}|t-1|t-1} \\Delta{t} + 2 P_{\\phi\\dot{\\phi}|t-1|t-1} + \\Delta{t}^{3} \\sigma_{\\dot{\\phi}^2}\\right) \\left(\\overline{P_{\\dot{\\phi}|t-1|t-1}} + \\overline{\\Delta{t}}^{2} \\overline{\\sigma_{\\dot{\\phi}^2}} + \\overline{\\sigma_{\\dot{\\phi}^2}}\\right)}{\\sigma_{\\ddot{y}^2} \\sigma_{\\ddot{z}^2} \\left(P_{\\dot{\\phi}|t-1|t-1} + \\Delta{t}^{2} \\sigma_{\\dot{\\phi}^2} + \\sigma_{\\dot{\\phi}^2}\\right) \\left(4 P_{y|t-1|t-1} + 4 P_{\\dot{y}y|t-1|t-1} \\Delta{t} + \\Delta{t}^{4} \\sigma_{\\ddot{y}^2} + 4 \\Delta{t} \\left(P_{\\dot{y}|t-1|t-1} \\Delta{t} + P_{y\\dot{y}|t-1|t-1}\\right) + 4 \\sigma_{y^2}\\right) \\left(4 P_{z|t-1|t-1} + 4 P_{\\dot{z}z|t-1|t-1} \\Delta{t} + \\Delta{t}^{4} \\sigma_{\\ddot{z}^2} + 4 \\Delta{t} \\left(P_{\\dot{z}|t-1|t-1} \\Delta{t} + P_{z\\dot{z}|t-1|t-1}\\right) + 4 \\sigma_{z^2}\\right)}\\\\0 & 0 & 0 & 0 & \\left(1 - \\frac{16 \\left(P_{\\dot{\\phi}|t-1|t-1} + \\Delta{t}^{2} \\sigma_{\\dot{\\phi}^2}\\right) \\left(\\overline{P_{\\dot{\\phi}|t-1|t-1}} + \\overline{\\Delta{t}}^{2} \\overline{\\sigma_{\\dot{\\phi}^2}} + \\overline{\\sigma_{\\dot{\\phi}^2}}\\right)}{\\sigma_{\\ddot{y}^2} \\sigma_{\\ddot{z}^2} \\left(P_{\\dot{\\phi}|t-1|t-1} + \\Delta{t}^{2} \\sigma_{\\dot{\\phi}^2} + \\sigma_{\\dot{\\phi}^2}\\right) \\left(4 P_{y|t-1|t-1} + 4 P_{\\dot{y}y|t-1|t-1} \\Delta{t} + \\Delta{t}^{4} \\sigma_{\\ddot{y}^2} + 4 \\Delta{t} \\left(P_{\\dot{y}|t-1|t-1} \\Delta{t} + P_{y\\dot{y}|t-1|t-1}\\right) + 4 \\sigma_{y^2}\\right) \\left(4 P_{z|t-1|t-1} + 4 P_{\\dot{z}z|t-1|t-1} \\Delta{t} + \\Delta{t}^{4} \\sigma_{\\ddot{z}^2} + 4 \\Delta{t} \\left(P_{\\dot{z}|t-1|t-1} \\Delta{t} + P_{z\\dot{z}|t-1|t-1}\\right) + 4 \\sigma_{z^2}\\right)}\\right) \\left(P_{\\dot{\\phi}\\phi|t-1|t-1} + P_{\\dot{\\phi}|t-1|t-1} \\Delta{t} + \\frac{\\Delta{t}^{3} \\sigma_{\\dot{\\phi}^2}}{2}\\right) & \\left(1 - \\frac{16 \\left(P_{\\dot{\\phi}|t-1|t-1} + \\Delta{t}^{2} \\sigma_{\\dot{\\phi}^2}\\right) \\left(\\overline{P_{\\dot{\\phi}|t-1|t-1}} + \\overline{\\Delta{t}}^{2} \\overline{\\sigma_{\\dot{\\phi}^2}} + \\overline{\\sigma_{\\dot{\\phi}^2}}\\right)}{\\sigma_{\\ddot{y}^2} \\sigma_{\\ddot{z}^2} \\left(P_{\\dot{\\phi}|t-1|t-1} + \\Delta{t}^{2} \\sigma_{\\dot{\\phi}^2} + \\sigma_{\\dot{\\phi}^2}\\right) \\left(4 P_{y|t-1|t-1} + 4 P_{\\dot{y}y|t-1|t-1} \\Delta{t} + \\Delta{t}^{4} \\sigma_{\\ddot{y}^2} + 4 \\Delta{t} \\left(P_{\\dot{y}|t-1|t-1} \\Delta{t} + P_{y\\dot{y}|t-1|t-1}\\right) + 4 \\sigma_{y^2}\\right) \\left(4 P_{z|t-1|t-1} + 4 P_{\\dot{z}z|t-1|t-1} \\Delta{t} + \\Delta{t}^{4} \\sigma_{\\ddot{z}^2} + 4 \\Delta{t} \\left(P_{\\dot{z}|t-1|t-1} \\Delta{t} + P_{z\\dot{z}|t-1|t-1}\\right) + 4 \\sigma_{z^2}\\right)}\\right) \\left(P_{\\dot{\\phi}|t-1|t-1} + \\Delta{t}^{2} \\sigma_{\\dot{\\phi}^2}\\right)\\end{matrix}\\right]$"
      ],
      "text/plain": [
       "<IPython.core.display.Math object>"
      ]
     },
     "metadata": {},
     "output_type": "display_data"
    }
   ],
   "source": [
    "I = sp.Matrix([[1,0,0,0,0,0],[0,1,0,0,0,0],[0,0,1,0,0,0],[0,0,0,1,0,0],[0,0,0,0,1,0],[0,0,0,0,0,1]])\n",
    "Pt_update = ((I - Kt_update*H)*Pt_predict)\n",
    "display(Math(r'P_{{t|t}} = {}'.format(sp.latex(Pt_update))))"
   ]
  },
  {
   "cell_type": "code",
   "execution_count": null,
   "metadata": {},
   "outputs": [],
   "source": []
  }
 ],
 "metadata": {
  "kernelspec": {
   "display_name": "Python 3 (ipykernel)",
   "language": "python",
   "name": "python3"
  },
  "language_info": {
   "codemirror_mode": {
    "name": "ipython",
    "version": 3
   },
   "file_extension": ".py",
   "mimetype": "text/x-python",
   "name": "python",
   "nbconvert_exporter": "python",
   "pygments_lexer": "ipython3",
   "version": "3.10.9"
  }
 },
 "nbformat": 4,
 "nbformat_minor": 4
}
