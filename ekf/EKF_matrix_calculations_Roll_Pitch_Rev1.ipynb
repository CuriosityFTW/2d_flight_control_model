{
 "cells": [
  {
   "cell_type": "code",
   "execution_count": 2,
   "metadata": {
    "tags": []
   },
   "outputs": [],
   "source": [
    "import sympy as sp\n",
    "import numpy as np\n",
    "from scipy import linalg\n",
    "from sympy import *\n",
    "from IPython.display import Math, Latex"
   ]
  },
  {
   "cell_type": "markdown",
   "metadata": {},
   "source": [
    "## List of tuning parameters for position and velocity fusion\n",
    "#### A. Process noise parameters\n",
    "1. $gpsHorizPosNoise$ : GPS horizontal position measurement noise [m] <br>\n",
    "&emsp; Note: This sets the GPS horizontal position observation noise. Increasing it reduces the weighting of GPS horizontal position measurements. <br>\n",
    "</br>\n",
    "2. $gpsHorizVelNoise$ : GPS horizontal velocity measurement noise [m/s] <br>\n",
    "&emsp; Note: This sets a lower limit on the speed accuracy reported by the GPS receiver that is used to set horizontal velocity observation noise. If the model of receiver used does not provide a speed accurcy estimate, then the parameter value will be used. Increasing it reduces the weighting of the GPS horizontal velocity measurements. <br>\n",
    "</br>\n",
    "3. $posDownObsNoise$ : Observation noise variance on the vertical position used by the state and covariance update step [m^2] <br>\n",
    "    a. $gpsHgtAccuracy$ : Estimated height accuracy returned by the GPS receiver [m] <br>\n",
    "    </br>\n",
    "    b. $rngNoise$ : Range finder noise [m] $(AP \\; value: 0.5)$ <br>\n",
    "    &emsp; Note: This is the RMS value of noise in the range finder measurement. Increasing it reduces the weighting on this measurement. <br>\n",
    "    </br>\n",
    "    c. $baroAltNoise$ : Baro height measurement noise [m] <br>\n",
    "    &emsp; Note: This is the RMS value of noise in the altitude measurement. Increasing it reduces the weighting of the baro measurement and will make the filter respond more slowly to baro measurement errors, but will make it more sensitive to GPS and accelerometer errors. <br>\n",
    "</br>\n",
    "4. $gpsVertVelNoise$ : GPS vertical velocity measurement noise [m/s] <br>\n",
    "&emsp; Note: This sets a lower limit on the speed accuracy reported by the GPS receiver that is used to set vertical velocity observation noise. If the model of receiver used does not provide a speed accurcy estimate, then the parameter value will be used. Increasing it reduces the weighting of the GPS vertical velocity measurements.\n",
    "\n",
    "#### B. Measurement uncertainty parameters\n",
    "5. $gpsPosAccuracy$ : Estimated position accuracy returned by the GPS receiver [m] $(AP \\; value: 0)$ <br>\n",
    "</br>\n",
    "6. $gpsSpdAccuracy$ : Estimated speed accuracy returned by the GPS receiver [m/s] $(AP \\; value: 0)$ <br>\n",
    "</br>\n",
    "7. $gpsHgtAccuracy$ : estimated height accuracy returned by the GPS receiver [m] $(AP \\; value: 0)$ <br>\n",
    "\n",
    "#### C. Innovation consistency check parameters\n",
    "8. $gpsPosInnovGate$ : Percentage number of standard deviations applied to GPS position innovation consistency check [%] <br>\n",
    "&emsp; Note: This sets the percentage number of standard deviations applied to the GPS position measurement innovation consistency check. Decreasing it makes it more likely that good measurements will be rejected. Increasing it makes it more likely that bad measurements will be accepted. <br>\n",
    "</br>\n",
    "9. $hgtInnovGate$ : Percentage number of standard deviations applied to height innovation consistency check [%] <br>\n",
    "&emsp; Note: This sets the percentage number of standard deviations applied to the height measurement innovation consistency check. Decreasing it makes it more likely that good measurements will be rejected. Increasing it makes it more likely that bad measurements will be accepted. <br>\n",
    "</br>\n",
    "10. $gpsVelInnovGate$ : Percentage number of standard deviations applied to GPS velocity innovation consistency check [%] <br>\n",
    "&emsp; Note: This sets the percentage number of standard deviations applied to the GPS velocity measurement innovation consistency check. Decreasing it makes it more likely that good measurements willbe rejected. Increasing it makes it more likely that bad measurements will be accepted."
   ]
  },
  {
   "cell_type": "markdown",
   "metadata": {},
   "source": [
    "## System model"
   ]
  },
  {
   "cell_type": "markdown",
   "metadata": {},
   "source": [
    "The system model is represented in the form of the state extrapolation equation: <br>\n",
    "<p style=\"text-align: center;\"> $X_{t|t-1} = F.X_{t-1|t-1} + G.U_{t-1|t-1}$ <br> </p>\n",
    "</br>\n",
    "where, <br>\n",
    "$X_{t|t-1}$ = Predicted system state at time t <br>\n",
    "$F$ = State transition matrix <br>\n",
    "$X_{t-1|t-1}$ = System state at time t-1 <br>\n",
    "$G$ = Control matrix <br>\n",
    "$U_{t-1|t-1}$ = Control vector at time t-1"
   ]
  },
  {
   "cell_type": "code",
   "execution_count": 37,
   "metadata": {
    "scrolled": false
   },
   "outputs": [
    {
     "data": {
      "text/latex": [
       "$\\displaystyle X_{t|t-1} = \\left[\\begin{matrix}\\phi_{t|t-1}\\\\\\dot{\\phi}_{t|t-1}\\\\\\phi_{b|t|t-1}\\\\\\theta_{t|t-1}\\\\\\dot{\\theta}_{t|t-1}\\\\\\theta_{b|t|t-1}\\end{matrix}\\right], F = \\left[\\begin{matrix}1 & \\Delta{t} & 0 & 0 & 0 & 0\\\\0 & 1 & 0 & 0 & 0 & 0\\\\0 & 0 & 1 & 0 & 0 & 0\\\\0 & 0 & 0 & 1 & \\Delta{t} & 0\\\\0 & 0 & 0 & 0 & 1 & 0\\\\0 & 0 & 0 & 0 & 0 & 1\\end{matrix}\\right], X_{t-1|t-1} = \\left[\\begin{matrix}\\phi_{t-1}\\\\\\dot{\\phi}_{t-1}\\\\\\phi_{b|t-1}\\\\\\theta_{t-1}\\\\\\dot{\\theta}_{t-1}\\\\\\theta_{b|t-1}\\end{matrix}\\right], G = \\left[\\begin{matrix}\\frac{\\Delta{t}^{2}}{2} & 0\\\\\\Delta{t} & 0\\\\0 & 0\\\\0 & \\frac{\\Delta{t}^{2}}{2}\\\\0 & \\Delta{t}\\\\0 & 0\\end{matrix}\\right], U_{t-1|t-1} = \\left[\\begin{matrix}\\ddot{\\phi}_{t-1}\\\\\\ddot{\\theta}_{t-1}\\end{matrix}\\right]$"
      ],
      "text/plain": [
       "<IPython.core.display.Math object>"
      ]
     },
     "metadata": {},
     "output_type": "display_data"
    }
   ],
   "source": [
    "# XT_predict_compact = Predicted system state at time t\n",
    "# F = State transition matrix\n",
    "# XT_previous = System state at time t-1\n",
    "# G = Control matrix\n",
    "# U = Control vector at time t-1\n",
    "\n",
    "roll_t1, roll_rate_t1, roll_bias_t1, pitch_t1, pitch_rate_t1, pitch_bias_t1, roll_t, roll_rate_t, roll_acc_t, roll_bias_t, pitch_t, pitch_rate_t, pitch_acc_t, pitch_bias_t, delt = sp.symbols('\\phi_{t|t-1}, \\dot{\\phi}_{t|t-1}, \\phi_{b|t|t-1}, \\\\theta_{t|t-1}, \\dot{\\\\theta}_{t|t-1}, \\\\theta_{b|t|t-1}, \\phi_{t-1}, \\dot{\\phi}_{t-1}, \\ddot{\\phi}_{t-1}, \\phi_{b|t-1}, \\\\theta_{t-1}, \\dot{\\\\theta}_{t-1}, \\ddot{\\\\theta}_{t-1}, \\\\theta_{b|t-1}, \\Delta{t}')\n",
    "\n",
    "Xt_predict_compact = sp.Matrix([[roll_t1],[roll_rate_t1],[roll_bias_t1],[pitch_t1],[pitch_rate_t1],[pitch_bias_t1]])\n",
    "F = sp.Matrix([[1,delt,0,0,0,0],[0,1,0,0,0,0],[0,0,1,0,0,0],[0,0,0,1,delt,0],[0,0,0,0,1,0],[0,0,0,0,0,1]])\n",
    "Xt_previous = sp.Matrix([[roll_t],[roll_rate_t],[roll_bias_t],[pitch_t],[pitch_rate_t],[pitch_bias_t]])\n",
    "G = sp.Matrix([[delt**2/2,0],[delt,0],[0,0],[0,delt**2/2],[0,delt],[0,0]])\n",
    "Ut_previous = sp.Matrix([[roll_acc_t],[pitch_acc_t]])\n",
    "\n",
    "display(Math(r'X_{{t|t-1}} = {}, F = {}, X_{{t-1|t-1}} = {}, G = {}, U_{{t-1|t-1}} = {}'.format(sp.latex(Xt_predict_compact), sp.latex(F), sp.latex(Xt_previous), sp.latex(G), sp.latex(Ut_previous))))"
   ]
  },
  {
   "cell_type": "markdown",
   "metadata": {},
   "source": [
    "Arranging the matrices in the form of the state extrapolation equation: $X_{t|t-1} = F.X_{t-1|t-1} + G.U_{t-1|t-1}$"
   ]
  },
  {
   "cell_type": "code",
   "execution_count": 38,
   "metadata": {
    "scrolled": true
   },
   "outputs": [
    {
     "data": {
      "text/latex": [
       "$\\displaystyle \\left[\\begin{matrix}\\phi_{t|t-1}\\\\\\dot{\\phi}_{t|t-1}\\\\\\phi_{b|t|t-1}\\\\\\theta_{t|t-1}\\\\\\dot{\\theta}_{t|t-1}\\\\\\theta_{b|t|t-1}\\end{matrix}\\right] = \\left[\\begin{matrix}1 & \\Delta{t} & 0 & 0 & 0 & 0\\\\0 & 1 & 0 & 0 & 0 & 0\\\\0 & 0 & 1 & 0 & 0 & 0\\\\0 & 0 & 0 & 1 & \\Delta{t} & 0\\\\0 & 0 & 0 & 0 & 1 & 0\\\\0 & 0 & 0 & 0 & 0 & 1\\end{matrix}\\right]\\left[\\begin{matrix}\\phi_{t-1}\\\\\\dot{\\phi}_{t-1}\\\\\\phi_{b|t-1}\\\\\\theta_{t-1}\\\\\\dot{\\theta}_{t-1}\\\\\\theta_{b|t-1}\\end{matrix}\\right] + \\left[\\begin{matrix}\\frac{\\Delta{t}^{2}}{2} & 0\\\\\\Delta{t} & 0\\\\0 & 0\\\\0 & \\frac{\\Delta{t}^{2}}{2}\\\\0 & \\Delta{t}\\\\0 & 0\\end{matrix}\\right]\\left[\\begin{matrix}\\ddot{\\phi}_{t-1}\\\\\\ddot{\\theta}_{t-1}\\end{matrix}\\right]$"
      ],
      "text/plain": [
       "<IPython.core.display.Math object>"
      ]
     },
     "metadata": {},
     "output_type": "display_data"
    }
   ],
   "source": [
    "display(Math(r'{} = {}{} + {}{}'.format(sp.latex(Xt_predict_compact), sp.latex(F), sp.latex(Xt_previous), sp.latex(G), sp.latex(Ut_previous))))"
   ]
  },
  {
   "cell_type": "markdown",
   "metadata": {},
   "source": [
    "## Predicted system state $X$ (at time t-1, for time t)"
   ]
  },
  {
   "cell_type": "code",
   "execution_count": 39,
   "metadata": {
    "scrolled": false
   },
   "outputs": [
    {
     "data": {
      "text/latex": [
       "$\\displaystyle X_{t|t-1} = \\left[\\begin{matrix}\\phi_{t|t-1}\\\\\\dot{\\phi}_{t|t-1}\\\\\\phi_{b|t|t-1}\\\\\\theta_{t|t-1}\\\\\\dot{\\theta}_{t|t-1}\\\\\\theta_{b|t|t-1}\\end{matrix}\\right] = \\left[\\begin{matrix}\\frac{\\Delta{t}^{2} \\ddot{\\phi}_{t-1}}{2} + \\Delta{t} \\dot{\\phi}_{t-1} + \\phi_{t-1}\\\\\\Delta{t} \\ddot{\\phi}_{t-1} + \\dot{\\phi}_{t-1}\\\\\\phi_{b|t-1}\\\\\\frac{\\Delta{t}^{2} \\ddot{\\theta}_{t-1}}{2} + \\Delta{t} \\dot{\\theta}_{t-1} + \\theta_{t-1}\\\\\\Delta{t} \\ddot{\\theta}_{t-1} + \\dot{\\theta}_{t-1}\\\\\\theta_{b|t-1}\\end{matrix}\\right]$"
      ],
      "text/plain": [
       "<IPython.core.display.Math object>"
      ]
     },
     "metadata": {},
     "output_type": "display_data"
    }
   ],
   "source": [
    "Xt_predict = F*Xt_previous+G*Ut_previous\n",
    "\n",
    "display(Math(r'X_{{t|t-1}} = {} = {}'.format(sp.latex(Xt_predict_compact), sp.latex(Xt_predict))))"
   ]
  },
  {
   "cell_type": "markdown",
   "metadata": {},
   "source": [
    "## Process noise"
   ]
  },
  {
   "cell_type": "code",
   "execution_count": 43,
   "metadata": {},
   "outputs": [
    {
     "data": {
      "text/latex": [
       "$\\displaystyle Q = \\left[\\begin{matrix}q_{\\phi}^2 & 0 & 0 & 0 & 0 & 0\\\\0 & q_{\\dot{\\phi}}^2 & 0 & 0 & 0 & 0\\\\0 & 0 & q_{{\\phi}|b}^2 & 0 & 0 & 0\\\\0 & 0 & 0 & q_{\\theta}^2 & 0 & 0\\\\0 & 0 & 0 & 0 & q_{\\dot{\\theta}}^2 & 0\\\\0 & 0 & 0 & 0 & 0 & q_{{\\theta}|b}^2\\end{matrix}\\right]$"
      ],
      "text/plain": [
       "<IPython.core.display.Math object>"
      ]
     },
     "metadata": {},
     "output_type": "display_data"
    }
   ],
   "source": [
    "# Q = Process noise covariance matrix\n",
    "# q = Process noise standard deviation (sigma) of each state variable\n",
    "\n",
    "Q_roll, Q_roll_rate, Q_roll_bias, Q_pitch, Q_pitch_rate, Q_pitch_bias = sp.symbols('q_{\\phi}^2, q_{\\dot{\\phi}}^2, q_{{\\phi}|b}^2, q_{\\\\theta}^2, q_{\\dot{\\\\theta}}^2, q_{{\\\\theta}|b}^2')\n",
    "\n",
    "Q = sp.Matrix([[Q_roll,0,0,0,0,0],[0,Q_roll_rate,0,0,0,0],[0,0,Q_roll_bias,0,0,0],[0,0,0,Q_pitch,0,0],[0,0,0,0,Q_pitch_rate,0],[0,0,0,0,0,Q_pitch_bias]])\n",
    "\n",
    "display(Math(r'Q = {}'.format(sp.latex(Q))))"
   ]
  },
  {
   "cell_type": "markdown",
   "metadata": {},
   "source": [
    "The process noise covariance matrix and its variables in the AP code are as follows:"
   ]
  },
  {
   "cell_type": "code",
   "execution_count": 50,
   "metadata": {
    "scrolled": true
   },
   "outputs": [
    {
     "data": {
      "text/latex": [
       "$\\displaystyle Q_{AP} = \\left[\\begin{matrix}{(gyrNoise*\\Delta{t})}^2 & 0 & 0 & 0 & 0 & 0\\\\0 & {(gyrNoise)}^2 & 0 & 0 & 0 & 0\\\\0 & 0 & {(gyroBiasProcessNoise*(\\Delta{t})^2)}^2 & 0 & 0 & 0\\\\0 & 0 & 0 & {(gyrNoise*\\Delta{t})}^2 & 0 & 0\\\\0 & 0 & 0 & 0 & {(gyrNoise)}^2 & 0\\\\0 & 0 & 0 & 0 & 0 & {(gyroBiasProcessNoise*(\\Delta{t})^2)}^2\\end{matrix}\\right]$"
      ],
      "text/plain": [
       "<IPython.core.display.Math object>"
      ]
     },
     "metadata": {},
     "output_type": "display_data"
    }
   ],
   "source": [
    "Q_roll_AP, Q_roll_rate_AP, Q_roll_bias_AP, Q_pitch_AP, Q_pitch_rate_AP, Q_pitch_bias_AP = sp.symbols('{(gyrNoise*\\Delta{t})}^2, {(gyrNoise)}^2, {(gyroBiasProcessNoise*(\\Delta{t})^2)}^2, {(gyrNoise*\\Delta{t})}^2, {(gyrNoise)}^2, {(gyroBiasProcessNoise*(\\Delta{t})^2)}^2')\n",
    "\n",
    "Q_AP = sp.Matrix([[Q_roll_AP,0,0,0,0,0],[0,Q_roll_rate_AP,0,0,0,0],[0,0,Q_roll_bias_AP,0,0,0],[0,0,0,Q_pitch_AP,0,0],[0,0,0,0,Q_pitch_rate_AP,0],[0,0,0,0,0,Q_pitch_bias_AP]])\n",
    "\n",
    "display(Math(r'Q_{{AP}} = {}'.format(sp.latex(Q_AP))))"
   ]
  },
  {
   "cell_type": "markdown",
   "metadata": {},
   "source": [
    "## Measurement uncertainty"
   ]
  },
  {
   "cell_type": "code",
   "execution_count": 106,
   "metadata": {
    "scrolled": true
   },
   "outputs": [
    {
     "data": {
      "text/latex": [
       "$\\displaystyle R = \\left[\\begin{matrix}r_{x}^2 & 0 & 0 & 0 & 0 & 0\\\\0 & r_{\\dot{x}}^2 & 0 & 0 & 0 & 0\\\\0 & 0 & r_{y}^2 & 0 & 0 & 0\\\\0 & 0 & 0 & r_{\\dot{y}}^2 & 0 & 0\\\\0 & 0 & 0 & 0 & r_{z}^2 & 0\\\\0 & 0 & 0 & 0 & 0 & r_{\\dot{z}}^2\\end{matrix}\\right]$"
      ],
      "text/plain": [
       "<IPython.core.display.Math object>"
      ]
     },
     "metadata": {},
     "output_type": "display_data"
    }
   ],
   "source": [
    "# R = Measurement uncertainty covariance matrix\n",
    "# r = Measurement uncertainty standard deviation (sigma) of each sensor that can measure a system state variable\n",
    "\n",
    "R_pos_x, R_vel_x, R_pos_y, R_vel_y, R_pos_z, R_vel_z = sp.symbols('r_{x}^2, r_{\\dot{x}}^2, r_{y}^2, r_{\\dot{y}}^2, r_{z}^2, r_{\\dot{z}}^2')\n",
    "\n",
    "R = sp.Matrix([[R_pos_x,0,0,0,0,0],[0,R_vel_x,0,0,0,0],[0,0,R_pos_y,0,0,0],[0,0,0,R_vel_y,0,0],[0,0,0,0,R_pos_z,0],[0,0,0,0,0,R_vel_z]])\n",
    "\n",
    "display(Math(r'R = {}'.format(sp.latex(R))))"
   ]
  },
  {
   "cell_type": "markdown",
   "metadata": {},
   "source": [
    "The measurement uncertainty covariance matrix and its variables in the AP code are as follows:"
   ]
  },
  {
   "cell_type": "code",
   "execution_count": 113,
   "metadata": {},
   "outputs": [
    {
     "data": {
      "text/latex": [
       "$\\displaystyle R_{AP} = \\left[\\begin{matrix}{(gpsPosAccuracy)}^2 & 0 & 0 & 0 & 0 & 0\\\\0 & {(gpsSpdAccuracy)}^2 & 0 & 0 & 0 & 0\\\\0 & 0 & {(gpsPosAccuracy)}^2 & 0 & 0 & 0\\\\0 & 0 & 0 & {(gpsSpdAccuracy)}^2 & 0 & 0\\\\0 & 0 & 0 & 0 & {(gpsHgtAccuracy)}^2 & 0\\\\0 & 0 & 0 & 0 & 0 & {(gpsSpdAccuracy)}^2\\end{matrix}\\right]$"
      ],
      "text/plain": [
       "<IPython.core.display.Math object>"
      ]
     },
     "metadata": {},
     "output_type": "display_data"
    }
   ],
   "source": [
    "R_pos_x_AP, R_vel_x_AP, R_pos_y_AP, R_vel_y_AP, R_pos_z_AP, R_vel_z_AP = sp.symbols('{(gpsPosAccuracy)}^2, {(gpsSpdAccuracy)}^2, {(gpsPosAccuracy)}^2, {(gpsSpdAccuracy)}^2, {(gpsHgtAccuracy)}^2, {(gpsSpdAccuracy)}^2')\n",
    "\n",
    "R_AP = sp.Matrix([[R_pos_x_AP,0,0,0,0,0],[0,R_vel_x_AP,0,0,0,0],[0,0,R_pos_y_AP,0,0,0],[0,0,0,R_vel_y_AP,0,0],[0,0,0,0,R_pos_z_AP,0],[0,0,0,0,0,R_vel_z_AP]])\n",
    "\n",
    "display(Math(r'R_{{AP}} = {}'.format(sp.latex(R_AP))))"
   ]
  },
  {
   "cell_type": "markdown",
   "metadata": {},
   "source": [
    "## Initialized estimation uncertainty covariance matrix $P$ (at time t-1, for time t-1)"
   ]
  },
  {
   "cell_type": "code",
   "execution_count": 101,
   "metadata": {},
   "outputs": [
    {
     "data": {
      "text/latex": [
       "$\\displaystyle P_{t-1|t-1} = \\left[\\begin{matrix}P_{x|t-1|t-1} & 0 & 0 & 0 & 0 & 0\\\\0 & P_{\\dot{x}|t-1|t-1} & 0 & 0 & 0 & 0\\\\0 & 0 & P_{y|t-1|t-1} & 0 & 0 & 0\\\\0 & 0 & 0 & P_{\\dot{y}|t-1|t-1} & 0 & 0\\\\0 & 0 & 0 & 0 & P_{z|t-1|t-1} & 0\\\\0 & 0 & 0 & 0 & 0 & P_{\\dot{z}|t-1|t-1}\\end{matrix}\\right]$"
      ],
      "text/plain": [
       "<IPython.core.display.Math object>"
      ]
     },
     "metadata": {},
     "output_type": "display_data"
    }
   ],
   "source": [
    "# Pt_previous = Estimated estimation uncertainty covariance matrix of the system state variables at time t-1\n",
    "\n",
    "P_x, P_xdot, P_y, P_ydot, P_z, P_zdot = sp.symbols('P_x|t-1|t-1, P_{\\dot{x}|t-1|t-1}, P_y|t-1|t-1, P_{\\dot{y}|t-1|t-1}, P_z|t-1|t-1, P_{\\dot{z}|t-1|t-1}')\n",
    "\n",
    "Pt_previous = sp.Matrix([[P_x,0,0,0,0,0],[0,P_xdot,0,0,0,0],[0,0,P_y,0,0,0],[0,0,0,P_ydot,0,0,],[0,0,0,0,P_z,0],[0,0,0,0,0,P_zdot]])\n",
    "\n",
    "display(Math(r'P_{{t-1|t-1}} = {}'.format(sp.latex(Pt_previous))))"
   ]
  },
  {
   "cell_type": "markdown",
   "metadata": {},
   "source": [
    "## Predicted estimation uncertainty covariance matrix $P$ (at time t-1, for time t)"
   ]
  },
  {
   "cell_type": "code",
   "execution_count": 102,
   "metadata": {
    "scrolled": true
   },
   "outputs": [
    {
     "data": {
      "text/latex": [
       "$\\displaystyle P_{t|t-1} = \\left[\\begin{matrix}P_{x|t-1|t-1} + P_{\\dot{x}|t-1|t-1} \\Delta{t}^{2} + q_{x}^2 & P_{\\dot{x}|t-1|t-1} \\Delta{t} & 0 & 0 & 0 & 0\\\\P_{\\dot{x}|t-1|t-1} \\Delta{t} & P_{\\dot{x}|t-1|t-1} + q_{\\dot{x}}^2 & 0 & 0 & 0 & 0\\\\0 & 0 & P_{y|t-1|t-1} + P_{\\dot{y}|t-1|t-1} \\Delta{t}^{2} + q_{y}^2 & P_{\\dot{y}|t-1|t-1} \\Delta{t} & 0 & 0\\\\0 & 0 & P_{\\dot{y}|t-1|t-1} \\Delta{t} & P_{\\dot{y}|t-1|t-1} + q_{\\dot{y}}^2 & 0 & 0\\\\0 & 0 & 0 & 0 & P_{z|t-1|t-1} + P_{\\dot{z}|t-1|t-1} \\Delta{t}^{2} + q_{z}^2 & P_{\\dot{z}|t-1|t-1} \\Delta{t}\\\\0 & 0 & 0 & 0 & P_{\\dot{z}|t-1|t-1} \\Delta{t} & P_{\\dot{z}|t-1|t-1} + q_{\\dot{z}}^2\\end{matrix}\\right]$"
      ],
      "text/plain": [
       "<IPython.core.display.Math object>"
      ]
     },
     "metadata": {},
     "output_type": "display_data"
    }
   ],
   "source": [
    "# Pt_predict = Predicted estimation uncertainty covariance matrix of the system state variables at time t\n",
    "\n",
    "Pt_predict = (F*Pt_previous*F.T + Q)\n",
    "\n",
    "display(Math(r'P_{{t|t-1}} = {}'.format(sp.latex(Pt_predict))))"
   ]
  },
  {
   "cell_type": "markdown",
   "metadata": {},
   "source": [
    "## Updated measurement vector (at time t, for time t)"
   ]
  },
  {
   "cell_type": "code",
   "execution_count": 103,
   "metadata": {
    "scrolled": true
   },
   "outputs": [
    {
     "data": {
      "text/latex": [
       "$\\displaystyle Z_{t|t} = \\left[\\begin{matrix}z_{x|t}\\\\z_{\\dot{x}|t}\\\\z_{y|t}\\\\z_{\\dot{y}|t}\\\\z_{z|t}\\\\z_{\\dot{z}|t}\\end{matrix}\\right], H = \\left[\\begin{matrix}1 & 0 & 0 & 0 & 0 & 0\\\\0 & 1 & 0 & 0 & 0 & 0\\\\0 & 0 & 1 & 0 & 0 & 0\\\\0 & 0 & 0 & 1 & 0 & 0\\\\0 & 0 & 0 & 0 & 1 & 0\\\\0 & 0 & 0 & 0 & 0 & 1\\end{matrix}\\right]$"
      ],
      "text/plain": [
       "<IPython.core.display.Math object>"
      ]
     },
     "metadata": {},
     "output_type": "display_data"
    }
   ],
   "source": [
    "# Zt_update = Measurement vector at time t containing the sensor measurements\n",
    "# H = Observation matrix to map the measurement vector to the system state variables\n",
    "\n",
    "pos_xt, vel_xt, pos_yt, vel_yt, pos_zt, vel_zt = sp.symbols('z_{x|t}, z_{\\dot{x}|t}, z_{y|t}, z_{\\dot{y}|t}, z_{z|t}, z_{\\dot{z}|t}')\n",
    "\n",
    "Zt_update = sp.Matrix([[pos_xt],[vel_xt],[pos_yt],[vel_yt],[pos_zt],[vel_zt]])\n",
    "H = sp.Matrix([[1,0,0,0,0,0],[0,1,0,0,0,0],[0,0,1,0,0,0],[0,0,0,1,0,0],[0,0,0,0,1,0],[0,0,0,0,0,1]])\n",
    "\n",
    "display(Math(r'Z_{{t|t}} = {}, H = {}'.format(sp.latex(Zt_update), sp.latex(H))))"
   ]
  },
  {
   "cell_type": "markdown",
   "metadata": {},
   "source": [
    "The measurement vector and its variables in the AP code are as follows:"
   ]
  },
  {
   "cell_type": "code",
   "execution_count": 115,
   "metadata": {
    "scrolled": false
   },
   "outputs": [
    {
     "data": {
      "text/latex": [
       "$\\displaystyle Z_{t|t|AP} = \\left[\\begin{matrix}posxy.x\\\\gpsDataDelayed.vel.x\\\\posxy.y\\\\gpsDataDelayed.vel.y\\\\gpsDataDelayed.hgt\\\\gpsDataDelayed.vel.z\\end{matrix}\\right]$"
      ],
      "text/plain": [
       "<IPython.core.display.Math object>"
      ]
     },
     "metadata": {},
     "output_type": "display_data"
    }
   ],
   "source": [
    "pos_xt_AP, vel_xt_AP, pos_yt_AP, vel_yt_AP, pos_zt_AP, vel_zt_AP = sp.symbols('posxy.x, gpsDataDelayed.vel.x, posxy.y, gpsDataDelayed.vel.y, gpsDataDelayed.hgt, gpsDataDelayed.vel.z')\n",
    "\n",
    "Zt_update_AP = sp.Matrix([[pos_xt_AP],[vel_xt_AP],[pos_yt_AP],[vel_yt_AP],[pos_zt_AP],[vel_zt_AP]])\n",
    "display(Math(r'Z_{{t|t|AP}} = {}'.format(sp.latex(Zt_update_AP))))"
   ]
  },
  {
   "cell_type": "markdown",
   "metadata": {},
   "source": [
    "#### Note on $z_{z|t}$:\n",
    "If height measurement source = GPS <br>\n",
    "&emsp; $z_{z|t} = gpsDataDelayed.hgt$ <br>\n",
    "Else <br>\n",
    "If height measurement source = Rangefinder <br>\n",
    "&emsp; $z_{z|t} = rangeDataDelayed.hgt$ <br>\n",
    "Else <br>\n",
    "If height measurement source = Barometer <br>\n",
    "&emsp; $z_{z|t} = baroDataDelayed.hgt$"
   ]
  },
  {
   "cell_type": "markdown",
   "metadata": {},
   "source": [
    "## Updated innovation matrix (at time t, for time t)"
   ]
  },
  {
   "cell_type": "code",
   "execution_count": 105,
   "metadata": {},
   "outputs": [
    {
     "data": {
      "text/latex": [
       "$\\displaystyle Y_{t|t} = \\left[\\begin{matrix}x_{t|t-1} - z_{x|t}\\\\\\dot{x}_{t|t-1} - z_{\\dot{x}|t}\\\\y_{t|t-1} - z_{y|t}\\\\\\dot{y}_{t|t-1} - z_{\\dot{y}|t}\\\\z_{t|t-1} - z_{z|t}\\\\\\dot{z}_{t|t-1} - z_{\\dot{z}|t}\\end{matrix}\\right]$"
      ],
      "text/plain": [
       "<IPython.core.display.Math object>"
      ]
     },
     "metadata": {},
     "output_type": "display_data"
    }
   ],
   "source": [
    "# Yt_update = Updated innovation matrix at time t\n",
    "\n",
    "Yt_update = H*Xt_predict_compact - Zt_update\n",
    "\n",
    "display(Math(r'Y_{{t|t}} = {}'.format(sp.latex(Yt_update))))"
   ]
  },
  {
   "cell_type": "markdown",
   "metadata": {},
   "source": [
    "## Updated innovation covariance matrix (at time t, for time t)"
   ]
  },
  {
   "cell_type": "code",
   "execution_count": 108,
   "metadata": {
    "scrolled": true
   },
   "outputs": [
    {
     "data": {
      "text/latex": [
       "$\\displaystyle S_{t|t} = \\left[\\begin{matrix}P_{x|t-1|t-1} + P_{\\dot{x}|t-1|t-1} \\Delta{t}^{2} + q_{x}^2 + r_{x}^2 & P_{\\dot{x}|t-1|t-1} \\Delta{t} & 0 & 0 & 0 & 0\\\\P_{\\dot{x}|t-1|t-1} \\Delta{t} & P_{\\dot{x}|t-1|t-1} + q_{\\dot{x}}^2 + r_{\\dot{x}}^2 & 0 & 0 & 0 & 0\\\\0 & 0 & P_{y|t-1|t-1} + P_{\\dot{y}|t-1|t-1} \\Delta{t}^{2} + q_{y}^2 + r_{y}^2 & P_{\\dot{y}|t-1|t-1} \\Delta{t} & 0 & 0\\\\0 & 0 & P_{\\dot{y}|t-1|t-1} \\Delta{t} & P_{\\dot{y}|t-1|t-1} + q_{\\dot{y}}^2 + r_{\\dot{y}}^2 & 0 & 0\\\\0 & 0 & 0 & 0 & P_{z|t-1|t-1} + P_{\\dot{z}|t-1|t-1} \\Delta{t}^{2} + q_{z}^2 + r_{z}^2 & P_{\\dot{z}|t-1|t-1} \\Delta{t}\\\\0 & 0 & 0 & 0 & P_{\\dot{z}|t-1|t-1} \\Delta{t} & P_{\\dot{z}|t-1|t-1} + q_{\\dot{z}}^2 + r_{\\dot{z}}^2\\end{matrix}\\right]$"
      ],
      "text/plain": [
       "<IPython.core.display.Math object>"
      ]
     },
     "metadata": {},
     "output_type": "display_data"
    }
   ],
   "source": [
    "# St_update = Updated innovation covariance matrix at time t\n",
    "\n",
    "St_update = H*Pt_predict*H.T + R\n",
    "\n",
    "display(Math(r'S_{{t|t}} = {}'.format(sp.latex(St_update))))"
   ]
  },
  {
   "cell_type": "markdown",
   "metadata": {},
   "source": [
    "## Innovation consistency check on horizontal (x-y) positions"
   ]
  },
  {
   "cell_type": "code",
   "execution_count": 109,
   "metadata": {
    "scrolled": true
   },
   "outputs": [
    {
     "data": {
      "text/latex": [
       "$\\displaystyle maxPosInnovXY = max(0.01*gpsPosInnovGate, 1)^2 * (S_{{t|t|11}} + S_{{t|t|33}})$"
      ],
      "text/plain": [
       "<IPython.core.display.Math object>"
      ]
     },
     "metadata": {},
     "output_type": "display_data"
    },
    {
     "data": {
      "text/latex": [
       "$\\displaystyle posTestRatio = \\frac{Y_{t|t|11}^{2} + Y_{t|t|31}^{2}}{maxPosInnovXY}$"
      ],
      "text/plain": [
       "<IPython.core.display.Math object>"
      ]
     },
     "metadata": {},
     "output_type": "display_data"
    }
   ],
   "source": [
    "Yt_11, Yt_31, maxPosInnovXY = sp.symbols('Y_{t|t|11}, Y_{t|t|31}, maxPosInnovXY')\n",
    "\n",
    "display(Math(r'maxPosInnovXY = max(0.01*gpsPosInnovGate, 1)^2 * (S_{{t|t|11}} + S_{{t|t|33}})'))\n",
    "\n",
    "posTestRatio = ((Yt_11)**2 + (Yt_31)**2) / maxPosInnovXY\n",
    "\n",
    "display(Math(r'posTestRatio = {}'.format(sp.latex(posTestRatio))))"
   ]
  },
  {
   "cell_type": "markdown",
   "metadata": {},
   "source": [
    "#### Condition for successful fusion of horizontal (x-y) positions data:\n",
    "If (posTestRatio < 1) <br>\n",
    "&emsp; fusePosData = True; <br>\n",
    "Else <br>\n",
    "&emsp; fusePosData = False;"
   ]
  },
  {
   "cell_type": "markdown",
   "metadata": {},
   "source": [
    "## Innovation consistency check on vertical (z) position"
   ]
  },
  {
   "cell_type": "code",
   "execution_count": 110,
   "metadata": {},
   "outputs": [
    {
     "data": {
      "text/latex": [
       "$\\displaystyle maxPosInnovZ = max(0.01*hgtInnovGate, 1)^2 * S_{{t|t|55}}$"
      ],
      "text/plain": [
       "<IPython.core.display.Math object>"
      ]
     },
     "metadata": {},
     "output_type": "display_data"
    },
    {
     "data": {
      "text/latex": [
       "$\\displaystyle hgtTestRatio = \\frac{Y_{t|t|51}^{2}}{maxPosInnovZ}$"
      ],
      "text/plain": [
       "<IPython.core.display.Math object>"
      ]
     },
     "metadata": {},
     "output_type": "display_data"
    }
   ],
   "source": [
    "Yt_51, maxPosInnovZ = sp.symbols('Y_{t|t|51}, maxPosInnovZ')\n",
    "\n",
    "display(Math(r'maxPosInnovZ = max(0.01*hgtInnovGate, 1)^2 * S_{{t|t|55}}'))\n",
    "\n",
    "hgtTestRatio = (Yt_51)**2 / maxPosInnovZ\n",
    "\n",
    "display(Math(r'hgtTestRatio = {}'.format(sp.latex(hgtTestRatio))))"
   ]
  },
  {
   "cell_type": "markdown",
   "metadata": {},
   "source": [
    "#### Condition for successful fusion of vertical (z) position data:\n",
    "If (PV_AidingMode == AID_NONE && onGround) <br>\n",
    "&emsp; maxTestRatio = 3; <br>\n",
    "Else <br>\n",
    "&emsp; maxTestRatio = 1; <br>\n",
    "</br>\n",
    "If (hgtTestRatio < maxTestRatio) <br>\n",
    "&emsp; fuseHgtData = True; <br>\n",
    "Else <br>\n",
    "&emsp; fuseHgtData = False;"
   ]
  },
  {
   "cell_type": "markdown",
   "metadata": {},
   "source": [
    "## Innovation consistency check on (x-y-z) velocities"
   ]
  },
  {
   "cell_type": "code",
   "execution_count": 111,
   "metadata": {
    "scrolled": false
   },
   "outputs": [
    {
     "data": {
      "text/latex": [
       "$\\displaystyle maxVelInnovXYZ = max(0.01*gpsVelInnovGate, 1)^2 * (S_{{t|t|22}} + S_{{t|t|44}} + S_{{t|t|66}})$"
      ],
      "text/plain": [
       "<IPython.core.display.Math object>"
      ]
     },
     "metadata": {},
     "output_type": "display_data"
    },
    {
     "data": {
      "text/latex": [
       "$\\displaystyle velTestRatio = \\frac{Y_{t|t|21}^{2} + Y_{t|t|41}^{2} + Y_{t|t|61}^{2}}{maxVelInnovXYZ}$"
      ],
      "text/plain": [
       "<IPython.core.display.Math object>"
      ]
     },
     "metadata": {},
     "output_type": "display_data"
    }
   ],
   "source": [
    "Yt_21, Yt_41, Yt_61, maxVelInnovXYZ = sp.symbols('Y_{t|t|21}, Y_{t|t|41}, Y_{t|t|61}, maxVelInnovXYZ')\n",
    "\n",
    "display(Math(r'maxVelInnovXYZ = max(0.01*gpsVelInnovGate, 1)^2 * (S_{{t|t|22}} + S_{{t|t|44}} + S_{{t|t|66}})'))\n",
    "\n",
    "velTestRatio = ((Yt_21)**2 + (Yt_41)**2 + (Yt_61)**2) / maxVelInnovXYZ\n",
    "\n",
    "display(Math(r'velTestRatio = {}'.format(sp.latex(velTestRatio))))"
   ]
  },
  {
   "cell_type": "markdown",
   "metadata": {},
   "source": [
    "#### Condition for successful fusion of (x-y-z) velocities data:\n",
    "If (velTestRatio < 1) <br>\n",
    "&emsp; fuseVelData = True; <br>\n",
    "Else <br>\n",
    "&emsp; fuseVelData = False;"
   ]
  },
  {
   "cell_type": "code",
   "execution_count": 19,
   "metadata": {
    "tags": []
   },
   "outputs": [],
   "source": [
    "Num = sp.adjoint(St_update).simplify()"
   ]
  },
  {
   "cell_type": "code",
   "execution_count": 20,
   "metadata": {},
   "outputs": [],
   "source": [
    "Den = sp.det(St_update).simplify()"
   ]
  },
  {
   "cell_type": "code",
   "execution_count": 21,
   "metadata": {},
   "outputs": [
    {
     "data": {
      "text/latex": [
       "$\\displaystyle S_{t|t}^{-1} = \\left[\\begin{matrix}\\frac{\\overline{P_{x|t-1|t-1}} + \\overline{P_{\\dot{x}|t-1|t-1}} \\overline{\\Delta{t}}^{2} + \\overline{\\sigma_{x}^2} + \\overline{q_{x}^2}}{\\left(P_{x|t-1|t-1} P_{\\dot{x}|t-1|t-1} + P_{x|t-1|t-1} \\sigma_{\\dot{x}}^2 + P_{x|t-1|t-1} q_{\\dot{x}}^2 + P_{\\dot{x}|t-1|t-1} \\Delta{t}^{2} \\sigma_{\\dot{x}}^2 + P_{\\dot{x}|t-1|t-1} \\Delta{t}^{2} q_{\\dot{x}}^2 + P_{\\dot{x}|t-1|t-1} \\sigma_{x}^2 + P_{\\dot{x}|t-1|t-1} q_{x}^2 + \\sigma_{\\dot{x}}^2 \\sigma_{x}^2 + \\sigma_{\\dot{x}}^2 q_{x}^2 + \\sigma_{x}^2 q_{\\dot{x}}^2 + q_{\\dot{x}}^2 q_{x}^2\\right) \\left(P_{y|t-1|t-1} P_{\\dot{y}|t-1|t-1} + P_{y|t-1|t-1} \\sigma_{\\dot{y}}^2 + P_{y|t-1|t-1} q_{\\dot{y}}^2 + P_{\\dot{y}|t-1|t-1} \\Delta{t}^{2} \\sigma_{\\dot{y}}^2 + P_{\\dot{y}|t-1|t-1} \\Delta{t}^{2} q_{\\dot{y}}^2 + P_{\\dot{y}|t-1|t-1} \\sigma_{y}^2 + P_{\\dot{y}|t-1|t-1} q_{y}^2 + \\sigma_{\\dot{y}}^2 \\sigma_{y}^2 + \\sigma_{\\dot{y}}^2 q_{y}^2 + \\sigma_{y}^2 q_{\\dot{y}}^2 + q_{\\dot{y}}^2 q_{y}^2\\right) \\left(P_{z|t-1|t-1} P_{\\dot{z}|t-1|t-1} + P_{z|t-1|t-1} \\sigma_{\\dot{z}}^2 + P_{z|t-1|t-1} q_{\\dot{z}}^2 + P_{\\dot{z}|t-1|t-1} \\Delta{t}^{2} \\sigma_{\\dot{z}}^2 + P_{\\dot{z}|t-1|t-1} \\Delta{t}^{2} q_{\\dot{z}}^2 + P_{\\dot{z}|t-1|t-1} \\sigma_{z}^2 + P_{\\dot{z}|t-1|t-1} q_{z}^2 + \\sigma_{\\dot{z}}^2 \\sigma_{z}^2 + \\sigma_{\\dot{z}}^2 q_{z}^2 + \\sigma_{z}^2 q_{\\dot{z}}^2 + q_{\\dot{z}}^2 q_{z}^2\\right)} & \\frac{\\overline{P_{\\dot{x}|t-1|t-1}} \\overline{\\Delta{t}}}{\\left(P_{x|t-1|t-1} P_{\\dot{x}|t-1|t-1} + P_{x|t-1|t-1} \\sigma_{\\dot{x}}^2 + P_{x|t-1|t-1} q_{\\dot{x}}^2 + P_{\\dot{x}|t-1|t-1} \\Delta{t}^{2} \\sigma_{\\dot{x}}^2 + P_{\\dot{x}|t-1|t-1} \\Delta{t}^{2} q_{\\dot{x}}^2 + P_{\\dot{x}|t-1|t-1} \\sigma_{x}^2 + P_{\\dot{x}|t-1|t-1} q_{x}^2 + \\sigma_{\\dot{x}}^2 \\sigma_{x}^2 + \\sigma_{\\dot{x}}^2 q_{x}^2 + \\sigma_{x}^2 q_{\\dot{x}}^2 + q_{\\dot{x}}^2 q_{x}^2\\right) \\left(P_{y|t-1|t-1} P_{\\dot{y}|t-1|t-1} + P_{y|t-1|t-1} \\sigma_{\\dot{y}}^2 + P_{y|t-1|t-1} q_{\\dot{y}}^2 + P_{\\dot{y}|t-1|t-1} \\Delta{t}^{2} \\sigma_{\\dot{y}}^2 + P_{\\dot{y}|t-1|t-1} \\Delta{t}^{2} q_{\\dot{y}}^2 + P_{\\dot{y}|t-1|t-1} \\sigma_{y}^2 + P_{\\dot{y}|t-1|t-1} q_{y}^2 + \\sigma_{\\dot{y}}^2 \\sigma_{y}^2 + \\sigma_{\\dot{y}}^2 q_{y}^2 + \\sigma_{y}^2 q_{\\dot{y}}^2 + q_{\\dot{y}}^2 q_{y}^2\\right) \\left(P_{z|t-1|t-1} P_{\\dot{z}|t-1|t-1} + P_{z|t-1|t-1} \\sigma_{\\dot{z}}^2 + P_{z|t-1|t-1} q_{\\dot{z}}^2 + P_{\\dot{z}|t-1|t-1} \\Delta{t}^{2} \\sigma_{\\dot{z}}^2 + P_{\\dot{z}|t-1|t-1} \\Delta{t}^{2} q_{\\dot{z}}^2 + P_{\\dot{z}|t-1|t-1} \\sigma_{z}^2 + P_{\\dot{z}|t-1|t-1} q_{z}^2 + \\sigma_{\\dot{z}}^2 \\sigma_{z}^2 + \\sigma_{\\dot{z}}^2 q_{z}^2 + \\sigma_{z}^2 q_{\\dot{z}}^2 + q_{\\dot{z}}^2 q_{z}^2\\right)} & 0 & 0 & 0 & 0\\\\\\frac{\\overline{P_{\\dot{x}|t-1|t-1}} \\overline{\\Delta{t}}}{\\left(P_{x|t-1|t-1} P_{\\dot{x}|t-1|t-1} + P_{x|t-1|t-1} \\sigma_{\\dot{x}}^2 + P_{x|t-1|t-1} q_{\\dot{x}}^2 + P_{\\dot{x}|t-1|t-1} \\Delta{t}^{2} \\sigma_{\\dot{x}}^2 + P_{\\dot{x}|t-1|t-1} \\Delta{t}^{2} q_{\\dot{x}}^2 + P_{\\dot{x}|t-1|t-1} \\sigma_{x}^2 + P_{\\dot{x}|t-1|t-1} q_{x}^2 + \\sigma_{\\dot{x}}^2 \\sigma_{x}^2 + \\sigma_{\\dot{x}}^2 q_{x}^2 + \\sigma_{x}^2 q_{\\dot{x}}^2 + q_{\\dot{x}}^2 q_{x}^2\\right) \\left(P_{y|t-1|t-1} P_{\\dot{y}|t-1|t-1} + P_{y|t-1|t-1} \\sigma_{\\dot{y}}^2 + P_{y|t-1|t-1} q_{\\dot{y}}^2 + P_{\\dot{y}|t-1|t-1} \\Delta{t}^{2} \\sigma_{\\dot{y}}^2 + P_{\\dot{y}|t-1|t-1} \\Delta{t}^{2} q_{\\dot{y}}^2 + P_{\\dot{y}|t-1|t-1} \\sigma_{y}^2 + P_{\\dot{y}|t-1|t-1} q_{y}^2 + \\sigma_{\\dot{y}}^2 \\sigma_{y}^2 + \\sigma_{\\dot{y}}^2 q_{y}^2 + \\sigma_{y}^2 q_{\\dot{y}}^2 + q_{\\dot{y}}^2 q_{y}^2\\right) \\left(P_{z|t-1|t-1} P_{\\dot{z}|t-1|t-1} + P_{z|t-1|t-1} \\sigma_{\\dot{z}}^2 + P_{z|t-1|t-1} q_{\\dot{z}}^2 + P_{\\dot{z}|t-1|t-1} \\Delta{t}^{2} \\sigma_{\\dot{z}}^2 + P_{\\dot{z}|t-1|t-1} \\Delta{t}^{2} q_{\\dot{z}}^2 + P_{\\dot{z}|t-1|t-1} \\sigma_{z}^2 + P_{\\dot{z}|t-1|t-1} q_{z}^2 + \\sigma_{\\dot{z}}^2 \\sigma_{z}^2 + \\sigma_{\\dot{z}}^2 q_{z}^2 + \\sigma_{z}^2 q_{\\dot{z}}^2 + q_{\\dot{z}}^2 q_{z}^2\\right)} & \\frac{\\overline{P_{\\dot{x}|t-1|t-1}} + \\overline{\\sigma_{\\dot{x}}^2} + \\overline{q_{\\dot{x}}^2}}{\\left(P_{x|t-1|t-1} P_{\\dot{x}|t-1|t-1} + P_{x|t-1|t-1} \\sigma_{\\dot{x}}^2 + P_{x|t-1|t-1} q_{\\dot{x}}^2 + P_{\\dot{x}|t-1|t-1} \\Delta{t}^{2} \\sigma_{\\dot{x}}^2 + P_{\\dot{x}|t-1|t-1} \\Delta{t}^{2} q_{\\dot{x}}^2 + P_{\\dot{x}|t-1|t-1} \\sigma_{x}^2 + P_{\\dot{x}|t-1|t-1} q_{x}^2 + \\sigma_{\\dot{x}}^2 \\sigma_{x}^2 + \\sigma_{\\dot{x}}^2 q_{x}^2 + \\sigma_{x}^2 q_{\\dot{x}}^2 + q_{\\dot{x}}^2 q_{x}^2\\right) \\left(P_{y|t-1|t-1} P_{\\dot{y}|t-1|t-1} + P_{y|t-1|t-1} \\sigma_{\\dot{y}}^2 + P_{y|t-1|t-1} q_{\\dot{y}}^2 + P_{\\dot{y}|t-1|t-1} \\Delta{t}^{2} \\sigma_{\\dot{y}}^2 + P_{\\dot{y}|t-1|t-1} \\Delta{t}^{2} q_{\\dot{y}}^2 + P_{\\dot{y}|t-1|t-1} \\sigma_{y}^2 + P_{\\dot{y}|t-1|t-1} q_{y}^2 + \\sigma_{\\dot{y}}^2 \\sigma_{y}^2 + \\sigma_{\\dot{y}}^2 q_{y}^2 + \\sigma_{y}^2 q_{\\dot{y}}^2 + q_{\\dot{y}}^2 q_{y}^2\\right) \\left(P_{z|t-1|t-1} P_{\\dot{z}|t-1|t-1} + P_{z|t-1|t-1} \\sigma_{\\dot{z}}^2 + P_{z|t-1|t-1} q_{\\dot{z}}^2 + P_{\\dot{z}|t-1|t-1} \\Delta{t}^{2} \\sigma_{\\dot{z}}^2 + P_{\\dot{z}|t-1|t-1} \\Delta{t}^{2} q_{\\dot{z}}^2 + P_{\\dot{z}|t-1|t-1} \\sigma_{z}^2 + P_{\\dot{z}|t-1|t-1} q_{z}^2 + \\sigma_{\\dot{z}}^2 \\sigma_{z}^2 + \\sigma_{\\dot{z}}^2 q_{z}^2 + \\sigma_{z}^2 q_{\\dot{z}}^2 + q_{\\dot{z}}^2 q_{z}^2\\right)} & 0 & 0 & 0 & 0\\\\0 & 0 & \\frac{\\overline{P_{y|t-1|t-1}} + \\overline{P_{\\dot{y}|t-1|t-1}} \\overline{\\Delta{t}}^{2} + \\overline{\\sigma_{y}^2} + \\overline{q_{y}^2}}{\\left(P_{x|t-1|t-1} P_{\\dot{x}|t-1|t-1} + P_{x|t-1|t-1} \\sigma_{\\dot{x}}^2 + P_{x|t-1|t-1} q_{\\dot{x}}^2 + P_{\\dot{x}|t-1|t-1} \\Delta{t}^{2} \\sigma_{\\dot{x}}^2 + P_{\\dot{x}|t-1|t-1} \\Delta{t}^{2} q_{\\dot{x}}^2 + P_{\\dot{x}|t-1|t-1} \\sigma_{x}^2 + P_{\\dot{x}|t-1|t-1} q_{x}^2 + \\sigma_{\\dot{x}}^2 \\sigma_{x}^2 + \\sigma_{\\dot{x}}^2 q_{x}^2 + \\sigma_{x}^2 q_{\\dot{x}}^2 + q_{\\dot{x}}^2 q_{x}^2\\right) \\left(P_{y|t-1|t-1} P_{\\dot{y}|t-1|t-1} + P_{y|t-1|t-1} \\sigma_{\\dot{y}}^2 + P_{y|t-1|t-1} q_{\\dot{y}}^2 + P_{\\dot{y}|t-1|t-1} \\Delta{t}^{2} \\sigma_{\\dot{y}}^2 + P_{\\dot{y}|t-1|t-1} \\Delta{t}^{2} q_{\\dot{y}}^2 + P_{\\dot{y}|t-1|t-1} \\sigma_{y}^2 + P_{\\dot{y}|t-1|t-1} q_{y}^2 + \\sigma_{\\dot{y}}^2 \\sigma_{y}^2 + \\sigma_{\\dot{y}}^2 q_{y}^2 + \\sigma_{y}^2 q_{\\dot{y}}^2 + q_{\\dot{y}}^2 q_{y}^2\\right) \\left(P_{z|t-1|t-1} P_{\\dot{z}|t-1|t-1} + P_{z|t-1|t-1} \\sigma_{\\dot{z}}^2 + P_{z|t-1|t-1} q_{\\dot{z}}^2 + P_{\\dot{z}|t-1|t-1} \\Delta{t}^{2} \\sigma_{\\dot{z}}^2 + P_{\\dot{z}|t-1|t-1} \\Delta{t}^{2} q_{\\dot{z}}^2 + P_{\\dot{z}|t-1|t-1} \\sigma_{z}^2 + P_{\\dot{z}|t-1|t-1} q_{z}^2 + \\sigma_{\\dot{z}}^2 \\sigma_{z}^2 + \\sigma_{\\dot{z}}^2 q_{z}^2 + \\sigma_{z}^2 q_{\\dot{z}}^2 + q_{\\dot{z}}^2 q_{z}^2\\right)} & \\frac{\\overline{P_{\\dot{y}|t-1|t-1}} \\overline{\\Delta{t}}}{\\left(P_{x|t-1|t-1} P_{\\dot{x}|t-1|t-1} + P_{x|t-1|t-1} \\sigma_{\\dot{x}}^2 + P_{x|t-1|t-1} q_{\\dot{x}}^2 + P_{\\dot{x}|t-1|t-1} \\Delta{t}^{2} \\sigma_{\\dot{x}}^2 + P_{\\dot{x}|t-1|t-1} \\Delta{t}^{2} q_{\\dot{x}}^2 + P_{\\dot{x}|t-1|t-1} \\sigma_{x}^2 + P_{\\dot{x}|t-1|t-1} q_{x}^2 + \\sigma_{\\dot{x}}^2 \\sigma_{x}^2 + \\sigma_{\\dot{x}}^2 q_{x}^2 + \\sigma_{x}^2 q_{\\dot{x}}^2 + q_{\\dot{x}}^2 q_{x}^2\\right) \\left(P_{y|t-1|t-1} P_{\\dot{y}|t-1|t-1} + P_{y|t-1|t-1} \\sigma_{\\dot{y}}^2 + P_{y|t-1|t-1} q_{\\dot{y}}^2 + P_{\\dot{y}|t-1|t-1} \\Delta{t}^{2} \\sigma_{\\dot{y}}^2 + P_{\\dot{y}|t-1|t-1} \\Delta{t}^{2} q_{\\dot{y}}^2 + P_{\\dot{y}|t-1|t-1} \\sigma_{y}^2 + P_{\\dot{y}|t-1|t-1} q_{y}^2 + \\sigma_{\\dot{y}}^2 \\sigma_{y}^2 + \\sigma_{\\dot{y}}^2 q_{y}^2 + \\sigma_{y}^2 q_{\\dot{y}}^2 + q_{\\dot{y}}^2 q_{y}^2\\right) \\left(P_{z|t-1|t-1} P_{\\dot{z}|t-1|t-1} + P_{z|t-1|t-1} \\sigma_{\\dot{z}}^2 + P_{z|t-1|t-1} q_{\\dot{z}}^2 + P_{\\dot{z}|t-1|t-1} \\Delta{t}^{2} \\sigma_{\\dot{z}}^2 + P_{\\dot{z}|t-1|t-1} \\Delta{t}^{2} q_{\\dot{z}}^2 + P_{\\dot{z}|t-1|t-1} \\sigma_{z}^2 + P_{\\dot{z}|t-1|t-1} q_{z}^2 + \\sigma_{\\dot{z}}^2 \\sigma_{z}^2 + \\sigma_{\\dot{z}}^2 q_{z}^2 + \\sigma_{z}^2 q_{\\dot{z}}^2 + q_{\\dot{z}}^2 q_{z}^2\\right)} & 0 & 0\\\\0 & 0 & \\frac{\\overline{P_{\\dot{y}|t-1|t-1}} \\overline{\\Delta{t}}}{\\left(P_{x|t-1|t-1} P_{\\dot{x}|t-1|t-1} + P_{x|t-1|t-1} \\sigma_{\\dot{x}}^2 + P_{x|t-1|t-1} q_{\\dot{x}}^2 + P_{\\dot{x}|t-1|t-1} \\Delta{t}^{2} \\sigma_{\\dot{x}}^2 + P_{\\dot{x}|t-1|t-1} \\Delta{t}^{2} q_{\\dot{x}}^2 + P_{\\dot{x}|t-1|t-1} \\sigma_{x}^2 + P_{\\dot{x}|t-1|t-1} q_{x}^2 + \\sigma_{\\dot{x}}^2 \\sigma_{x}^2 + \\sigma_{\\dot{x}}^2 q_{x}^2 + \\sigma_{x}^2 q_{\\dot{x}}^2 + q_{\\dot{x}}^2 q_{x}^2\\right) \\left(P_{y|t-1|t-1} P_{\\dot{y}|t-1|t-1} + P_{y|t-1|t-1} \\sigma_{\\dot{y}}^2 + P_{y|t-1|t-1} q_{\\dot{y}}^2 + P_{\\dot{y}|t-1|t-1} \\Delta{t}^{2} \\sigma_{\\dot{y}}^2 + P_{\\dot{y}|t-1|t-1} \\Delta{t}^{2} q_{\\dot{y}}^2 + P_{\\dot{y}|t-1|t-1} \\sigma_{y}^2 + P_{\\dot{y}|t-1|t-1} q_{y}^2 + \\sigma_{\\dot{y}}^2 \\sigma_{y}^2 + \\sigma_{\\dot{y}}^2 q_{y}^2 + \\sigma_{y}^2 q_{\\dot{y}}^2 + q_{\\dot{y}}^2 q_{y}^2\\right) \\left(P_{z|t-1|t-1} P_{\\dot{z}|t-1|t-1} + P_{z|t-1|t-1} \\sigma_{\\dot{z}}^2 + P_{z|t-1|t-1} q_{\\dot{z}}^2 + P_{\\dot{z}|t-1|t-1} \\Delta{t}^{2} \\sigma_{\\dot{z}}^2 + P_{\\dot{z}|t-1|t-1} \\Delta{t}^{2} q_{\\dot{z}}^2 + P_{\\dot{z}|t-1|t-1} \\sigma_{z}^2 + P_{\\dot{z}|t-1|t-1} q_{z}^2 + \\sigma_{\\dot{z}}^2 \\sigma_{z}^2 + \\sigma_{\\dot{z}}^2 q_{z}^2 + \\sigma_{z}^2 q_{\\dot{z}}^2 + q_{\\dot{z}}^2 q_{z}^2\\right)} & \\frac{\\overline{P_{\\dot{y}|t-1|t-1}} + \\overline{\\sigma_{\\dot{y}}^2} + \\overline{q_{\\dot{y}}^2}}{\\left(P_{x|t-1|t-1} P_{\\dot{x}|t-1|t-1} + P_{x|t-1|t-1} \\sigma_{\\dot{x}}^2 + P_{x|t-1|t-1} q_{\\dot{x}}^2 + P_{\\dot{x}|t-1|t-1} \\Delta{t}^{2} \\sigma_{\\dot{x}}^2 + P_{\\dot{x}|t-1|t-1} \\Delta{t}^{2} q_{\\dot{x}}^2 + P_{\\dot{x}|t-1|t-1} \\sigma_{x}^2 + P_{\\dot{x}|t-1|t-1} q_{x}^2 + \\sigma_{\\dot{x}}^2 \\sigma_{x}^2 + \\sigma_{\\dot{x}}^2 q_{x}^2 + \\sigma_{x}^2 q_{\\dot{x}}^2 + q_{\\dot{x}}^2 q_{x}^2\\right) \\left(P_{y|t-1|t-1} P_{\\dot{y}|t-1|t-1} + P_{y|t-1|t-1} \\sigma_{\\dot{y}}^2 + P_{y|t-1|t-1} q_{\\dot{y}}^2 + P_{\\dot{y}|t-1|t-1} \\Delta{t}^{2} \\sigma_{\\dot{y}}^2 + P_{\\dot{y}|t-1|t-1} \\Delta{t}^{2} q_{\\dot{y}}^2 + P_{\\dot{y}|t-1|t-1} \\sigma_{y}^2 + P_{\\dot{y}|t-1|t-1} q_{y}^2 + \\sigma_{\\dot{y}}^2 \\sigma_{y}^2 + \\sigma_{\\dot{y}}^2 q_{y}^2 + \\sigma_{y}^2 q_{\\dot{y}}^2 + q_{\\dot{y}}^2 q_{y}^2\\right) \\left(P_{z|t-1|t-1} P_{\\dot{z}|t-1|t-1} + P_{z|t-1|t-1} \\sigma_{\\dot{z}}^2 + P_{z|t-1|t-1} q_{\\dot{z}}^2 + P_{\\dot{z}|t-1|t-1} \\Delta{t}^{2} \\sigma_{\\dot{z}}^2 + P_{\\dot{z}|t-1|t-1} \\Delta{t}^{2} q_{\\dot{z}}^2 + P_{\\dot{z}|t-1|t-1} \\sigma_{z}^2 + P_{\\dot{z}|t-1|t-1} q_{z}^2 + \\sigma_{\\dot{z}}^2 \\sigma_{z}^2 + \\sigma_{\\dot{z}}^2 q_{z}^2 + \\sigma_{z}^2 q_{\\dot{z}}^2 + q_{\\dot{z}}^2 q_{z}^2\\right)} & 0 & 0\\\\0 & 0 & 0 & 0 & \\frac{\\overline{P_{z|t-1|t-1}} + \\overline{P_{\\dot{z}|t-1|t-1}} \\overline{\\Delta{t}}^{2} + \\overline{\\sigma_{z}^2} + \\overline{q_{z}^2}}{\\left(P_{x|t-1|t-1} P_{\\dot{x}|t-1|t-1} + P_{x|t-1|t-1} \\sigma_{\\dot{x}}^2 + P_{x|t-1|t-1} q_{\\dot{x}}^2 + P_{\\dot{x}|t-1|t-1} \\Delta{t}^{2} \\sigma_{\\dot{x}}^2 + P_{\\dot{x}|t-1|t-1} \\Delta{t}^{2} q_{\\dot{x}}^2 + P_{\\dot{x}|t-1|t-1} \\sigma_{x}^2 + P_{\\dot{x}|t-1|t-1} q_{x}^2 + \\sigma_{\\dot{x}}^2 \\sigma_{x}^2 + \\sigma_{\\dot{x}}^2 q_{x}^2 + \\sigma_{x}^2 q_{\\dot{x}}^2 + q_{\\dot{x}}^2 q_{x}^2\\right) \\left(P_{y|t-1|t-1} P_{\\dot{y}|t-1|t-1} + P_{y|t-1|t-1} \\sigma_{\\dot{y}}^2 + P_{y|t-1|t-1} q_{\\dot{y}}^2 + P_{\\dot{y}|t-1|t-1} \\Delta{t}^{2} \\sigma_{\\dot{y}}^2 + P_{\\dot{y}|t-1|t-1} \\Delta{t}^{2} q_{\\dot{y}}^2 + P_{\\dot{y}|t-1|t-1} \\sigma_{y}^2 + P_{\\dot{y}|t-1|t-1} q_{y}^2 + \\sigma_{\\dot{y}}^2 \\sigma_{y}^2 + \\sigma_{\\dot{y}}^2 q_{y}^2 + \\sigma_{y}^2 q_{\\dot{y}}^2 + q_{\\dot{y}}^2 q_{y}^2\\right) \\left(P_{z|t-1|t-1} P_{\\dot{z}|t-1|t-1} + P_{z|t-1|t-1} \\sigma_{\\dot{z}}^2 + P_{z|t-1|t-1} q_{\\dot{z}}^2 + P_{\\dot{z}|t-1|t-1} \\Delta{t}^{2} \\sigma_{\\dot{z}}^2 + P_{\\dot{z}|t-1|t-1} \\Delta{t}^{2} q_{\\dot{z}}^2 + P_{\\dot{z}|t-1|t-1} \\sigma_{z}^2 + P_{\\dot{z}|t-1|t-1} q_{z}^2 + \\sigma_{\\dot{z}}^2 \\sigma_{z}^2 + \\sigma_{\\dot{z}}^2 q_{z}^2 + \\sigma_{z}^2 q_{\\dot{z}}^2 + q_{\\dot{z}}^2 q_{z}^2\\right)} & \\frac{\\overline{P_{\\dot{z}|t-1|t-1}} \\overline{\\Delta{t}}}{\\left(P_{x|t-1|t-1} P_{\\dot{x}|t-1|t-1} + P_{x|t-1|t-1} \\sigma_{\\dot{x}}^2 + P_{x|t-1|t-1} q_{\\dot{x}}^2 + P_{\\dot{x}|t-1|t-1} \\Delta{t}^{2} \\sigma_{\\dot{x}}^2 + P_{\\dot{x}|t-1|t-1} \\Delta{t}^{2} q_{\\dot{x}}^2 + P_{\\dot{x}|t-1|t-1} \\sigma_{x}^2 + P_{\\dot{x}|t-1|t-1} q_{x}^2 + \\sigma_{\\dot{x}}^2 \\sigma_{x}^2 + \\sigma_{\\dot{x}}^2 q_{x}^2 + \\sigma_{x}^2 q_{\\dot{x}}^2 + q_{\\dot{x}}^2 q_{x}^2\\right) \\left(P_{y|t-1|t-1} P_{\\dot{y}|t-1|t-1} + P_{y|t-1|t-1} \\sigma_{\\dot{y}}^2 + P_{y|t-1|t-1} q_{\\dot{y}}^2 + P_{\\dot{y}|t-1|t-1} \\Delta{t}^{2} \\sigma_{\\dot{y}}^2 + P_{\\dot{y}|t-1|t-1} \\Delta{t}^{2} q_{\\dot{y}}^2 + P_{\\dot{y}|t-1|t-1} \\sigma_{y}^2 + P_{\\dot{y}|t-1|t-1} q_{y}^2 + \\sigma_{\\dot{y}}^2 \\sigma_{y}^2 + \\sigma_{\\dot{y}}^2 q_{y}^2 + \\sigma_{y}^2 q_{\\dot{y}}^2 + q_{\\dot{y}}^2 q_{y}^2\\right) \\left(P_{z|t-1|t-1} P_{\\dot{z}|t-1|t-1} + P_{z|t-1|t-1} \\sigma_{\\dot{z}}^2 + P_{z|t-1|t-1} q_{\\dot{z}}^2 + P_{\\dot{z}|t-1|t-1} \\Delta{t}^{2} \\sigma_{\\dot{z}}^2 + P_{\\dot{z}|t-1|t-1} \\Delta{t}^{2} q_{\\dot{z}}^2 + P_{\\dot{z}|t-1|t-1} \\sigma_{z}^2 + P_{\\dot{z}|t-1|t-1} q_{z}^2 + \\sigma_{\\dot{z}}^2 \\sigma_{z}^2 + \\sigma_{\\dot{z}}^2 q_{z}^2 + \\sigma_{z}^2 q_{\\dot{z}}^2 + q_{\\dot{z}}^2 q_{z}^2\\right)}\\\\0 & 0 & 0 & 0 & \\frac{\\overline{P_{\\dot{z}|t-1|t-1}} \\overline{\\Delta{t}}}{\\left(P_{x|t-1|t-1} P_{\\dot{x}|t-1|t-1} + P_{x|t-1|t-1} \\sigma_{\\dot{x}}^2 + P_{x|t-1|t-1} q_{\\dot{x}}^2 + P_{\\dot{x}|t-1|t-1} \\Delta{t}^{2} \\sigma_{\\dot{x}}^2 + P_{\\dot{x}|t-1|t-1} \\Delta{t}^{2} q_{\\dot{x}}^2 + P_{\\dot{x}|t-1|t-1} \\sigma_{x}^2 + P_{\\dot{x}|t-1|t-1} q_{x}^2 + \\sigma_{\\dot{x}}^2 \\sigma_{x}^2 + \\sigma_{\\dot{x}}^2 q_{x}^2 + \\sigma_{x}^2 q_{\\dot{x}}^2 + q_{\\dot{x}}^2 q_{x}^2\\right) \\left(P_{y|t-1|t-1} P_{\\dot{y}|t-1|t-1} + P_{y|t-1|t-1} \\sigma_{\\dot{y}}^2 + P_{y|t-1|t-1} q_{\\dot{y}}^2 + P_{\\dot{y}|t-1|t-1} \\Delta{t}^{2} \\sigma_{\\dot{y}}^2 + P_{\\dot{y}|t-1|t-1} \\Delta{t}^{2} q_{\\dot{y}}^2 + P_{\\dot{y}|t-1|t-1} \\sigma_{y}^2 + P_{\\dot{y}|t-1|t-1} q_{y}^2 + \\sigma_{\\dot{y}}^2 \\sigma_{y}^2 + \\sigma_{\\dot{y}}^2 q_{y}^2 + \\sigma_{y}^2 q_{\\dot{y}}^2 + q_{\\dot{y}}^2 q_{y}^2\\right) \\left(P_{z|t-1|t-1} P_{\\dot{z}|t-1|t-1} + P_{z|t-1|t-1} \\sigma_{\\dot{z}}^2 + P_{z|t-1|t-1} q_{\\dot{z}}^2 + P_{\\dot{z}|t-1|t-1} \\Delta{t}^{2} \\sigma_{\\dot{z}}^2 + P_{\\dot{z}|t-1|t-1} \\Delta{t}^{2} q_{\\dot{z}}^2 + P_{\\dot{z}|t-1|t-1} \\sigma_{z}^2 + P_{\\dot{z}|t-1|t-1} q_{z}^2 + \\sigma_{\\dot{z}}^2 \\sigma_{z}^2 + \\sigma_{\\dot{z}}^2 q_{z}^2 + \\sigma_{z}^2 q_{\\dot{z}}^2 + q_{\\dot{z}}^2 q_{z}^2\\right)} & \\frac{\\overline{P_{\\dot{z}|t-1|t-1}} + \\overline{\\sigma_{\\dot{z}}^2} + \\overline{q_{\\dot{z}}^2}}{\\left(P_{x|t-1|t-1} P_{\\dot{x}|t-1|t-1} + P_{x|t-1|t-1} \\sigma_{\\dot{x}}^2 + P_{x|t-1|t-1} q_{\\dot{x}}^2 + P_{\\dot{x}|t-1|t-1} \\Delta{t}^{2} \\sigma_{\\dot{x}}^2 + P_{\\dot{x}|t-1|t-1} \\Delta{t}^{2} q_{\\dot{x}}^2 + P_{\\dot{x}|t-1|t-1} \\sigma_{x}^2 + P_{\\dot{x}|t-1|t-1} q_{x}^2 + \\sigma_{\\dot{x}}^2 \\sigma_{x}^2 + \\sigma_{\\dot{x}}^2 q_{x}^2 + \\sigma_{x}^2 q_{\\dot{x}}^2 + q_{\\dot{x}}^2 q_{x}^2\\right) \\left(P_{y|t-1|t-1} P_{\\dot{y}|t-1|t-1} + P_{y|t-1|t-1} \\sigma_{\\dot{y}}^2 + P_{y|t-1|t-1} q_{\\dot{y}}^2 + P_{\\dot{y}|t-1|t-1} \\Delta{t}^{2} \\sigma_{\\dot{y}}^2 + P_{\\dot{y}|t-1|t-1} \\Delta{t}^{2} q_{\\dot{y}}^2 + P_{\\dot{y}|t-1|t-1} \\sigma_{y}^2 + P_{\\dot{y}|t-1|t-1} q_{y}^2 + \\sigma_{\\dot{y}}^2 \\sigma_{y}^2 + \\sigma_{\\dot{y}}^2 q_{y}^2 + \\sigma_{y}^2 q_{\\dot{y}}^2 + q_{\\dot{y}}^2 q_{y}^2\\right) \\left(P_{z|t-1|t-1} P_{\\dot{z}|t-1|t-1} + P_{z|t-1|t-1} \\sigma_{\\dot{z}}^2 + P_{z|t-1|t-1} q_{\\dot{z}}^2 + P_{\\dot{z}|t-1|t-1} \\Delta{t}^{2} \\sigma_{\\dot{z}}^2 + P_{\\dot{z}|t-1|t-1} \\Delta{t}^{2} q_{\\dot{z}}^2 + P_{\\dot{z}|t-1|t-1} \\sigma_{z}^2 + P_{\\dot{z}|t-1|t-1} q_{z}^2 + \\sigma_{\\dot{z}}^2 \\sigma_{z}^2 + \\sigma_{\\dot{z}}^2 q_{z}^2 + \\sigma_{z}^2 q_{\\dot{z}}^2 + q_{\\dot{z}}^2 q_{z}^2\\right)}\\end{matrix}\\right]$"
      ],
      "text/plain": [
       "<IPython.core.display.Math object>"
      ]
     },
     "metadata": {},
     "output_type": "display_data"
    }
   ],
   "source": [
    "St_inv = (Num/Den).simplify()\n",
    "\n",
    "display(Math(r'S_{{t|t}}^{{-1}} = {}'.format(sp.latex(St_inv))))"
   ]
  },
  {
   "cell_type": "markdown",
   "metadata": {},
   "source": [
    "## Updated Kalman gain $K$ (at time t, for time t)"
   ]
  },
  {
   "cell_type": "code",
   "execution_count": 24,
   "metadata": {
    "collapsed": true,
    "tags": []
   },
   "outputs": [
    {
     "ename": "KeyboardInterrupt",
     "evalue": "",
     "output_type": "error",
     "traceback": [
      "\u001b[1;31m---------------------------------------------------------------------------\u001b[0m",
      "\u001b[1;31mKeyboardInterrupt\u001b[0m                         Traceback (most recent call last)",
      "Cell \u001b[1;32mIn[24], line 1\u001b[0m\n\u001b[1;32m----> 1\u001b[0m Kt_update \u001b[38;5;241m=\u001b[39m \u001b[43m(\u001b[49m\u001b[43mPt_predict\u001b[49m\u001b[38;5;241;43m*\u001b[39;49m\u001b[43mH\u001b[49m\u001b[38;5;241;43m.\u001b[39;49m\u001b[43mT\u001b[49m\u001b[38;5;241;43m*\u001b[39;49m\u001b[43mSt_inv\u001b[49m\u001b[43m)\u001b[49m\u001b[38;5;241;43m.\u001b[39;49m\u001b[43msimplify\u001b[49m\u001b[43m(\u001b[49m\u001b[43m)\u001b[49m\n\u001b[0;32m      2\u001b[0m display(Math(\u001b[38;5;124mr\u001b[39m\u001b[38;5;124m'\u001b[39m\u001b[38;5;124mK_\u001b[39m\u001b[38;5;124m{{\u001b[39m\u001b[38;5;124mt|t}} = \u001b[39m\u001b[38;5;132;01m{}\u001b[39;00m\u001b[38;5;124m'\u001b[39m\u001b[38;5;241m.\u001b[39mformat(sp\u001b[38;5;241m.\u001b[39mlatex(Kt_update))))\n",
      "File \u001b[1;32m~\\anaconda3\\lib\\site-packages\\sympy\\matrices\\common.py:2405\u001b[0m, in \u001b[0;36mMatrixOperations.simplify\u001b[1;34m(self, **kwargs)\u001b[0m\n\u001b[0;32m   2392\u001b[0m \u001b[38;5;28;01mdef\u001b[39;00m \u001b[38;5;21msimplify\u001b[39m(\u001b[38;5;28mself\u001b[39m, \u001b[38;5;241m*\u001b[39m\u001b[38;5;241m*\u001b[39mkwargs):\n\u001b[0;32m   2393\u001b[0m     \u001b[38;5;124;03m\"\"\"Apply simplify to each element of the matrix.\u001b[39;00m\n\u001b[0;32m   2394\u001b[0m \n\u001b[0;32m   2395\u001b[0m \u001b[38;5;124;03m    Examples\u001b[39;00m\n\u001b[1;32m   (...)\u001b[0m\n\u001b[0;32m   2403\u001b[0m \u001b[38;5;124;03m    Matrix([[x]])\u001b[39;00m\n\u001b[0;32m   2404\u001b[0m \u001b[38;5;124;03m    \"\"\"\u001b[39;00m\n\u001b[1;32m-> 2405\u001b[0m     \u001b[38;5;28;01mreturn\u001b[39;00m \u001b[38;5;28;43mself\u001b[39;49m\u001b[38;5;241;43m.\u001b[39;49m\u001b[43mapplyfunc\u001b[49m\u001b[43m(\u001b[49m\u001b[38;5;28;43;01mlambda\u001b[39;49;00m\u001b[43m \u001b[49m\u001b[43mx\u001b[49m\u001b[43m:\u001b[49m\u001b[43m \u001b[49m\u001b[43mx\u001b[49m\u001b[38;5;241;43m.\u001b[39;49m\u001b[43msimplify\u001b[49m\u001b[43m(\u001b[49m\u001b[38;5;241;43m*\u001b[39;49m\u001b[38;5;241;43m*\u001b[39;49m\u001b[43mkwargs\u001b[49m\u001b[43m)\u001b[49m\u001b[43m)\u001b[49m\n",
      "File \u001b[1;32m~\\anaconda3\\lib\\site-packages\\sympy\\matrices\\common.py:2058\u001b[0m, in \u001b[0;36mMatrixOperations.applyfunc\u001b[1;34m(self, f)\u001b[0m\n\u001b[0;32m   2055\u001b[0m \u001b[38;5;28;01mif\u001b[39;00m \u001b[38;5;129;01mnot\u001b[39;00m callable(f):\n\u001b[0;32m   2056\u001b[0m     \u001b[38;5;28;01mraise\u001b[39;00m \u001b[38;5;167;01mTypeError\u001b[39;00m(\u001b[38;5;124m\"\u001b[39m\u001b[38;5;124m`f` must be callable.\u001b[39m\u001b[38;5;124m\"\u001b[39m)\n\u001b[1;32m-> 2058\u001b[0m \u001b[38;5;28;01mreturn\u001b[39;00m \u001b[38;5;28;43mself\u001b[39;49m\u001b[38;5;241;43m.\u001b[39;49m\u001b[43m_eval_applyfunc\u001b[49m\u001b[43m(\u001b[49m\u001b[43mf\u001b[49m\u001b[43m)\u001b[49m\n",
      "File \u001b[1;32m~\\anaconda3\\lib\\site-packages\\sympy\\matrices\\common.py:2000\u001b[0m, in \u001b[0;36mMatrixOperations._eval_applyfunc\u001b[1;34m(self, f)\u001b[0m\n\u001b[0;32m   1999\u001b[0m \u001b[38;5;28;01mdef\u001b[39;00m \u001b[38;5;21m_eval_applyfunc\u001b[39m(\u001b[38;5;28mself\u001b[39m, f):\n\u001b[1;32m-> 2000\u001b[0m     out \u001b[38;5;241m=\u001b[39m \u001b[38;5;28mself\u001b[39m\u001b[38;5;241m.\u001b[39m_new(\u001b[38;5;28mself\u001b[39m\u001b[38;5;241m.\u001b[39mrows, \u001b[38;5;28mself\u001b[39m\u001b[38;5;241m.\u001b[39mcols, [f(x) \u001b[38;5;28;01mfor\u001b[39;00m x \u001b[38;5;129;01min\u001b[39;00m \u001b[38;5;28mself\u001b[39m])\n\u001b[0;32m   2001\u001b[0m     \u001b[38;5;28;01mreturn\u001b[39;00m out\n",
      "File \u001b[1;32m~\\anaconda3\\lib\\site-packages\\sympy\\matrices\\common.py:2000\u001b[0m, in \u001b[0;36m<listcomp>\u001b[1;34m(.0)\u001b[0m\n\u001b[0;32m   1999\u001b[0m \u001b[38;5;28;01mdef\u001b[39;00m \u001b[38;5;21m_eval_applyfunc\u001b[39m(\u001b[38;5;28mself\u001b[39m, f):\n\u001b[1;32m-> 2000\u001b[0m     out \u001b[38;5;241m=\u001b[39m \u001b[38;5;28mself\u001b[39m\u001b[38;5;241m.\u001b[39m_new(\u001b[38;5;28mself\u001b[39m\u001b[38;5;241m.\u001b[39mrows, \u001b[38;5;28mself\u001b[39m\u001b[38;5;241m.\u001b[39mcols, [\u001b[43mf\u001b[49m\u001b[43m(\u001b[49m\u001b[43mx\u001b[49m\u001b[43m)\u001b[49m \u001b[38;5;28;01mfor\u001b[39;00m x \u001b[38;5;129;01min\u001b[39;00m \u001b[38;5;28mself\u001b[39m])\n\u001b[0;32m   2001\u001b[0m     \u001b[38;5;28;01mreturn\u001b[39;00m out\n",
      "File \u001b[1;32m~\\anaconda3\\lib\\site-packages\\sympy\\matrices\\common.py:2405\u001b[0m, in \u001b[0;36mMatrixOperations.simplify.<locals>.<lambda>\u001b[1;34m(x)\u001b[0m\n\u001b[0;32m   2392\u001b[0m \u001b[38;5;28;01mdef\u001b[39;00m \u001b[38;5;21msimplify\u001b[39m(\u001b[38;5;28mself\u001b[39m, \u001b[38;5;241m*\u001b[39m\u001b[38;5;241m*\u001b[39mkwargs):\n\u001b[0;32m   2393\u001b[0m     \u001b[38;5;124;03m\"\"\"Apply simplify to each element of the matrix.\u001b[39;00m\n\u001b[0;32m   2394\u001b[0m \n\u001b[0;32m   2395\u001b[0m \u001b[38;5;124;03m    Examples\u001b[39;00m\n\u001b[1;32m   (...)\u001b[0m\n\u001b[0;32m   2403\u001b[0m \u001b[38;5;124;03m    Matrix([[x]])\u001b[39;00m\n\u001b[0;32m   2404\u001b[0m \u001b[38;5;124;03m    \"\"\"\u001b[39;00m\n\u001b[1;32m-> 2405\u001b[0m     \u001b[38;5;28;01mreturn\u001b[39;00m \u001b[38;5;28mself\u001b[39m\u001b[38;5;241m.\u001b[39mapplyfunc(\u001b[38;5;28;01mlambda\u001b[39;00m x: x\u001b[38;5;241m.\u001b[39msimplify(\u001b[38;5;241m*\u001b[39m\u001b[38;5;241m*\u001b[39mkwargs))\n",
      "File \u001b[1;32m~\\anaconda3\\lib\\site-packages\\sympy\\core\\basic.py:1767\u001b[0m, in \u001b[0;36mBasic.simplify\u001b[1;34m(self, **kwargs)\u001b[0m\n\u001b[0;32m   1765\u001b[0m \u001b[38;5;124;03m\"\"\"See the simplify function in sympy.simplify\"\"\"\u001b[39;00m\n\u001b[0;32m   1766\u001b[0m \u001b[38;5;28;01mfrom\u001b[39;00m \u001b[38;5;21;01msympy\u001b[39;00m\u001b[38;5;21;01m.\u001b[39;00m\u001b[38;5;21;01msimplify\u001b[39;00m\u001b[38;5;21;01m.\u001b[39;00m\u001b[38;5;21;01msimplify\u001b[39;00m \u001b[38;5;28;01mimport\u001b[39;00m simplify\n\u001b[1;32m-> 1767\u001b[0m \u001b[38;5;28;01mreturn\u001b[39;00m simplify(\u001b[38;5;28mself\u001b[39m, \u001b[38;5;241m*\u001b[39m\u001b[38;5;241m*\u001b[39mkwargs)\n",
      "File \u001b[1;32m~\\anaconda3\\lib\\site-packages\\sympy\\simplify\\simplify.py:645\u001b[0m, in \u001b[0;36msimplify\u001b[1;34m(expr, ratio, measure, rational, inverse, doit, **kwargs)\u001b[0m\n\u001b[0;32m    643\u001b[0m expr \u001b[38;5;241m=\u001b[39m Mul(\u001b[38;5;241m*\u001b[39mpowsimp(expr)\u001b[38;5;241m.\u001b[39mas_content_primitive())\n\u001b[0;32m    644\u001b[0m _e \u001b[38;5;241m=\u001b[39m cancel(expr)\n\u001b[1;32m--> 645\u001b[0m expr1 \u001b[38;5;241m=\u001b[39m shorter(_e, \u001b[43m_mexpand\u001b[49m\u001b[43m(\u001b[49m\u001b[43m_e\u001b[49m\u001b[43m)\u001b[49m\u001b[38;5;241;43m.\u001b[39;49m\u001b[43mcancel\u001b[49m\u001b[43m(\u001b[49m\u001b[43m)\u001b[49m)  \u001b[38;5;66;03m# issue 6829\u001b[39;00m\n\u001b[0;32m    646\u001b[0m expr2 \u001b[38;5;241m=\u001b[39m shorter(together(expr, deep\u001b[38;5;241m=\u001b[39m\u001b[38;5;28;01mTrue\u001b[39;00m), together(expr1, deep\u001b[38;5;241m=\u001b[39m\u001b[38;5;28;01mTrue\u001b[39;00m))\n\u001b[0;32m    648\u001b[0m \u001b[38;5;28;01mif\u001b[39;00m ratio \u001b[38;5;129;01mis\u001b[39;00m S\u001b[38;5;241m.\u001b[39mInfinity:\n",
      "File \u001b[1;32m~\\anaconda3\\lib\\site-packages\\sympy\\core\\expr.py:3760\u001b[0m, in \u001b[0;36mExpr.cancel\u001b[1;34m(self, *gens, **args)\u001b[0m\n\u001b[0;32m   3758\u001b[0m \u001b[38;5;124;03m\"\"\"See the cancel function in sympy.polys\"\"\"\u001b[39;00m\n\u001b[0;32m   3759\u001b[0m \u001b[38;5;28;01mfrom\u001b[39;00m \u001b[38;5;21;01msympy\u001b[39;00m\u001b[38;5;21;01m.\u001b[39;00m\u001b[38;5;21;01mpolys\u001b[39;00m\u001b[38;5;21;01m.\u001b[39;00m\u001b[38;5;21;01mpolytools\u001b[39;00m \u001b[38;5;28;01mimport\u001b[39;00m cancel\n\u001b[1;32m-> 3760\u001b[0m \u001b[38;5;28;01mreturn\u001b[39;00m cancel(\u001b[38;5;28mself\u001b[39m, \u001b[38;5;241m*\u001b[39mgens, \u001b[38;5;241m*\u001b[39m\u001b[38;5;241m*\u001b[39margs)\n",
      "File \u001b[1;32m~\\anaconda3\\lib\\site-packages\\sympy\\polys\\polytools.py:6739\u001b[0m, in \u001b[0;36mcancel\u001b[1;34m(f, _signsimp, *gens, **args)\u001b[0m\n\u001b[0;32m   6737\u001b[0m f \u001b[38;5;241m=\u001b[39m sympify(f)\n\u001b[0;32m   6738\u001b[0m \u001b[38;5;28;01mif\u001b[39;00m _signsimp:\n\u001b[1;32m-> 6739\u001b[0m     f \u001b[38;5;241m=\u001b[39m \u001b[43msignsimp\u001b[49m\u001b[43m(\u001b[49m\u001b[43mf\u001b[49m\u001b[43m)\u001b[49m\n\u001b[0;32m   6740\u001b[0m opt \u001b[38;5;241m=\u001b[39m {}\n\u001b[0;32m   6741\u001b[0m \u001b[38;5;28;01mif\u001b[39;00m \u001b[38;5;124m'\u001b[39m\u001b[38;5;124mpolys\u001b[39m\u001b[38;5;124m'\u001b[39m \u001b[38;5;129;01min\u001b[39;00m args:\n",
      "File \u001b[1;32m~\\anaconda3\\lib\\site-packages\\sympy\\simplify\\simplify.py:406\u001b[0m, in \u001b[0;36msignsimp\u001b[1;34m(expr, evaluate)\u001b[0m\n\u001b[0;32m    404\u001b[0m \u001b[38;5;66;03m# get rid of an pre-existing unevaluation regarding sign\u001b[39;00m\n\u001b[0;32m    405\u001b[0m e \u001b[38;5;241m=\u001b[39m expr\u001b[38;5;241m.\u001b[39mreplace(\u001b[38;5;28;01mlambda\u001b[39;00m x: x\u001b[38;5;241m.\u001b[39mis_Mul \u001b[38;5;129;01mand\u001b[39;00m \u001b[38;5;241m-\u001b[39m(\u001b[38;5;241m-\u001b[39mx) \u001b[38;5;241m!=\u001b[39m x, \u001b[38;5;28;01mlambda\u001b[39;00m x: \u001b[38;5;241m-\u001b[39m(\u001b[38;5;241m-\u001b[39mx))\n\u001b[1;32m--> 406\u001b[0m e \u001b[38;5;241m=\u001b[39m sub_post(\u001b[43msub_pre\u001b[49m\u001b[43m(\u001b[49m\u001b[43me\u001b[49m\u001b[43m)\u001b[49m)\n\u001b[0;32m    407\u001b[0m \u001b[38;5;28;01mif\u001b[39;00m \u001b[38;5;129;01mnot\u001b[39;00m \u001b[38;5;28misinstance\u001b[39m(e, (Expr, Relational)) \u001b[38;5;129;01mor\u001b[39;00m e\u001b[38;5;241m.\u001b[39mis_Atom:\n\u001b[0;32m    408\u001b[0m     \u001b[38;5;28;01mreturn\u001b[39;00m e\n",
      "File \u001b[1;32m~\\anaconda3\\lib\\site-packages\\sympy\\simplify\\cse_opts.py:14\u001b[0m, in \u001b[0;36msub_pre\u001b[1;34m(e)\u001b[0m\n\u001b[0;32m     11\u001b[0m \u001b[38;5;124;03m\"\"\" Replace y - x with -(x - y) if -1 can be extracted from y - x.\u001b[39;00m\n\u001b[0;32m     12\u001b[0m \u001b[38;5;124;03m\"\"\"\u001b[39;00m\n\u001b[0;32m     13\u001b[0m \u001b[38;5;66;03m# replacing Add, A, from which -1 can be extracted with -1*-A\u001b[39;00m\n\u001b[1;32m---> 14\u001b[0m adds \u001b[38;5;241m=\u001b[39m [a \u001b[38;5;28;01mfor\u001b[39;00m a \u001b[38;5;129;01min\u001b[39;00m \u001b[43me\u001b[49m\u001b[38;5;241;43m.\u001b[39;49m\u001b[43matoms\u001b[49m\u001b[43m(\u001b[49m\u001b[43mAdd\u001b[49m\u001b[43m)\u001b[49m \u001b[38;5;28;01mif\u001b[39;00m a\u001b[38;5;241m.\u001b[39mcould_extract_minus_sign()]\n\u001b[0;32m     15\u001b[0m reps \u001b[38;5;241m=\u001b[39m {}\n\u001b[0;32m     16\u001b[0m ignore \u001b[38;5;241m=\u001b[39m \u001b[38;5;28mset\u001b[39m()\n",
      "File \u001b[1;32m~\\anaconda3\\lib\\site-packages\\sympy\\core\\basic.py:523\u001b[0m, in \u001b[0;36mBasic.atoms\u001b[1;34m(self, *types)\u001b[0m\n\u001b[0;32m    521\u001b[0m nodes \u001b[38;5;241m=\u001b[39m _preorder_traversal(\u001b[38;5;28mself\u001b[39m)\n\u001b[0;32m    522\u001b[0m \u001b[38;5;28;01mif\u001b[39;00m types:\n\u001b[1;32m--> 523\u001b[0m     result \u001b[38;5;241m=\u001b[39m {node \u001b[38;5;28;01mfor\u001b[39;00m node \u001b[38;5;129;01min\u001b[39;00m nodes \u001b[38;5;28;01mif\u001b[39;00m \u001b[38;5;28misinstance\u001b[39m(node, types)}\n\u001b[0;32m    524\u001b[0m \u001b[38;5;28;01melse\u001b[39;00m:\n\u001b[0;32m    525\u001b[0m     result \u001b[38;5;241m=\u001b[39m {node \u001b[38;5;28;01mfor\u001b[39;00m node \u001b[38;5;129;01min\u001b[39;00m nodes \u001b[38;5;28;01mif\u001b[39;00m \u001b[38;5;129;01mnot\u001b[39;00m node\u001b[38;5;241m.\u001b[39margs}\n",
      "File \u001b[1;32m~\\anaconda3\\lib\\site-packages\\sympy\\core\\basic.py:523\u001b[0m, in \u001b[0;36m<setcomp>\u001b[1;34m(.0)\u001b[0m\n\u001b[0;32m    521\u001b[0m nodes \u001b[38;5;241m=\u001b[39m _preorder_traversal(\u001b[38;5;28mself\u001b[39m)\n\u001b[0;32m    522\u001b[0m \u001b[38;5;28;01mif\u001b[39;00m types:\n\u001b[1;32m--> 523\u001b[0m     result \u001b[38;5;241m=\u001b[39m {node \u001b[38;5;28;01mfor\u001b[39;00m node \u001b[38;5;129;01min\u001b[39;00m nodes \u001b[38;5;28;01mif\u001b[39;00m \u001b[38;5;28misinstance\u001b[39m(node, types)}\n\u001b[0;32m    524\u001b[0m \u001b[38;5;28;01melse\u001b[39;00m:\n\u001b[0;32m    525\u001b[0m     result \u001b[38;5;241m=\u001b[39m {node \u001b[38;5;28;01mfor\u001b[39;00m node \u001b[38;5;129;01min\u001b[39;00m nodes \u001b[38;5;28;01mif\u001b[39;00m \u001b[38;5;129;01mnot\u001b[39;00m node\u001b[38;5;241m.\u001b[39margs}\n",
      "\u001b[1;31mKeyboardInterrupt\u001b[0m: "
     ]
    }
   ],
   "source": [
    "# Kt_update = Updated Kalman gain at time t\n",
    "\n",
    "Kt_update = (Pt_predict*H.T*St_inv).simplify()\n",
    "\n",
    "display(Math(r'K_{{t|t}} = {}'.format(sp.latex(Kt_update))))"
   ]
  },
  {
   "cell_type": "markdown",
   "metadata": {},
   "source": [
    "## Estimated system state $X$ (at time t, for time t)"
   ]
  },
  {
   "cell_type": "code",
   "execution_count": 66,
   "metadata": {},
   "outputs": [
    {
     "data": {
      "text/latex": [
       "$\\displaystyle X_{t|t} = \\left[\\begin{matrix}y_{t|t-1} + \\frac{\\left(- y_{t|t-1} + z_{y|t}\\right) \\left(4 P_{y|t-1|t-1} + 4 P_{\\dot{y}y|t-1|t-1} \\Delta{t} + \\Delta{t}^{4} \\sigma_{\\ddot{y}^2} + 4 \\Delta{t} \\left(P_{\\dot{y}|t-1|t-1} \\Delta{t} + P_{y\\dot{y}|t-1|t-1}\\right)\\right) \\left(4 \\left(\\overline{P_{\\dot{y}|t-1|t-1}} \\overline{\\Delta{t}} + \\overline{P_{y\\dot{y}|t-1|t-1}}\\right) \\overline{\\Delta{t}} + 4 \\overline{P_{y|t-1|t-1}} + 4 \\overline{P_{\\dot{y}y|t-1|t-1}} \\overline{\\Delta{t}} + \\overline{\\Delta{t}}^{4} \\overline{\\sigma_{\\ddot{y}^2}} + 4 \\overline{\\sigma_{y^2}}\\right)}{\\sigma_{\\ddot{y}^2} \\sigma_{\\ddot{z}^2} \\left(P_{\\dot{\\phi}|t-1|t-1} + \\Delta{t}^{2} \\sigma_{\\dot{\\phi}^2} + \\sigma_{\\dot{\\phi}^2}\\right) \\left(4 P_{y|t-1|t-1} + 4 P_{\\dot{y}y|t-1|t-1} \\Delta{t} + \\Delta{t}^{4} \\sigma_{\\ddot{y}^2} + 4 \\Delta{t} \\left(P_{\\dot{y}|t-1|t-1} \\Delta{t} + P_{y\\dot{y}|t-1|t-1}\\right) + 4 \\sigma_{y^2}\\right) \\left(4 P_{z|t-1|t-1} + 4 P_{\\dot{z}z|t-1|t-1} \\Delta{t} + \\Delta{t}^{4} \\sigma_{\\ddot{z}^2} + 4 \\Delta{t} \\left(P_{\\dot{z}|t-1|t-1} \\Delta{t} + P_{z\\dot{z}|t-1|t-1}\\right) + 4 \\sigma_{z^2}\\right)}\\\\\\dot{y}_{t|t-1} + \\frac{2 \\left(- y_{t|t-1} + z_{y|t}\\right) \\left(2 P_{\\dot{y}y|t-1|t-1} + 2 P_{\\dot{y}|t-1|t-1} \\Delta{t} + \\Delta{t}^{3} \\sigma_{\\ddot{y}^2}\\right) \\left(4 \\left(\\overline{P_{\\dot{y}|t-1|t-1}} \\overline{\\Delta{t}} + \\overline{P_{y\\dot{y}|t-1|t-1}}\\right) \\overline{\\Delta{t}} + 4 \\overline{P_{y|t-1|t-1}} + 4 \\overline{P_{\\dot{y}y|t-1|t-1}} \\overline{\\Delta{t}} + \\overline{\\Delta{t}}^{4} \\overline{\\sigma_{\\ddot{y}^2}} + 4 \\overline{\\sigma_{y^2}}\\right)}{\\sigma_{\\ddot{y}^2} \\sigma_{\\ddot{z}^2} \\left(P_{\\dot{\\phi}|t-1|t-1} + \\Delta{t}^{2} \\sigma_{\\dot{\\phi}^2} + \\sigma_{\\dot{\\phi}^2}\\right) \\left(4 P_{y|t-1|t-1} + 4 P_{\\dot{y}y|t-1|t-1} \\Delta{t} + \\Delta{t}^{4} \\sigma_{\\ddot{y}^2} + 4 \\Delta{t} \\left(P_{\\dot{y}|t-1|t-1} \\Delta{t} + P_{y\\dot{y}|t-1|t-1}\\right) + 4 \\sigma_{y^2}\\right) \\left(4 P_{z|t-1|t-1} + 4 P_{\\dot{z}z|t-1|t-1} \\Delta{t} + \\Delta{t}^{4} \\sigma_{\\ddot{z}^2} + 4 \\Delta{t} \\left(P_{\\dot{z}|t-1|t-1} \\Delta{t} + P_{z\\dot{z}|t-1|t-1}\\right) + 4 \\sigma_{z^2}\\right)}\\\\z_{t|t-1} + \\frac{\\left(- z_{t|t-1} + z_{z|t}\\right) \\left(4 P_{z|t-1|t-1} + 4 P_{\\dot{z}z|t-1|t-1} \\Delta{t} + \\Delta{t}^{4} \\sigma_{\\ddot{z}^2} + 4 \\Delta{t} \\left(P_{\\dot{z}|t-1|t-1} \\Delta{t} + P_{z\\dot{z}|t-1|t-1}\\right)\\right) \\left(4 \\left(\\overline{P_{\\dot{z}|t-1|t-1}} \\overline{\\Delta{t}} + \\overline{P_{z\\dot{z}|t-1|t-1}}\\right) \\overline{\\Delta{t}} + 4 \\overline{P_{z|t-1|t-1}} + 4 \\overline{P_{\\dot{z}z|t-1|t-1}} \\overline{\\Delta{t}} + \\overline{\\Delta{t}}^{4} \\overline{\\sigma_{\\ddot{z}^2}} + 4 \\overline{\\sigma_{z^2}}\\right)}{\\sigma_{\\ddot{y}^2} \\sigma_{\\ddot{z}^2} \\left(P_{\\dot{\\phi}|t-1|t-1} + \\Delta{t}^{2} \\sigma_{\\dot{\\phi}^2} + \\sigma_{\\dot{\\phi}^2}\\right) \\left(4 P_{y|t-1|t-1} + 4 P_{\\dot{y}y|t-1|t-1} \\Delta{t} + \\Delta{t}^{4} \\sigma_{\\ddot{y}^2} + 4 \\Delta{t} \\left(P_{\\dot{y}|t-1|t-1} \\Delta{t} + P_{y\\dot{y}|t-1|t-1}\\right) + 4 \\sigma_{y^2}\\right) \\left(4 P_{z|t-1|t-1} + 4 P_{\\dot{z}z|t-1|t-1} \\Delta{t} + \\Delta{t}^{4} \\sigma_{\\ddot{z}^2} + 4 \\Delta{t} \\left(P_{\\dot{z}|t-1|t-1} \\Delta{t} + P_{z\\dot{z}|t-1|t-1}\\right) + 4 \\sigma_{z^2}\\right)}\\\\\\dot{z}_{t|t-1} + \\frac{2 \\left(- z_{t|t-1} + z_{z|t}\\right) \\left(2 P_{\\dot{z}z|t-1|t-1} + 2 P_{\\dot{z}|t-1|t-1} \\Delta{t} + \\Delta{t}^{3} \\sigma_{\\ddot{z}^2}\\right) \\left(4 \\left(\\overline{P_{\\dot{z}|t-1|t-1}} \\overline{\\Delta{t}} + \\overline{P_{z\\dot{z}|t-1|t-1}}\\right) \\overline{\\Delta{t}} + 4 \\overline{P_{z|t-1|t-1}} + 4 \\overline{P_{\\dot{z}z|t-1|t-1}} \\overline{\\Delta{t}} + \\overline{\\Delta{t}}^{4} \\overline{\\sigma_{\\ddot{z}^2}} + 4 \\overline{\\sigma_{z^2}}\\right)}{\\sigma_{\\ddot{y}^2} \\sigma_{\\ddot{z}^2} \\left(P_{\\dot{\\phi}|t-1|t-1} + \\Delta{t}^{2} \\sigma_{\\dot{\\phi}^2} + \\sigma_{\\dot{\\phi}^2}\\right) \\left(4 P_{y|t-1|t-1} + 4 P_{\\dot{y}y|t-1|t-1} \\Delta{t} + \\Delta{t}^{4} \\sigma_{\\ddot{y}^2} + 4 \\Delta{t} \\left(P_{\\dot{y}|t-1|t-1} \\Delta{t} + P_{y\\dot{y}|t-1|t-1}\\right) + 4 \\sigma_{y^2}\\right) \\left(4 P_{z|t-1|t-1} + 4 P_{\\dot{z}z|t-1|t-1} \\Delta{t} + \\Delta{t}^{4} \\sigma_{\\ddot{z}^2} + 4 \\Delta{t} \\left(P_{\\dot{z}|t-1|t-1} \\Delta{t} + P_{z\\dot{z}|t-1|t-1}\\right) + 4 \\sigma_{z^2}\\right)}\\\\\\phi_{t|t-1} + \\frac{8 \\left(- \\dot{\\phi}_{t|t-1} + z_{\\dot{\\phi}|t}\\right) \\left(2 P_{\\dot{\\phi}|t-1|t-1} \\Delta{t} + 2 P_{\\phi\\dot{\\phi}|t-1|t-1} + \\Delta{t}^{3} \\sigma_{\\dot{\\phi}^2}\\right) \\left(\\overline{P_{\\dot{\\phi}|t-1|t-1}} + \\overline{\\Delta{t}}^{2} \\overline{\\sigma_{\\dot{\\phi}^2}} + \\overline{\\sigma_{\\dot{\\phi}^2}}\\right)}{\\sigma_{\\ddot{y}^2} \\sigma_{\\ddot{z}^2} \\left(P_{\\dot{\\phi}|t-1|t-1} + \\Delta{t}^{2} \\sigma_{\\dot{\\phi}^2} + \\sigma_{\\dot{\\phi}^2}\\right) \\left(4 P_{y|t-1|t-1} + 4 P_{\\dot{y}y|t-1|t-1} \\Delta{t} + \\Delta{t}^{4} \\sigma_{\\ddot{y}^2} + 4 \\Delta{t} \\left(P_{\\dot{y}|t-1|t-1} \\Delta{t} + P_{y\\dot{y}|t-1|t-1}\\right) + 4 \\sigma_{y^2}\\right) \\left(4 P_{z|t-1|t-1} + 4 P_{\\dot{z}z|t-1|t-1} \\Delta{t} + \\Delta{t}^{4} \\sigma_{\\ddot{z}^2} + 4 \\Delta{t} \\left(P_{\\dot{z}|t-1|t-1} \\Delta{t} + P_{z\\dot{z}|t-1|t-1}\\right) + 4 \\sigma_{z^2}\\right)}\\\\\\dot{\\phi}_{t|t-1} + \\frac{16 \\left(P_{\\dot{\\phi}|t-1|t-1} + \\Delta{t}^{2} \\sigma_{\\dot{\\phi}^2}\\right) \\left(- \\dot{\\phi}_{t|t-1} + z_{\\dot{\\phi}|t}\\right) \\left(\\overline{P_{\\dot{\\phi}|t-1|t-1}} + \\overline{\\Delta{t}}^{2} \\overline{\\sigma_{\\dot{\\phi}^2}} + \\overline{\\sigma_{\\dot{\\phi}^2}}\\right)}{\\sigma_{\\ddot{y}^2} \\sigma_{\\ddot{z}^2} \\left(P_{\\dot{\\phi}|t-1|t-1} + \\Delta{t}^{2} \\sigma_{\\dot{\\phi}^2} + \\sigma_{\\dot{\\phi}^2}\\right) \\left(4 P_{y|t-1|t-1} + 4 P_{\\dot{y}y|t-1|t-1} \\Delta{t} + \\Delta{t}^{4} \\sigma_{\\ddot{y}^2} + 4 \\Delta{t} \\left(P_{\\dot{y}|t-1|t-1} \\Delta{t} + P_{y\\dot{y}|t-1|t-1}\\right) + 4 \\sigma_{y^2}\\right) \\left(4 P_{z|t-1|t-1} + 4 P_{\\dot{z}z|t-1|t-1} \\Delta{t} + \\Delta{t}^{4} \\sigma_{\\ddot{z}^2} + 4 \\Delta{t} \\left(P_{\\dot{z}|t-1|t-1} \\Delta{t} + P_{z\\dot{z}|t-1|t-1}\\right) + 4 \\sigma_{z^2}\\right)}\\end{matrix}\\right]$"
      ],
      "text/plain": [
       "<IPython.core.display.Math object>"
      ]
     },
     "metadata": {},
     "output_type": "display_data"
    }
   ],
   "source": [
    "# Xt_estimate = Estimated system state at time t\n",
    "\n",
    "Xt_estimate = (Xt_predict_compact + Kt_update*(Yt_update))\n",
    "\n",
    "display(Math(r'X_{{t|t}} = {}'.format(sp.latex(Xt_estimate))))"
   ]
  },
  {
   "cell_type": "markdown",
   "metadata": {},
   "source": [
    "## Estimated estimation uncertainty covariance matrix $P$ (at time t, for time t)"
   ]
  },
  {
   "cell_type": "code",
   "execution_count": 67,
   "metadata": {},
   "outputs": [
    {
     "data": {
      "text/latex": [
       "$\\displaystyle P_{t|t} = \\left[\\begin{matrix}\\left(1 - \\frac{\\left(4 P_{y|t-1|t-1} + 4 P_{\\dot{y}y|t-1|t-1} \\Delta{t} + \\Delta{t}^{4} \\sigma_{\\ddot{y}^2} + 4 \\Delta{t} \\left(P_{\\dot{y}|t-1|t-1} \\Delta{t} + P_{y\\dot{y}|t-1|t-1}\\right)\\right) \\left(4 \\left(\\overline{P_{\\dot{y}|t-1|t-1}} \\overline{\\Delta{t}} + \\overline{P_{y\\dot{y}|t-1|t-1}}\\right) \\overline{\\Delta{t}} + 4 \\overline{P_{y|t-1|t-1}} + 4 \\overline{P_{\\dot{y}y|t-1|t-1}} \\overline{\\Delta{t}} + \\overline{\\Delta{t}}^{4} \\overline{\\sigma_{\\ddot{y}^2}} + 4 \\overline{\\sigma_{y^2}}\\right)}{\\sigma_{\\ddot{y}^2} \\sigma_{\\ddot{z}^2} \\left(P_{\\dot{\\phi}|t-1|t-1} + \\Delta{t}^{2} \\sigma_{\\dot{\\phi}^2} + \\sigma_{\\dot{\\phi}^2}\\right) \\left(4 P_{y|t-1|t-1} + 4 P_{\\dot{y}y|t-1|t-1} \\Delta{t} + \\Delta{t}^{4} \\sigma_{\\ddot{y}^2} + 4 \\Delta{t} \\left(P_{\\dot{y}|t-1|t-1} \\Delta{t} + P_{y\\dot{y}|t-1|t-1}\\right) + 4 \\sigma_{y^2}\\right) \\left(4 P_{z|t-1|t-1} + 4 P_{\\dot{z}z|t-1|t-1} \\Delta{t} + \\Delta{t}^{4} \\sigma_{\\ddot{z}^2} + 4 \\Delta{t} \\left(P_{\\dot{z}|t-1|t-1} \\Delta{t} + P_{z\\dot{z}|t-1|t-1}\\right) + 4 \\sigma_{z^2}\\right)}\\right) \\left(P_{y|t-1|t-1} + P_{\\dot{y}y|t-1|t-1} \\Delta{t} + \\frac{\\Delta{t}^{4} \\sigma_{\\ddot{y}^2}}{4} + \\Delta{t} \\left(P_{\\dot{y}|t-1|t-1} \\Delta{t} + P_{y\\dot{y}|t-1|t-1}\\right)\\right) & \\left(1 - \\frac{\\left(4 P_{y|t-1|t-1} + 4 P_{\\dot{y}y|t-1|t-1} \\Delta{t} + \\Delta{t}^{4} \\sigma_{\\ddot{y}^2} + 4 \\Delta{t} \\left(P_{\\dot{y}|t-1|t-1} \\Delta{t} + P_{y\\dot{y}|t-1|t-1}\\right)\\right) \\left(4 \\left(\\overline{P_{\\dot{y}|t-1|t-1}} \\overline{\\Delta{t}} + \\overline{P_{y\\dot{y}|t-1|t-1}}\\right) \\overline{\\Delta{t}} + 4 \\overline{P_{y|t-1|t-1}} + 4 \\overline{P_{\\dot{y}y|t-1|t-1}} \\overline{\\Delta{t}} + \\overline{\\Delta{t}}^{4} \\overline{\\sigma_{\\ddot{y}^2}} + 4 \\overline{\\sigma_{y^2}}\\right)}{\\sigma_{\\ddot{y}^2} \\sigma_{\\ddot{z}^2} \\left(P_{\\dot{\\phi}|t-1|t-1} + \\Delta{t}^{2} \\sigma_{\\dot{\\phi}^2} + \\sigma_{\\dot{\\phi}^2}\\right) \\left(4 P_{y|t-1|t-1} + 4 P_{\\dot{y}y|t-1|t-1} \\Delta{t} + \\Delta{t}^{4} \\sigma_{\\ddot{y}^2} + 4 \\Delta{t} \\left(P_{\\dot{y}|t-1|t-1} \\Delta{t} + P_{y\\dot{y}|t-1|t-1}\\right) + 4 \\sigma_{y^2}\\right) \\left(4 P_{z|t-1|t-1} + 4 P_{\\dot{z}z|t-1|t-1} \\Delta{t} + \\Delta{t}^{4} \\sigma_{\\ddot{z}^2} + 4 \\Delta{t} \\left(P_{\\dot{z}|t-1|t-1} \\Delta{t} + P_{z\\dot{z}|t-1|t-1}\\right) + 4 \\sigma_{z^2}\\right)}\\right) \\left(P_{\\dot{y}|t-1|t-1} \\Delta{t} + P_{y\\dot{y}|t-1|t-1} + \\frac{\\Delta{t}^{3} \\sigma_{\\ddot{y}^2}}{2}\\right) & 0 & 0 & 0 & 0\\\\P_{\\dot{y}y|t-1|t-1} + P_{\\dot{y}|t-1|t-1} \\Delta{t} + \\frac{\\Delta{t}^{3} \\sigma_{\\ddot{y}^2}}{2} - \\frac{2 \\left(2 P_{\\dot{y}y|t-1|t-1} + 2 P_{\\dot{y}|t-1|t-1} \\Delta{t} + \\Delta{t}^{3} \\sigma_{\\ddot{y}^2}\\right) \\left(P_{y|t-1|t-1} + P_{\\dot{y}y|t-1|t-1} \\Delta{t} + \\frac{\\Delta{t}^{4} \\sigma_{\\ddot{y}^2}}{4} + \\Delta{t} \\left(P_{\\dot{y}|t-1|t-1} \\Delta{t} + P_{y\\dot{y}|t-1|t-1}\\right)\\right) \\left(4 \\left(\\overline{P_{\\dot{y}|t-1|t-1}} \\overline{\\Delta{t}} + \\overline{P_{y\\dot{y}|t-1|t-1}}\\right) \\overline{\\Delta{t}} + 4 \\overline{P_{y|t-1|t-1}} + 4 \\overline{P_{\\dot{y}y|t-1|t-1}} \\overline{\\Delta{t}} + \\overline{\\Delta{t}}^{4} \\overline{\\sigma_{\\ddot{y}^2}} + 4 \\overline{\\sigma_{y^2}}\\right)}{\\sigma_{\\ddot{y}^2} \\sigma_{\\ddot{z}^2} \\left(P_{\\dot{\\phi}|t-1|t-1} + \\Delta{t}^{2} \\sigma_{\\dot{\\phi}^2} + \\sigma_{\\dot{\\phi}^2}\\right) \\left(4 P_{y|t-1|t-1} + 4 P_{\\dot{y}y|t-1|t-1} \\Delta{t} + \\Delta{t}^{4} \\sigma_{\\ddot{y}^2} + 4 \\Delta{t} \\left(P_{\\dot{y}|t-1|t-1} \\Delta{t} + P_{y\\dot{y}|t-1|t-1}\\right) + 4 \\sigma_{y^2}\\right) \\left(4 P_{z|t-1|t-1} + 4 P_{\\dot{z}z|t-1|t-1} \\Delta{t} + \\Delta{t}^{4} \\sigma_{\\ddot{z}^2} + 4 \\Delta{t} \\left(P_{\\dot{z}|t-1|t-1} \\Delta{t} + P_{z\\dot{z}|t-1|t-1}\\right) + 4 \\sigma_{z^2}\\right)} & P_{\\dot{y}|t-1|t-1} + \\Delta{t}^{2} \\sigma_{\\ddot{y}^2} - \\frac{2 \\left(2 P_{\\dot{y}y|t-1|t-1} + 2 P_{\\dot{y}|t-1|t-1} \\Delta{t} + \\Delta{t}^{3} \\sigma_{\\ddot{y}^2}\\right) \\left(P_{\\dot{y}|t-1|t-1} \\Delta{t} + P_{y\\dot{y}|t-1|t-1} + \\frac{\\Delta{t}^{3} \\sigma_{\\ddot{y}^2}}{2}\\right) \\left(4 \\left(\\overline{P_{\\dot{y}|t-1|t-1}} \\overline{\\Delta{t}} + \\overline{P_{y\\dot{y}|t-1|t-1}}\\right) \\overline{\\Delta{t}} + 4 \\overline{P_{y|t-1|t-1}} + 4 \\overline{P_{\\dot{y}y|t-1|t-1}} \\overline{\\Delta{t}} + \\overline{\\Delta{t}}^{4} \\overline{\\sigma_{\\ddot{y}^2}} + 4 \\overline{\\sigma_{y^2}}\\right)}{\\sigma_{\\ddot{y}^2} \\sigma_{\\ddot{z}^2} \\left(P_{\\dot{\\phi}|t-1|t-1} + \\Delta{t}^{2} \\sigma_{\\dot{\\phi}^2} + \\sigma_{\\dot{\\phi}^2}\\right) \\left(4 P_{y|t-1|t-1} + 4 P_{\\dot{y}y|t-1|t-1} \\Delta{t} + \\Delta{t}^{4} \\sigma_{\\ddot{y}^2} + 4 \\Delta{t} \\left(P_{\\dot{y}|t-1|t-1} \\Delta{t} + P_{y\\dot{y}|t-1|t-1}\\right) + 4 \\sigma_{y^2}\\right) \\left(4 P_{z|t-1|t-1} + 4 P_{\\dot{z}z|t-1|t-1} \\Delta{t} + \\Delta{t}^{4} \\sigma_{\\ddot{z}^2} + 4 \\Delta{t} \\left(P_{\\dot{z}|t-1|t-1} \\Delta{t} + P_{z\\dot{z}|t-1|t-1}\\right) + 4 \\sigma_{z^2}\\right)} & 0 & 0 & 0 & 0\\\\0 & 0 & \\left(1 - \\frac{\\left(4 P_{z|t-1|t-1} + 4 P_{\\dot{z}z|t-1|t-1} \\Delta{t} + \\Delta{t}^{4} \\sigma_{\\ddot{z}^2} + 4 \\Delta{t} \\left(P_{\\dot{z}|t-1|t-1} \\Delta{t} + P_{z\\dot{z}|t-1|t-1}\\right)\\right) \\left(4 \\left(\\overline{P_{\\dot{z}|t-1|t-1}} \\overline{\\Delta{t}} + \\overline{P_{z\\dot{z}|t-1|t-1}}\\right) \\overline{\\Delta{t}} + 4 \\overline{P_{z|t-1|t-1}} + 4 \\overline{P_{\\dot{z}z|t-1|t-1}} \\overline{\\Delta{t}} + \\overline{\\Delta{t}}^{4} \\overline{\\sigma_{\\ddot{z}^2}} + 4 \\overline{\\sigma_{z^2}}\\right)}{\\sigma_{\\ddot{y}^2} \\sigma_{\\ddot{z}^2} \\left(P_{\\dot{\\phi}|t-1|t-1} + \\Delta{t}^{2} \\sigma_{\\dot{\\phi}^2} + \\sigma_{\\dot{\\phi}^2}\\right) \\left(4 P_{y|t-1|t-1} + 4 P_{\\dot{y}y|t-1|t-1} \\Delta{t} + \\Delta{t}^{4} \\sigma_{\\ddot{y}^2} + 4 \\Delta{t} \\left(P_{\\dot{y}|t-1|t-1} \\Delta{t} + P_{y\\dot{y}|t-1|t-1}\\right) + 4 \\sigma_{y^2}\\right) \\left(4 P_{z|t-1|t-1} + 4 P_{\\dot{z}z|t-1|t-1} \\Delta{t} + \\Delta{t}^{4} \\sigma_{\\ddot{z}^2} + 4 \\Delta{t} \\left(P_{\\dot{z}|t-1|t-1} \\Delta{t} + P_{z\\dot{z}|t-1|t-1}\\right) + 4 \\sigma_{z^2}\\right)}\\right) \\left(P_{z|t-1|t-1} + P_{\\dot{z}z|t-1|t-1} \\Delta{t} + \\frac{\\Delta{t}^{4} \\sigma_{\\ddot{z}^2}}{4} + \\Delta{t} \\left(P_{\\dot{z}|t-1|t-1} \\Delta{t} + P_{z\\dot{z}|t-1|t-1}\\right)\\right) & \\left(1 - \\frac{\\left(4 P_{z|t-1|t-1} + 4 P_{\\dot{z}z|t-1|t-1} \\Delta{t} + \\Delta{t}^{4} \\sigma_{\\ddot{z}^2} + 4 \\Delta{t} \\left(P_{\\dot{z}|t-1|t-1} \\Delta{t} + P_{z\\dot{z}|t-1|t-1}\\right)\\right) \\left(4 \\left(\\overline{P_{\\dot{z}|t-1|t-1}} \\overline{\\Delta{t}} + \\overline{P_{z\\dot{z}|t-1|t-1}}\\right) \\overline{\\Delta{t}} + 4 \\overline{P_{z|t-1|t-1}} + 4 \\overline{P_{\\dot{z}z|t-1|t-1}} \\overline{\\Delta{t}} + \\overline{\\Delta{t}}^{4} \\overline{\\sigma_{\\ddot{z}^2}} + 4 \\overline{\\sigma_{z^2}}\\right)}{\\sigma_{\\ddot{y}^2} \\sigma_{\\ddot{z}^2} \\left(P_{\\dot{\\phi}|t-1|t-1} + \\Delta{t}^{2} \\sigma_{\\dot{\\phi}^2} + \\sigma_{\\dot{\\phi}^2}\\right) \\left(4 P_{y|t-1|t-1} + 4 P_{\\dot{y}y|t-1|t-1} \\Delta{t} + \\Delta{t}^{4} \\sigma_{\\ddot{y}^2} + 4 \\Delta{t} \\left(P_{\\dot{y}|t-1|t-1} \\Delta{t} + P_{y\\dot{y}|t-1|t-1}\\right) + 4 \\sigma_{y^2}\\right) \\left(4 P_{z|t-1|t-1} + 4 P_{\\dot{z}z|t-1|t-1} \\Delta{t} + \\Delta{t}^{4} \\sigma_{\\ddot{z}^2} + 4 \\Delta{t} \\left(P_{\\dot{z}|t-1|t-1} \\Delta{t} + P_{z\\dot{z}|t-1|t-1}\\right) + 4 \\sigma_{z^2}\\right)}\\right) \\left(P_{\\dot{z}|t-1|t-1} \\Delta{t} + P_{z\\dot{z}|t-1|t-1} + \\frac{\\Delta{t}^{3} \\sigma_{\\ddot{z}^2}}{2}\\right) & 0 & 0\\\\0 & 0 & P_{\\dot{z}z|t-1|t-1} + P_{\\dot{z}|t-1|t-1} \\Delta{t} + \\frac{\\Delta{t}^{3} \\sigma_{\\ddot{z}^2}}{2} - \\frac{2 \\left(2 P_{\\dot{z}z|t-1|t-1} + 2 P_{\\dot{z}|t-1|t-1} \\Delta{t} + \\Delta{t}^{3} \\sigma_{\\ddot{z}^2}\\right) \\left(P_{z|t-1|t-1} + P_{\\dot{z}z|t-1|t-1} \\Delta{t} + \\frac{\\Delta{t}^{4} \\sigma_{\\ddot{z}^2}}{4} + \\Delta{t} \\left(P_{\\dot{z}|t-1|t-1} \\Delta{t} + P_{z\\dot{z}|t-1|t-1}\\right)\\right) \\left(4 \\left(\\overline{P_{\\dot{z}|t-1|t-1}} \\overline{\\Delta{t}} + \\overline{P_{z\\dot{z}|t-1|t-1}}\\right) \\overline{\\Delta{t}} + 4 \\overline{P_{z|t-1|t-1}} + 4 \\overline{P_{\\dot{z}z|t-1|t-1}} \\overline{\\Delta{t}} + \\overline{\\Delta{t}}^{4} \\overline{\\sigma_{\\ddot{z}^2}} + 4 \\overline{\\sigma_{z^2}}\\right)}{\\sigma_{\\ddot{y}^2} \\sigma_{\\ddot{z}^2} \\left(P_{\\dot{\\phi}|t-1|t-1} + \\Delta{t}^{2} \\sigma_{\\dot{\\phi}^2} + \\sigma_{\\dot{\\phi}^2}\\right) \\left(4 P_{y|t-1|t-1} + 4 P_{\\dot{y}y|t-1|t-1} \\Delta{t} + \\Delta{t}^{4} \\sigma_{\\ddot{y}^2} + 4 \\Delta{t} \\left(P_{\\dot{y}|t-1|t-1} \\Delta{t} + P_{y\\dot{y}|t-1|t-1}\\right) + 4 \\sigma_{y^2}\\right) \\left(4 P_{z|t-1|t-1} + 4 P_{\\dot{z}z|t-1|t-1} \\Delta{t} + \\Delta{t}^{4} \\sigma_{\\ddot{z}^2} + 4 \\Delta{t} \\left(P_{\\dot{z}|t-1|t-1} \\Delta{t} + P_{z\\dot{z}|t-1|t-1}\\right) + 4 \\sigma_{z^2}\\right)} & P_{\\dot{z}|t-1|t-1} + \\Delta{t}^{2} \\sigma_{\\ddot{z}^2} - \\frac{2 \\left(2 P_{\\dot{z}z|t-1|t-1} + 2 P_{\\dot{z}|t-1|t-1} \\Delta{t} + \\Delta{t}^{3} \\sigma_{\\ddot{z}^2}\\right) \\left(P_{\\dot{z}|t-1|t-1} \\Delta{t} + P_{z\\dot{z}|t-1|t-1} + \\frac{\\Delta{t}^{3} \\sigma_{\\ddot{z}^2}}{2}\\right) \\left(4 \\left(\\overline{P_{\\dot{z}|t-1|t-1}} \\overline{\\Delta{t}} + \\overline{P_{z\\dot{z}|t-1|t-1}}\\right) \\overline{\\Delta{t}} + 4 \\overline{P_{z|t-1|t-1}} + 4 \\overline{P_{\\dot{z}z|t-1|t-1}} \\overline{\\Delta{t}} + \\overline{\\Delta{t}}^{4} \\overline{\\sigma_{\\ddot{z}^2}} + 4 \\overline{\\sigma_{z^2}}\\right)}{\\sigma_{\\ddot{y}^2} \\sigma_{\\ddot{z}^2} \\left(P_{\\dot{\\phi}|t-1|t-1} + \\Delta{t}^{2} \\sigma_{\\dot{\\phi}^2} + \\sigma_{\\dot{\\phi}^2}\\right) \\left(4 P_{y|t-1|t-1} + 4 P_{\\dot{y}y|t-1|t-1} \\Delta{t} + \\Delta{t}^{4} \\sigma_{\\ddot{y}^2} + 4 \\Delta{t} \\left(P_{\\dot{y}|t-1|t-1} \\Delta{t} + P_{y\\dot{y}|t-1|t-1}\\right) + 4 \\sigma_{y^2}\\right) \\left(4 P_{z|t-1|t-1} + 4 P_{\\dot{z}z|t-1|t-1} \\Delta{t} + \\Delta{t}^{4} \\sigma_{\\ddot{z}^2} + 4 \\Delta{t} \\left(P_{\\dot{z}|t-1|t-1} \\Delta{t} + P_{z\\dot{z}|t-1|t-1}\\right) + 4 \\sigma_{z^2}\\right)} & 0 & 0\\\\0 & 0 & 0 & 0 & P_{\\dot{\\phi}\\phi|t-1|t-1} \\Delta{t} + P_{\\phi|t-1|t-1} + \\frac{\\Delta{t}^{4} \\sigma_{\\dot{\\phi}^2}}{4} + \\Delta{t} \\left(P_{\\dot{\\phi}|t-1|t-1} \\Delta{t} + P_{\\phi\\dot{\\phi}|t-1|t-1}\\right) - \\frac{8 \\left(P_{\\dot{\\phi}\\phi|t-1|t-1} + P_{\\dot{\\phi}|t-1|t-1} \\Delta{t} + \\frac{\\Delta{t}^{3} \\sigma_{\\dot{\\phi}^2}}{2}\\right) \\left(2 P_{\\dot{\\phi}|t-1|t-1} \\Delta{t} + 2 P_{\\phi\\dot{\\phi}|t-1|t-1} + \\Delta{t}^{3} \\sigma_{\\dot{\\phi}^2}\\right) \\left(\\overline{P_{\\dot{\\phi}|t-1|t-1}} + \\overline{\\Delta{t}}^{2} \\overline{\\sigma_{\\dot{\\phi}^2}} + \\overline{\\sigma_{\\dot{\\phi}^2}}\\right)}{\\sigma_{\\ddot{y}^2} \\sigma_{\\ddot{z}^2} \\left(P_{\\dot{\\phi}|t-1|t-1} + \\Delta{t}^{2} \\sigma_{\\dot{\\phi}^2} + \\sigma_{\\dot{\\phi}^2}\\right) \\left(4 P_{y|t-1|t-1} + 4 P_{\\dot{y}y|t-1|t-1} \\Delta{t} + \\Delta{t}^{4} \\sigma_{\\ddot{y}^2} + 4 \\Delta{t} \\left(P_{\\dot{y}|t-1|t-1} \\Delta{t} + P_{y\\dot{y}|t-1|t-1}\\right) + 4 \\sigma_{y^2}\\right) \\left(4 P_{z|t-1|t-1} + 4 P_{\\dot{z}z|t-1|t-1} \\Delta{t} + \\Delta{t}^{4} \\sigma_{\\ddot{z}^2} + 4 \\Delta{t} \\left(P_{\\dot{z}|t-1|t-1} \\Delta{t} + P_{z\\dot{z}|t-1|t-1}\\right) + 4 \\sigma_{z^2}\\right)} & P_{\\dot{\\phi}|t-1|t-1} \\Delta{t} + P_{\\phi\\dot{\\phi}|t-1|t-1} + \\frac{\\Delta{t}^{3} \\sigma_{\\dot{\\phi}^2}}{2} - \\frac{8 \\left(P_{\\dot{\\phi}|t-1|t-1} + \\Delta{t}^{2} \\sigma_{\\dot{\\phi}^2}\\right) \\left(2 P_{\\dot{\\phi}|t-1|t-1} \\Delta{t} + 2 P_{\\phi\\dot{\\phi}|t-1|t-1} + \\Delta{t}^{3} \\sigma_{\\dot{\\phi}^2}\\right) \\left(\\overline{P_{\\dot{\\phi}|t-1|t-1}} + \\overline{\\Delta{t}}^{2} \\overline{\\sigma_{\\dot{\\phi}^2}} + \\overline{\\sigma_{\\dot{\\phi}^2}}\\right)}{\\sigma_{\\ddot{y}^2} \\sigma_{\\ddot{z}^2} \\left(P_{\\dot{\\phi}|t-1|t-1} + \\Delta{t}^{2} \\sigma_{\\dot{\\phi}^2} + \\sigma_{\\dot{\\phi}^2}\\right) \\left(4 P_{y|t-1|t-1} + 4 P_{\\dot{y}y|t-1|t-1} \\Delta{t} + \\Delta{t}^{4} \\sigma_{\\ddot{y}^2} + 4 \\Delta{t} \\left(P_{\\dot{y}|t-1|t-1} \\Delta{t} + P_{y\\dot{y}|t-1|t-1}\\right) + 4 \\sigma_{y^2}\\right) \\left(4 P_{z|t-1|t-1} + 4 P_{\\dot{z}z|t-1|t-1} \\Delta{t} + \\Delta{t}^{4} \\sigma_{\\ddot{z}^2} + 4 \\Delta{t} \\left(P_{\\dot{z}|t-1|t-1} \\Delta{t} + P_{z\\dot{z}|t-1|t-1}\\right) + 4 \\sigma_{z^2}\\right)}\\\\0 & 0 & 0 & 0 & \\left(1 - \\frac{16 \\left(P_{\\dot{\\phi}|t-1|t-1} + \\Delta{t}^{2} \\sigma_{\\dot{\\phi}^2}\\right) \\left(\\overline{P_{\\dot{\\phi}|t-1|t-1}} + \\overline{\\Delta{t}}^{2} \\overline{\\sigma_{\\dot{\\phi}^2}} + \\overline{\\sigma_{\\dot{\\phi}^2}}\\right)}{\\sigma_{\\ddot{y}^2} \\sigma_{\\ddot{z}^2} \\left(P_{\\dot{\\phi}|t-1|t-1} + \\Delta{t}^{2} \\sigma_{\\dot{\\phi}^2} + \\sigma_{\\dot{\\phi}^2}\\right) \\left(4 P_{y|t-1|t-1} + 4 P_{\\dot{y}y|t-1|t-1} \\Delta{t} + \\Delta{t}^{4} \\sigma_{\\ddot{y}^2} + 4 \\Delta{t} \\left(P_{\\dot{y}|t-1|t-1} \\Delta{t} + P_{y\\dot{y}|t-1|t-1}\\right) + 4 \\sigma_{y^2}\\right) \\left(4 P_{z|t-1|t-1} + 4 P_{\\dot{z}z|t-1|t-1} \\Delta{t} + \\Delta{t}^{4} \\sigma_{\\ddot{z}^2} + 4 \\Delta{t} \\left(P_{\\dot{z}|t-1|t-1} \\Delta{t} + P_{z\\dot{z}|t-1|t-1}\\right) + 4 \\sigma_{z^2}\\right)}\\right) \\left(P_{\\dot{\\phi}\\phi|t-1|t-1} + P_{\\dot{\\phi}|t-1|t-1} \\Delta{t} + \\frac{\\Delta{t}^{3} \\sigma_{\\dot{\\phi}^2}}{2}\\right) & \\left(1 - \\frac{16 \\left(P_{\\dot{\\phi}|t-1|t-1} + \\Delta{t}^{2} \\sigma_{\\dot{\\phi}^2}\\right) \\left(\\overline{P_{\\dot{\\phi}|t-1|t-1}} + \\overline{\\Delta{t}}^{2} \\overline{\\sigma_{\\dot{\\phi}^2}} + \\overline{\\sigma_{\\dot{\\phi}^2}}\\right)}{\\sigma_{\\ddot{y}^2} \\sigma_{\\ddot{z}^2} \\left(P_{\\dot{\\phi}|t-1|t-1} + \\Delta{t}^{2} \\sigma_{\\dot{\\phi}^2} + \\sigma_{\\dot{\\phi}^2}\\right) \\left(4 P_{y|t-1|t-1} + 4 P_{\\dot{y}y|t-1|t-1} \\Delta{t} + \\Delta{t}^{4} \\sigma_{\\ddot{y}^2} + 4 \\Delta{t} \\left(P_{\\dot{y}|t-1|t-1} \\Delta{t} + P_{y\\dot{y}|t-1|t-1}\\right) + 4 \\sigma_{y^2}\\right) \\left(4 P_{z|t-1|t-1} + 4 P_{\\dot{z}z|t-1|t-1} \\Delta{t} + \\Delta{t}^{4} \\sigma_{\\ddot{z}^2} + 4 \\Delta{t} \\left(P_{\\dot{z}|t-1|t-1} \\Delta{t} + P_{z\\dot{z}|t-1|t-1}\\right) + 4 \\sigma_{z^2}\\right)}\\right) \\left(P_{\\dot{\\phi}|t-1|t-1} + \\Delta{t}^{2} \\sigma_{\\dot{\\phi}^2}\\right)\\end{matrix}\\right]$"
      ],
      "text/plain": [
       "<IPython.core.display.Math object>"
      ]
     },
     "metadata": {},
     "output_type": "display_data"
    }
   ],
   "source": [
    "# Pt_estimate = Estimated estimation uncertainty matrix of the system state variables at time t\n",
    "\n",
    "I = sp.Matrix([[1,0,0,0,0,0],[0,1,0,0,0,0],[0,0,1,0,0,0],[0,0,0,1,0,0],[0,0,0,0,1,0],[0,0,0,0,0,1]])\n",
    "\n",
    "Pt_estimate = ((I - Kt_update*H)*Pt_predict)\n",
    "\n",
    "display(Math(r'P_{{t|t}} = {}'.format(sp.latex(Pt_estimate))))"
   ]
  }
 ],
 "metadata": {
  "kernelspec": {
   "display_name": "Python 3 (ipykernel)",
   "language": "python",
   "name": "python3"
  },
  "language_info": {
   "codemirror_mode": {
    "name": "ipython",
    "version": 3
   },
   "file_extension": ".py",
   "mimetype": "text/x-python",
   "name": "python",
   "nbconvert_exporter": "python",
   "pygments_lexer": "ipython3",
   "version": "3.10.9"
  }
 },
 "nbformat": 4,
 "nbformat_minor": 4
}
